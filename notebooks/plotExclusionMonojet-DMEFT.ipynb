{
 "cells": [
  {
   "cell_type": "code",
   "execution_count": 1,
   "id": "ffa05a34",
   "metadata": {},
   "outputs": [],
   "source": [
    "import sys,os,glob,copy\n",
    "sys.path.append('../')\n",
    "import numpy as np\n",
    "from numpy.linalg import norm\n",
    "import pandas as pd\n",
    "from matplotlib import pyplot as plt\n",
    "import seaborn as sns\n",
    "from scipy.interpolate import LinearNDInterpolator,interp2d, griddata\n",
    "from itertools import product\n",
    "import matplotlib as mpl\n",
    "from matplotlib.colors import LogNorm\n",
    "from IPython.display import display, Markdown\n",
    "import glob\n",
    "plt.rcParams.update({\n",
    "    \"text.usetex\": True,\n",
    "    \"font.family\": \"sans-serif\",\n",
    "    \"font.sans-serif\": [\"Helvetica\"]})\n",
    "\n",
    "plt.rcParams.update({\"savefig.dpi\" : 300}) #Figure resolution\n",
    "\n",
    "\n",
    "#Define plotting style:\n",
    "sns.set() #Set style\n",
    "sns.set_style('ticks',{'font.family':'Times New Roman', 'font.serif':'Times New Roman'})\n",
    "sns.set_context('paper', font_scale=1.8)\n",
    "cm = plt.cm.get_cmap('RdYlBu_r')\n",
    "\n",
    "\n",
    "pd.set_option('display.max_rows', 200)"
   ]
  },
  {
   "cell_type": "markdown",
   "id": "e47e9308",
   "metadata": {},
   "source": [
    "### Load Recast Data"
   ]
  },
  {
   "cell_type": "code",
   "execution_count": 2,
   "id": "52e15d20",
   "metadata": {},
   "outputs": [],
   "source": [
    "recastData = pd.read_pickle('../Recast/pp2ChiChi_monojet.pcl')\n",
    "mstop = '$m_{\\tilde t}$'\n",
    "mchi = '$m_{\\tilde \\chi_1^0}$'"
   ]
  },
  {
   "cell_type": "markdown",
   "id": "a77e60ac",
   "metadata": {},
   "source": [
    "### Get all model points"
   ]
  },
  {
   "cell_type": "code",
   "execution_count": 3,
   "id": "0b734947",
   "metadata": {},
   "outputs": [
    {
     "name": "stdout",
     "output_type": "stream",
     "text": [
      "36 models loaded\n"
     ]
    }
   ],
   "source": [
    "models = []\n",
    "mCols = ['Coupling','Mode',mstop,mchi]\n",
    "for row in recastData[mCols].values:\n",
    "    m = dict(zip(mCols,row.tolist()))\n",
    "    if m not in models:\n",
    "        models.append(m)\n",
    "print('%i models loaded' %len(models))"
   ]
  },
  {
   "cell_type": "markdown",
   "id": "c0e7864a",
   "metadata": {},
   "source": [
    "### Get model parameters"
   ]
  },
  {
   "cell_type": "code",
   "execution_count": 4,
   "id": "5a0e963d",
   "metadata": {},
   "outputs": [
    {
     "name": "stdout",
     "output_type": "stream",
     "text": [
      "{'Coupling': 'Stop', 'Mode': 'DM+QCDjets', '$m_{\\tilde t}$': [800.0, 900.0, 1000.0, 500.0, 600.0, 700.0], '$m_{\\tilde \\\\chi_1^0}$': [100.0, 200.0, 300.0, 400.0, 50.0, 500.0]}\n",
      "Coupling = Stop\n",
      "Mode = DM+QCDjets\n"
     ]
    }
   ],
   "source": [
    "parameters = {label : list(set([m[label] for m in models])) for label in mCols}\n",
    "for k,v in parameters.items():\n",
    "    if len(v) == 1:\n",
    "        parameters[k] = v[0]\n",
    "print(parameters)\n",
    "\n",
    "textstr = '\\n'.join([r'%s = %s' %(k,v) for k,v in parameters.items() if k not in [mstop,mchi]])\n",
    "print(textstr)"
   ]
  },
  {
   "cell_type": "code",
   "execution_count": 5,
   "id": "505330d8",
   "metadata": {},
   "outputs": [],
   "source": [
    "# Remove duplicated data from other datasets\n",
    "recastData = recastData[recastData['Data-takingperiod'] == 2017]"
   ]
  },
  {
   "cell_type": "code",
   "execution_count": 6,
   "id": "17d60e03",
   "metadata": {},
   "outputs": [
    {
     "ename": "KeyError",
     "evalue": "'$\\\\mu^{UL}_{obs}$'",
     "output_type": "error",
     "traceback": [
      "\u001b[0;31m---------------------------------------------------------------------------\u001b[0m",
      "\u001b[0;31mKeyError\u001b[0m                                  Traceback (most recent call last)",
      "\u001b[0;32m~/.local/lib/python3.9/site-packages/pandas/core/indexes/base.py\u001b[0m in \u001b[0;36mget_loc\u001b[0;34m(self, key, method, tolerance)\u001b[0m\n\u001b[1;32m   3802\u001b[0m             \u001b[0;32mtry\u001b[0m\u001b[0;34m:\u001b[0m\u001b[0;34m\u001b[0m\u001b[0;34m\u001b[0m\u001b[0m\n\u001b[0;32m-> 3803\u001b[0;31m                 \u001b[0;32mreturn\u001b[0m \u001b[0mself\u001b[0m\u001b[0;34m.\u001b[0m\u001b[0m_engine\u001b[0m\u001b[0;34m.\u001b[0m\u001b[0mget_loc\u001b[0m\u001b[0;34m(\u001b[0m\u001b[0mcasted_key\u001b[0m\u001b[0;34m)\u001b[0m\u001b[0;34m\u001b[0m\u001b[0;34m\u001b[0m\u001b[0m\n\u001b[0m\u001b[1;32m   3804\u001b[0m             \u001b[0;32mexcept\u001b[0m \u001b[0mKeyError\u001b[0m \u001b[0;32mas\u001b[0m \u001b[0merr\u001b[0m\u001b[0;34m:\u001b[0m\u001b[0;34m\u001b[0m\u001b[0;34m\u001b[0m\u001b[0m\n",
      "\u001b[0;32m~/.local/lib/python3.9/site-packages/pandas/_libs/index.pyx\u001b[0m in \u001b[0;36mpandas._libs.index.IndexEngine.get_loc\u001b[0;34m()\u001b[0m\n",
      "\u001b[0;32m~/.local/lib/python3.9/site-packages/pandas/_libs/index.pyx\u001b[0m in \u001b[0;36mpandas._libs.index.IndexEngine.get_loc\u001b[0;34m()\u001b[0m\n",
      "\u001b[0;32mpandas/_libs/hashtable_class_helper.pxi\u001b[0m in \u001b[0;36mpandas._libs.hashtable.PyObjectHashTable.get_item\u001b[0;34m()\u001b[0m\n",
      "\u001b[0;32mpandas/_libs/hashtable_class_helper.pxi\u001b[0m in \u001b[0;36mpandas._libs.hashtable.PyObjectHashTable.get_item\u001b[0;34m()\u001b[0m\n",
      "\u001b[0;31mKeyError\u001b[0m: '$\\\\mu^{UL}_{obs}$'",
      "\nThe above exception was the direct cause of the following exception:\n",
      "\u001b[0;31mKeyError\u001b[0m                                  Traceback (most recent call last)",
      "\u001b[0;32m/tmp/ipykernel_28220/929459344.py\u001b[0m in \u001b[0;36m<module>\u001b[0;34m\u001b[0m\n\u001b[1;32m      1\u001b[0m \u001b[0mkfactor\u001b[0m \u001b[0;34m=\u001b[0m \u001b[0;36m1.0\u001b[0m\u001b[0;34m\u001b[0m\u001b[0;34m\u001b[0m\u001b[0m\n\u001b[0;32m----> 2\u001b[0;31m \u001b[0mlmuData\u001b[0m \u001b[0;34m=\u001b[0m \u001b[0mnp\u001b[0m\u001b[0;34m.\u001b[0m\u001b[0mlog10\u001b[0m\u001b[0;34m(\u001b[0m\u001b[0mrecastData\u001b[0m\u001b[0;34m[\u001b[0m\u001b[0;34m'$\\mu^{UL}_{obs}$'\u001b[0m\u001b[0;34m]\u001b[0m\u001b[0;34m/\u001b[0m\u001b[0mkfactor\u001b[0m\u001b[0;34m)\u001b[0m\u001b[0;34m\u001b[0m\u001b[0;34m\u001b[0m\u001b[0m\n\u001b[0m\u001b[1;32m      3\u001b[0m \u001b[0mrValues\u001b[0m \u001b[0;34m=\u001b[0m \u001b[0;36m1\u001b[0m\u001b[0;34m/\u001b[0m\u001b[0;34m(\u001b[0m\u001b[0;34m(\u001b[0m\u001b[0mrecastData\u001b[0m\u001b[0;34m[\u001b[0m\u001b[0;34m'$\\mu^{UL}_{obs}$'\u001b[0m\u001b[0;34m]\u001b[0m\u001b[0;34m/\u001b[0m\u001b[0mkfactor\u001b[0m\u001b[0;34m)\u001b[0m\u001b[0;34m)\u001b[0m\u001b[0;34m\u001b[0m\u001b[0;34m\u001b[0m\u001b[0m\n",
      "\u001b[0;32m~/.local/lib/python3.9/site-packages/pandas/core/frame.py\u001b[0m in \u001b[0;36m__getitem__\u001b[0;34m(self, key)\u001b[0m\n\u001b[1;32m   3803\u001b[0m             \u001b[0;32mif\u001b[0m \u001b[0mself\u001b[0m\u001b[0;34m.\u001b[0m\u001b[0mcolumns\u001b[0m\u001b[0;34m.\u001b[0m\u001b[0mnlevels\u001b[0m \u001b[0;34m>\u001b[0m \u001b[0;36m1\u001b[0m\u001b[0;34m:\u001b[0m\u001b[0;34m\u001b[0m\u001b[0;34m\u001b[0m\u001b[0m\n\u001b[1;32m   3804\u001b[0m                 \u001b[0;32mreturn\u001b[0m \u001b[0mself\u001b[0m\u001b[0;34m.\u001b[0m\u001b[0m_getitem_multilevel\u001b[0m\u001b[0;34m(\u001b[0m\u001b[0mkey\u001b[0m\u001b[0;34m)\u001b[0m\u001b[0;34m\u001b[0m\u001b[0;34m\u001b[0m\u001b[0m\n\u001b[0;32m-> 3805\u001b[0;31m             \u001b[0mindexer\u001b[0m \u001b[0;34m=\u001b[0m \u001b[0mself\u001b[0m\u001b[0;34m.\u001b[0m\u001b[0mcolumns\u001b[0m\u001b[0;34m.\u001b[0m\u001b[0mget_loc\u001b[0m\u001b[0;34m(\u001b[0m\u001b[0mkey\u001b[0m\u001b[0;34m)\u001b[0m\u001b[0;34m\u001b[0m\u001b[0;34m\u001b[0m\u001b[0m\n\u001b[0m\u001b[1;32m   3806\u001b[0m             \u001b[0;32mif\u001b[0m \u001b[0mis_integer\u001b[0m\u001b[0;34m(\u001b[0m\u001b[0mindexer\u001b[0m\u001b[0;34m)\u001b[0m\u001b[0;34m:\u001b[0m\u001b[0;34m\u001b[0m\u001b[0;34m\u001b[0m\u001b[0m\n\u001b[1;32m   3807\u001b[0m                 \u001b[0mindexer\u001b[0m \u001b[0;34m=\u001b[0m \u001b[0;34m[\u001b[0m\u001b[0mindexer\u001b[0m\u001b[0;34m]\u001b[0m\u001b[0;34m\u001b[0m\u001b[0;34m\u001b[0m\u001b[0m\n",
      "\u001b[0;32m~/.local/lib/python3.9/site-packages/pandas/core/indexes/base.py\u001b[0m in \u001b[0;36mget_loc\u001b[0;34m(self, key, method, tolerance)\u001b[0m\n\u001b[1;32m   3803\u001b[0m                 \u001b[0;32mreturn\u001b[0m \u001b[0mself\u001b[0m\u001b[0;34m.\u001b[0m\u001b[0m_engine\u001b[0m\u001b[0;34m.\u001b[0m\u001b[0mget_loc\u001b[0m\u001b[0;34m(\u001b[0m\u001b[0mcasted_key\u001b[0m\u001b[0;34m)\u001b[0m\u001b[0;34m\u001b[0m\u001b[0;34m\u001b[0m\u001b[0m\n\u001b[1;32m   3804\u001b[0m             \u001b[0;32mexcept\u001b[0m \u001b[0mKeyError\u001b[0m \u001b[0;32mas\u001b[0m \u001b[0merr\u001b[0m\u001b[0;34m:\u001b[0m\u001b[0;34m\u001b[0m\u001b[0;34m\u001b[0m\u001b[0m\n\u001b[0;32m-> 3805\u001b[0;31m                 \u001b[0;32mraise\u001b[0m \u001b[0mKeyError\u001b[0m\u001b[0;34m(\u001b[0m\u001b[0mkey\u001b[0m\u001b[0;34m)\u001b[0m \u001b[0;32mfrom\u001b[0m \u001b[0merr\u001b[0m\u001b[0;34m\u001b[0m\u001b[0;34m\u001b[0m\u001b[0m\n\u001b[0m\u001b[1;32m   3806\u001b[0m             \u001b[0;32mexcept\u001b[0m \u001b[0mTypeError\u001b[0m\u001b[0;34m:\u001b[0m\u001b[0;34m\u001b[0m\u001b[0;34m\u001b[0m\u001b[0m\n\u001b[1;32m   3807\u001b[0m                 \u001b[0;31m# If we have a listlike key, _check_indexing_error will raise\u001b[0m\u001b[0;34m\u001b[0m\u001b[0;34m\u001b[0m\u001b[0m\n",
      "\u001b[0;31mKeyError\u001b[0m: '$\\\\mu^{UL}_{obs}$'"
     ]
    }
   ],
   "source": [
    "kfactor = 1.0\n",
    "lmuData = np.log10(recastData['$\\mu^{UL}_{obs}$']/kfactor)\n",
    "rValues = 1/((recastData['$\\mu^{UL}_{obs}$']/kfactor))"
   ]
  },
  {
   "cell_type": "code",
   "execution_count": null,
   "id": "6f7a1844",
   "metadata": {},
   "outputs": [],
   "source": [
    "fig = plt.figure(figsize=(7,5))\n",
    "y = recastData[mstop]\n",
    "x = recastData[mchi]\n",
    "plt.scatter(x=x,y=y,vmin=0.0,vmax=2.0,\n",
    "            c=rValues,cmap=cm,s=60)\n",
    "cbar = plt.colorbar(label=r'$r$-value')\n",
    "plt.xlabel(r'$m_{\\tilde \\chi}$ (GeV)')\n",
    "plt.ylabel(r'$m_{\\tilde t}$ GeV)')\n",
    "# plt.yscale('log')\n",
    "# plt.ylim(-10,1000)\n",
    "# plt.xlim(0,3000)\n",
    "plt.title('kfactor = %1.2f' %kfactor)\n",
    "plt.show()"
   ]
  },
  {
   "cell_type": "markdown",
   "id": "a214a413",
   "metadata": {},
   "source": [
    "### Interpolate for a denser grid"
   ]
  },
  {
   "cell_type": "code",
   "execution_count": null,
   "id": "679b1790",
   "metadata": {},
   "outputs": [],
   "source": [
    "pts = np.array([x for x in product(np.arange(10.,500.,10.),np.arange(500.,1100.,25.))])\n",
    "rValues.fillna(0.,inplace=True)\n",
    "rPts = griddata(list(zip(recastData[mchi],recastData[mstop])),\n",
    "                  rValues,pts)\n",
    "pts = pts[~np.isnan(rPts)]\n",
    "rPts = rPts[~np.isnan(rPts)]"
   ]
  },
  {
   "cell_type": "code",
   "execution_count": null,
   "id": "d04315ab",
   "metadata": {
    "scrolled": true
   },
   "outputs": [],
   "source": [
    "fig = plt.figure(figsize=(7,5))\n",
    "y = recastData[mstop]\n",
    "x = recastData[mchi]\n",
    "plt.scatter(x=x,y=y,vmin=0.0,vmax=2.0,\n",
    "            c=rValues,cmap=cm,s=60)\n",
    "cbar = plt.colorbar(label=r'$r$-value')\n",
    "cs = plt.tricontour(pts[:,0],pts[:,1],rPts,levels=[1.0],\n",
    "               linewidths=2,linestyles='solid',colors='black')\n",
    "plt.xlabel(r'$m_{\\tilde \\chi}$ (GeV)')\n",
    "plt.ylabel(r'$m_{\\tilde t}$ GeV)')\n",
    "# plt.yscale('log')\n",
    "plt.ylim(500,1200)\n",
    "# plt.xlim(150,550)\n",
    "plt.title('kfactor = %1.2f' %kfactor)\n",
    "\n",
    "plt.show()"
   ]
  },
  {
   "cell_type": "code",
   "execution_count": null,
   "id": "880f1790",
   "metadata": {},
   "outputs": [],
   "source": [
    "np.savetxt('monojet_curve_dmeft.csv',(cs.allsegs[0][0][:,1],cs.allsegs[0][0][:,0]),fmt='%1.4e',\n",
    "           header='# mstop[GeV],mchi[GeV]',delimiter=',')"
   ]
  },
  {
   "cell_type": "code",
   "execution_count": null,
   "id": "507d5ec1",
   "metadata": {},
   "outputs": [],
   "source": [
    "fig = plt.figure(figsize=(7,5))\n",
    "y = recastData[mstop]\n",
    "x = recastData[mchi]\n",
    "plt.scatter(x=y,y=y-x,vmin=0.0,vmax=2.0,\n",
    "            c=rValues,cmap=cm,s=60)\n",
    "cbar = plt.colorbar(label=r'$r$-value')\n",
    "cs = plt.tricontour(pts[:,1],pts[:,1]-pts[:,0],rPts,levels=[1.0],\n",
    "               linewidths=2,linestyles='solid',colors='black')\n",
    "plt.ylabel(r'$\\Delta M$ (GeV)')\n",
    "plt.xlabel(r'$m_{\\tilde t}$ GeV)')\n",
    "plt.yscale('log')\n",
    "plt.xlim(500,1200)\n",
    "# plt.xlim(150,550)\n",
    "plt.title('kfactor = %1.2f' %kfactor)\n",
    "\n",
    "plt.show()"
   ]
  },
  {
   "cell_type": "code",
   "execution_count": null,
   "id": "db10ac5b",
   "metadata": {},
   "outputs": [],
   "source": []
  },
  {
   "cell_type": "code",
   "execution_count": null,
   "id": "eaa6fc11",
   "metadata": {},
   "outputs": [],
   "source": []
  }
 ],
 "metadata": {
  "kernelspec": {
   "display_name": "Python 3 (ipykernel)",
   "language": "python",
   "name": "python3"
  },
  "language_info": {
   "codemirror_mode": {
    "name": "ipython",
    "version": 3
   },
   "file_extension": ".py",
   "mimetype": "text/x-python",
   "name": "python",
   "nbconvert_exporter": "python",
   "pygments_lexer": "ipython3",
   "version": "3.9.7"
  },
  "vscode": {
   "interpreter": {
    "hash": "e7370f93d1d0cde622a1f8e1c04877d8463912d04d973331ad4851f04de6915a"
   }
  }
 },
 "nbformat": 4,
 "nbformat_minor": 5
}
