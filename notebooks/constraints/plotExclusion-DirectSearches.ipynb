{
 "cells": [
  {
   "cell_type": "markdown",
   "metadata": {},
   "source": [
    "# Plot scan"
   ]
  },
  {
   "cell_type": "code",
   "execution_count": 1,
   "metadata": {},
   "outputs": [],
   "source": [
    "import warnings\n",
    "warnings.filterwarnings(\"ignore\", message=\"numpy.dtype size changed\")\n",
    "import numpy as np\n",
    "import pandas as pd\n",
    "import matplotlib.pyplot as plt\n",
    "import seaborn as sns\n",
    "import sys\n",
    "sys.path.append('../')\n",
    "from auxPlots import interpolateData,getContours,saveContours,readContours\n",
    "pd.option_context('display.max_columns', -1)\n",
    "\n",
    "pd.options.mode.chained_assignment = None #Disable copy warnings\n",
    "# plt.style.use('fivethirtyeight') #Set style\n",
    "# mpl.rcParams.update({'figure.figsize' : (15,10)})  #Set general plotting options\n",
    "plt.rcParams.update({\n",
    "    \"text.usetex\": True,\n",
    "    \"font.family\": \"sans-serif\",\n",
    "    \"font.sans-serif\": [\"Helvetica\"]})\n",
    "\n",
    "plt.rcParams.update({\"savefig.dpi\" : 300}) #Figure resolution\n",
    "\n",
    "\n",
    "#Define plotting style:\n",
    "sns.set() #Set style\n",
    "sns.set_style('ticks',{'font.family':'Times New Roman', 'font.serif':'Times New Roman'})\n",
    "sns.set_context('paper', font_scale=1.8)\n",
    "cm = plt.colormaps['RdYlBu']"
   ]
  },
  {
   "cell_type": "markdown",
   "metadata": {},
   "source": [
    "### Load monojet exclusion"
   ]
  },
  {
   "cell_type": "code",
   "execution_count": 2,
   "metadata": {},
   "outputs": [
    {
     "name": "stdout",
     "output_type": "stream",
     "text": [
      "MonoJet= dict_keys([0.8, 1.0])\n"
     ]
    }
   ],
   "source": [
    "# Mono-Jet (CMS-EXO-20-004)\n",
    "monoJetDict = readContours('./monojet_curve_sms.csv')\n",
    "print('MonoJet=',monoJetDict.keys())"
   ]
  },
  {
   "cell_type": "markdown",
   "metadata": {},
   "source": [
    "### Load SModelS results"
   ]
  },
  {
   "cell_type": "code",
   "execution_count": 3,
   "metadata": {},
   "outputs": [],
   "source": [
    "#Merge with SModelS DataFrame\n",
    "dataDF = pd.read_pickle('../../smodelsOutput/sms_smodels.pcl')\n",
    "# print(dataDF.columns.values.tolist()) #Print all columns names"
   ]
  },
  {
   "cell_type": "markdown",
   "metadata": {},
   "source": [
    "#### Set r = 0 for points with no results "
   ]
  },
  {
   "cell_type": "code",
   "execution_count": 4,
   "metadata": {},
   "outputs": [],
   "source": [
    "#Set points without results with r == 0\n",
    "dataDF.fillna(value={'ExptRes.result0.r' : 0.0},inplace=True)\n",
    "#Sort points according to r value:\n",
    "dataDF = dataDF.sort_values(by=['ExptRes.result0.r'],ascending=False)"
   ]
  },
  {
   "cell_type": "markdown",
   "metadata": {},
   "source": [
    "#### Define exclusions"
   ]
  },
  {
   "cell_type": "code",
   "execution_count": 5,
   "metadata": {},
   "outputs": [],
   "source": [
    "#Add simple flag for excluded points:\n",
    "newDF = dataDF.copy()\n",
    "newDF['excludedLHC'] = dataDF['ExptRes.result0.r'] > 1.0/1.6"
   ]
  },
  {
   "cell_type": "markdown",
   "metadata": {},
   "source": [
    "#### Add c*tau and deltaM columns"
   ]
  },
  {
   "cell_type": "code",
   "execution_count": 6,
   "metadata": {},
   "outputs": [],
   "source": [
    "newDF['ctau.5000002'] = 1.967e-16/dataDF['width.5000002']\n",
    "newDF['deltaM'] = dataDF['mass.5000002']-dataDF['mass.5000012']"
   ]
  },
  {
   "cell_type": "markdown",
   "metadata": {},
   "source": [
    "### Get points excluded:"
   ]
  },
  {
   "cell_type": "code",
   "execution_count": 7,
   "metadata": {},
   "outputs": [
    {
     "name": "stdout",
     "output_type": "stream",
     "text": [
      "Total number of points = 207\n",
      "Total excluded (LHC) = 72\n",
      "Total allowed = 135\n",
      "\n"
     ]
    }
   ],
   "source": [
    "dataDF = newDF\n",
    "excluded = dataDF[dataDF['excludedLHC'] == True]\n",
    "allowed = dataDF[(dataDF['excludedLHC'] == False)]\n",
    "\n",
    "print('Total number of points = %i' %len(dataDF))\n",
    "print('Total excluded (LHC) = %i'%(len(excluded)))\n",
    "print('Total allowed = %i\\n'%(len(allowed)))\n",
    "\n",
    "# print('Total excluded (r > %1.2f) = %i'%(rscale,len(excludedSC)))\n",
    "# print('Total allowed (r > %1.2f) = %i'%(rscale,len(allowedSC)))\n"
   ]
  },
  {
   "cell_type": "markdown",
   "metadata": {},
   "source": [
    "### Split data frame by analyis/txname"
   ]
  },
  {
   "cell_type": "code",
   "execution_count": 8,
   "metadata": {},
   "outputs": [],
   "source": [
    "allAnas = []\n",
    "allTx = []\n",
    "useDF = dataDF\n",
    "anaIDcols = [c for c in useDF.columns if '.AnalysisID' in c]\n",
    "txIDcols = [c for c in useDF.columns if '.TxNames' in c]\n",
    "for c in anaIDcols:\n",
    "    allAnas += useDF[c].values.tolist()\n",
    "for c in txIDcols:\n",
    "    allTx += useDF[c].values.tolist()\n",
    "\n",
    "allAnas = [a for a in allAnas if isinstance(a,str)]\n",
    "allAnas = sorted(list(set(allAnas)))\n",
    "allTx = [tuple(a) for a in allTx if isinstance(a,list)]\n",
    "allTx = sorted(list(set(allTx)))\n",
    "anaDFs = {}\n",
    "for a in allAnas:\n",
    "    anaDFs[a] = {}\n",
    "    newrowList = []\n",
    "    for irow,row in useDF.iterrows():\n",
    "        ires = [col for col in anaIDcols if (row[col] == a)]\n",
    "        if not ires:\n",
    "            continue\n",
    "        ires = ires[0]\n",
    "        ires = ires.rsplit('.',1)[0]\n",
    "        newrow = { }\n",
    "        for c in dataDF.columns:\n",
    "            if not 'ExptRes.result' in c:\n",
    "                newrow[c] = row[c]\n",
    "            elif c.rsplit('.',1)[0] == ires:\n",
    "                newrow[c.replace(ires,'ExptRes.result')] = row[c]\n",
    "        newrowList.append(newrow)\n",
    "    if len(newrowList) != 0:\n",
    "        anaDFs[a] = pd.DataFrame.from_dict(newrowList)"
   ]
  },
  {
   "cell_type": "code",
   "execution_count": 9,
   "metadata": {},
   "outputs": [],
   "source": [
    "contoursDictAna = {}\n",
    "for ana in anaDFs:\n",
    "    anaDF = anaDFs[ana]\n",
    "    if len(anaDF[anaDF['ExptRes.result.r'] > 1.0]) == 0:\n",
    "        continue\n",
    "    x = anaDF['mass.5000002']\n",
    "    dm = anaDF['deltaM']\n",
    "    z = anaDF['ExptRes.result.r']\n",
    "    xnew,ynew,znew = interpolateData(x,dm,z)\n",
    "    if xnew is None:\n",
    "        continue\n",
    "    # Get contours\n",
    "    cValues = sorted([1.,1./1.5])\n",
    "    cList = getContours(xnew,ynew,znew,cValues)[1./1.5]\n",
    "    if len(cList) > 0:\n",
    "        contoursDictAna[ana] = cList\n"
   ]
  },
  {
   "cell_type": "code",
   "execution_count": 10,
   "metadata": {},
   "outputs": [
    {
     "data": {
      "image/png": "[encoded data removed]",
      "text/plain": [
       "<Figure size 504x360 with 1 Axes>"
      ]
     },
     "metadata": {},
     "output_type": "display_data"
    }
   ],
   "source": [
    "plt.figure(figsize=(7,5))\n",
    "labelsDict = {'CMS-SUS-20-002' : r'CMS-SUS-20-002 (0,1 or 2 leptons $t \\bar{t} + E_{T}^{\\rm miss}$)',\n",
    "              'CMS-SUS-19-006-agg' : r'CMS-SUS-19-006 (all hadronic $t \\bar{t} + E_{T}^{\\rm miss}$)',\n",
    "              'ATLAS-SUSY-2018-12' : r'ATLAS-SUSY-2018-12 (all hadronic $t \\bar{t} + E_{T}^{\\rm miss}$)'}\n",
    "\n",
    "labelsDict = {'CMS-SUS-20-002' : r'CMS (0,1 or 2 leptons $t \\bar{t} + E_{T}^{\\rm miss}$)',\n",
    "              'CMS-SUS-19-006-agg' : r'CMS (all hadronic $t \\bar{t} + E_{T}^{\\rm miss}$)',\n",
    "              'ATLAS-SUSY-2018-12' : r'ATLAS (all hadronic $t \\bar{t} + E_{T}^{\\rm miss}$)',\n",
    "              'CMS-EXO-20-004' : r'CMS (light jets + $ E_{T}^{\\rm miss}$)'}\n",
    "\n",
    "for ana,c in contoursDictAna.items():\n",
    "    if ana not in ['CMS-SUS-20-002','CMS-SUS-19-006-agg', 'ATLAS-SUSY-2018-12']:\n",
    "        continue\n",
    "    x = c[:,0]\n",
    "    y = c[:,1]\n",
    "    plt.plot(x,y,label=labelsDict[ana],linewidth=2)\n",
    "    plt.fill_betweenx(y,x,200,alpha=0.3)\n",
    "\n",
    "x = monoJetDict[0.8]['mST_GeV']\n",
    "y = monoJetDict[0.8]['deltaM_GeV']\n",
    "plt.plot(x,y,label=labelsDict['CMS-EXO-20-004'],linewidth=2)\n",
    "plt.fill_betweenx(y,x,200,alpha=0.3)\n",
    "\n",
    "\n",
    "plt.legend(loc='lower right',fontsize=13,framealpha=1.0)\n",
    "plt.yscale('log')\n",
    "plt.xlabel(r'$M_T$ (GeV)')\n",
    "plt.ylabel(r'$\\Delta M$ (GeV)')\n",
    "plt.ylim(10.,500.)\n",
    "plt.xlim(200.,1500.)\n",
    "plt.tight_layout()\n",
    "plt.savefig('directSearches.png')\n",
    "plt.show()"
   ]
  },
  {
   "cell_type": "code",
   "execution_count": 11,
   "metadata": {},
   "outputs": [],
   "source": [
    "# Interpolate to create more points\n",
    "x = dataDF['mass.5000002']\n",
    "dm = dataDF['deltaM']\n",
    "z = dataDF['ExptRes.result0.r']\n",
    "xnew,ynew,znew = interpolateData(x,dm,z)\n",
    "# Get contours\n",
    "cValues = sorted([1.,1./1.5])\n",
    "contoursDict = getContours(xnew,ynew,znew,cValues)"
   ]
  },
  {
   "cell_type": "code",
   "execution_count": 12,
   "metadata": {},
   "outputs": [
    {
     "data": {
      "image/png": "[encoded data removed]",
      "text/plain": [
       "<Figure size 432x288 with 2 Axes>"
      ]
     },
     "metadata": {},
     "output_type": "display_data"
    }
   ],
   "source": [
    "plt.figure(figsize=(6,4))\n",
    "plt.imshow(znew.T, extent=[x.min(),x.max(), dm.min(), dm.max()], origin='lower',\n",
    "                  cmap=cm,aspect='auto',vmin=0,vmax=2)\n",
    "plt.colorbar(label=r'$r$-value')\n",
    "plt.xlabel(r'$m_{T}$ (GeV)')\n",
    "plt.ylabel(r'$\\Delta M$ (GeV)')\n",
    "contours = plt.contour(xnew, ynew, znew, cValues, colors='black',linestyles='dashed')\n",
    "plt.clabel(contours, inline=True, fontsize=18)\n",
    "# plt.yscale('log')\n",
    "plt.title('Direct Searches')\n",
    "plt.yscale('log')\n",
    "plt.ylim(10.,500.)\n",
    "plt.tight_layout()\n",
    "plt.show()"
   ]
  },
  {
   "cell_type": "markdown",
   "metadata": {},
   "source": [
    "### Save contour curves to text files"
   ]
  },
  {
   "cell_type": "code",
   "execution_count": 13,
   "metadata": {},
   "outputs": [
    {
     "name": "stdout",
     "output_type": "stream",
     "text": [
      "Contours saved to SModelS_contours.csv\n"
     ]
    }
   ],
   "source": [
    "fname = 'SModelS_contours.csv'\n",
    "saveContours(contoursDict,fname,header='mST_GeV,deltaM_GeV')\n"
   ]
  },
  {
   "cell_type": "code",
   "execution_count": null,
   "metadata": {},
   "outputs": [],
   "source": []
  }
 ],
 "metadata": {
  "kernelspec": {
   "display_name": "Python 3 (ipykernel)",
   "language": "python",
   "name": "python3"
  },
  "language_info": {
   "codemirror_mode": {
    "name": "ipython",
    "version": 3
   },
   "file_extension": ".py",
   "mimetype": "text/x-python",
   "name": "python",
   "nbconvert_exporter": "python",
   "pygments_lexer": "ipython3",
   "version": "3.10.12"
  }
 },
 "nbformat": 4,
 "nbformat_minor": 2
}
