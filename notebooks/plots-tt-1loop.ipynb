{
 "cells": [
  {
   "cell_type": "markdown",
   "metadata": {},
   "source": [
    "# Plot"
   ]
  },
  {
   "cell_type": "code",
   "execution_count": 1,
   "metadata": {},
   "outputs": [],
   "source": [
    "import warnings\n",
    "warnings.filterwarnings(\"ignore\", message=\"numpy.dtype size changed\")\n",
    "import numpy as np\n",
    "import pandas as pd\n",
    "import glob,os,shutil\n",
    "import pyslha\n",
    "import matplotlib as mpl\n",
    "import matplotlib.pyplot as plt\n",
    "from matplotlib.colors import LogNorm\n",
    "from collections import OrderedDict\n",
    "import seaborn as sns\n",
    "from scipy.interpolate import interp1d\n",
    "from IPython.display import display, Markdown\n",
    "import pylhe, gzip, tempfile\n",
    "\n",
    "pd.option_context('display.max_columns', -1)\n",
    "\n",
    "pd.options.mode.chained_assignment = None #Disable copy warnings\n",
    "# plt.style.use('fivethirtyeight') #Set style\n",
    "# mpl.rcParams.update({'figure.figsize' : (15,10)})  #Set general plotting options\n",
    "plt.rcParams.update({\n",
    "    \"text.usetex\": True,\n",
    "    \"font.family\": \"sans-serif\",\n",
    "    \"font.sans-serif\": [\"Helvetica\"]})\n",
    "\n",
    "plt.rcParams.update({\"savefig.dpi\" : 300}) #Figure resolution\n",
    "\n",
    "\n",
    "#Define plotting style:\n",
    "sns.set() #Set style\n",
    "sns.set_style('ticks',{'font.family':'Times New Roman', 'font.serif':'Times New Roman'})\n",
    "sns.set_context('paper', font_scale=1.8)\n",
    "cm = plt.cm.get_cmap('RdYlBu')"
   ]
  },
  {
   "cell_type": "code",
   "execution_count": 2,
   "metadata": {},
   "outputs": [],
   "source": [
    "# Dictionaries for naming variables:\n",
    "labelsDict = {'Top-FormFactorsOneLoop-UFO' : '1-loop', 'Top-EFTphysical_simple-UFO' : 'EFT', \n",
    "              'SMS-stop-UFO' : 'SM', 'SMS-stop-NLO_SMQCD-UFO' : 'SM',\n",
    "              'g g > t t~' : r'$g g \\to \\bar{t} t$', 'g g > t~ t' : r'$g g \\to \\bar{t} t$',\n",
    "              'q q > t t~' : r'$q q \\to \\bar{t} t$', 'q q > t~ t' : r'$q q \\to \\bar{t} t$'\n",
    "             }\n"
   ]
  },
  {
   "cell_type": "code",
   "execution_count": 3,
   "metadata": {},
   "outputs": [],
   "source": [
    "def getInfo(f):\n",
    "    \n",
    "    banner = list(glob.glob(os.path.join(os.path.dirname(f),'*banner*')))[0]\n",
    "    with open(banner,'r') as bannerF:\n",
    "        bannerData = bannerF.read()\n",
    "    \n",
    "    # Get process data:\n",
    "    processData = bannerData.split('<MGProcCard>')[1].split('</MGProcCard>')[0]\n",
    "#     print(processData)\n",
    "    # Get model\n",
    "    model = processData.split('Begin MODEL')[1].split('End   MODEL')[0]\n",
    "    model = model.split('\\n')[1].strip()\n",
    "    model = labelsDict[model]\n",
    "    # Get process\n",
    "    proc = processData.split('Begin PROCESS')[1].split('End PROCESS')[0]\n",
    "    proc = proc.split('\\n')[1].split('#')[0].strip()\n",
    "    proc = labelsDict[proc]\n",
    "    \n",
    "    # Get parameters data:\n",
    "    parsData = bannerData.split('<slha>')[1].split('</slha>')[0]\n",
    "    parsSLHA = pyslha.readSLHA(parsData)\n",
    "    \n",
    "    mST = parsSLHA.blocks['MASS'][5000002]\n",
    "    mChi = parsSLHA.blocks['MASS'][5000012]\n",
    "    mT  = parsSLHA.blocks['MASS'][6]\n",
    "    yDM = list(parsSLHA.blocks['FRBLOCK'].values())[-1]\n",
    "\n",
    "    \n",
    "    # Get event data:\n",
    "    eventData = bannerData.split('<MGGenerationInfo>')[1].split('</MGGenerationInfo>')[0]\n",
    "    nEvents = eval(eventData.split('\\n')[1].split(':')[1].strip())\n",
    "    xsec = eval(eventData.split('\\n')[2].split(':')[1].strip())\n",
    "\n",
    "    fileInfo = {'model' : model, 'process' : proc, '(mST,mChi,mT,yDM)' : (mST,mChi,mT,yDM),\n",
    "               'xsec (pb)' : xsec, 'nevents' : nEvents}\n",
    "    return fileInfo\n"
   ]
  },
  {
   "cell_type": "code",
   "execution_count": 4,
   "metadata": {},
   "outputs": [],
   "source": [
    "files = list(glob.glob('../validation/top_formFactorsOneLoop/gg2tt_onlyInter/Events/*/unweighted_events.lhe.gz'))\n",
    "files += list(glob.glob('../validation/top_formFactorsOneLoop/qq2tt_onlyInter/Events/*/unweighted_events.lhe.gz'))\n",
    "files += list(glob.glob('../validation/top_eft/gg2tt_onlyInter/Events/*/unweighted_events.lhe.gz'))\n",
    "files += list(glob.glob('../validation/top_eft/qq2tt_onlyInter/Events/*/unweighted_events.lhe.gz'))\n",
    "files += list(glob.glob('../validation/sms_nlo/qq2tt_born/Events/*/unweighted_events.lhe.gz'))\n",
    "files += list(glob.glob('../validation/sms_nlo/gg2tt_born/Events/*/unweighted_events.lhe.gz'))"
   ]
  },
  {
   "cell_type": "code",
   "execution_count": 5,
   "metadata": {},
   "outputs": [
    {
     "name": "stdout",
     "output_type": "stream",
     "text": [
      "['1-loop', 'EFT', 'SM']\n",
      "[(400.0, 100.0, 172.0, 1.0), (600.0, 550.0, 172.0, 1.0), (5000.0, 4000.0, 172.0, 1.0), (5000.0, 4900.0, 172.0, 1.0), (10000.0, 9000.0, 172.0, 1.0)]\n",
      "['$g g \\\\to \\\\bar{t} t$', '$q q \\\\to \\\\bar{t} t$']\n"
     ]
    }
   ],
   "source": [
    "# Get info\n",
    "fileData = {f : getInfo(f) for f in files}\n",
    "\n",
    "allModels = sorted(list(set([info['model'] for info in fileData.values()])))\n",
    "allPars = sorted(list(set([info['(mST,mChi,mT,yDM)'] for info in fileData.values()])))\n",
    "allProcesses = sorted(list(set([info['process'] for info in fileData.values()])))\n",
    "print(allModels)\n",
    "print(allPars)\n",
    "print(allProcesses)"
   ]
  },
  {
   "cell_type": "code",
   "execution_count": 6,
   "metadata": {},
   "outputs": [],
   "source": [
    "# Select files:\n",
    "models = ['SM','1-loop']\n",
    "pars = [(600.,550.,172.,1.0)]\n",
    "procs = allProcesses[:]\n",
    "\n",
    "bsmFiles = []\n",
    "smFiles = []\n",
    "for f,fInfo in fileData.items():\n",
    "    if fInfo['model'] not in models:\n",
    "        continue\n",
    "    if fInfo['process'] not in procs:\n",
    "        continue\n",
    "        \n",
    "    if fInfo['model'] == 'SM':\n",
    "        smFiles.append(f)\n",
    "    else:\n",
    "        if fInfo['(mST,mChi,mT,yDM)'] not in pars:\n",
    "            continue\n",
    "        bsmFiles.append(f)\n",
    "    \n",
    "# print(bsmFiles)\n",
    "# print(smFiles)\n",
    "# Sort files so largest cross-sections come first\n",
    "bsmFiles = sorted(bsmFiles, key = lambda f: fileData[f]['xsec (pb)'], reverse=True)\n",
    "smFiles = sorted(smFiles, key = lambda f: fileData[f]['xsec (pb)'], reverse=True)\n",
    "selectedFiles = smFiles+bsmFiles"
   ]
  },
  {
   "cell_type": "code",
   "execution_count": 7,
   "metadata": {},
   "outputs": [],
   "source": [
    "# It is necessary to remove the < signs from the LHE files (in the generate line) before parsing with pylhe\n",
    "events = {}\n",
    "for fpath in selectedFiles:\n",
    "    fixedFile = tempfile.mkstemp(suffix='.lhe')\n",
    "    os.close(fixedFile[0])\n",
    "    fixedFile = fixedFile[1]\n",
    "    with  gzip.open(fpath,'rt') as f:\n",
    "        data = f.readlines()\n",
    "        with open(fixedFile,'w') as newF:\n",
    "            for l in data:\n",
    "                if 'generate' in l:\n",
    "                    continue\n",
    "                newF.write(l)\n",
    "    events[fpath] = pylhe.read_lhe_with_attributes(fixedFile)"
   ]
  },
  {
   "cell_type": "code",
   "execution_count": 8,
   "metadata": {},
   "outputs": [],
   "source": [
    "mtt = {}\n",
    "mcTotal = {f : 0 for f in selectedFiles}\n",
    "weightsDict = {f : [] for f in selectedFiles}\n",
    "for f,r in events.items():\n",
    "    pT1 = []\n",
    "    pT2 = []\n",
    "    mTT = []\n",
    "    for iev,ev in enumerate(r):\n",
    "        weightsDict[f].append(ev.eventinfo.weight)\n",
    "        mcTotal[f] += 1\n",
    "        for ptc in ev.particles:\n",
    "            if abs(ptc.id) != 6: continue\n",
    "            if ptc.id == 6:\n",
    "                pA = np.array([ptc.px,ptc.py,ptc.pz,ptc.e])\n",
    "            else:\n",
    "                pB = np.array([ptc.px,ptc.py,ptc.pz,ptc.e])\n",
    "\n",
    "        pT1.append(max(np.linalg.norm(pA[0:3]),np.linalg.norm(pB[0:3])))\n",
    "        pT2.append(min(np.linalg.norm(pA[0:3]),np.linalg.norm(pB[0:3])))\n",
    "        mTT.append(np.sqrt((pA[-1]+pB[-1])**2-np.linalg.norm(pA[0:3]+pB[0:3])**2))\n",
    "    mtt[f] = {'pT1' : pT1, 'pT2' : pT2, 'mTT' : mTT}"
   ]
  },
  {
   "cell_type": "code",
   "execution_count": 9,
   "metadata": {},
   "outputs": [
    {
     "name": "stdout",
     "output_type": "stream",
     "text": [
      "\n",
      " SM : $g g \\to \\bar{t} t$\n",
      "total xsec    =  454.6241100000459\n",
      "  (from file) =  454.62411000000003\n",
      "\n",
      " SM : $q q \\to \\bar{t} t$\n",
      "total xsec    =  65.57499999999632\n",
      "  (from file) =  65.575\n",
      "\n",
      " 1-loop : $q q \\to \\bar{t} t$\n",
      "total xsec    =  0.00796508767999904\n",
      "  (from file) =  0.0079575\n",
      "\n",
      " 1-loop : $g g \\to \\bar{t} t$\n",
      "total xsec    =  -0.05237540140001077\n",
      "  (from file) =  -0.0524848\n"
     ]
    }
   ],
   "source": [
    "for f,w in weightsDict.items():\n",
    "    weightsDict[f] = np.array(w)/mcTotal[f]\n",
    "    print('\\n %s : %s' %(fileData[f]['model'],fileData[f]['process']))\n",
    "    print('total xsec    = ',sum(weightsDict[f]))\n",
    "    print('  (from file) = ',fileData[f]['xsec (pb)'])"
   ]
  },
  {
   "cell_type": "code",
   "execution_count": 10,
   "metadata": {},
   "outputs": [],
   "source": [
    "# Define colors\n",
    "colors = {f : sns.color_palette('deep')[i] for i,f in enumerate(mtt.keys())}"
   ]
  },
  {
   "cell_type": "code",
   "execution_count": 129,
   "metadata": {},
   "outputs": [],
   "source": [
    "# Define scale factor (new yDM value)\n",
    "kscales = {f : 1.0 for f in smFiles}\n",
    "kscales.update({f : 1000 for f in bsmFiles})"
   ]
  },
  {
   "cell_type": "code",
   "execution_count": 135,
   "metadata": {},
   "outputs": [
    {
     "data": {
      "image/png": "[encoded data removed]",
      "text/plain": [
       "<Figure size 720x576 with 2 Axes>"
      ]
     },
     "metadata": {},
     "output_type": "display_data"
    }
   ],
   "source": [
    "_, axarr = plt.subplots(2,sharex=True, gridspec_kw = {'height_ratios':[2, 1]},figsize=(10,8))\n",
    "plt.subplots_adjust(left=0.12, bottom=0.12, right=0.97, top=None, wspace=None, hspace=0.1)\n",
    "bins = np.linspace(0.,2000.,25)\n",
    "\n",
    "labels = []\n",
    "pmodels = []\n",
    "hists = []\n",
    "c = []\n",
    "ks = []\n",
    "for f in mtt:\n",
    "    process = fileData[f]['process']\n",
    "    model = fileData[f]['model']\n",
    "    mST,mChi,mT,yDM = fileData[f]['(mST,mChi,mT,yDM)']\n",
    "    \n",
    "    kscale = kscales[f]\n",
    "#     if f in bsmFiles:\n",
    "#         continue\n",
    "    pmodels.append(r'%s (%s)' %(process,model))\n",
    "    label = pmodels[-1]\n",
    "    if labels:\n",
    "        label = ' + ' + label\n",
    "    if kscale != 1.0:\n",
    "        label += r'$ \\times $ %1.0f' %kscale\n",
    "    labels.append(label)\n",
    "    c.append(colors[f])\n",
    "    ks.append(kscale)\n",
    "    h,_ = np.histogram(mtt[f]['mTT'],bins=bins,weights=kscale*weightsDict[f])\n",
    "    hists.append(h)\n",
    "    \n",
    "\n",
    "histsSM = [h for i,h in enumerate(hists) if 'SM' in labels[i]]    \n",
    "labelsSM = [l for i,l in enumerate(labels) if 'SM' in labels[i]]    \n",
    "cSM =  [cc for i,cc in enumerate(c) if 'SM' in labels[i]]    \n",
    "axarr[0].hist([bins[:-1]]*len(histsSM),label=labelsSM,bins=bins,\n",
    "                          weights=histsSM,alpha=0.7,\n",
    "                          density=False,linewidth=1,color=cSM,stacked=True)\n",
    "\n",
    "hSM = sum([hh for hh in histsSM[:]])\n",
    "hTot = np.copy(hSM)\n",
    "for i,h in enumerate(hists):\n",
    "    if 'SM' in labels[i]:\n",
    "        continue    \n",
    "    hTot += h\n",
    "    axarr[0].hist(bins[:-1],weights=hTot,label=labels[i],bins=bins,\n",
    "                  color=c[i],alpha=0.7,histtype='step',\n",
    "                  linewidth=4,fill=False,zorder=i,linestyle='--')\n",
    "\n",
    "\n",
    "    ratio = np.divide(np.abs(h)/ks[i], hSM, out=np.zeros_like(np.abs(h)), where=hSM != 0)\n",
    "    axarr[1].plot(bins[:-1],ratio,linewidth=3.0,linestyle='--', \n",
    "                          label=pmodels[i],c=c[i])\n",
    "\n",
    "\n",
    "    \n",
    "axarr[0].set_yscale('log')\n",
    "axarr[0].set_ylim(1,300)\n",
    "axarr[0].set_xlim(250,1500)\n",
    "axarr[1].set_xlabel(r'$m_{t\\bar{t}}$ (GeV)')\n",
    "axarr[0].set_ylabel(r'$\\sigma$ (pb)')\n",
    "axarr[1].set_ylabel(r'$|N_{BSM}|/N_{SM}$')\n",
    "# axarr[1].set_ylim(1e-3,1)\n",
    "axarr[1].set_yscale('log')\n",
    "axarr[1].grid()\n",
    "\n",
    "axarr[0].legend(framealpha=1.0)\n",
    "axarr[1].legend(framealpha=0.9)\n",
    "axarr[0].set_title(r'$m_{T} = %1.0f$ GeV, $m_{\\chi} = %1.0f$ GeV, $y_{DM} = $%1.1f' %(mST,mChi,yDM))\n",
    "plt.show()"
   ]
  },
  {
   "cell_type": "code",
   "execution_count": null,
   "metadata": {},
   "outputs": [],
   "source": []
  }
 ],
 "metadata": {
  "kernelspec": {
   "display_name": "Python 3 (ipykernel)",
   "language": "python",
   "name": "python3"
  },
  "language_info": {
   "codemirror_mode": {
    "name": "ipython",
    "version": 3
   },
   "file_extension": ".py",
   "mimetype": "text/x-python",
   "name": "python",
   "nbconvert_exporter": "python",
   "pygments_lexer": "ipython3",
   "version": "3.10.12"
  }
 },
 "nbformat": 4,
 "nbformat_minor": 2
}
