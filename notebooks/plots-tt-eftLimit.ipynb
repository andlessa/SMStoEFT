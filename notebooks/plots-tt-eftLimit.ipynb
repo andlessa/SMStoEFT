{
 "cells": [
  {
   "cell_type": "markdown",
   "metadata": {},
   "source": [
    "# Plot"
   ]
  },
  {
   "cell_type": "code",
   "execution_count": 1,
   "metadata": {},
   "outputs": [],
   "source": [
    "import warnings\n",
    "warnings.filterwarnings(\"ignore\", message=\"numpy.dtype size changed\")\n",
    "import numpy as np\n",
    "import pandas as pd\n",
    "import glob,os,shutil\n",
    "from pandas.io.json import json_normalize\n",
    "import pyslha\n",
    "import matplotlib as mpl\n",
    "import matplotlib.pyplot as plt\n",
    "from matplotlib.colors import LogNorm\n",
    "from collections import OrderedDict\n",
    "import seaborn as sns\n",
    "from scipy.interpolate import interp1d\n",
    "from IPython.display import display, Markdown\n",
    "import pylhe, gzip, tempfile\n",
    "\n",
    "pd.option_context('display.max_columns', -1)\n",
    "\n",
    "pd.options.mode.chained_assignment = None #Disable copy warnings\n",
    "# plt.style.use('fivethirtyeight') #Set style\n",
    "# mpl.rcParams.update({'figure.figsize' : (15,10)})  #Set general plotting options\n",
    "plt.rcParams.update({\n",
    "    \"text.usetex\": True,\n",
    "    \"font.family\": \"sans-serif\",\n",
    "    \"font.sans-serif\": [\"Helvetica\"]})\n",
    "\n",
    "plt.rcParams.update({\"savefig.dpi\" : 300}) #Figure resolution\n",
    "\n",
    "\n",
    "#Define plotting style:\n",
    "sns.set() #Set style\n",
    "sns.set_style('ticks',{'font.family':'Times New Roman', 'font.serif':'Times New Roman'})\n",
    "sns.set_context('paper', font_scale=1.8)\n",
    "cm = plt.cm.get_cmap('RdYlBu')"
   ]
  },
  {
   "cell_type": "code",
   "execution_count": 2,
   "metadata": {},
   "outputs": [],
   "source": [
    "# files = {'SM': '../processFolders/topeft_eftLimit/qq2tt_bornOnly/Events/run_01/unweighted_events.lhe.gz', \n",
    "#          '1-loop  ($y_{DM} = 1$)' : '../processFolders/top_formFactors/qq2tt_bsmOnly/Events/run_03/unweighted_events.lhe.gz',\n",
    "#          'EFT ($y_{DM} = 1$)' : '../processFolders/topeft_eftLimit/qq2tt_bsmOnly/Events/run_03/unweighted_events.lhe.gz'\n",
    "#          }\n",
    "\n",
    "files = {r'SM ($\\bar{q} q \\to \\bar{t} t$)': '../processFolders/sms_nlo/qq2tt_sm_lo/Events/run_02/unweighted_events.lhe.gz', \n",
    "         r'1-loop  ($\\bar{q} q \\to \\bar{t} t$)' : '../processFolders/top_formFactors/qq2tt_onlyInter/Events/run_02/unweighted_events.lhe.gz',\n",
    "         r'EFT ($\\bar{q} q \\to \\bar{t} t$)' : '../processFolders/topeft_eftLimit/qq2tt_onlyInter/Events/run_02/unweighted_events.lhe.gz',\n",
    "#          r'SM ($g g \\to \\bar{t} t$)': '../processFolders/sms_nlo/gg2tt_sm_lo/Events/run_02/unweighted_events.lhe.gz', \n",
    "#          r'1-loop ($g g \\to \\bar{t} t$)' : '../processFolders/top_formFactors/gg2tt_onlyInter/Events/run_02/unweighted_events.lhe.gz',\n",
    "#          r'EFT ($g g \\to \\bar{t} t$)' : '../processFolders/topeft_eftLimit/gg2tt_onlyInter/Events/run_02/unweighted_events.lhe.gz',\n",
    "         }"
   ]
  },
  {
   "cell_type": "code",
   "execution_count": 3,
   "metadata": {},
   "outputs": [],
   "source": [
    "# It is necessary to remove the < signs from the LHE files (in the generate line) before parsing with pylhe\n",
    "events = {}\n",
    "for label, fpath in files.items():\n",
    "    fixedFile = tempfile.mkstemp(suffix='.lhe')\n",
    "    os.close(fixedFile[0])\n",
    "    fixedFile = fixedFile[1]\n",
    "    with  gzip.open(fpath,'rt') as f:\n",
    "        data = f.readlines()\n",
    "        with open(fixedFile,'w') as newF:\n",
    "            for l in data:\n",
    "                if 'generate' in l:\n",
    "                    continue\n",
    "                newF.write(l)\n",
    "        files[label] = fixedFile\n",
    "    events[label] = pylhe.read_lhe_with_attributes(fixedFile)"
   ]
  },
  {
   "cell_type": "code",
   "execution_count": 4,
   "metadata": {},
   "outputs": [],
   "source": [
    "mtt = {}\n",
    "mcTotal = {mod : 0 for mod in events}\n",
    "weightsDict = {mod : [] for mod in events}\n",
    "for mod,r in events.items():\n",
    "    pT1 = []\n",
    "    pT2 = []\n",
    "    mTT = []\n",
    "    for iev,ev in enumerate(r):\n",
    "        weightsDict[mod].append(ev.eventinfo.weight)\n",
    "        mcTotal[mod] += 1\n",
    "        for ptc in ev.particles:\n",
    "            if abs(ptc.id) != 6: continue\n",
    "            if ptc.id == 6:\n",
    "                pA = np.array([ptc.px,ptc.py,ptc.pz,ptc.e])\n",
    "            else:\n",
    "                pB = np.array([ptc.px,ptc.py,ptc.pz,ptc.e])\n",
    "\n",
    "        pT1.append(max(np.linalg.norm(pA[0:3]),np.linalg.norm(pB[0:3])))\n",
    "        pT2.append(min(np.linalg.norm(pA[0:3]),np.linalg.norm(pB[0:3])))\n",
    "        mTT.append(np.sqrt((pA[-1]+pB[-1])**2-np.linalg.norm(pA[0:3]+pB[0:3])**2))\n",
    "    mtt[mod] = {'pT1' : pT1, 'pT2' : pT2, 'mTT' : mTT}"
   ]
  },
  {
   "cell_type": "code",
   "execution_count": 5,
   "metadata": {},
   "outputs": [],
   "source": [
    "for mod,w in weightsDict.items():\n",
    "    weightsDict[mod] = np.array(w)/mcTotal[mod]"
   ]
  },
  {
   "cell_type": "code",
   "execution_count": 8,
   "metadata": {},
   "outputs": [
    {
     "name": "stderr",
     "output_type": "stream",
     "text": [
      "/tmp/ipykernel_114338/3689779777.py:22: RuntimeWarning: divide by zero encountered in divide\n",
      "  ratio = nBSM/nSM\n",
      "/tmp/ipykernel_114338/3689779777.py:22: RuntimeWarning: invalid value encountered in divide\n",
      "  ratio = nBSM/nSM\n"
     ]
    },
    {
     "data": {
      "image/png": "[encoded data removed]",
      "text/plain": [
       "<Figure size 720x576 with 2 Axes>"
      ]
     },
     "metadata": {
      "needs_background": "light"
     },
     "output_type": "display_data"
    }
   ],
   "source": [
    "colors = {label : sns.color_palette('deep')[i] for i,label in enumerate(mtt.keys())}\n",
    "f, axarr = plt.subplots(2,sharex=True, gridspec_kw = {'height_ratios':[2, 1]},figsize=(10,8))\n",
    "plt.subplots_adjust(left=0.12, bottom=0.12, right=0.97, top=None, wspace=None, hspace=0.1)\n",
    "bins = np.linspace(0.,2000.,25)\n",
    "weights = {}\n",
    "\n",
    "for mod in mtt:\n",
    "    w,b,_ = axarr[0].hist(mtt[mod]['mTT'],label=mod,bins=bins,\n",
    "                          weights=[1./mcTotal[mod]]*len(mtt[mod]['mTT']),\n",
    "                          density=False,histtype='step',linewidth=2,color=colors[mod])\n",
    "    weights[mod]= w\n",
    "    yError = np.sqrt(w/mcTotal[mod])\n",
    "    \n",
    "    axarr[0].errorbar((b[:-1]+b[1:])/2.,w,yerr = yError, marker = '.', elinewidth=1.0,\n",
    "                 drawstyle = 'steps-mid',linewidth=0.0,color=colors[mod])\n",
    "\n",
    "nSM,b = np.histogram(mtt[r'SM ($\\bar{q} q \\to \\bar{t} t$)']['mTT'],weights=weightsDict[r'SM ($\\bar{q} q \\to \\bar{t} t$)'],bins=bins)    \n",
    "for mod,w in weights.items():\n",
    "    if 'SM' in mod: continue\n",
    "    if not 'q' in mod: continue\n",
    "    nBSM,_ = np.histogram(mtt[mod]['mTT'],weights=np.abs(weightsDict[mod]),bins=bins)\n",
    "    ratio = nBSM/nSM\n",
    "    axarr[1].plot(b[:-1],ratio,linewidth=3.0,linestyle='--', \n",
    "                          label=mod,c=colors[mod])\n",
    "\n",
    "    \n",
    "    \n",
    "axarr[0].set_yscale('log')\n",
    "axarr[1].set_xlabel(r'$m_{t\\bar{t}}$ (GeV)')\n",
    "axarr[0].set_ylabel('Normalized Events')\n",
    "axarr[1].set_ylabel(r'$N_{BSM}/N_{SM}$')\n",
    "axarr[1].set_ylim(1e-5,1)\n",
    "axarr[1].set_yscale('log')\n",
    "axarr[1].grid()\n",
    "\n",
    "axarr[0].legend(loc='lower left')\n",
    "# axarr[1].legend()\n",
    "axarr[0].set_title(r'$ q \\bar{q} \\to t \\bar{t}$ (Parton Level), $m_{T} = 5$ TeV, $m_{\\chi} = 4$ TeV')\n",
    "plt.show()"
   ]
  },
  {
   "cell_type": "code",
   "execution_count": null,
   "metadata": {},
   "outputs": [],
   "source": []
  }
 ],
 "metadata": {
  "kernelspec": {
   "display_name": "Python 3 (ipykernel)",
   "language": "python",
   "name": "python3"
  },
  "language_info": {
   "codemirror_mode": {
    "name": "ipython",
    "version": 3
   },
   "file_extension": ".py",
   "mimetype": "text/x-python",
   "name": "python",
   "nbconvert_exporter": "python",
   "pygments_lexer": "ipython3",
   "version": "3.10.12"
  }
 },
 "nbformat": 4,
 "nbformat_minor": 2
}
