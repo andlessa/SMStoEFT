{
 "cells": [
  {
   "cell_type": "markdown",
   "metadata": {},
   "source": [
    "# Plot"
   ]
  },
  {
   "cell_type": "code",
   "execution_count": 1,
   "metadata": {},
   "outputs": [],
   "source": [
    "import warnings\n",
    "warnings.filterwarnings(\"ignore\", message=\"numpy.dtype size changed\")\n",
    "import numpy as np\n",
    "import pandas as pd\n",
    "import matplotlib.pyplot as plt\n",
    "import seaborn as sns\n",
    "import sys\n",
    "sys.path.append('../../Recast/ATLAS-TOPQ-2019-23_tpT')\n",
    "from atlas_topq_2019_23_Limits import read_ATLASdata, getSMLO, getKfactor\n",
    "\n",
    "pd.option_context('display.max_columns', -1)\n",
    "\n",
    "pd.options.mode.chained_assignment = None #Disable copy warnings\n",
    "# plt.style.use('fivethirtyeight') #Set style\n",
    "# mpl.rcParams.update({'figure.figsize' : (15,10)})  #Set general plotting options\n",
    "plt.rcParams.update({\n",
    "    \"text.usetex\": True,\n",
    "    \"font.family\": \"sans-serif\",\n",
    "    \"font.sans-serif\": [\"Helvetica\"]})\n",
    "\n",
    "plt.rcParams.update({\"savefig.dpi\" : 300}) #Figure resolution\n",
    "\n",
    "\n",
    "#Define plotting style:\n",
    "sns.set() #Set style\n",
    "sns.set_style('ticks',{'font.family':'Times New Roman', 'font.serif':'Times New Roman'})\n",
    "sns.set_context('paper', font_scale=1.8)\n",
    "cm = plt.colormaps['RdYlBu']\n",
    "\n",
    "colors = sns.color_palette('Paired')"
   ]
  },
  {
   "cell_type": "markdown",
   "metadata": {},
   "source": [
    "### Load Recast Data"
   ]
  },
  {
   "cell_type": "code",
   "execution_count": 2,
   "metadata": {},
   "outputs": [],
   "source": [
    "recastDataAll = pd.read_pickle('../../Recast/ATLAS-TOPQ-2019-23_tpT/pp2tt_formFactors_scan.pcl')\n",
    "recastDataEFTAll = pd.read_pickle('../../Recast/ATLAS-TOPQ-2019-23_tpT/pp2tt_eft_scan.pcl')"
   ]
  },
  {
   "cell_type": "markdown",
   "metadata": {},
   "source": [
    "### Get ATLAS data"
   ]
  },
  {
   "cell_type": "code",
   "execution_count": 3,
   "metadata": {},
   "outputs": [],
   "source": [
    "xsecsObs,sm,covMatrix = read_ATLASdata(dataDir='../../Recast/ATLAS-TOPQ-2019-23_tpT/data')\n",
    "bgError = np.sqrt(covMatrix.diagonal())\n",
    "atlas_bins = np.array([355.0,381.0,420.0,478.0,549.0,633.0,\n",
    "                        720.0,836.0,2000.0])\n",
    "bin_widths  = atlas_bins[1:]-atlas_bins[:-1]  "
   ]
  },
  {
   "cell_type": "markdown",
   "metadata": {},
   "source": [
    "### Get SM prediction and k-factor"
   ]
  },
  {
   "cell_type": "code",
   "execution_count": 4,
   "metadata": {},
   "outputs": [],
   "source": [
    "# ### Load SM prediction (LO)\n",
    "smLO = getSMLO('../../Recast/ATLAS-TOPQ-2019-23_tpT/sm/sm_atlas_topq_2019_23.pcl')\n",
    "# ### Load k-factors\n",
    "kfac = getKfactor(sm,smLO)"
   ]
  },
  {
   "cell_type": "markdown",
   "metadata": {},
   "source": [
    "### Apply k-factors and rescale by bins"
   ]
  },
  {
   "cell_type": "code",
   "execution_count": 5,
   "metadata": {},
   "outputs": [],
   "source": [
    "smNLO = kfac*smLO/bin_widths"
   ]
  },
  {
   "cell_type": "markdown",
   "metadata": {},
   "source": [
    "## Light Point 1"
   ]
  },
  {
   "cell_type": "markdown",
   "metadata": {},
   "source": [
    "### Select parameters"
   ]
  },
  {
   "cell_type": "code",
   "execution_count": 6,
   "metadata": {},
   "outputs": [
    {
     "name": "stdout",
     "output_type": "stream",
     "text": [
      "500.0 400.0 1.0\n",
      "1 1\n"
     ]
    }
   ],
   "source": [
    "mST = 500.0\n",
    "mChi = 400.0\n",
    "yDM = 1.0\n",
    "\n",
    "recastData = recastDataAll[(recastDataAll['mST'] == mST) & (recastDataAll['mChi'] == mChi) & (recastDataAll['yDM'] == yDM)]\n",
    "recastDataEFT = recastDataEFTAll[(recastDataEFTAll['mST'] == mST) & (recastDataEFTAll['mChi'] == mChi) & (recastDataEFTAll['yDM'] == yDM)]\n",
    "mST,mChi,yDM = recastData[['mST','mChi','yDM']].iloc[0]\n",
    "print(mST,mChi,yDM)\n",
    "print(len(recastData),len(recastDataEFT))"
   ]
  },
  {
   "cell_type": "markdown",
   "metadata": {},
   "source": [
    "### Get signal"
   ]
  },
  {
   "cell_type": "code",
   "execution_count": 7,
   "metadata": {},
   "outputs": [],
   "source": [
    "binCols = [c for c in recastData.columns \n",
    "               if 'bin_' in c.lower() and not 'error' in c.lower()]\n",
    "bins_left = np.array([eval(c.split('_')[1]) for c in binCols])\n",
    "bins_right = np.array([eval(c.split('_')[2]) for c in binCols])     \n",
    "bin_centers = (bins_left+bins_right)/2.0\n",
    "bin_widths = bins_right-bins_left\n",
    "cms_bins = np.append(bins_left,bins_right[-1])\n",
    "\n",
    "signal = list(zip(bins_left,recastData.iloc[0][binCols].values))\n",
    "signal = np.array(sorted(signal))[:,1]\n",
    "\n",
    "signalEFT = list(zip(bins_left,recastDataEFT.iloc[0][binCols].values))\n",
    "signalEFT = np.array(sorted(signalEFT))[:,1]\n"
   ]
  },
  {
   "cell_type": "markdown",
   "metadata": {},
   "source": [
    "### Apply k-factors and rescale by bins"
   ]
  },
  {
   "cell_type": "code",
   "execution_count": 8,
   "metadata": {},
   "outputs": [],
   "source": [
    "signalNLO = signal*kfac/bin_widths\n",
    "signalEFTNLO = signalEFT*kfac/bin_widths"
   ]
  },
  {
   "cell_type": "markdown",
   "metadata": {},
   "source": [
    "### Plot distribution and data"
   ]
  },
  {
   "cell_type": "code",
   "execution_count": 9,
   "metadata": {},
   "outputs": [
    {
     "data": {
      "image/png": "[encoded data removed]",
      "text/plain": [
       "<Figure size 648x504 with 2 Axes>"
      ]
     },
     "metadata": {},
     "output_type": "display_data"
    }
   ],
   "source": [
    "yDM = 5.0/recastData.iloc[0]['yDM']\n",
    "\n",
    "_, axarr = plt.subplots(2,sharex=True, gridspec_kw = {'height_ratios':[2, 0.7]},figsize=(9,7))\n",
    "plt.subplots_adjust(left=0.12, bottom=0.12, right=0.97, top=None, wspace=None, hspace=0.1)\n",
    "\n",
    "axarr[0].scatter(bin_centers,xsecsObs,label='ATLAS data',linewidth=2,s=15,\n",
    "c='black',zorder=10)\n",
    "axarr[0].hist(bin_centers,weights=smNLO,label=r'SM',histtype='step',linewidth=0,bins=cms_bins,color=colors[0],fill=True,alpha=0.7)\n",
    "axarr[0].hist(bin_centers,weights=smNLO+signalNLO*yDM**2,label=r'SM+1-loop',histtype='step',linewidth=2,bins=cms_bins,color=colors[5])\n",
    "axarr[0].hist(bin_centers,weights=smNLO+signalEFTNLO*yDM**2,label=r'SM+EFT',histtype='step',linewidth=2,bins=cms_bins,linestyle='dashed',color=colors[4])\n",
    "axarr[0].set_yscale('log')\n",
    "# axarr[0].set_ylim(1e-6,2e-2)\n",
    "axarr[0].legend()\n",
    "axarr[0].set_xlim(350.,2000.)\n",
    "# axarr[0].grid()\n",
    "\n",
    "axarr[1].hist(bin_centers,weights=np.divide(smNLO,xsecsObs),histtype='step',linewidth=3,bins=cms_bins,color=colors[0])\n",
    "axarr[1].hist(bin_centers,weights=np.divide(smNLO+signalNLO*yDM**2,xsecsObs),histtype='step',linewidth=3,bins=cms_bins,color=colors[5])\n",
    "axarr[1].hist(bin_centers,weights=np.divide(smNLO+signalEFTNLO*yDM**2,xsecsObs),histtype='step',linewidth=3,bins=cms_bins,color=colors[4])\n",
    "\n",
    "axarr[1].set_ylim(0.8,1.4)\n",
    "axarr[1].set_yticks(np.arange(0.8,1.4,0.2))\n",
    "axarr[1].grid()\n",
    "\n",
    "axarr[0].set_title(r'$m_T = %1.0f, m_{\\chi} = %1.0f, y_{DM} = %1.0f$' %(mST,mChi,yDM),loc='left')\n",
    "axarr[1].set_xlabel(r'$p_T(t)$ (GeV)')\n",
    "axarr[0].set_ylabel(r'$\\frac{d \\sigma}{d p_T(t)}$ (pb/GeV)')\n",
    "axarr[1].set_ylabel(r'$N_{\\rm total}/{\\rm Data}$')\n",
    "\n",
    "axarr[0].set_title(r'$m_T = %1.0f, m_{\\chi} = %1.0f, y_{DM} = %1.0f$' %(mST,mChi,yDM),loc='left')\n",
    "plt.savefig('ATLAS_pTt_mST%i_mChi%i_yDM_%i.png' %(int(mST),int(mChi),int(yDM)))\n",
    "plt.show()"
   ]
  },
  {
   "cell_type": "code",
   "execution_count": null,
   "metadata": {},
   "outputs": [],
   "source": []
  },
  {
   "cell_type": "markdown",
   "metadata": {},
   "source": [
    "## Light Point 2"
   ]
  },
  {
   "cell_type": "markdown",
   "metadata": {},
   "source": [
    "### Select parameters"
   ]
  },
  {
   "cell_type": "code",
   "execution_count": 10,
   "metadata": {},
   "outputs": [
    {
     "name": "stdout",
     "output_type": "stream",
     "text": [
      "1 1\n"
     ]
    }
   ],
   "source": [
    "mST = 1000.0\n",
    "mChi = 900.0\n",
    "yDM = 1.0\n",
    "\n",
    "recastData = recastDataAll[(recastDataAll['mST'] == mST) & (recastDataAll['mChi'] == mChi) & (recastDataAll['yDM'] == yDM)]\n",
    "recastDataEFT = recastDataEFTAll[(recastDataEFTAll['mST'] == mST) & (recastDataEFTAll['mChi'] == mChi) & (recastDataEFTAll['yDM'] == yDM)]\n",
    "print(len(recastData),len(recastDataEFT))"
   ]
  },
  {
   "cell_type": "markdown",
   "metadata": {},
   "source": [
    "### Get signal"
   ]
  },
  {
   "cell_type": "code",
   "execution_count": 11,
   "metadata": {},
   "outputs": [],
   "source": [
    "binCols = [c for c in recastData.columns \n",
    "               if 'bin_' in c.lower() and not 'error' in c.lower()]\n",
    "bins_left = np.array([eval(c.split('_')[1]) for c in binCols])\n",
    "bins_right = np.array([eval(c.split('_')[2]) for c in binCols])     \n",
    "bin_centers = (bins_left+bins_right)/2.0\n",
    "bin_widths = bins_right-bins_left\n",
    "cms_bins = np.append(bins_left,bins_right[-1])\n",
    "\n",
    "signal = list(zip(bins_left,recastData.iloc[0][binCols].values))\n",
    "signal = np.array(sorted(signal))[:,1]\n",
    "\n",
    "signalEFT = list(zip(bins_left,recastDataEFT.iloc[0][binCols].values))\n",
    "signalEFT = np.array(sorted(signalEFT))[:,1]\n"
   ]
  },
  {
   "cell_type": "markdown",
   "metadata": {},
   "source": [
    "### Apply k-factors and rescale by bins"
   ]
  },
  {
   "cell_type": "code",
   "execution_count": 12,
   "metadata": {},
   "outputs": [],
   "source": [
    "signalNLO = signal*kfac/bin_widths\n",
    "signalEFTNLO = signalEFT*kfac/bin_widths"
   ]
  },
  {
   "cell_type": "markdown",
   "metadata": {},
   "source": [
    "### Plot distribution and data"
   ]
  },
  {
   "cell_type": "code",
   "execution_count": 13,
   "metadata": {},
   "outputs": [
    {
     "data": {
      "image/png": "[encoded data removed]",
      "text/plain": [
       "<Figure size 648x504 with 2 Axes>"
      ]
     },
     "metadata": {},
     "output_type": "display_data"
    }
   ],
   "source": [
    "yDM = 10.0/recastData.iloc[0]['yDM']\n",
    "\n",
    "_, axarr = plt.subplots(2,sharex=True, gridspec_kw = {'height_ratios':[2, 0.7]},figsize=(9,7))\n",
    "plt.subplots_adjust(left=0.12, bottom=0.12, right=0.97, top=None, wspace=None, hspace=0.1)\n",
    "\n",
    "axarr[0].scatter(bin_centers,xsecsObs,label='ATLAS data',linewidth=2,s=15,\n",
    "c='black',zorder=10)\n",
    "axarr[0].hist(bin_centers,weights=smNLO,label=r'SM',histtype='step',linewidth=0,bins=cms_bins,color=colors[0],fill=True,alpha=0.7)\n",
    "axarr[0].hist(bin_centers,weights=smNLO+signalNLO*yDM**2,label=r'SM+1-loop',histtype='step',linewidth=2,bins=cms_bins,color=colors[5])\n",
    "axarr[0].hist(bin_centers,weights=smNLO+signalEFTNLO*yDM**2,label=r'SM+EFT',histtype='step',linewidth=2,bins=cms_bins,linestyle='dashed',color=colors[4])\n",
    "axarr[0].set_yscale('log')\n",
    "# axarr[0].set_ylim(1e-6,2e-2)\n",
    "axarr[0].legend()\n",
    "axarr[0].set_xlim(350.,2000.)\n",
    "# axarr[0].grid()\n",
    "\n",
    "axarr[1].hist(bin_centers,weights=np.divide(smNLO,xsecsObs),histtype='step',linewidth=3,bins=cms_bins,color=colors[0])\n",
    "axarr[1].hist(bin_centers,weights=np.divide(smNLO+signalNLO*yDM**2,xsecsObs),histtype='step',linewidth=3,bins=cms_bins,color=colors[5])\n",
    "axarr[1].hist(bin_centers,weights=np.divide(smNLO+signalEFTNLO*yDM**2,xsecsObs),histtype='step',linewidth=3,bins=cms_bins,color=colors[4],linestyle='dashed')\n",
    "\n",
    "# axarr[1].bar(x=bins_left, height=np.divide(2*bgError,xsecsObs), bottom=np.divide(smNLO-bgError,xsecsObs), width=bin_widths, align='edge', linewidth=0, color=colors[0], alpha=0.25, zorder=-1, label='uncertainty band')\n",
    "# axarr[1].bar(x=bins_left, height=np.divide(2*bgError,xsecsObs), bottom=np.divide(xsecsObs-bgError,xsecsObs), width=bin_widths, align='edge', linewidth=0, color=colors[0], alpha=0.75, zorder=-1, label='uncertainty band')\n",
    "\n",
    "\n",
    "axarr[1].set_ylim(0.8,1.4)\n",
    "axarr[1].set_yticks(np.arange(0.8,1.4,0.2))\n",
    "axarr[1].grid()\n",
    "\n",
    "axarr[0].set_title(r'$m_T = %1.0f, m_{\\chi} = %1.0f, y_{DM} = %1.0f$' %(mST,mChi,yDM),loc='left')\n",
    "axarr[1].set_xlabel(r'$p_T(t)$ (GeV)')\n",
    "axarr[0].set_ylabel(r'$\\frac{d \\sigma}{d p_T(t)}$ (pb/GeV)')\n",
    "axarr[1].set_ylabel(r'$N_{\\rm total}/{\\rm Data}$')\n",
    "\n",
    "\n",
    "plt.savefig('ATLAS_pTt_mST%i_mChi%i_yDM_%i.png' %(int(mST),int(mChi),int(yDM)))\n",
    "plt.show()"
   ]
  },
  {
   "cell_type": "code",
   "execution_count": null,
   "metadata": {},
   "outputs": [],
   "source": []
  }
 ],
 "metadata": {
  "kernelspec": {
   "display_name": "Python 3 (ipykernel)",
   "language": "python",
   "name": "python3"
  },
  "language_info": {
   "codemirror_mode": {
    "name": "ipython",
    "version": 3
   },
   "file_extension": ".py",
   "mimetype": "text/x-python",
   "name": "python",
   "nbconvert_exporter": "python",
   "pygments_lexer": "ipython3",
   "version": "3.9.7"
  }
 },
 "nbformat": 4,
 "nbformat_minor": 2
}
