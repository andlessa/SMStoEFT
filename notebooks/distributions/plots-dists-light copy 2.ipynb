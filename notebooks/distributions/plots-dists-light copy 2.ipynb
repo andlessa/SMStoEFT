{
 "cells": [
  {
   "cell_type": "markdown",
   "metadata": {},
   "source": [
    "# Plot"
   ]
  },
  {
   "cell_type": "code",
   "execution_count": 1,
   "metadata": {},
   "outputs": [],
   "source": [
    "import warnings\n",
    "warnings.filterwarnings(\"ignore\", message=\"numpy.dtype size changed\")\n",
    "import numpy as np\n",
    "import pandas as pd\n",
    "import matplotlib.pyplot as plt\n",
    "import seaborn as sns\n",
    "import glob\n",
    "import random\n",
    "import sys\n",
    "sys.path.append('../')\n",
    "from auxPlots import getInfo, getDistributions,getLHEevents,getATLASdistributions\n",
    "\n",
    "pd.option_context('display.max_columns', -1)\n",
    "\n",
    "pd.options.mode.chained_assignment = None #Disable copy warnings\n",
    "# plt.style.use('fivethirtyeight') #Set style\n",
    "# mpl.rcParams.update({'figure.figsize' : (15,10)})  #Set general plotting options\n",
    "plt.rcParams.update({\n",
    "    \"text.usetex\": True,\n",
    "    \"font.family\": \"sans-serif\",\n",
    "    \"font.sans-serif\": [\"Helvetica\"]})\n",
    "\n",
    "plt.rcParams.update({\"savefig.dpi\" : 300}) #Figure resolution\n",
    "\n",
    "\n",
    "#Define plotting style:\n",
    "sns.set() #Set style\n",
    "sns.set_style('ticks',{'font.family':'Times New Roman', 'font.serif':'Times New Roman'})\n",
    "sns.set_context('paper', font_scale=1.8)\n",
    "cm = plt.colormaps['RdYlBu']"
   ]
  },
  {
   "cell_type": "code",
   "execution_count": 4,
   "metadata": {},
   "outputs": [],
   "source": [
    "files = list(glob.glob('../../processFolders/*_scan/Events/*/unweighted_events.lhe.gz'))\n",
    "smFiles = list(glob.glob('../../processFolders/sm_tt_lo/Events/*/unweighted_events.lhe.gz'))\n"
   ]
  },
  {
   "cell_type": "code",
   "execution_count": 5,
   "metadata": {},
   "outputs": [
    {
     "name": "stdout",
     "output_type": "stream",
     "text": [
      "['1-loop', 'SM']\n",
      "[(300.0, 5.0, 172.5, 1.0), (300.0, 50.0, 172.5, 1.0), (300.0, 100.0, 172.5, 1.0), (300.0, 150.0, 172.5, 1.0), (300.0, 200.0, 172.5, 1.0), (300.0, 225.0, 172.5, 1.0), (300.0, 250.0, 172.5, 1.0), (300.0, 275.0, 172.5, 1.0), (300.0, 290.0, 172.5, 1.0), (400.0, 5.0, 172.5, 1.0), (400.0, 50.0, 172.5, 1.0), (400.0, 100.0, 172.5, 1.0), (400.0, 150.0, 172.5, 1.0), (400.0, 200.0, 172.5, 1.0), (400.0, 250.0, 172.5, 1.0), (400.0, 300.0, 172.5, 1.0), (400.0, 325.0, 172.5, 1.0), (400.0, 350.0, 172.5, 1.0), (400.0, 375.0, 172.5, 1.0), (400.0, 390.0, 172.5, 1.0), (500.0, 5.0, 172.5, 1.0), (500.0, 50.0, 172.5, 1.0), (500.0, 100.0, 172.5, 1.0), (500.0, 150.0, 172.5, 1.0), (500.0, 200.0, 172.5, 1.0), (500.0, 250.0, 172.5, 1.0), (500.0, 300.0, 172.5, 1.0), (500.0, 350.0, 172.5, 1.0), (500.0, 400.0, 172.5, 1.0), (500.0, 425.0, 172.5, 1.0), (500.0, 450.0, 172.5, 1.0), (500.0, 475.0, 172.5, 1.0), (500.0, 490.0, 172.5, 1.0), (600.0, 50.0, 172.5, 1.0), (600.0, 100.0, 172.5, 1.0), (600.0, 150.0, 172.5, 1.0), (600.0, 200.0, 172.5, 1.0), (600.0, 250.0, 172.5, 1.0), (600.0, 300.0, 172.5, 1.0), (600.0, 350.0, 172.5, 1.0), (600.0, 400.0, 172.5, 1.0), (600.0, 450.0, 172.5, 1.0), (600.0, 500.0, 172.5, 1.0), (600.0, 525.0, 172.5, 1.0), (600.0, 550.0, 172.5, 0.0), (600.0, 550.0, 172.5, 1.0), (600.0, 575.0, 172.5, 1.0), (600.0, 590.0, 172.5, 1.0), (700.0, 150.0, 172.5, 1.0), (700.0, 250.0, 172.5, 1.0), (700.0, 300.0, 172.5, 1.0), (700.0, 350.0, 172.5, 1.0), (700.0, 400.0, 172.5, 1.0), (700.0, 450.0, 172.5, 1.0), (700.0, 500.0, 172.5, 1.0), (700.0, 550.0, 172.5, 1.0), (700.0, 600.0, 172.5, 1.0), (700.0, 625.0, 172.5, 1.0), (700.0, 650.0, 172.5, 1.0), (700.0, 675.0, 172.5, 1.0), (700.0, 690.0, 172.5, 1.0), (800.0, 250.0, 172.5, 1.0), (800.0, 350.0, 172.5, 1.0), (800.0, 400.0, 172.5, 1.0), (800.0, 450.0, 172.5, 1.0), (800.0, 500.0, 172.5, 1.0), (800.0, 550.0, 172.5, 1.0), (800.0, 600.0, 172.5, 1.0), (800.0, 650.0, 172.5, 1.0), (800.0, 700.0, 172.5, 1.0), (800.0, 725.0, 172.5, 1.0), (800.0, 750.0, 172.5, 1.0), (800.0, 775.0, 172.5, 1.0), (800.0, 790.0, 172.5, 1.0), (900.0, 350.0, 172.5, 1.0), (900.0, 400.0, 172.5, 1.0), (900.0, 450.0, 172.5, 1.0), (900.0, 500.0, 172.5, 1.0), (900.0, 550.0, 172.5, 1.0), (900.0, 600.0, 172.5, 1.0), (900.0, 650.0, 172.5, 1.0), (900.0, 700.0, 172.5, 1.0), (900.0, 750.0, 172.5, 1.0), (900.0, 800.0, 172.5, 1.0), (900.0, 825.0, 172.5, 1.0), (900.0, 850.0, 172.5, 1.0), (900.0, 875.0, 172.5, 1.0), (900.0, 890.0, 172.5, 1.0), (1000.0, 450.0, 172.5, 1.0), (1000.0, 550.0, 172.5, 1.0), (1000.0, 600.0, 172.5, 1.0), (1000.0, 650.0, 172.5, 1.0), (1000.0, 700.0, 172.5, 1.0), (1000.0, 750.0, 172.5, 1.0), (1000.0, 800.0, 172.5, 1.0), (1000.0, 850.0, 172.5, 1.0), (1000.0, 900.0, 172.5, 1.0), (1000.0, 925.0, 172.5, 1.0), (1000.0, 950.0, 172.5, 1.0), (1000.0, 975.0, 172.5, 1.0), (1000.0, 990.0, 172.5, 1.0), (1100.0, 550.0, 172.5, 1.0), (1100.0, 600.0, 172.5, 1.0), (1100.0, 650.0, 172.5, 1.0), (1100.0, 700.0, 172.5, 1.0), (1100.0, 750.0, 172.5, 1.0), (1100.0, 800.0, 172.5, 1.0), (1100.0, 850.0, 172.5, 1.0), (1100.0, 900.0, 172.5, 1.0), (1100.0, 950.0, 172.5, 1.0), (1100.0, 1000.0, 172.5, 1.0), (1100.0, 1025.0, 172.5, 1.0), (1100.0, 1050.0, 172.5, 1.0), (1100.0, 1075.0, 172.5, 1.0), (1100.0, 1090.0, 172.5, 1.0), (1200.0, 650.0, 172.5, 1.0), (1200.0, 750.0, 172.5, 1.0), (1200.0, 800.0, 172.5, 1.0), (1200.0, 850.0, 172.5, 1.0), (1200.0, 900.0, 172.5, 1.0), (1200.0, 950.0, 172.5, 1.0), (1200.0, 1000.0, 172.5, 1.0), (1200.0, 1050.0, 172.5, 1.0), (1200.0, 1100.0, 172.5, 1.0), (1200.0, 1125.0, 172.5, 1.0), (1200.0, 1150.0, 172.5, 1.0), (1200.0, 1175.0, 172.5, 1.0), (1200.0, 1190.0, 172.5, 1.0), (1300.0, 750.0, 172.5, 1.0), (1300.0, 800.0, 172.5, 1.0), (1300.0, 850.0, 172.5, 1.0), (1300.0, 900.0, 172.5, 1.0), (1300.0, 950.0, 172.5, 1.0), (1300.0, 1000.0, 172.5, 1.0), (1300.0, 1050.0, 172.5, 1.0), (1300.0, 1100.0, 172.5, 1.0), (1300.0, 1150.0, 172.5, 1.0), (1300.0, 1200.0, 172.5, 1.0), (1300.0, 1225.0, 172.5, 1.0), (1300.0, 1250.0, 172.5, 1.0), (1300.0, 1275.0, 172.5, 1.0), (1300.0, 1290.0, 172.5, 1.0), (1400.0, 850.0, 172.5, 1.0), (1400.0, 900.0, 172.5, 1.0), (1400.0, 950.0, 172.5, 1.0), (1400.0, 1000.0, 172.5, 1.0), (1400.0, 1050.0, 172.5, 1.0), (1400.0, 1100.0, 172.5, 1.0), (1400.0, 1150.0, 172.5, 1.0), (1400.0, 1200.0, 172.5, 1.0), (1400.0, 1250.0, 172.5, 1.0), (1400.0, 1300.0, 172.5, 1.0), (1400.0, 1325.0, 172.5, 1.0), (1400.0, 1350.0, 172.5, 1.0), (1400.0, 1375.0, 172.5, 1.0), (1400.0, 1390.0, 172.5, 1.0), (1500.0, 950.0, 172.5, 1.0), (1500.0, 1050.0, 172.5, 1.0), (1500.0, 1100.0, 172.5, 1.0), (1500.0, 1150.0, 172.5, 1.0), (1500.0, 1200.0, 172.5, 1.0), (1500.0, 1250.0, 172.5, 1.0), (1500.0, 1300.0, 172.5, 1.0), (1500.0, 1350.0, 172.5, 1.0), (1500.0, 1400.0, 172.5, 1.0), (1500.0, 1425.0, 172.5, 1.0), (1500.0, 1450.0, 172.5, 1.0), (1500.0, 1475.0, 172.5, 1.0), (1500.0, 1490.0, 172.5, 1.0), (2000.0, 1450.0, 172.5, 1.0), (2000.0, 1550.0, 172.5, 1.0), (2000.0, 1600.0, 172.5, 1.0), (2000.0, 1650.0, 172.5, 1.0), (2000.0, 1700.0, 172.5, 1.0), (2000.0, 1750.0, 172.5, 1.0), (2000.0, 1800.0, 172.5, 1.0), (2000.0, 1850.0, 172.5, 1.0), (2000.0, 1900.0, 172.5, 1.0), (2000.0, 1925.0, 172.5, 1.0), (2000.0, 1950.0, 172.5, 1.0), (2000.0, 1975.0, 172.5, 1.0), (2000.0, 1990.0, 172.5, 1.0), (2500.0, 1950.0, 172.5, 1.0), (2500.0, 2050.0, 172.5, 1.0), (2500.0, 2100.0, 172.5, 1.0), (2500.0, 2150.0, 172.5, 1.0), (2500.0, 2200.0, 172.5, 1.0), (2500.0, 2250.0, 172.5, 1.0), (2500.0, 2300.0, 172.5, 1.0), (2500.0, 2350.0, 172.5, 1.0), (2500.0, 2400.0, 172.5, 1.0), (2500.0, 2425.0, 172.5, 1.0), (2500.0, 2450.0, 172.5, 1.0), (2500.0, 2475.0, 172.5, 1.0), (2500.0, 2490.0, 172.5, 1.0), (3000.0, 2450.0, 172.5, 1.0), (3000.0, 2550.0, 172.5, 1.0), (3000.0, 2600.0, 172.5, 1.0), (3000.0, 2650.0, 172.5, 1.0), (3000.0, 2700.0, 172.5, 1.0), (3000.0, 2750.0, 172.5, 1.0), (3000.0, 2800.0, 172.5, 1.0), (3000.0, 2850.0, 172.5, 1.0), (3000.0, 2900.0, 172.5, 1.0), (3000.0, 2925.0, 172.5, 1.0), (3000.0, 2950.0, 172.5, 1.0), (3000.0, 2975.0, 172.5, 1.0), (3000.0, 2990.0, 172.5, 1.0)]\n",
      "['$g g \\\\to \\\\bar{t} t$', '$p p \\\\to \\\\bar{t} t$', '$q q \\\\to \\\\bar{t} t$']\n"
     ]
    }
   ],
   "source": [
    "# Get info\n",
    "fileData = {f : getInfo(f) for f in files+smFiles}\n",
    "# Set SM model by hand:\n",
    "\n",
    "allModels = sorted(list(set([info['model'] for info in fileData.values()])))\n",
    "allPars = sorted(list(set([info['(mST,mChi,mT,yDM)'] for info in fileData.values()])))\n",
    "allProcesses = sorted(list(set([info['process'] for info in fileData.values()])))\n",
    "print(allModels)\n",
    "print(allPars)\n",
    "print(allProcesses)"
   ]
  },
  {
   "cell_type": "code",
   "execution_count": 6,
   "metadata": {},
   "outputs": [],
   "source": [
    "# Select files:\n",
    "models = ['SM','1-loop', 'EFT']\n",
    "pars = [(500.,400.,172.5,1.0)]\n",
    "procs = allProcesses[:]\n",
    "\n",
    "bsmFiles = []\n",
    "smFiles = []\n",
    "for f,fInfo in fileData.items():\n",
    "    if fInfo['model'] not in models:\n",
    "        continue\n",
    "    if fInfo['process'] not in procs:\n",
    "        continue\n",
    "        \n",
    "    if fInfo['model'] == 'SM':\n",
    "        smFiles.append(f)\n",
    "    else:\n",
    "        if fInfo['(mST,mChi,mT,yDM)'] not in pars:\n",
    "            continue\n",
    "        bsmFiles.append(f)\n",
    "    \n",
    "# print(bsmFiles)\n",
    "# print(smFiles)\n",
    "# Sort files so largest cross-sections come first\n",
    "bsmFiles = sorted(bsmFiles, key = lambda f: (fileData[f]['process'],fileData[f]['model']), reverse=True)\n",
    "smFiles = sorted(smFiles, key = lambda f: fileData[f]['process'], reverse=True)\n",
    "selectedFiles = smFiles+bsmFiles"
   ]
  },
  {
   "cell_type": "code",
   "execution_count": 7,
   "metadata": {},
   "outputs": [
    {
     "name": "stdout",
     "output_type": "stream",
     "text": [
      "3\n",
      "../../processFolders/sm_tt_lo/Events/run_01/unweighted_events.lhe.gz\n",
      "../../processFolders/qq2tt_formFactors_scan/Events/run_44/unweighted_events.lhe.gz\n",
      "../../processFolders/gg2tt_formFactors_scan/Events/run_43/unweighted_events.lhe.gz\n"
     ]
    }
   ],
   "source": [
    "print(len(selectedFiles))\n",
    "for f in selectedFiles:\n",
    "    print(f)"
   ]
  },
  {
   "cell_type": "code",
   "execution_count": 8,
   "metadata": {},
   "outputs": [],
   "source": [
    "f = '../../processFolders/gg2tt_formFactors_scan/Events/run_43/unweighted_events.lhe.gz'\n",
    "nevents,events = getLHEevents(f)"
   ]
  },
  {
   "cell_type": "code",
   "execution_count": 9,
   "metadata": {},
   "outputs": [
    {
     "name": "stdout",
     "output_type": "stream",
     "text": [
      "#--------------------------------------------------------------------------\n",
      "#                         FastJet release 3.4.1\n",
      "#                 M. Cacciari, G.P. Salam and G. Soyez                  \n",
      "#     A software package for jet finding and analysis at colliders      \n",
      "#                           http://fastjet.fr                           \n",
      "#\t                                                                      \n",
      "# Please cite EPJC72(2012)1896 [arXiv:1111.6097] if you use this package\n",
      "# for scientific work and optionally PLB641(2006)57 [hep-ph/0512210].   \n",
      "#                                                                       \n",
      "# FastJet is provided without warranty under the GNU GPL v2 or higher.  \n",
      "# It uses T. Chan's closest pair algorithm, S. Fortune's Voronoi code,\n",
      "# CGAL and 3rd party plugin jet algorithms. See COPYING file for details.\n",
      "#--------------------------------------------------------------------------\n"
     ]
    }
   ],
   "source": [
    "d =  getDistributions(f)\n",
    "dATLAS = getATLASdistributions(f)"
   ]
  },
  {
   "cell_type": "code",
   "execution_count": 12,
   "metadata": {},
   "outputs": [],
   "source": [
    "# Randomly choose of the momenta to use\n",
    "d['pT'] = []\n",
    "for i,pt1 in enumerate(d['pT1']):\n",
    "    pt2 =d['pT2'][i]\n",
    "    d['pT'].append(random.choice([pt1,pt2]))\n",
    "d['pT'] = np.array(d['pT'])\n",
    "        "
   ]
  },
  {
   "cell_type": "code",
   "execution_count": 43,
   "metadata": {},
   "outputs": [],
   "source": [
    "for key,val in d.items():\n",
    "    d[key] = np.array(val)\n",
    "for key,val in dATLAS.items():\n",
    "    dATLAS[key] = np.array(val)    "
   ]
  },
  {
   "cell_type": "code",
   "execution_count": 32,
   "metadata": {},
   "outputs": [
    {
     "data": {
      "image/png": "[encoded data removed]",
      "text/plain": [
       "<Figure size 640x480 with 1 Axes>"
      ]
     },
     "metadata": {},
     "output_type": "display_data"
    }
   ],
   "source": [
    "atlas_bins = np.array([355.0,381.0,420.0,478.0,549.0,633.0,720.0,836.0,2000.0])\n",
    "plt.hist(d['pT'],weights=d['weights'],bins=atlas_bins,label='no cuts',histtype='step')\n",
    "plt.hist(dATLAS['pTh'],weights=dATLAS['weights'],bins=atlas_bins,label='cuts',histtype='step',linestyle='dashed')\n",
    "plt.yscale('log')\n",
    "plt.legend()\n",
    "plt.show()"
   ]
  },
  {
   "cell_type": "code",
   "execution_count": 44,
   "metadata": {},
   "outputs": [
    {
     "data": {
      "image/png": "[encoded data removed]",
      "text/plain": [
       "<Figure size 640x480 with 1 Axes>"
      ]
     },
     "metadata": {},
     "output_type": "display_data"
    }
   ],
   "source": [
    "atlas_bins = np.array([355.0,381.0,420.0,478.0,549.0,633.0,720.0,836.0,2000.0])\n",
    "plt.hist(d['pT'][np.where(d['weights']>0)],weights=d['weights'][np.where(d['weights']>0)],bins=atlas_bins,label='no cuts ($+$)',histtype='step')\n",
    "plt.hist(d['pT'][np.where(d['weights']<0)],weights=-d['weights'][np.where(d['weights']<0)],bins=atlas_bins,label='no cuts ($-$)',histtype='step')\n",
    "plt.hist(dATLAS['pTh'][np.where(dATLAS['weights']>0)],weights=dATLAS['weights'][np.where(dATLAS['weights']>0)[0]],bins=atlas_bins,label='cuts ($+$)',histtype='step')\n",
    "plt.hist(dATLAS['pTh'][np.where(dATLAS['weights']<0)],weights=-dATLAS['weights'][np.where(dATLAS['weights']<0)[0]],bins=atlas_bins,label='cuts ($-$)',histtype='step')\n",
    "\n",
    "plt.yscale('log')\n",
    "plt.legend()\n",
    "plt.show()"
   ]
  },
  {
   "cell_type": "code",
   "execution_count": 46,
   "metadata": {},
   "outputs": [
    {
     "data": {
      "image/png": "[encoded data removed]",
      "text/plain": [
       "<Figure size 640x480 with 1 Axes>"
      ]
     },
     "metadata": {},
     "output_type": "display_data"
    }
   ],
   "source": [
    "bins = np.arange(200.,2000.,50.)\n",
    "plt.hist(d['mTT'][np.where(d['weights']>0)],weights=d['weights'][np.where(d['weights']>0)],bins=bins,label='no cuts ($+$)',histtype='step')\n",
    "plt.hist(d['mTT'][np.where(d['weights']<0)],weights=-d['weights'][np.where(d['weights']<0)],bins=bins,label='no cuts ($-$)',histtype='step')\n",
    "plt.hist(dATLAS['mTT'][np.where(dATLAS['weights']>0)],weights=dATLAS['weights'][np.where(dATLAS['weights']>0)[0]],bins=bins,label='cuts ($+$)',histtype='step')\n",
    "plt.hist(dATLAS['mTT'][np.where(dATLAS['weights']<0)],weights=-dATLAS['weights'][np.where(dATLAS['weights']<0)[0]],bins=bins,label='cuts ($-$)',histtype='step')\n",
    "\n",
    "plt.yscale('log')\n",
    "plt.legend()\n",
    "plt.show()"
   ]
  },
  {
   "cell_type": "code",
   "execution_count": 47,
   "metadata": {},
   "outputs": [
    {
     "data": {
      "image/png": "[encoded data removed]",
      "text/plain": [
       "<Figure size 640x480 with 1 Axes>"
      ]
     },
     "metadata": {},
     "output_type": "display_data"
    }
   ],
   "source": [
    "bins = np.arange(200.,2000.,50.)\n",
    "plt.hist(d['mTT'],weights=d['weights'],bins=bins,label='no cuts',histtype='step')\n",
    "plt.hist(dATLAS['mTT'],weights=dATLAS['weights'],bins=bins,label='cuts',histtype='step')\n",
    "\n",
    "plt.yscale('log')\n",
    "plt.legend()\n",
    "plt.show()"
   ]
  },
  {
   "cell_type": "code",
   "execution_count": null,
   "metadata": {},
   "outputs": [],
   "source": [
    "# Add information to particles:\n",
    "event = ev\n",
    "for ptc in event.particles:\n",
    "    ptc.daughters = []\n",
    "    ptc.PID = int(ptc.id)\n",
    "    p = np.sqrt(ptc.px**2 + ptc.py**2 + ptc.pz**2)\n",
    "    ptc.PT = np.sqrt(ptc.px**2 + ptc.py**2)\n",
    "    if not ptc.PT: # Only for incoming partons\n",
    "        ptc.Eta = None\n",
    "        ptc.Phi = None\n",
    "    else:\n",
    "        ptc.Eta = (1./2.)*np.log((p+ptc.pz)/(p-ptc.pz))        \n",
    "        ptc.Phi = np.arctan2(ptc.py,ptc.px)\n",
    "    ptc.Px = ptc.px\n",
    "    ptc.Py = ptc.py\n",
    "    ptc.Pz = ptc.pz\n",
    "    ptc.E = ptc.e\n",
    "    \n",
    "for ptc in event.particles:\n",
    "    for mom in ptc.mothers():\n",
    "        mom.daughters.append(ptc)\n",
    "\n",
    "# Get tops and their final decays:\n",
    "tops = {}\n",
    "topDecays = {}\n",
    "for ptc in event.particles:        \n",
    "    if abs(ptc.PID) == 6:\n",
    "        tops[ptc.PID] = ptc # Store only the last top/anti-top            \n",
    "        daughters = {d.PID : d for d in ptc.daughters}\n",
    "        hasDaughters = [pid for pid,d in daughters.items() if d.daughters]\n",
    "        while len(hasDaughters) > 0:\n",
    "            for pid in hasDaughters:\n",
    "                d = daughters.pop(pid)\n",
    "                for dd in d.daughters:\n",
    "                    daughters[dd.PID] = dd\n",
    "            hasDaughters = [pid for pid,d in daughters.items() if d.daughters]\n",
    "        topDecays[ptc.PID] = list(daughters.values())\n",
    "\n",
    "# Select events with one lepton and one hadronic top:\n",
    "topH = None\n",
    "topLep = None\n",
    "for topPID,daughters in topDecays.items():        \n",
    "    dPIDs =  [abs(ptc.PID) for ptc in daughters]\n",
    "    if len(dPIDs) != 3:\n",
    "        error = True\n",
    "        print('Error getting daughters:',dPIDs)\n",
    "        break\n",
    "    if not 5 in dPIDs:\n",
    "        continue # Skip rare decays to W+c\n",
    "    if (11 in dPIDs) or (13 in dPIDs):\n",
    "        topLep = topPID\n",
    "    elif max(dPIDs) <= 5:\n",
    "        topH = topPID        "
   ]
  },
  {
   "cell_type": "code",
   "execution_count": null,
   "metadata": {},
   "outputs": [],
   "source": [
    "for ptc in event.particles:\n",
    "    print(ptc.PID)\n",
    "print(topH,topLep)"
   ]
  },
  {
   "cell_type": "code",
   "execution_count": null,
   "metadata": {},
   "outputs": [],
   "source": [
    "print(event.particles[2].id)\n",
    "p1 = np.array([event.particles[2].px,event.particles[2].py,event.particles[2].pz,event.particles[2].e])\n",
    "print(event.particles[7].id)\n",
    "p2 = np.array([event.particles[7].px,event.particles[7].py,event.particles[7].pz,event.particles[7].e])\n",
    "print('mTT=',np.sqrt((p1[-1]+p2[-1])**2-np.linalg.norm(p1[0:3]+p2[0:3])**2))\n",
    "print(event.eventinfo.weight)"
   ]
  },
  {
   "cell_type": "code",
   "execution_count": null,
   "metadata": {},
   "outputs": [],
   "source": [
    "\n",
    "distsATLAS = {f : getATLASdistributions(f) for f in selectedFiles}\n",
    "dists = {f : getDistributions(f) for f in selectedFiles}\n"
   ]
  },
  {
   "cell_type": "code",
   "execution_count": null,
   "metadata": {},
   "outputs": [],
   "source": [
    "# Randomly choose of the momenta to use\n",
    "for f in dists:\n",
    "    dists[f]['pT'] = []\n",
    "    for i,pt1 in enumerate(dists[f]['pT1']):\n",
    "        pt2 = dists[f]['pT2'][i]\n",
    "        dists[f]['pT'].append(random.choice([pt1,pt2]))\n",
    "    dists[f]['pT'] = np.array(dists[f]['pT'])\n",
    "        "
   ]
  },
  {
   "cell_type": "code",
   "execution_count": null,
   "metadata": {},
   "outputs": [],
   "source": [
    "bins = np.array([355.0,381.0,420.0,478.0,549.0,633.0,720.0,836.0,2000.0])\n",
    "plt.figure(figsize=(10,6))\n",
    "for f,res in dists.items():\n",
    "    process = fileData[f]['process']\n",
    "    model = fileData[f]['model']\n",
    "    if 'SM' in model:\n",
    "        continue\n",
    "    # print(pTdists[f])\n",
    "    label = r'%s (%s)' %(process,model)\n",
    "    # print(label,'total weight=',sum(res['weights']),'weight (cuts) = ',sum(distsATLAS[f]['weights']))\n",
    "    # print(distsATLAS[f]['weights'].max(),distsATLAS[f]['weights'].min())\n",
    "    # print(res['weights'].max(),res['weights'].min())\n",
    "    # print('\\n')\n",
    "    plt.hist(distsATLAS[f]['pTh'],weights=distsATLAS[f]['weights'],bins=bins,label=label+' - cuts',histtype='step',linewidth=2)\n",
    "    plt.hist(res['pT'],weights=res['weights'],bins=bins,label=label,histtype='step',linewidth=2)\n",
    "plt.legend()\n",
    "plt.yscale('log')\n",
    "plt.tight_layout()"
   ]
  },
  {
   "cell_type": "code",
   "execution_count": null,
   "metadata": {},
   "outputs": [],
   "source": [
    "bins = np.arange(500.,1500.,10.0)\n",
    "plt.figure(figsize=(10,6))\n",
    "for f,res in dists.items():\n",
    "    process = fileData[f]['process']\n",
    "    model = fileData[f]['model']\n",
    "    if 'SM' in model:\n",
    "        continue\n",
    "    # print(pTdists[f])\n",
    "    label = r'%s (%s)' %(process,model)\n",
    "    # print(label,'total weight=',sum(res['weights']),'weight (cuts) = ',sum(distsATLAS[f]['weights']))\n",
    "    # print(distsATLAS[f]['weights'].max(),distsATLAS[f]['weights'].min())\n",
    "    # print(res['weights'].max(),res['weights'].min())\n",
    "    # print('\\n')\n",
    "    plt.hist(distsATLAS[f]['mTT'],weights=distsATLAS[f]['weights'],bins=bins,label=label+' - cuts',histtype='step',linewidth=2)\n",
    "    plt.hist(res['mTT'],weights=res['weights'],bins=bins,label=label,histtype='step',linewidth=2)\n",
    "plt.legend(loc=(1.1,0.6))\n",
    "plt.yscale('log')\n",
    "plt.tight_layout()"
   ]
  },
  {
   "cell_type": "code",
   "execution_count": null,
   "metadata": {},
   "outputs": [],
   "source": [
    "for f,res in dists.items():    \n",
    "    print('\\n %s : %s' %(fileData[f]['model'],fileData[f]['process']))\n",
    "    print('total xsec    = ',sum(res['weights']))\n",
    "    print('MC events     = ',res['nevents'])"
   ]
  },
  {
   "cell_type": "code",
   "execution_count": null,
   "metadata": {},
   "outputs": [],
   "source": [
    "# Define colors\n",
    "colors = {f : sns.color_palette('Paired')[i+1] for i,f in enumerate(dists.keys())}"
   ]
  },
  {
   "cell_type": "code",
   "execution_count": null,
   "metadata": {},
   "outputs": [],
   "source": [
    "# Define scale factor (new yDM value)\n",
    "kscales = {f : 2.0 for f in smFiles} # The factor of 2 is to account for the 2 possible ttbar decays: (t -> jj, tbar->l nu) + (t -> l nu, tbar->jj)\n",
    "yDM = 5.0\n",
    "kscales.update({f : 2.0*(yDM/fileData[f]['(mST,mChi,mT,yDM)'][-1])**2 for f in bsmFiles})"
   ]
  },
  {
   "cell_type": "code",
   "execution_count": null,
   "metadata": {},
   "outputs": [],
   "source": [
    "_, axarr = plt.subplots(2,sharex=True, gridspec_kw = {'height_ratios':[2, 1]},figsize=(8,8))\n",
    "plt.subplots_adjust(left=0.12, bottom=0.12, right=0.97, top=None, wspace=None, hspace=0.1)\n",
    "bins = np.arange(500.,2200.,50.)\n",
    "\n",
    "labels = []\n",
    "pmodels = []\n",
    "hists = []\n",
    "histsErr = []\n",
    "c = []\n",
    "ks = []\n",
    "for f in dists:\n",
    "    process = fileData[f]['process']\n",
    "    model = fileData[f]['model']\n",
    "    mST,mChi,mT,_ = fileData[f]['(mST,mChi,mT,yDM)']\n",
    "    \n",
    "    kscale = kscales[f]\n",
    "    pmodels.append(r'%s (%s)' %(process,model))\n",
    "    label = pmodels[-1]\n",
    "    labels.append(label)\n",
    "    c.append(colors[f])\n",
    "    ks.append(kscale)\n",
    "    h,_ = np.histogram(dists[f]['mTT'],bins=bins,weights=kscale*dists[f]['weights'])\n",
    "    hists.append(h)\n",
    "    #Compute MC error\n",
    "    hErr,_ = np.histogram(dists[f]['mTT'],bins=bins,weights=(kscale*dists[f]['weights'])**2)\n",
    "    hErr = np.sqrt(hErr)    \n",
    "    histsErr.append(hErr)\n",
    "    \n",
    "\n",
    "histsSM = [h for i,h in enumerate(hists) if 'SM' in labels[i]]    \n",
    "histsErrSM = [h for i,h in enumerate(histsErr) if 'SM' in labels[i]]\n",
    "labelsSM = [l for i,l in enumerate(labels) if 'SM' in labels[i]]    \n",
    "cSM =  [cc for i,cc in enumerate(c) if 'SM' in labels[i]]    \n",
    "axarr[0].hist([bins[:-1]]*len(histsSM),label=labelsSM,bins=bins,\n",
    "                          weights=histsSM,alpha=0.3,density=True,\n",
    "                          linewidth=0,color=cSM,stacked=True)\n",
    "\n",
    "hSM = sum([hh for hh in histsSM[:]])\n",
    "hErrSM = np.sqrt(sum([hh**2 for hh in histsErrSM[:]]))\n",
    "labelsTrack = []\n",
    "for i,h in enumerate(hists):\n",
    "    if 'SM' in labels[i]:\n",
    "        continue    \n",
    "    axarr[0].hist(bins[:-1],weights=np.abs(h),label=labels[i],bins=bins,\n",
    "                  color=c[i],alpha=1.0,histtype='step',density=True,\n",
    "                  linewidth=3,fill=False,zorder=i,linestyle='solid')\n",
    "\n",
    "\n",
    "    # Compute ratio (keeping negative and positive values)\n",
    "    ratio = np.divide(h, hSM, out=np.zeros_like(h),where=hSM != 0)\n",
    "    # Remove zero values\n",
    "    nonzero = np.where((np.sign(ratio) != 0))\n",
    "    x = (bins[:-1]+bins[1:])/2.0\n",
    "    y = ratio\n",
    "    axarr[1].plot(x,y,linewidth=3.0,linestyle='solid', \n",
    "                          label=label,c=c[i])\n",
    "    # Split curves into positive and negative segments\n",
    "    # xy = np.array(list(zip(x,y)))    \n",
    "    # for xySplit in np.split(xy,np.where(y[:-1]/y[1:]<0)[0]+1):\n",
    "    #     if xySplit[0,1] < 0: # negative values\n",
    "    #         ls = 'dashed'\n",
    "    #         # label = pmodels[i]+r' ($<0$)'\n",
    "    #         label = None\n",
    "    #     else:\n",
    "    #         ls = 'solid'\n",
    "    #         # label = pmodels[i]+r' ($>0$)'\n",
    "    #         label = None\n",
    "            \n",
    "    #     if label not in labelsTrack:\n",
    "    #         labelsTrack.append(label)\n",
    "    #     else:\n",
    "    #         label = None\n",
    "    #     axarr[1].plot(xySplit[:,0],np.abs(xySplit[:,1]),linewidth=3.0,linestyle=ls, \n",
    "    #                       label=label,c=c[i])\n",
    "\n",
    "hEFT = sum([hh for i,hh in enumerate(hists) if 'EFT' in labels[i]])\n",
    "hLoop = sum([hh for i,hh in enumerate(hists) if 'loop' in labels[i]])\n",
    "ratioEFT = np.divide(hEFT, hSM, out=np.zeros_like(h),where=hSM != 0)\n",
    "ratioLoop = np.divide(hLoop, hSM, out=np.zeros_like(h),where=hSM != 0)\n",
    "# Total curve\n",
    "# axarr[1].plot(bins[:-1],ratioEFT,linewidth=3.0,linestyle='solid',alpha=0.5,\n",
    "                        #   label=label,c='gray')\n",
    "# axarr[1].plot(bins[:-1],ratioLoop,linewidth=3.0,linestyle='solid', \n",
    "                        #   label=label,c='gray')\n",
    "\n",
    "\n",
    "axarr[1].plot([],[],label=r'$\\mathrm{Re}(\\mathcal{M}_{\\rm SM}^* \\mathcal{M}_{\\rm BSM}) > 0$',linewidth=3.0,linestyle='solid',c='black')\n",
    "axarr[1].plot([],[],label=r'$\\mathrm{Re}(\\mathcal{M}_{\\rm SM}^* \\mathcal{M}_{\\rm BSM}) < 0$',linewidth=3.0,linestyle='dashed',c='black')\n",
    "\n",
    "    \n",
    "axarr[0].set_yscale('log')\n",
    "# axarr[0].set_ylim(1e-4,500)\n",
    "# axarr[0].set_xticks(np.arange(0.,bins.max(),500))\n",
    "axarr[0].set_xlim(bins.min(),bins.max())\n",
    "axarr[1].set_xlabel(r'$m(t\\bar{t})$ (GeV)')\n",
    "axarr[0].set_ylabel(r'$|\\frac{1}{\\sigma}\\frac{d \\sigma}{d m(t\\bar{t})}|$')\n",
    "axarr[1].set_ylabel(r'$N_{BSM}/N_{SM}$')\n",
    "axarr[1].set_ylim(-0.01,0.01)\n",
    "# axarr[1].set_yscale('log')\n",
    "# axarr[0].grid()\n",
    "axarr[1].grid()\n",
    "\n",
    "\n",
    "axarr[0].legend(framealpha=1.0,loc='upper right')\n",
    "# axarr[1].legend(framealpha=1.0,loc='upper left')\n",
    "axarr[0].set_title(r'$m_{T} = %1.0f$ GeV, $m_{\\chi} = %1.0f$ GeV, $y_{DM} = $%1.1f' %(mST,mChi,yDM),\n",
    "                   loc='left')\n",
    "plt.savefig('mtt_mST%i_mChi%i_yDM_%i.png' %(int(mST),int(mChi),int(yDM)))\n",
    "plt.show()"
   ]
  },
  {
   "cell_type": "code",
   "execution_count": null,
   "metadata": {},
   "outputs": [],
   "source": [
    "_, axarr = plt.subplots(2,sharex=True, gridspec_kw = {'height_ratios':[2, 1]},figsize=(8,8))\n",
    "plt.subplots_adjust(left=0.12, bottom=0.12, right=0.97, top=None, wspace=None, hspace=0.1)\n",
    "bins = np.arange(500.,2200.,100.)\n",
    "bins = np.array([ 355.,  381.,  420.,  478.,  549.,  633.,  720.,  836., 2000.])\n",
    "\n",
    "labels = []\n",
    "pmodels = []\n",
    "hists = []\n",
    "histsErr = []\n",
    "c = []\n",
    "ks = []\n",
    "for f in dists:\n",
    "    process = fileData[f]['process']\n",
    "    model = fileData[f]['model']\n",
    "    mST,mChi,mT,_ = fileData[f]['(mST,mChi,mT,yDM)']\n",
    "    \n",
    "    kscale = kscales[f]\n",
    "    pmodels.append(r'%s (%s)' %(process,model))\n",
    "    label = pmodels[-1]\n",
    "    labels.append(label)\n",
    "    c.append(colors[f])\n",
    "    ks.append(kscale)\n",
    "    h,_ = np.histogram(dists[f]['pT'],bins=bins,weights=kscale*dists[f]['weights'])\n",
    "    hists.append(h)\n",
    "    #Compute MC error\n",
    "    hErr,_ = np.histogram(dists[f]['pT'],bins=bins,weights=(kscale*dists[f]['weights'])**2)\n",
    "    hErr = np.sqrt(hErr)    \n",
    "    histsErr.append(hErr)\n",
    "    \n",
    "\n",
    "histsSM = [h for i,h in enumerate(hists) if 'SM' in labels[i]]    \n",
    "histsErrSM = [h for i,h in enumerate(histsErr) if 'SM' in labels[i]]\n",
    "labelsSM = [l for i,l in enumerate(labels) if 'SM' in labels[i]]    \n",
    "cSM =  [cc for i,cc in enumerate(c) if 'SM' in labels[i]]    \n",
    "axarr[0].hist([bins[:-1]]*len(histsSM),label=labelsSM,bins=bins,\n",
    "                          weights=histsSM,alpha=0.3,density=True,\n",
    "                          linewidth=0,color=cSM,stacked=True)\n",
    "\n",
    "hSM = sum([hh for hh in histsSM[:]])\n",
    "hErrSM = np.sqrt(sum([hh**2 for hh in histsErrSM[:]]))\n",
    "labelsTrack = []\n",
    "for i,h in enumerate(hists):\n",
    "    if 'SM' in labels[i]:\n",
    "        continue    \n",
    "    axarr[0].hist(bins[:-1],weights=np.abs(h),label=labels[i],bins=bins,\n",
    "                  color=c[i],alpha=1.0,histtype='step',density=True,\n",
    "                  linewidth=3,fill=False,zorder=i,linestyle='solid')\n",
    "\n",
    "\n",
    "    # Compute ratio (keeping negative and positive values)\n",
    "    ratio = np.divide(h, hSM, out=np.zeros_like(h),where=hSM != 0)\n",
    "    x = (bins[:-1]+bins[1:])/2.0\n",
    "    y = ratio  \n",
    "    axarr[1].plot(x,y,linewidth=3.0,linestyle='solid', \n",
    "                          label=label,c=c[i])\n",
    "    # Split curves into positive and negative segments\n",
    "    # xy = np.array(list(zip(x,y)))    \n",
    "    # for xySplit in np.split(xy,np.where(y[:-1]/y[1:]<0)[0]+1):\n",
    "    #     if xySplit[0,1] < 0: # negative values\n",
    "    #         ls = 'dashed'\n",
    "    #         # label = pmodels[i]+r' ($<0$)'\n",
    "    #         label = None\n",
    "    #     else:\n",
    "    #         ls = 'solid'\n",
    "    #         # label = pmodels[i]+r' ($>0$)'\n",
    "    #         label = None\n",
    "            \n",
    "    #     if label not in labelsTrack:\n",
    "    #         labelsTrack.append(label)\n",
    "    #     else:\n",
    "    #         label = None\n",
    "    #     axarr[1].plot(xySplit[:,0],np.abs(xySplit[:,1]),linewidth=3.0,linestyle=ls, \n",
    "    #                       label=label,c=c[i])\n",
    "\n",
    "hEFT = sum([hh for i,hh in enumerate(hists) if 'EFT' in labels[i]])\n",
    "hLoop = sum([hh for i,hh in enumerate(hists) if 'loop' in labels[i]])\n",
    "ratioEFT = np.divide(hEFT, hSM, out=np.zeros_like(h),where=hSM != 0)\n",
    "ratioLoop = np.divide(hLoop, hSM, out=np.zeros_like(h),where=hSM != 0)\n",
    "# Total curve\n",
    "# axarr[1].plot(bins[:-1],ratioEFT,linewidth=3.0,linestyle='solid',alpha=0.5,\n",
    "                        #   label=label,c='gray')\n",
    "# axarr[1].plot(bins[:-1],ratioLoop,linewidth=3.0,linestyle='solid', \n",
    "                        #   label=label,c='gray')\n",
    "\n",
    "\n",
    "axarr[1].plot([],[],label=r'$\\mathrm{Re}(\\mathcal{M}_{\\rm SM}^* \\mathcal{M}_{\\rm BSM}) > 0$',linewidth=3.0,linestyle='solid',c='black')\n",
    "axarr[1].plot([],[],label=r'$\\mathrm{Re}(\\mathcal{M}_{\\rm SM}^* \\mathcal{M}_{\\rm BSM}) < 0$',linewidth=3.0,linestyle='dashed',c='black')\n",
    "\n",
    "    \n",
    "axarr[0].set_yscale('log')\n",
    "# axarr[0].set_ylim(1e-4,500)\n",
    "# axarr[0].set_xticks(np.arange(0.,bins.max(),500))\n",
    "axarr[0].set_xlim(bins.min(),bins.max())\n",
    "axarr[1].set_xlabel(r'$p_T(t)$ (GeV)')\n",
    "axarr[0].set_ylabel(r'$|\\frac{1}{\\sigma}\\frac{d \\sigma}{d m(t\\bar{t})}|$')\n",
    "axarr[1].set_ylabel(r'$N_{BSM}/N_{SM}$')\n",
    "# axarr[1].set_ylim(-0.005,0.002)\n",
    "# axarr[1].set_yscale('log')\n",
    "# axarr[0].grid()\n",
    "axarr[1].grid()\n",
    "\n",
    "\n",
    "axarr[0].legend(framealpha=1.0,loc='upper right')\n",
    "# axarr[1].legend(framealpha=1.0,loc='upper left')\n",
    "axarr[0].set_title(r'$m_{T} = %1.0f$ GeV, $m_{\\chi} = %1.0f$ GeV, $y_{DM} = $%1.1f' %(mST,mChi,yDM),\n",
    "                   loc='left')\n",
    "plt.savefig('pTt_mST%i_mChi%i_yDM_%i.png' %(int(mST),int(mChi),int(yDM)))\n",
    "plt.show()"
   ]
  },
  {
   "cell_type": "code",
   "execution_count": null,
   "metadata": {},
   "outputs": [],
   "source": []
  }
 ],
 "metadata": {
  "kernelspec": {
   "display_name": "Python 3 (ipykernel)",
   "language": "python",
   "name": "python3"
  },
  "language_info": {
   "codemirror_mode": {
    "name": "ipython",
    "version": 3
   },
   "file_extension": ".py",
   "mimetype": "text/x-python",
   "name": "python",
   "nbconvert_exporter": "python",
   "pygments_lexer": "ipython3",
   "version": "3.10.12"
  }
 },
 "nbformat": 4,
 "nbformat_minor": 2
}
