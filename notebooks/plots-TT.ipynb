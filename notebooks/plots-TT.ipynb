{
 "cells": [
  {
   "cell_type": "markdown",
   "metadata": {},
   "source": [
    "# Plot"
   ]
  },
  {
   "cell_type": "code",
   "execution_count": 1,
   "metadata": {},
   "outputs": [],
   "source": [
    "import warnings\n",
    "warnings.filterwarnings(\"ignore\", message=\"numpy.dtype size changed\")\n",
    "import numpy as np\n",
    "import pandas as pd\n",
    "import glob,os,shutil\n",
    "from pandas.io.json import json_normalize\n",
    "import pyslha\n",
    "import matplotlib as mpl\n",
    "import matplotlib.pyplot as plt\n",
    "from matplotlib.colors import LogNorm\n",
    "from collections import OrderedDict\n",
    "import seaborn as sns\n",
    "from scipy.interpolate import interp1d\n",
    "from IPython.display import display, Markdown\n",
    "import pylhe, gzip, tempfile\n",
    "\n",
    "pd.option_context('display.max_columns', -1)\n",
    "\n",
    "pd.options.mode.chained_assignment = None #Disable copy warnings\n",
    "# plt.style.use('fivethirtyeight') #Set style\n",
    "# mpl.rcParams.update({'figure.figsize' : (15,10)})  #Set general plotting options\n",
    "plt.rcParams.update({\n",
    "    \"text.usetex\": True,\n",
    "    \"font.family\": \"sans-serif\",\n",
    "    \"font.sans-serif\": [\"Helvetica\"]})\n",
    "\n",
    "plt.rcParams.update({\"savefig.dpi\" : 300}) #Figure resolution\n",
    "\n",
    "\n",
    "#Define plotting style:\n",
    "sns.set() #Set style\n",
    "sns.set_style('ticks',{'font.family':'Times New Roman', 'font.serif':'Times New Roman'})\n",
    "sns.set_context('paper', font_scale=1.8)\n",
    "cm = plt.cm.get_cmap('RdYlBu')"
   ]
  },
  {
   "cell_type": "code",
   "execution_count": 2,
   "metadata": {},
   "outputs": [],
   "source": [
    "files = {'SM': '../processFolders/pp2TT_sm/Events/run_01/events.lhe.gz', \n",
    "         'BSM' : '../processFolders/pp2TT_full/Events/run_02/events.lhe.gz',\n",
    "         'BSM-QCD' : '../processFolders/pp2TT_fullQCD/Events/run_01/events.lhe.gz'}"
   ]
  },
  {
   "cell_type": "code",
   "execution_count": 3,
   "metadata": {},
   "outputs": [],
   "source": [
    "# It is necessary to remove the < signs from the LHE files (in the generate line) before parsing with pylhe\n",
    "events = {}\n",
    "for label, fpath in files.items():\n",
    "    fixedFile = tempfile.mkstemp(suffix='.lhe')\n",
    "    os.close(fixedFile[0])\n",
    "    fixedFile = fixedFile[1]\n",
    "    with  gzip.open(fpath,'rt') as f:\n",
    "        data = f.readlines()\n",
    "        with open(fixedFile,'w') as newF:\n",
    "            for l in data:\n",
    "                if 'generate' in l:\n",
    "                    continue\n",
    "                newF.write(l)\n",
    "        files[label] = fixedFile\n",
    "    events[label] = pylhe.read_lhe(fixedFile)\n",
    "\n",
    "        "
   ]
  },
  {
   "cell_type": "code",
   "execution_count": 4,
   "metadata": {},
   "outputs": [],
   "source": [
    "mtt = {}\n",
    "for mod,r in events.items():\n",
    "    pT = []\n",
    "    mTT = []\n",
    "    for iev,ev in enumerate(r):\n",
    "        for ptc in ev.particles:\n",
    "            if abs(ptc.id) != 6: continue\n",
    "            if ptc.id == 6:\n",
    "                pA = np.array([ptc.px,ptc.py,ptc.pz,ptc.e])\n",
    "            else:\n",
    "                pB = np.array([ptc.px,ptc.py,ptc.pz,ptc.e])\n",
    "        pT.append(max(np.linalg.norm(pA[0:3]),np.linalg.norm(pB[0:3])))\n",
    "        mTT.append(np.sqrt((pA[-1]+pB[-1])**2-np.linalg.norm(pA[0:3]+pB[0:3])**2))\n",
    "    mtt[mod] = {'pT' : pT, 'mTT' : mTT}"
   ]
  },
  {
   "cell_type": "code",
   "execution_count": 16,
   "metadata": {},
   "outputs": [
    {
     "data": {
      "image/png": "[encoded data removed]",
      "text/plain": [
       "<Figure size 576x360 with 1 Axes>"
      ]
     },
     "metadata": {
      "needs_background": "light"
     },
     "output_type": "display_data"
    }
   ],
   "source": [
    "fig = plt.figure(figsize=(8,5))\n",
    "bins = np.linspace(0.,2000.,25)\n",
    "for mod in mtt:\n",
    "    plt.hist(mtt[mod]['mTT'],label=mod,bins=bins,\n",
    "             density=True,histtype='step',linewidth=2)\n",
    "# plt.yscale('log')\n",
    "plt.xlabel(r'$m_{t\\bar{t}}$ (GeV)')\n",
    "plt.ylabel('Normalized Events')\n",
    "plt.legend()\n",
    "plt.show()"
   ]
  },
  {
   "cell_type": "code",
   "execution_count": 15,
   "metadata": {},
   "outputs": [
    {
     "data": {
      "image/png": "[encoded data removed]",
      "text/plain": [
       "<Figure size 576x360 with 1 Axes>"
      ]
     },
     "metadata": {
      "needs_background": "light"
     },
     "output_type": "display_data"
    }
   ],
   "source": [
    "fig = plt.figure(figsize=(8,5))\n",
    "bins = np.linspace(0.,2000.,25)\n",
    "for mod in mtt:\n",
    "    plt.hist(mtt[mod]['pT'],label=mod,bins=bins,\n",
    "             density=True,histtype='step',linewidth=2)\n",
    "# plt.yscale('log')\n",
    "plt.xlabel(r'$p_T(t)$ (GeV)')\n",
    "plt.ylabel('Normalized Events')\n",
    "plt.legend()\n",
    "plt.show()"
   ]
  },
  {
   "cell_type": "code",
   "execution_count": null,
   "metadata": {},
   "outputs": [],
   "source": []
  }
 ],
 "metadata": {
  "kernelspec": {
   "display_name": "Python 3 (ipykernel)",
   "language": "python",
   "name": "python3"
  },
  "language_info": {
   "codemirror_mode": {
    "name": "ipython",
    "version": 3
   },
   "file_extension": ".py",
   "mimetype": "text/x-python",
   "name": "python",
   "nbconvert_exporter": "python",
   "pygments_lexer": "ipython3",
   "version": "3.10.6"
  }
 },
 "nbformat": 4,
 "nbformat_minor": 2
}
