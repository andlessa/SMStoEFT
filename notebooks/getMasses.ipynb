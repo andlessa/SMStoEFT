{
 "cells": [
  {
   "cell_type": "code",
   "execution_count": 1,
   "id": "f6d5f443",
   "metadata": {},
   "outputs": [],
   "source": [
    "import itertools\n",
    "import numpy as np"
   ]
  },
  {
   "cell_type": "code",
   "execution_count": 4,
   "id": "81d859d6",
   "metadata": {},
   "outputs": [],
   "source": [
    "deltaM = [10.0, 25.0, 50.0, 100.0, 200.0, 300.0, 400.0, 500.0]\n",
    "deltaM = [75.,150.,250.]\n",
    "mStop = [ 300.,  400.,  500.,  600.,  700.,  800.,  900., 1000., 1100.,1200., 1300., 1400., 1500., 2000., 2500., 3000.]\n",
    "pairs = set()\n",
    "for mST,dm in itertools.product(mStop,deltaM):\n",
    "    mChi = max(5.,mST-dm)\n",
    "    pairs.add((mChi,mST))"
   ]
  },
  {
   "cell_type": "code",
   "execution_count": 5,
   "id": "b2329728",
   "metadata": {},
   "outputs": [
    {
     "data": {
      "text/plain": [
       "48"
      ]
     },
     "execution_count": 5,
     "metadata": {},
     "output_type": "execute_result"
    }
   ],
   "source": [
    "len(pairs)"
   ]
  },
  {
   "cell_type": "code",
   "execution_count": 6,
   "id": "c7bdbd0a",
   "metadata": {},
   "outputs": [
    {
     "name": "stdout",
     "output_type": "stream",
     "text": [
      "[(50.0, 300.0), (150.0, 300.0), (150.0, 400.0), (225.0, 300.0), (250.0, 400.0), (250.0, 500.0), (325.0, 400.0), (350.0, 500.0), (350.0, 600.0), (425.0, 500.0), (450.0, 600.0), (450.0, 700.0), (525.0, 600.0), (550.0, 700.0), (550.0, 800.0), (625.0, 700.0), (650.0, 800.0), (650.0, 900.0), (725.0, 800.0), (750.0, 900.0), (750.0, 1000.0), (825.0, 900.0), (850.0, 1000.0), (850.0, 1100.0), (925.0, 1000.0), (950.0, 1100.0), (950.0, 1200.0), (1025.0, 1100.0), (1050.0, 1200.0), (1050.0, 1300.0), (1125.0, 1200.0), (1150.0, 1300.0), (1150.0, 1400.0), (1225.0, 1300.0), (1250.0, 1400.0), (1250.0, 1500.0), (1325.0, 1400.0), (1350.0, 1500.0), (1425.0, 1500.0), (1750.0, 2000.0), (1850.0, 2000.0), (1925.0, 2000.0), (2250.0, 2500.0), (2350.0, 2500.0), (2425.0, 2500.0), (2750.0, 3000.0), (2850.0, 3000.0), (2925.0, 3000.0)]\n"
     ]
    }
   ],
   "source": [
    "print(sorted(list(pairs)))"
   ]
  },
  {
   "cell_type": "code",
   "execution_count": null,
   "id": "78ee3462",
   "metadata": {},
   "outputs": [],
   "source": []
  }
 ],
 "metadata": {
  "kernelspec": {
   "display_name": "Python 3 (ipykernel)",
   "language": "python",
   "name": "python3"
  },
  "language_info": {
   "codemirror_mode": {
    "name": "ipython",
    "version": 3
   },
   "file_extension": ".py",
   "mimetype": "text/x-python",
   "name": "python",
   "nbconvert_exporter": "python",
   "pygments_lexer": "ipython3",
   "version": "3.10.12"
  }
 },
 "nbformat": 4,
 "nbformat_minor": 5
}
