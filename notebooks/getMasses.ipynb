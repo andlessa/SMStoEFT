{
 "cells": [
  {
   "cell_type": "code",
   "execution_count": 2,
   "id": "f6d5f443",
   "metadata": {},
   "outputs": [],
   "source": [
    "import itertools\n",
    "import numpy as np"
   ]
  },
  {
   "cell_type": "code",
   "execution_count": 3,
   "id": "81d859d6",
   "metadata": {},
   "outputs": [],
   "source": [
    "deltaM = [10.0, 25.0, 50.0, 100.0, 200.0, 300.0, 400.0, 500.0]\n",
    "deltaM = [75.,150.,250.]\n",
    "deltaM = [350.,450.,550.]\n",
    "mStop = [ 300.,  400.,  500.,  600.,  700.,  800.,  900., 1000., 1100.,1200., 1300., 1400., 1500., 2000., 2500., 3000.]\n",
    "pairs = set()\n",
    "for mST,dm in itertools.product(mStop,deltaM):\n",
    "    mChi = max(5.,mST-dm)\n",
    "    pairs.add((mChi,mST))"
   ]
  },
  {
   "cell_type": "code",
   "execution_count": 4,
   "id": "b2329728",
   "metadata": {},
   "outputs": [
    {
     "data": {
      "text/plain": [
       "45"
      ]
     },
     "execution_count": 4,
     "metadata": {},
     "output_type": "execute_result"
    }
   ],
   "source": [
    "len(pairs)"
   ]
  },
  {
   "cell_type": "code",
   "execution_count": 6,
   "id": "c7bdbd0a",
   "metadata": {},
   "outputs": [
    {
     "name": "stdout",
     "output_type": "stream",
     "text": [
      "[(50.0, 400.0), (50.0, 500.0), (50.0, 600.0), (150.0, 500.0), (150.0, 600.0), (150.0, 700.0), (250.0, 600.0), (250.0, 700.0), (250.0, 800.0), (350.0, 700.0), (350.0, 800.0), (350.0, 900.0), (450.0, 800.0), (450.0, 900.0), (450.0, 1000.0), (550.0, 900.0), (550.0, 1000.0), (550.0, 1100.0), (650.0, 1000.0), (650.0, 1100.0), (650.0, 1200.0), (750.0, 1100.0), (750.0, 1200.0), (750.0, 1300.0), (850.0, 1200.0), (850.0, 1300.0), (850.0, 1400.0), (950.0, 1300.0), (950.0, 1400.0), (950.0, 1500.0), (1050.0, 1400.0), (1050.0, 1500.0), (1150.0, 1500.0), (1450.0, 2000.0), (1550.0, 2000.0), (1650.0, 2000.0), (1950.0, 2500.0), (2050.0, 2500.0), (2150.0, 2500.0), (2450.0, 3000.0), (2550.0, 3000.0), (2650.0, 3000.0)]\n"
     ]
    }
   ],
   "source": [
    "print(sorted(list(pairs))[3:])"
   ]
  },
  {
   "cell_type": "code",
   "execution_count": null,
   "id": "78ee3462",
   "metadata": {},
   "outputs": [],
   "source": []
  }
 ],
 "metadata": {
  "kernelspec": {
   "display_name": "Python 3 (ipykernel)",
   "language": "python",
   "name": "python3"
  },
  "language_info": {
   "codemirror_mode": {
    "name": "ipython",
    "version": 3
   },
   "file_extension": ".py",
   "mimetype": "text/x-python",
   "name": "python",
   "nbconvert_exporter": "python",
   "pygments_lexer": "ipython3",
   "version": "3.10.12"
  }
 },
 "nbformat": 4,
 "nbformat_minor": 5
}
