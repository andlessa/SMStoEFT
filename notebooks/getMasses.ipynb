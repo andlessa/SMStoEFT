{
 "cells": [
  {
   "cell_type": "code",
   "execution_count": 1,
   "id": "f6d5f443",
   "metadata": {},
   "outputs": [],
   "source": [
    "import itertools\n",
    "import numpy as np"
   ]
  },
  {
   "cell_type": "code",
   "execution_count": 3,
   "id": "81d859d6",
   "metadata": {},
   "outputs": [],
   "source": [
    "deltaM = [10.,15.,20.,25.,50.,100.,150.,200.,250.,300.,350.,400.,500.]\n",
    "# mStop = [200.,250.,300.,350.,400.,500.]\n",
    "mStop = [450.,550.,600.,750.,800.,850.,900.,950.,1000.]\n",
    "mStop = [650.,700.]\n",
    "pairs = set()\n",
    "for mST,dm in itertools.product(mStop,deltaM):\n",
    "    mChi = max(5.,mST-dm)\n",
    "    pairs.add((mST,mChi))"
   ]
  },
  {
   "cell_type": "code",
   "execution_count": 4,
   "id": "b2329728",
   "metadata": {},
   "outputs": [
    {
     "data": {
      "text/plain": [
       "26"
      ]
     },
     "execution_count": 4,
     "metadata": {},
     "output_type": "execute_result"
    }
   ],
   "source": [
    "len(pairs)"
   ]
  },
  {
   "cell_type": "code",
   "execution_count": 5,
   "id": "c7bdbd0a",
   "metadata": {},
   "outputs": [
    {
     "name": "stdout",
     "output_type": "stream",
     "text": [
      "[(650.0, 150.0), (650.0, 250.0), (650.0, 300.0), (650.0, 350.0), (650.0, 400.0), (650.0, 450.0), (650.0, 500.0), (650.0, 550.0), (650.0, 600.0), (650.0, 625.0), (650.0, 630.0), (650.0, 635.0), (650.0, 640.0), (700.0, 200.0), (700.0, 300.0), (700.0, 350.0), (700.0, 400.0), (700.0, 450.0), (700.0, 500.0), (700.0, 550.0), (700.0, 600.0), (700.0, 650.0), (700.0, 675.0), (700.0, 680.0), (700.0, 685.0), (700.0, 690.0)]\n"
     ]
    }
   ],
   "source": [
    "print(sorted(list(pairs)))"
   ]
  },
  {
   "cell_type": "code",
   "execution_count": 5,
   "id": "6b8a021b",
   "metadata": {},
   "outputs": [],
   "source": [
    "mChi = [50.,75.,100.,125.,150.,175.,200.,300.,400.,500.]\n",
    "mStop = [1050.,1100.]\n",
    "pairs = set()\n",
    "for mST,mC in itertools.product(mStop,mChi):\n",
    "    pairs.add((mST,mC))"
   ]
  },
  {
   "cell_type": "code",
   "execution_count": 6,
   "id": "77f9f63b",
   "metadata": {},
   "outputs": [
    {
     "name": "stdout",
     "output_type": "stream",
     "text": [
      "[(1050.0, 50.0), (1050.0, 75.0), (1050.0, 100.0), (1050.0, 125.0), (1050.0, 150.0), (1050.0, 175.0), (1050.0, 200.0), (1050.0, 300.0), (1050.0, 400.0), (1050.0, 500.0), (1100.0, 50.0), (1100.0, 75.0), (1100.0, 100.0), (1100.0, 125.0), (1100.0, 150.0), (1100.0, 175.0), (1100.0, 200.0), (1100.0, 300.0), (1100.0, 400.0), (1100.0, 500.0)]\n"
     ]
    }
   ],
   "source": [
    "print(sorted(list(pairs)))"
   ]
  },
  {
   "cell_type": "code",
   "execution_count": 7,
   "id": "978cd243",
   "metadata": {},
   "outputs": [
    {
     "data": {
      "text/plain": [
       "20"
      ]
     },
     "execution_count": 7,
     "metadata": {},
     "output_type": "execute_result"
    }
   ],
   "source": [
    "len(pairs)"
   ]
  },
  {
   "cell_type": "code",
   "execution_count": null,
   "id": "3629c5a0",
   "metadata": {},
   "outputs": [],
   "source": []
  }
 ],
 "metadata": {
  "kernelspec": {
   "display_name": "Python 3 (ipykernel)",
   "language": "python",
   "name": "python3"
  },
  "language_info": {
   "codemirror_mode": {
    "name": "ipython",
    "version": 3
   },
   "file_extension": ".py",
   "mimetype": "text/x-python",
   "name": "python",
   "nbconvert_exporter": "python",
   "pygments_lexer": "ipython3",
   "version": "3.10.6"
  }
 },
 "nbformat": 4,
 "nbformat_minor": 5
}
