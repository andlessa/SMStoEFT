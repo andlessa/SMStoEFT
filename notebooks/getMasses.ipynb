{
 "cells": [
  {
   "cell_type": "code",
   "execution_count": 1,
   "id": "f6d5f443",
   "metadata": {},
   "outputs": [],
   "source": [
    "import itertools\n",
    "import numpy as np"
   ]
  },
  {
   "cell_type": "code",
   "execution_count": 2,
   "id": "81d859d6",
   "metadata": {},
   "outputs": [],
   "source": [
    "deltaM = [10.,25.,50.,100.,200.,300.,400.]\n",
    "deltaM = [100.]\n",
    "mStop = [700.,800.,1000.,1200.,1500.,2000.,2500.,3000.]\n",
    "pairs = set()\n",
    "for mST,dm in itertools.product(mStop,deltaM):\n",
    "    mChi = max(5.,mST-dm)\n",
    "    pairs.add((mST,mChi))"
   ]
  },
  {
   "cell_type": "code",
   "execution_count": 3,
   "id": "b2329728",
   "metadata": {},
   "outputs": [
    {
     "data": {
      "text/plain": [
       "8"
      ]
     },
     "execution_count": 3,
     "metadata": {},
     "output_type": "execute_result"
    }
   ],
   "source": [
    "len(pairs)"
   ]
  },
  {
   "cell_type": "code",
   "execution_count": 4,
   "id": "c7bdbd0a",
   "metadata": {},
   "outputs": [
    {
     "name": "stdout",
     "output_type": "stream",
     "text": [
      "[(700.0, 600.0), (800.0, 700.0), (1000.0, 900.0), (1200.0, 1100.0), (1500.0, 1400.0), (2000.0, 1900.0), (2500.0, 2400.0), (3000.0, 2900.0)]\n"
     ]
    }
   ],
   "source": [
    "print(sorted(list(pairs)))"
   ]
  },
  {
   "cell_type": "code",
   "execution_count": 5,
   "id": "6b8a021b",
   "metadata": {},
   "outputs": [],
   "source": [
    "mChi = [50.,75.,100.,125.,150.,175.,200.,300.,400.,500.]\n",
    "mStop = [1050.,1100.]\n",
    "pairs = set()\n",
    "for mST,mC in itertools.product(mStop,mChi):\n",
    "    pairs.add((mST,mC))"
   ]
  },
  {
   "cell_type": "code",
   "execution_count": 6,
   "id": "77f9f63b",
   "metadata": {},
   "outputs": [
    {
     "name": "stdout",
     "output_type": "stream",
     "text": [
      "[(1050.0, 50.0), (1050.0, 75.0), (1050.0, 100.0), (1050.0, 125.0), (1050.0, 150.0), (1050.0, 175.0), (1050.0, 200.0), (1050.0, 300.0), (1050.0, 400.0), (1050.0, 500.0), (1100.0, 50.0), (1100.0, 75.0), (1100.0, 100.0), (1100.0, 125.0), (1100.0, 150.0), (1100.0, 175.0), (1100.0, 200.0), (1100.0, 300.0), (1100.0, 400.0), (1100.0, 500.0)]\n"
     ]
    }
   ],
   "source": [
    "print(sorted(list(pairs)))"
   ]
  },
  {
   "cell_type": "code",
   "execution_count": 7,
   "id": "978cd243",
   "metadata": {},
   "outputs": [
    {
     "data": {
      "text/plain": [
       "20"
      ]
     },
     "execution_count": 7,
     "metadata": {},
     "output_type": "execute_result"
    }
   ],
   "source": [
    "len(pairs)"
   ]
  },
  {
   "cell_type": "code",
   "execution_count": null,
   "id": "3629c5a0",
   "metadata": {},
   "outputs": [],
   "source": [
    "mChi = [50.,75.,100.,125.,150.,175.,200.,300.,400.,500.]\n",
    "mStop = [1050.,1100.]\n",
    "pairs = set()\n",
    "for mST,mC in itertools.product(mStop,mChi):\n",
    "    pairs.add((mST,mC))"
   ]
  }
 ],
 "metadata": {
  "kernelspec": {
   "display_name": "Python 3 (ipykernel)",
   "language": "python",
   "name": "python3"
  },
  "language_info": {
   "codemirror_mode": {
    "name": "ipython",
    "version": 3
   },
   "file_extension": ".py",
   "mimetype": "text/x-python",
   "name": "python",
   "nbconvert_exporter": "python",
   "pygments_lexer": "ipython3",
   "version": "3.10.6"
  }
 },
 "nbformat": 4,
 "nbformat_minor": 5
}
