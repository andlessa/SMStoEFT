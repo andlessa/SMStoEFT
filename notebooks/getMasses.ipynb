{
 "cells": [
  {
   "cell_type": "code",
   "execution_count": 2,
   "id": "f6d5f443",
   "metadata": {},
   "outputs": [],
   "source": [
    "import itertools\n",
    "import numpy as np"
   ]
  },
  {
   "cell_type": "code",
   "execution_count": 8,
   "id": "81d859d6",
   "metadata": {},
   "outputs": [],
   "source": [
    "deltaM = [10.,25.,50.,100.,200.,300.,400.,500.]\n",
    "mStop = [400.,500.,600.,900.,1100.,1300.,1400.]\n",
    "pairs = set()\n",
    "for mST,dm in itertools.product(mStop,deltaM):\n",
    "    mChi = max(5.,mST-dm)\n",
    "    pairs.add((mChi,mST))"
   ]
  },
  {
   "cell_type": "code",
   "execution_count": 9,
   "id": "b2329728",
   "metadata": {},
   "outputs": [
    {
     "data": {
      "text/plain": [
       "55"
      ]
     },
     "execution_count": 9,
     "metadata": {},
     "output_type": "execute_result"
    }
   ],
   "source": [
    "len(pairs)"
   ]
  },
  {
   "cell_type": "code",
   "execution_count": 10,
   "id": "c7bdbd0a",
   "metadata": {},
   "outputs": [
    {
     "name": "stdout",
     "output_type": "stream",
     "text": [
      "[(5.0, 400.0), (5.0, 500.0), (100.0, 400.0), (100.0, 500.0), (100.0, 600.0), (200.0, 400.0), (200.0, 500.0), (200.0, 600.0), (300.0, 400.0), (300.0, 500.0), (300.0, 600.0), (350.0, 400.0), (375.0, 400.0), (390.0, 400.0), (400.0, 500.0), (400.0, 600.0), (400.0, 900.0), (450.0, 500.0), (475.0, 500.0), (490.0, 500.0), (500.0, 600.0), (500.0, 900.0), (550.0, 600.0), (575.0, 600.0), (590.0, 600.0), (600.0, 900.0), (600.0, 1100.0), (700.0, 900.0), (700.0, 1100.0), (800.0, 900.0), (800.0, 1100.0), (800.0, 1300.0), (850.0, 900.0), (875.0, 900.0), (890.0, 900.0), (900.0, 1100.0), (900.0, 1300.0), (900.0, 1400.0), (1000.0, 1100.0), (1000.0, 1300.0), (1000.0, 1400.0), (1050.0, 1100.0), (1075.0, 1100.0), (1090.0, 1100.0), (1100.0, 1300.0), (1100.0, 1400.0), (1200.0, 1300.0), (1200.0, 1400.0), (1250.0, 1300.0), (1275.0, 1300.0), (1290.0, 1300.0), (1300.0, 1400.0), (1350.0, 1400.0), (1375.0, 1400.0), (1390.0, 1400.0)]\n"
     ]
    }
   ],
   "source": [
    "print(sorted(list(pairs)))"
   ]
  },
  {
   "cell_type": "code",
   "execution_count": null,
   "id": "78ee3462",
   "metadata": {},
   "outputs": [],
   "source": []
  }
 ],
 "metadata": {
  "kernelspec": {
   "display_name": "Python 3 (ipykernel)",
   "language": "python",
   "name": "python3"
  },
  "language_info": {
   "codemirror_mode": {
    "name": "ipython",
    "version": 3
   },
   "file_extension": ".py",
   "mimetype": "text/x-python",
   "name": "python",
   "nbconvert_exporter": "python",
   "pygments_lexer": "ipython3",
   "version": "3.10.12"
  }
 },
 "nbformat": 4,
 "nbformat_minor": 5
}
