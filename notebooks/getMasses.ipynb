{
 "cells": [
  {
   "cell_type": "code",
   "execution_count": 8,
   "id": "f6d5f443",
   "metadata": {},
   "outputs": [],
   "source": [
    "import itertools\n",
    "import numpy as np"
   ]
  },
  {
   "cell_type": "code",
   "execution_count": 9,
   "id": "81d859d6",
   "metadata": {},
   "outputs": [],
   "source": [
    "deltaM = [10.,25.,50.,100.,200.,300.,400.,500.]\n",
    "mStop = [400.,500.,600.,900.,1100.,1300.,1700.,1900.,2000.]\n",
    "pairs = set()\n",
    "for mST,dm in itertools.product(mStop,deltaM):\n",
    "    mChi = max(5.,mST-dm)\n",
    "    pairs.add((mChi,mST))"
   ]
  },
  {
   "cell_type": "code",
   "execution_count": 10,
   "id": "b2329728",
   "metadata": {},
   "outputs": [
    {
     "data": {
      "text/plain": [
       "35"
      ]
     },
     "execution_count": 10,
     "metadata": {},
     "output_type": "execute_result"
    }
   ],
   "source": [
    "len(pairs)"
   ]
  },
  {
   "cell_type": "code",
   "execution_count": 11,
   "id": "c7bdbd0a",
   "metadata": {},
   "outputs": [
    {
     "name": "stdout",
     "output_type": "stream",
     "text": [
      "[(300.0, 700.0), (400.0, 700.0), (400.0, 800.0), (500.0, 700.0), (500.0, 800.0), (600.0, 700.0), (600.0, 800.0), (600.0, 1000.0), (650.0, 700.0), (675.0, 700.0), (690.0, 700.0), (700.0, 800.0), (700.0, 1000.0), (750.0, 800.0), (775.0, 800.0), (790.0, 800.0), (800.0, 1000.0), (800.0, 1200.0), (900.0, 1000.0), (900.0, 1200.0), (950.0, 1000.0), (975.0, 1000.0), (990.0, 1000.0), (1000.0, 1200.0), (1100.0, 1200.0), (1100.0, 1500.0), (1150.0, 1200.0), (1175.0, 1200.0), (1190.0, 1200.0), (1200.0, 1500.0), (1300.0, 1500.0), (1400.0, 1500.0), (1450.0, 1500.0), (1475.0, 1500.0), (1490.0, 1500.0)]\n"
     ]
    }
   ],
   "source": [
    "print(sorted(list(pairs)))"
   ]
  },
  {
   "cell_type": "code",
   "execution_count": null,
   "id": "78ee3462",
   "metadata": {},
   "outputs": [],
   "source": []
  }
 ],
 "metadata": {
  "kernelspec": {
   "display_name": "Python 3 (ipykernel)",
   "language": "python",
   "name": "python3"
  },
  "language_info": {
   "codemirror_mode": {
    "name": "ipython",
    "version": 3
   },
   "file_extension": ".py",
   "mimetype": "text/x-python",
   "name": "python",
   "nbconvert_exporter": "python",
   "pygments_lexer": "ipython3",
   "version": "3.9.7"
  }
 },
 "nbformat": 4,
 "nbformat_minor": 5
}
