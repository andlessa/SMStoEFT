{
 "cells": [
  {
   "cell_type": "markdown",
   "metadata": {},
   "source": [
    "# Plot Cross-Sections"
   ]
  },
  {
   "cell_type": "code",
   "execution_count": 1,
   "metadata": {},
   "outputs": [],
   "source": [
    "import warnings\n",
    "warnings.filterwarnings(\"ignore\", message=\"numpy.dtype size changed\")\n",
    "import numpy as np\n",
    "import pandas as pd\n",
    "import glob,os,shutil\n",
    "from pandas.io.json import json_normalize\n",
    "import pyslha\n",
    "import matplotlib as mpl\n",
    "import matplotlib.pyplot as plt\n",
    "from matplotlib.colors import LogNorm\n",
    "from collections import OrderedDict\n",
    "import seaborn as sns\n",
    "from scipy.interpolate import interp1d\n",
    "from IPython.display import display, Markdown\n",
    "\n",
    "pd.option_context('display.max_columns', -1)\n",
    "\n",
    "pd.options.mode.chained_assignment = None #Disable copy warnings\n",
    "# plt.style.use('fivethirtyeight') #Set style\n",
    "# mpl.rcParams.update({'figure.figsize' : (15,10)})  #Set general plotting options\n",
    "plt.rcParams.update({\n",
    "    \"text.usetex\": True,\n",
    "    \"font.family\": \"sans-serif\",\n",
    "    \"font.sans-serif\": [\"Helvetica\"]})\n",
    "\n",
    "plt.rcParams.update({\"savefig.dpi\" : 300}) #Figure resolution\n",
    "\n",
    "\n",
    "#Define plotting style:\n",
    "sns.set() #Set style\n",
    "sns.set_style('ticks',{'font.family':'Times New Roman', 'font.serif':'Times New Roman'})\n",
    "sns.set_context('paper', font_scale=1.8)\n",
    "cm = plt.cm.get_cmap('RdYlBu')"
   ]
  },
  {
   "cell_type": "markdown",
   "metadata": {},
   "source": [
    "### Create process dict"
   ]
  },
  {
   "cell_type": "code",
   "execution_count": 14,
   "metadata": {},
   "outputs": [],
   "source": [
    "processDict = {'smeft' : r'$p p \\to t \\bar{t}$ (NLO)'}\n",
    "# Create a dictionary with keys = dataframe columns and values = (short name, latex name)\n",
    "varDict = {'mass.5000002' : ('mst',r'$m_{\\tilde{t}}$'), \n",
    "           'mass.5000012' : ('mchi',r'$m_{\\tilde{\\chi}}$'),\n",
    "           'xsec13TeV(fb).-6_6' : ('xsectop',r'$\\sigma(t \\bar{t})$'),\n",
    "           'pars.1' : ('ydm',r'$y_{DM}$')\n",
    "             }\n",
    "shortDict = {x[0] : x[1] for x in varDict.values()}\n",
    "varDict = {x : y[0] for x,y in varDict.items()}"
   ]
  },
  {
   "cell_type": "markdown",
   "metadata": {},
   "source": [
    "## Load data"
   ]
  },
  {
   "cell_type": "code",
   "execution_count": 15,
   "metadata": {},
   "outputs": [],
   "source": [
    "data = {}\n",
    "for proc in processDict:\n",
    "    f = '../slhaFiles/%s_slha.pcl' %(proc)\n",
    "    if os.path.isfile(f):\n",
    "        data[proc] = pd.read_pickle(f)\n",
    "        # From now on use only short names\n",
    "        data[proc].rename(columns=varDict,inplace=True)\n",
    "        \n",
    "# For SMS set yDM = 10 (only affects the stop lifetime)\n",
    "if 'sms' in data:\n",
    "    ydm = data['sms']['ydm'].tolist()\n",
    "    data['sms']['width.5000002'] = data['sms']['width.5000002']*((10./data['sms']['ydm'])**2)\n",
    "    data['sms']['ydm'] = 10.0"
   ]
  },
  {
   "cell_type": "code",
   "execution_count": 22,
   "metadata": {},
   "outputs": [],
   "source": [
    "sm_xsec_nlo = 705.6e3"
   ]
  },
  {
   "cell_type": "markdown",
   "metadata": {},
   "source": [
    "### Get all model points"
   ]
  },
  {
   "cell_type": "code",
   "execution_count": 16,
   "metadata": {},
   "outputs": [
    {
     "name": "stdout",
     "output_type": "stream",
     "text": [
      "16 models loaded\n"
     ]
    }
   ],
   "source": [
    "models = []\n",
    "mCols = ['mst','mchi','ydm']\n",
    "for dataDF in data.values():\n",
    "    for row in dataDF[mCols].values:\n",
    "        m = dict(zip(mCols,row.tolist()))\n",
    "        if m not in models:\n",
    "            models.append(m)\n",
    "print('%i models loaded' %len(models))"
   ]
  },
  {
   "cell_type": "markdown",
   "metadata": {},
   "source": [
    "### Get model parameters"
   ]
  },
  {
   "cell_type": "code",
   "execution_count": 17,
   "metadata": {},
   "outputs": [
    {
     "name": "stdout",
     "output_type": "stream",
     "text": [
      "ydm = [0.0, 100.0]\n"
     ]
    }
   ],
   "source": [
    "parameters = {label : list(set([m[label] for m in models])) for label in mCols}\n",
    "for k,v in parameters.items():\n",
    "    if len(v) == 1:\n",
    "        parameters[k] = v[0]\n",
    "# print(parameters)\n",
    "\n",
    "textstr = '\\n'.join([r'%s = %s' %(k,v) for k,v in parameters.items() if k not in ['mst','mchi']])\n",
    "print(textstr)"
   ]
  },
  {
   "cell_type": "markdown",
   "metadata": {},
   "source": [
    "### Plot Cross-Sections"
   ]
  },
  {
   "cell_type": "code",
   "execution_count": 24,
   "metadata": {},
   "outputs": [
    {
     "data": {
      "image/png": "[encoded data removed]",
      "text/plain": [
       "<Figure size 864x288 with 2 Axes>"
      ]
     },
     "metadata": {
      "needs_background": "light"
     },
     "output_type": "display_data"
    }
   ],
   "source": [
    "fig,ax = plt.subplots(nrows=1,ncols=2,figsize=(12,4))\n",
    "axes = [('smeft','mst','xsectop'), ('smeft','mchi','xsectop')]\n",
    "splitData = [{'ydm' : 0.0},{'ydm' : 100.0}]\n",
    "for iproc,plotDef in enumerate(axes):\n",
    "    proc,x,y = plotDef\n",
    "    for modelFilter in splitData:\n",
    "        modelStr = '\\n'.join([r'%s = %s' %(shortDict[k],v) for k,v in modelFilter.items()])\n",
    "        dataDF = data[proc].loc[(data[proc][list(modelFilter)] == pd.Series(modelFilter)).all(axis=1)]\n",
    "        xpts = dataDF[x]\n",
    "        ypts = dataDF[y]\n",
    "#         ypts = ypts[np.argsort(xpts)]\n",
    "#         xpts = xpts[np.argsort(xpts)]\n",
    "        ax[iproc].scatter(xpts,ypts,label=modelStr,linewidth=3,s=30)\n",
    "    ax[iproc].hlines(y=sm_xsec_nlo,xmin=xpts.min(),xmax=xpts.max(),label='SM (NLO)',linewidth=2,color='black')\n",
    "    ax[iproc].set_xlabel(shortDict[x])\n",
    "    ax[iproc].set_ylabel(shortDict[y])\n",
    "#     ax[iproc].set_yscale('log')\n",
    "    ax[iproc].legend()\n",
    "    ax[iproc].set_title(processDict[proc])\n",
    "\n",
    "plt.tight_layout()\n",
    "plt.show()"
   ]
  },
  {
   "cell_type": "code",
   "execution_count": null,
   "metadata": {},
   "outputs": [],
   "source": []
  }
 ],
 "metadata": {
  "kernelspec": {
   "display_name": "Python 3 (ipykernel)",
   "language": "python",
   "name": "python3"
  },
  "language_info": {
   "codemirror_mode": {
    "name": "ipython",
    "version": 3
   },
   "file_extension": ".py",
   "mimetype": "text/x-python",
   "name": "python",
   "nbconvert_exporter": "python",
   "pygments_lexer": "ipython3",
   "version": "3.10.12"
  }
 },
 "nbformat": 4,
 "nbformat_minor": 2
}
