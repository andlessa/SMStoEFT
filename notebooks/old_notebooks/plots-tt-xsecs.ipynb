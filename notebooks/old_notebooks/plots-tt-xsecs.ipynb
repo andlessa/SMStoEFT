{
 "cells": [
  {
   "cell_type": "markdown",
   "metadata": {},
   "source": [
    "# Plot"
   ]
  },
  {
   "cell_type": "code",
   "execution_count": 1,
   "metadata": {},
   "outputs": [],
   "source": [
    "import warnings\n",
    "warnings.filterwarnings(\"ignore\", message=\"numpy.dtype size changed\")\n",
    "import numpy as np\n",
    "import pandas as pd\n",
    "import matplotlib.pyplot as plt\n",
    "import seaborn as sns\n",
    "import glob,os\n",
    "import pylhe, gzip, tempfile\n",
    "from auxPlots import getInfo\n",
    "from scipy.interpolate import griddata\n",
    "import itertools\n",
    "\n",
    "pd.option_context('display.max_columns', -1)\n",
    "\n",
    "pd.options.mode.chained_assignment = None #Disabpd.option_context('display.max_columns', 300)le copy warnings\n",
    "# plt.style.use('fivethirtyeight') #Set style\n",
    "# mpl.rcParams.update({'figure.figsize' : (15,10)})  #Set general plotting options\n",
    "plt.rcParams.update({\n",
    "    \"text.usetex\": True,\n",
    "    \"font.family\": \"sans-serif\",\n",
    "    \"font.sans-serif\": [\"Helvetica\"]})\n",
    "\n",
    "plt.rcParams.update({\"savefig.dpi\" : 300}) #Figure resolution\n",
    "\n",
    "\n",
    "#Define plotting style:\n",
    "sns.set() #Set style\n",
    "sns.set_style('ticks',{'font.family':'Times New Roman', 'font.serif':'Times New Roman'})\n",
    "sns.set_context('paper', font_scale=1.8)\n",
    "cm = plt.cm.get_cmap('RdYlBu')"
   ]
  },
  {
   "cell_type": "code",
   "execution_count": 2,
   "metadata": {},
   "outputs": [],
   "source": [
    "files = list(glob.glob('../processFolders/*xsecs/Events/*/unweighted_events.lhe.gz'))\n",
    "# files = [f for f in files[:] if not (('gg2TT_formFactors' in f) and ('run_04' not in f))]\n",
    "# print(files)"
   ]
  },
  {
   "cell_type": "code",
   "execution_count": 3,
   "metadata": {},
   "outputs": [
    {
     "name": "stdout",
     "output_type": "stream",
     "text": [
      "['$g g \\\\to \\\\bar{t} t$', '$q q \\\\to \\\\bar{t} t$']\n"
     ]
    }
   ],
   "source": [
    "# Get info\n",
    "fileData = {f : getInfo(f) for f in files}\n",
    "for fInfo in fileData.values():\n",
    "    fInfo['mST'] = fInfo['(mST,mChi,mT,yDM)'][0]\n",
    "    fInfo['mChi'] = fInfo['(mST,mChi,mT,yDM)'][1]\n",
    "    fInfo['mT'] = fInfo['(mST,mChi,mT,yDM)'][2]\n",
    "    fInfo['yDM'] = fInfo['(mST,mChi,mT,yDM)'][3]\n",
    "\n",
    "allModels = sorted(list(set([info['model'] for info in fileData.values()])))\n",
    "allPars = sorted(list(set([info['(mST,mChi,mT,yDM)'] for info in fileData.values()])))\n",
    "allProcesses = sorted(list(set([info['process'] for info in fileData.values()])))\n",
    "# print(allModels)\n",
    "# print(allPars)\n",
    "print(allProcesses)"
   ]
  },
  {
   "cell_type": "code",
   "execution_count": 4,
   "metadata": {},
   "outputs": [],
   "source": [
    "# Select files:\n",
    "models = allModels[:]\n",
    "pars = allPars[:]\n",
    "procs = allProcesses[:]\n",
    "\n",
    "selectedFiles = []\n",
    "for f,fInfo in fileData.items():\n",
    "    if fInfo['model'] not in models:\n",
    "        continue\n",
    "    if fInfo['process'] not in procs:\n",
    "        continue\n",
    "        \n",
    "    if fInfo['(mST,mChi,mT,yDM)'] not in pars:\n",
    "        continue\n",
    "    selectedFiles.append(f)\n",
    "    \n",
    "filesDict = [fInfo for f,fInfo in fileData.items() if f in selectedFiles]\n",
    "    "
   ]
  },
  {
   "cell_type": "markdown",
   "metadata": {},
   "source": [
    "### Create data frame with cross-sections"
   ]
  },
  {
   "cell_type": "code",
   "execution_count": 5,
   "metadata": {},
   "outputs": [],
   "source": [
    "allData = pd.DataFrame.from_dict(filesDict)\n",
    "allData.drop(columns='(mST,mChi,mT,yDM)',inplace=True)\n",
    "allData.replace(to_replace='$g g \\\\to \\\\bar{t} t$', value='gg2tt',inplace=True)\n",
    "allData.replace(to_replace='$q q \\\\to \\\\bar{t} t$', value='qq2tt',inplace=True)"
   ]
  },
  {
   "cell_type": "code",
   "execution_count": 6,
   "metadata": {},
   "outputs": [],
   "source": [
    "allDataEFT = allData[allData['model'] == 'EFT']\n",
    "allDataLoop = allData[allData['model'] == '1-loop']\n",
    "allDataEFT.sort_values(by=['process','mST','mChi'],inplace=True,ignore_index=True)\n",
    "allDataLoop.sort_values(by=['process','mST','mChi'],inplace=True,ignore_index=True)"
   ]
  },
  {
   "cell_type": "code",
   "execution_count": 7,
   "metadata": {},
   "outputs": [
    {
     "data": {
      "text/plain": [
       "(320, 320)"
      ]
     },
     "execution_count": 7,
     "metadata": {},
     "output_type": "execute_result"
    }
   ],
   "source": [
    "len(allDataEFT),len(allDataLoop)"
   ]
  },
  {
   "cell_type": "code",
   "execution_count": 8,
   "metadata": {},
   "outputs": [],
   "source": [
    "allDataLoop['xsecEFT (pb)'] = allDataEFT['xsec (pb)']\n",
    "allDataLoop['ratio'] = allDataLoop['xsec (pb)']/allDataLoop['xsecEFT (pb)']"
   ]
  },
  {
   "cell_type": "markdown",
   "metadata": {},
   "source": [
    "### gg -> tt"
   ]
  },
  {
   "cell_type": "code",
   "execution_count": 9,
   "metadata": {},
   "outputs": [],
   "source": [
    "dataGG = allDataLoop[allDataLoop['process']=='gg2tt']"
   ]
  },
  {
   "cell_type": "code",
   "execution_count": 10,
   "metadata": {},
   "outputs": [],
   "source": [
    "# plt.figure(figsize=(8,5))\n",
    "# plt.scatter(dataGG['mST'],dataGG['mChi'],c=dataGG['ratio'],s=50,cmap=cm)\n",
    "# plt.colorbar(label=r'$\\sigma_{\\rm loop}/\\sigma_{\\rm EFT}$')\n",
    "# plt.xlabel(r'$m_{T}$ (GeV)')\n",
    "# plt.ylabel(r'$m_{\\chi}$ (GeV)')\n",
    "# plt.title(r'$ g g \\to \\bar{t} t$',fontsize=20)\n",
    "# plt.grid()\n",
    "# plt.show()"
   ]
  },
  {
   "cell_type": "code",
   "execution_count": 11,
   "metadata": {},
   "outputs": [
    {
     "data": {
      "text/plain": [
       "(0.8775174831988909, 0.9957120300082781)"
      ]
     },
     "execution_count": 11,
     "metadata": {},
     "output_type": "execute_result"
    }
   ],
   "source": [
    "dataGG['ratio'].min(),dataGG['ratio'].max()"
   ]
  },
  {
   "cell_type": "code",
   "execution_count": 12,
   "metadata": {},
   "outputs": [],
   "source": [
    "# Interpolate to create more points\n",
    "xnew = np.linspace(dataGG['mST'].min(),dataGG['mST'].max(),200)\n",
    "ynew = np.linspace(dataGG['mChi'].min(),dataGG['mChi'].max(),200)\n",
    "xi = np.array([list(v) for v in itertools.product(xnew,ynew)])\n",
    "znew = griddata(list(zip(dataGG['mST'],dataGG['mChi'])),dataGG['ratio'],xi=xi,\n",
    "                method='linear')\n",
    "znew = np.reshape(znew,(len(xnew),len(ynew)))\n",
    "x,y  = np.meshgrid(xnew,ynew,indexing='ij')"
   ]
  },
  {
   "cell_type": "code",
   "execution_count": 13,
   "metadata": {
    "scrolled": true
   },
   "outputs": [
    {
     "data": {
      "image/png": "[encoded data removed]",
      "text/plain": [
       "<Figure size 432x288 with 2 Axes>"
      ]
     },
     "metadata": {
      "needs_background": "light"
     },
     "output_type": "display_data"
    }
   ],
   "source": [
    "plt.figure(figsize=(6,4))\n",
    "plt.imshow(znew.T, extent=[x.min(),x.max(), y.min(), y.max()], origin='lower',\n",
    "                  cmap=cm,aspect='auto',vmin=0.95,vmax=1.0)\n",
    "plt.colorbar(label=r'$\\sigma_{\\rm loop}/\\sigma_{\\rm EFT}$')\n",
    "plt.xlabel(r'$m_{T}$ (GeV)')\n",
    "plt.ylabel(r'$m_{\\chi}$ (GeV)')\n",
    "plt.title(r'$ g g \\to \\bar{t} t$',fontsize=20)\n",
    "\n",
    "contours = plt.contour(x, y, znew, [0.95,0.97, 0.99], colors='black',linestyles='dashed')\n",
    "plt.clabel(contours, inline=True, fontsize=18)\n",
    "plt.xlim(500,2500)\n",
    "plt.show()"
   ]
  },
  {
   "cell_type": "markdown",
   "metadata": {},
   "source": [
    "### qq -> tt"
   ]
  },
  {
   "cell_type": "code",
   "execution_count": 14,
   "metadata": {},
   "outputs": [],
   "source": [
    "dataQQ = allDataLoop[allDataLoop['process']=='qq2tt']"
   ]
  },
  {
   "cell_type": "code",
   "execution_count": 15,
   "metadata": {},
   "outputs": [],
   "source": [
    "# plt.figure(figsize=(8,5))\n",
    "# plt.scatter(dataQQ['mST'],dataQQ['mChi'],c=dataQQ['ratio'],s=50,cmap=cm,vmin=1.0,vmax=1.05)\n",
    "# plt.colorbar(label=r'$\\sigma_{\\rm loop}/\\sigma_{\\rm EFT}$')\n",
    "# plt.xlabel(r'$m_{T}$ (GeV)')\n",
    "# plt.ylabel(r'$m_{\\chi}$ (GeV)')\n",
    "# plt.title(r'$ q q \\to \\bar{t} t$',fontsize=20)\n",
    "# plt.grid()\n",
    "# plt.show()"
   ]
  },
  {
   "cell_type": "code",
   "execution_count": 16,
   "metadata": {},
   "outputs": [
    {
     "data": {
      "text/plain": [
       "(1.014284693950432, 1.537046391500595)"
      ]
     },
     "execution_count": 16,
     "metadata": {},
     "output_type": "execute_result"
    }
   ],
   "source": [
    "dataQQ['ratio'].min(),dataQQ['ratio'].max()"
   ]
  },
  {
   "cell_type": "code",
   "execution_count": 17,
   "metadata": {},
   "outputs": [],
   "source": [
    "# Interpolate to create more points\n",
    "xnew = np.linspace(dataQQ['mST'].min(),dataQQ['mST'].max(),200)\n",
    "ynew = np.linspace(dataQQ['mChi'].min(),dataQQ['mChi'].max(),200)\n",
    "xi = np.array([list(v) for v in itertools.product(xnew,ynew)])\n",
    "znew = griddata(list(zip(dataQQ['mST'],dataQQ['mChi'])),dataQQ['ratio'],xi=xi,\n",
    "                method='linear')\n",
    "znew = np.reshape(znew,(len(xnew),len(ynew)))\n",
    "x,y  = np.meshgrid(xnew,ynew,indexing='ij')"
   ]
  },
  {
   "cell_type": "code",
   "execution_count": 18,
   "metadata": {
    "scrolled": true
   },
   "outputs": [
    {
     "data": {
      "image/png": "[encoded data removed]",
      "text/plain": [
       "<Figure size 432x288 with 2 Axes>"
      ]
     },
     "metadata": {
      "needs_background": "light"
     },
     "output_type": "display_data"
    }
   ],
   "source": [
    "plt.figure(figsize=(6,4))\n",
    "plt.imshow(znew.T, extent=[x.min(),x.max(), y.min(), y.max()], origin='lower',\n",
    "                  cmap=cm,aspect='auto')\n",
    "plt.colorbar(label=r'$\\sigma_{\\rm loop}/\\sigma_{\\rm EFT}$')\n",
    "plt.xlabel(r'$m_{T}$ (GeV)')\n",
    "plt.ylabel(r'$m_{\\chi}$ (GeV)')\n",
    "plt.title(r'$ q q \\to \\bar{t} t$',fontsize=20)\n",
    "\n",
    "contours = plt.contour(x, y, znew, [1.04,1.1,1.2], colors='black',linestyles='dashed')\n",
    "plt.clabel(contours, inline=True, fontsize=18)\n",
    "plt.tight_layout()\n",
    "plt.show()"
   ]
  },
  {
   "cell_type": "code",
   "execution_count": null,
   "metadata": {},
   "outputs": [],
   "source": []
  }
 ],
 "metadata": {
  "kernelspec": {
   "display_name": "Python 3 (ipykernel)",
   "language": "python",
   "name": "python3"
  },
  "language_info": {
   "codemirror_mode": {
    "name": "ipython",
    "version": 3
   },
   "file_extension": ".py",
   "mimetype": "text/x-python",
   "name": "python",
   "nbconvert_exporter": "python",
   "pygments_lexer": "ipython3",
   "version": "3.9.7"
  }
 },
 "nbformat": 4,
 "nbformat_minor": 2
}
