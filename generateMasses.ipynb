{
 "cells": [
  {
   "cell_type": "code",
   "execution_count": 1,
   "id": "c22ff139",
   "metadata": {},
   "outputs": [],
   "source": [
    "import numpy as np\n",
    "import itertools"
   ]
  },
  {
   "cell_type": "code",
   "execution_count": 3,
   "id": "fc580864",
   "metadata": {},
   "outputs": [],
   "source": [
    "# mChi = np.arange(50.,1000.,50.)\n",
    "# mST = np.arange(500.,1000.,100.)\n",
    "mChi = np.arange(50.,3000.,200.)\n",
    "mST = np.arange(200.,1000.,50.)\n",
    "deltaM = [30.,40.,60.,70.,80.,125.]"
   ]
  },
  {
   "cell_type": "code",
   "execution_count": 10,
   "id": "e89cc56f",
   "metadata": {},
   "outputs": [],
   "source": [
    "massPairs = []\n",
    "for m,M in itertools.product(mChi,mST):\n",
    "    if M-m < 10.0: # At least a 10 GeV mass gap to avoid issues with off-shell top decays\n",
    "        continue\n",
    "    massPairs.append((round(m,0),round(M,0)))"
   ]
  },
  {
   "cell_type": "code",
   "execution_count": 5,
   "id": "750dbbd8",
   "metadata": {},
   "outputs": [],
   "source": [
    "massPairs = []\n",
    "for dm,M in itertools.product(deltaM,mST):\n",
    "    m = M-dm\n",
    "    if M-m < 10.0: # At least a 10 GeV mass gap to avoid issues with off-shell top decays\n",
    "        continue\n",
    "    massPairs.append((round(m,0),round(M,0)))"
   ]
  },
  {
   "cell_type": "code",
   "execution_count": 6,
   "id": "f1f53dd1",
   "metadata": {},
   "outputs": [
    {
     "data": {
      "text/plain": [
       "96"
      ]
     },
     "execution_count": 6,
     "metadata": {},
     "output_type": "execute_result"
    }
   ],
   "source": [
    "len(massPairs)"
   ]
  },
  {
   "cell_type": "code",
   "execution_count": 7,
   "id": "9b62527f",
   "metadata": {},
   "outputs": [
    {
     "name": "stdout",
     "output_type": "stream",
     "text": [
      "[(170.0, 200.0), (220.0, 250.0), (270.0, 300.0), (320.0, 350.0), (370.0, 400.0), (420.0, 450.0), (470.0, 500.0), (520.0, 550.0), (570.0, 600.0), (620.0, 650.0), (670.0, 700.0), (720.0, 750.0), (770.0, 800.0), (820.0, 850.0), (870.0, 900.0), (920.0, 950.0), (160.0, 200.0), (210.0, 250.0), (260.0, 300.0), (310.0, 350.0), (360.0, 400.0), (410.0, 450.0), (460.0, 500.0), (510.0, 550.0), (560.0, 600.0), (610.0, 650.0), (660.0, 700.0), (710.0, 750.0), (760.0, 800.0), (810.0, 850.0), (860.0, 900.0), (910.0, 950.0), (140.0, 200.0), (190.0, 250.0), (240.0, 300.0), (290.0, 350.0), (340.0, 400.0), (390.0, 450.0), (440.0, 500.0), (490.0, 550.0), (540.0, 600.0), (590.0, 650.0), (640.0, 700.0), (690.0, 750.0), (740.0, 800.0), (790.0, 850.0), (840.0, 900.0), (890.0, 950.0), (130.0, 200.0), (180.0, 250.0), (230.0, 300.0), (280.0, 350.0), (330.0, 400.0), (380.0, 450.0), (430.0, 500.0), (480.0, 550.0), (530.0, 600.0), (580.0, 650.0), (630.0, 700.0), (680.0, 750.0), (730.0, 800.0), (780.0, 850.0), (830.0, 900.0), (880.0, 950.0), (120.0, 200.0), (170.0, 250.0), (220.0, 300.0), (270.0, 350.0), (320.0, 400.0), (370.0, 450.0), (420.0, 500.0), (470.0, 550.0), (520.0, 600.0), (570.0, 650.0), (620.0, 700.0), (670.0, 750.0), (720.0, 800.0), (770.0, 850.0), (820.0, 900.0), (870.0, 950.0), (75.0, 200.0), (125.0, 250.0), (175.0, 300.0), (225.0, 350.0), (275.0, 400.0), (325.0, 450.0), (375.0, 500.0), (425.0, 550.0), (475.0, 600.0), (525.0, 650.0), (575.0, 700.0), (625.0, 750.0), (675.0, 800.0), (725.0, 850.0), (775.0, 900.0), (825.0, 950.0)]\n"
     ]
    }
   ],
   "source": [
    "print(massPairs)"
   ]
  },
  {
   "cell_type": "code",
   "execution_count": null,
   "id": "68fa2a6a",
   "metadata": {},
   "outputs": [],
   "source": []
  }
 ],
 "metadata": {
  "kernelspec": {
   "display_name": "Python 3 (ipykernel)",
   "language": "python",
   "name": "python3"
  },
  "language_info": {
   "codemirror_mode": {
    "name": "ipython",
    "version": 3
   },
   "file_extension": ".py",
   "mimetype": "text/x-python",
   "name": "python",
   "nbconvert_exporter": "python",
   "pygments_lexer": "ipython3",
   "version": "3.10.12"
  }
 },
 "nbformat": 4,
 "nbformat_minor": 5
}
