{
 "cells": [
  {
   "cell_type": "code",
   "execution_count": 1,
   "id": "c22ff139",
   "metadata": {},
   "outputs": [],
   "source": [
    "import numpy as np\n",
    "import itertools"
   ]
  },
  {
   "cell_type": "code",
   "execution_count": 48,
   "id": "fc580864",
   "metadata": {},
   "outputs": [],
   "source": [
    "mChi = np.arange(50.,1000.,50.)\n",
    "mST = np.arange(500.,1000.,100.)"
   ]
  },
  {
   "cell_type": "code",
   "execution_count": 49,
   "id": "e89cc56f",
   "metadata": {},
   "outputs": [],
   "source": [
    "massPairs = []\n",
    "for m,M in itertools.product(mChi,mST):\n",
    "    if M-m < 10.0: # At least a 10 GeV mass gap to avoid issues with off-shell top decays\n",
    "        continue\n",
    "    massPairs.append((round(m,0),round(M,0)))"
   ]
  },
  {
   "cell_type": "code",
   "execution_count": 50,
   "id": "f1f53dd1",
   "metadata": {},
   "outputs": [
    {
     "data": {
      "text/plain": [
       "65"
      ]
     },
     "execution_count": 50,
     "metadata": {},
     "output_type": "execute_result"
    }
   ],
   "source": [
    "len(massPairs)"
   ]
  },
  {
   "cell_type": "code",
   "execution_count": 51,
   "id": "9b62527f",
   "metadata": {},
   "outputs": [
    {
     "name": "stdout",
     "output_type": "stream",
     "text": [
      "[(50.0, 500.0), (50.0, 600.0), (50.0, 700.0), (50.0, 800.0), (50.0, 900.0), (100.0, 500.0), (100.0, 600.0), (100.0, 700.0), (100.0, 800.0), (100.0, 900.0), (150.0, 500.0), (150.0, 600.0), (150.0, 700.0), (150.0, 800.0), (150.0, 900.0), (200.0, 500.0), (200.0, 600.0), (200.0, 700.0), (200.0, 800.0), (200.0, 900.0), (250.0, 500.0), (250.0, 600.0), (250.0, 700.0), (250.0, 800.0), (250.0, 900.0), (300.0, 500.0), (300.0, 600.0), (300.0, 700.0), (300.0, 800.0), (300.0, 900.0), (350.0, 500.0), (350.0, 600.0), (350.0, 700.0), (350.0, 800.0), (350.0, 900.0), (400.0, 500.0), (400.0, 600.0), (400.0, 700.0), (400.0, 800.0), (400.0, 900.0), (450.0, 500.0), (450.0, 600.0), (450.0, 700.0), (450.0, 800.0), (450.0, 900.0), (500.0, 600.0), (500.0, 700.0), (500.0, 800.0), (500.0, 900.0), (550.0, 600.0), (550.0, 700.0), (550.0, 800.0), (550.0, 900.0), (600.0, 700.0), (600.0, 800.0), (600.0, 900.0), (650.0, 700.0), (650.0, 800.0), (650.0, 900.0), (700.0, 800.0), (700.0, 900.0), (750.0, 800.0), (750.0, 900.0), (800.0, 900.0), (850.0, 900.0)]\n"
     ]
    }
   ],
   "source": [
    "print(massPairs)"
   ]
  },
  {
   "cell_type": "code",
   "execution_count": null,
   "id": "ebdc6dad",
   "metadata": {},
   "outputs": [],
   "source": []
  }
 ],
 "metadata": {
  "kernelspec": {
   "display_name": "Python 3 (ipykernel)",
   "language": "python",
   "name": "python3"
  },
  "language_info": {
   "codemirror_mode": {
    "name": "ipython",
    "version": 3
   },
   "file_extension": ".py",
   "mimetype": "text/x-python",
   "name": "python",
   "nbconvert_exporter": "python",
   "pygments_lexer": "ipython3",
   "version": "3.10.12"
  }
 },
 "nbformat": 4,
 "nbformat_minor": 5
}
