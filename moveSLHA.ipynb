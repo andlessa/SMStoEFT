{
 "cells": [
  {
   "cell_type": "code",
   "execution_count": 1,
   "id": "109fa9fa",
   "metadata": {},
   "outputs": [],
   "source": [
    "import os,glob,shutil"
   ]
  },
  {
   "cell_type": "code",
   "execution_count": 3,
   "id": "3af0d812",
   "metadata": {},
   "outputs": [],
   "source": [
    "for d in glob.glob('./processFolders/pp2STST/Events/run_*'):\n",
    "    banner = list(glob.glob(d+'/*banner.txt'))[0]\n",
    "    slha = list(glob.glob(d+'/*slha'))[0]\n",
    "    newName = os.path.basename(banner)\n",
    "    newName = '_'.join(newName.split('_')[2:-1])\n",
    "    newName += '.slha'\n",
    "    shutil.copyfile(slha,os.path.join('./slhaFiles/sms/',newName))"
   ]
  },
  {
   "cell_type": "code",
   "execution_count": null,
   "id": "43a8f5e5",
   "metadata": {},
   "outputs": [],
   "source": []
  }
 ],
 "metadata": {
  "kernelspec": {
   "display_name": "Python 3 (ipykernel)",
   "language": "python",
   "name": "python3"
  },
  "language_info": {
   "codemirror_mode": {
    "name": "ipython",
    "version": 3
   },
   "file_extension": ".py",
   "mimetype": "text/x-python",
   "name": "python",
   "nbconvert_exporter": "python",
   "pygments_lexer": "ipython3",
   "version": "3.10.6"
  }
 },
 "nbformat": 4,
 "nbformat_minor": 5
}
