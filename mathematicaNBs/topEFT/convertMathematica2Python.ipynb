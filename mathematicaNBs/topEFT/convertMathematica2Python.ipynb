{
 "cells": [
  {
   "cell_type": "code",
   "execution_count": 1,
   "metadata": {},
   "outputs": [],
   "source": [
    "from sympy.parsing.mathematica import parse_mathematica\n",
    "from sympy import var\n",
    "mST = var('mST')\n",
    "mChi = var('mChi')\n",
    "g1,g2,g3,yDM = var('g1,g2,g3,yDM')"
   ]
  },
  {
   "cell_type": "code",
   "execution_count": 2,
   "metadata": {},
   "outputs": [],
   "source": [
    "with open('coeffs_mathematica.txt','r') as f:\n",
    "    lines = f.readlines()\n",
    "\n",
    "exprDict = {}\n",
    "for l in lines:\n",
    "    entries = l.split(\";\")\n",
    "    coeff = entries[0]\n",
    "    indices = [s.replace('_','') for s in entries[1:-2]]\n",
    "    expr = entries[-1]\n",
    "\n",
    "    python_code = parse_mathematica(expr)\n",
    "\n",
    "    exprDict[coeff] = {'indices' : indices, 'expr' : str(python_code)}"
   ]
  },
  {
   "cell_type": "code",
   "execution_count": 3,
   "metadata": {},
   "outputs": [],
   "source": [
    "import json\n",
    "with open('../../smefit/coeffs_python.json','w') as f:\n",
    "    json.dump(exprDict,f)"
   ]
  },
  {
   "cell_type": "code",
   "execution_count": null,
   "metadata": {},
   "outputs": [],
   "source": []
  }
 ],
 "metadata": {
  "kernelspec": {
   "display_name": "Python 3",
   "language": "python",
   "name": "python3"
  },
  "language_info": {
   "codemirror_mode": {
    "name": "ipython",
    "version": 3
   },
   "file_extension": ".py",
   "mimetype": "text/x-python",
   "name": "python",
   "nbconvert_exporter": "python",
   "pygments_lexer": "ipython3",
   "version": "3.12.3"
  }
 },
 "nbformat": 4,
 "nbformat_minor": 2
}
