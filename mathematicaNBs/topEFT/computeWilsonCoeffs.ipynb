{
 "cells": [
  {
   "cell_type": "code",
   "execution_count": 1,
   "metadata": {},
   "outputs": [],
   "source": [
    "import json\n",
    "import numpy as np\n",
    "from numpy import log,sqrt,pi\n",
    "import itertools\n",
    "import os"
   ]
  },
  {
   "cell_type": "markdown",
   "metadata": {},
   "source": [
    "## Define auxiliary functions"
   ]
  },
  {
   "cell_type": "code",
   "execution_count": 2,
   "metadata": {},
   "outputs": [],
   "source": [
    "vev = 246.\n",
    "yt = 172./(vev/np.sqrt(2))\n",
    "yb = 4.7/(vev/np.sqrt(2))\n",
    "yta = 1.77/(vev/np.sqrt(2))\n",
    "d = 'dummyIndex' # define dummy index\n",
    "\n",
    "\n",
    "def Delta(a,b):\n",
    "\n",
    "    # Dummy indices are treated as strings,\n",
    "    # so we need to deal with it separately.\n",
    "    # Assume it always return 1\n",
    "    \n",
    "    if isinstance(a,int) and isinstance(b,int):\n",
    "        if a == b:\n",
    "            return 1\n",
    "        else:\n",
    "            return 0\n",
    "    else:\n",
    "        return 1\n",
    "\n",
    "def evolve_gs(scale,alpha_s0 = 0.118):\n",
    "    gs = np.sqrt(4 * np.pi * alpha_s0)\n",
    "    # evolve gs from MZ to scale\n",
    "    beta0 = 11 - 2 / 3 * 6\n",
    "    return gs / np.sqrt(\n",
    "        1 + 2 * beta0 * gs**2 / (4 * np.pi) ** 2 * np.log(scale / 91.1876)\n",
    "    )\n",
    "\n",
    "\n",
    "def computeCoeffs(funcDict,mST,mChi,g1,g2,g3,removeNonZero=True):\n",
    "    all_indices = [1,2,3]\n",
    "    results = []\n",
    "    for coeff in funcDict:\n",
    "        indices = funcDict[coeff]['indices']\n",
    "        for index_values in itertools.product(*((all_indices for i in range(len(indices))))):\n",
    "            coeff_0 = float(funcDict[coeff]['func'](*index_values,mST,mChi,0,0,g1,g2,g3)) # term independent of yDM\n",
    "            coeff_2 = float(funcDict[coeff]['func'](*index_values,mST,mChi,1,0,g1,g2,g3) )- coeff_0 # term scaling as  yDM^2\n",
    "            coeff_4 = float(funcDict[coeff]['func'](*index_values,mST,mChi,0,1,g1,g2,g3)) - coeff_0 # term scaling as  yDM^4\n",
    "            index_str = str(index_values).replace(',','').strip()\n",
    "            results.append([coeff,index_str,coeff_0,coeff_2,coeff_4])\n",
    "    \n",
    "    if removeNonZero:\n",
    "        results = [tuple(r) for r in results[:] if sum(r[-3:-1]) != 0.0]\n",
    "    \n",
    "    results = np.array(results,dtype=[('coeff','<U10'),('indices','<U15'),('C0','<f8'),('C2','<f8'),('C4','<f8')])\n",
    "\n",
    "    return results\n",
    "    \n",
    "\n",
    "def saveResults(results,mST,mChi,g1,g2,g3,outputFile=None):\n",
    "\n",
    "    if outputFile is None:\n",
    "        outputFile = f'coeff_values_mST_{mST:1.0f}_mChi_{mChi:1.0f}_test.csv'\n",
    "    header = f'# SM parameters:\\n#  g1 = {g1:1.2e}, g2 = {g2:1.2e}, g3 = {g3:1.2e}, yt = {yt:1.2e} , yb = {yb:1.2e}, yta = {yta:1.2e}'\n",
    "    header += f'\\n# UV parameters:\\n#  mST = {mST:1.2f}, mChi = {mChi:1.2f}'\n",
    "    header += '\\n# The total value for the coefficient is given by C0 + yDM^2*C2 + yDM^4*C4, where yDM is the BSM coupling'\n",
    "    header += '\\nCoefficient,Indices,C0 (1/GeV^2),C2 (1/GeV^2),C4 (1/GeV^2)'\n",
    "    np.savetxt(outputFile,results, comments='',header=header,\n",
    "               fmt='%s,%s,%1.3e,%1.3e,%1.3e') \n",
    "\n",
    "def loadCoeffs(coeffsFile='coeffs_python.json'):\n",
    "\n",
    "    with open(coeffsFile, 'r') as f:\n",
    "        exprDict = json .load(f)\n",
    "\n",
    "    funcDict = {}\n",
    "    for coeff in exprDict:\n",
    "        funcDict[coeff] = {'indices' : exprDict[coeff]['indices']}\n",
    "        indices = ','.join(exprDict[coeff]['indices'])\n",
    "        expr = exprDict[coeff]['expr']\n",
    "        if indices.strip():\n",
    "            exec(f\"def {coeff}({indices},mST,mChi,yDM2,yDM4,g1,g2,g3): return {expr}\")\n",
    "        else:\n",
    "            exec(f\"def {coeff}(mST,mChi,yDM2,yDM4,g1,g2,g3): return {expr}\")\n",
    "        funcDict[coeff]['func'] = locals()[coeff]\n",
    "\n",
    "    return funcDict"
   ]
  },
  {
   "cell_type": "markdown",
   "metadata": {},
   "source": [
    "### SM parameters"
   ]
  },
  {
   "cell_type": "code",
   "execution_count": 4,
   "metadata": {},
   "outputs": [],
   "source": [
    "aEW = 1.0/127.9\n",
    "MZ = 91.1876\n",
    "Gf = 1.166370e-05\n",
    "aS = 0.130\n",
    "MW = sqrt(MZ**2/2+sqrt(MZ**4/4-pi/sqrt(2)*aEW/Gf*MZ**2))\n",
    "ee = np.sqrt(4*pi*aEW)\n",
    "sw2 = 1.0 - (MW/MZ)**2 \n",
    "cw = np.sqrt(1-sw2)\n",
    "sw = np.sqrt(sw2)\n",
    "g1 = 0.0\n",
    "g2 = 0.0\n",
    "g3 = np.sqrt(4*pi*aS)\n"
   ]
  },
  {
   "cell_type": "markdown",
   "metadata": {},
   "source": [
    "## Load Coefficient Expressions"
   ]
  },
  {
   "cell_type": "code",
   "execution_count": 5,
   "metadata": {},
   "outputs": [],
   "source": [
    "funcDict = loadCoeffs(coeffsFile='coeffs_python.json')"
   ]
  },
  {
   "cell_type": "code",
   "execution_count": null,
   "metadata": {},
   "outputs": [
    {
     "name": "stdout",
     "output_type": "stream",
     "text": [
      "('cuu', '(1 1 1 1)', -4.694444444444447e-13, 0.0, 0.0)\n",
      "('cuu', '(1 1 2 2)', 2.347222222222223e-13, 0.0, 0.0)\n",
      "('cuu', '(1 1 3 3)', 2.347222222222223e-13, -7.475919480988706e-13, 0.0)\n",
      "('cuu', '(1 2 2 1)', -7.04166666666667e-13, 0.0, 0.0)\n",
      "('cuu', '(1 3 3 1)', -7.04166666666667e-13, 0.0, 0.0)\n",
      "('cuu', '(2 1 1 2)', -7.04166666666667e-13, 0.0, 0.0)\n",
      "('cuu', '(2 2 1 1)', 2.347222222222223e-13, 0.0, 0.0)\n",
      "('cuu', '(2 2 2 2)', -4.694444444444447e-13, 0.0, 0.0)\n",
      "('cuu', '(2 2 3 3)', 2.347222222222223e-13, -7.475919480988706e-13, 0.0)\n",
      "('cuu', '(2 3 3 2)', -7.04166666666667e-13, 0.0, 0.0)\n",
      "('cuu', '(3 1 1 3)', -7.04166666666667e-13, 2.242775844296612e-12, 0.0)\n",
      "('cuu', '(3 2 2 3)', -7.04166666666667e-13, 2.242775844296612e-12, 0.0)\n",
      "('cuu', '(3 3 1 1)', 2.347222222222223e-13, 0.0, 0.0)\n",
      "('cuu', '(3 3 2 2)', 2.347222222222223e-13, 0.0, 0.0)\n",
      "('cuu', '(3 3 3 3)', -4.694444444444447e-13, 1.4951838961977415e-12, -2.9220056494838796e-12)\n",
      "1.6732048802823662\n"
     ]
    }
   ],
   "source": [
    "mST = 1e4\n",
    "mChi = 9e3\n",
    "res = computeCoeffs(funcDict,mST,mChi,g1,g2,g3,removeNonZero=True)\n",
    "for r in res:\n",
    "    if r[0] != 'cuu':\n",
    "        continue\n",
    "    print(r)"
   ]
  },
  {
   "cell_type": "markdown",
   "metadata": {},
   "source": [
    "## Loop over BSM Parameters"
   ]
  },
  {
   "cell_type": "code",
   "execution_count": 5,
   "metadata": {},
   "outputs": [],
   "source": [
    "mSTlist = np.arange(200.,1500.,100.)\n",
    "mChilist = np.arange(200.,1500.,50.)\n",
    "npts = 0\n",
    "resDir = '../../smefit/scan_files'\n",
    "os.makedirs(resDir)\n",
    "for (mST,mChi) in itertools.product(mSTlist,mChilist):\n",
    "    if mChi >= mST:\n",
    "        continue\n",
    "    \n",
    "    g3 = evolve_gs(scale=mST)\n",
    "    outputFile = os.path.join(resDir,f'coeff_values_mST_{mST:1.0f}_mChi_{mChi:1.0f}.csv')\n",
    "    results = computeCoeffs(funcDict,mST,mChi,g1,g2,g3,removeNonZero=True)\n",
    "    saveResults(results,mST,mChi,g1,g2,g3,outputFile=outputFile)"
   ]
  }
 ],
 "metadata": {
  "kernelspec": {
   "display_name": "Python 3",
   "language": "python",
   "name": "python3"
  },
  "language_info": {
   "codemirror_mode": {
    "name": "ipython",
    "version": 3
   },
   "file_extension": ".py",
   "mimetype": "text/x-python",
   "name": "python",
   "nbconvert_exporter": "python",
   "pygments_lexer": "ipython3",
   "version": "3.12.3"
  }
 },
 "nbformat": 4,
 "nbformat_minor": 2
}
