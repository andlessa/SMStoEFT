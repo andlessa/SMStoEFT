{
 "cells": [
  {
   "cell_type": "code",
   "execution_count": 1,
   "metadata": {},
   "outputs": [
    {
     "name": "stdout",
     "output_type": "stream",
     "text": [
      "Welcome to JupyROOT 6.24/06\n"
     ]
    },
    {
     "data": {
      "text/plain": [
       "True"
      ]
     },
     "execution_count": 1,
     "metadata": {},
     "output_type": "execute_result"
    }
   ],
   "source": [
    "import os,glob\n",
    "import numpy as np\n",
    "import pandas as pd\n",
    "import glob\n",
    "import pyslha\n",
    "import time\n",
    "import matplotlib.pyplot as plt\n",
    "import os,glob\n",
    "import numpy as np\n",
    "import seaborn as sns\n",
    "from scipy.special import kn,zetac\n",
    "import pyslha\n",
    "sns.set() #Set style\n",
    "sns.set_style('ticks',{'font.family':'serif', 'font.serif':'Times New Roman'})\n",
    "sns.set_context('paper', font_scale=1.8)\n",
    "sns.set_palette(sns.color_palette(\"Paired\"))\n",
    "\n",
    "delphesDir = os.path.abspath(\"./DelphesLLP\")\n",
    "os.environ['ROOT_INCLUDE_PATH'] = os.path.join(delphesDir,\"external\")\n",
    "\n",
    "import ROOT\n",
    "\n",
    "ROOT.gSystem.Load(os.path.join(delphesDir,\"libDelphes.so\"))\n",
    "\n",
    "ROOT.gInterpreter.Declare('#include \"classes/SortableObject.h\"')\n",
    "ROOT.gInterpreter.Declare('#include \"classes/DelphesClasses.h\"')\n",
    "ROOT.gInterpreter.Declare('#include \"external/ExRootAnalysis/ExRootTreeReader.h\"')\n"
   ]
  },
  {
   "cell_type": "code",
   "execution_count": 13,
   "metadata": {},
   "outputs": [],
   "source": [
    "inputFiles = ['./DelphesLLP/test_500.root','./DelphesLLP/test_700.root']"
   ]
  },
  {
   "cell_type": "code",
   "execution_count": 14,
   "metadata": {},
   "outputs": [
    {
     "name": "stdout",
     "output_type": "stream",
     "text": [
      "./DelphesLLP/test_500.root Total weight = -6.125e+02\n",
      "./DelphesLLP/test_700.root Total weight = -3.505e+02\n"
     ]
    }
   ],
   "source": [
    "dists = {f : {} for f in inputFiles}\n",
    "\n",
    "for f in inputFiles:\n",
    "    totalWeight = 0.0\n",
    "    ff = ROOT.TFile(f,'read')\n",
    "    tree = ff.Get(\"Delphes\")\n",
    "    nevts = tree.GetEntries()\n",
    "    for ievt in range(nevts):    \n",
    "        tree.GetEntry(ievt)  \n",
    "        totalWeight += tree.Event.At(0).Weight \n",
    "\n",
    "        topDaughters = []\n",
    "        for p in tree.Particle:\n",
    "            if abs(p.PID) != 6:\n",
    "                continue\n",
    "            if p.Status != 62:\n",
    "                continue\n",
    "            \n",
    "            for dd in range(p.D1,p.D2+1):\n",
    "                d = tree.Particle.At(dd)\n",
    "                if abs(d.PID) == 24:\n",
    "                    dlist = list(range(d.D1,d.D2+1))\n",
    "                    while len(dlist) == 1:\n",
    "                        d = tree.Particle.At(dlist[0])\n",
    "                        dlist = list(range(d.D1,d.D2+1))\n",
    "\n",
    "                    for dd2 in range(d.D1,d.D2+1):\n",
    "                        d2 = tree.Particle.At(dd2)\n",
    "                        topDaughters.append(abs(d2.PID))\n",
    "                else:\n",
    "                    topDaughters.append(abs(d.PID))\n",
    "        \n",
    "        finalStates = tuple(sorted(topDaughters))\n",
    "        if finalStates not in dists[f]:\n",
    "            dists[f][finalStates] = 0\n",
    "        dists[f][finalStates] += 1  \n",
    "\n",
    "    ff.Close()      \n",
    "    print(f,'Total weight = %1.3e' %totalWeight)    \n",
    "\n"
   ]
  },
  {
   "cell_type": "code",
   "execution_count": 17,
   "metadata": {},
   "outputs": [
    {
     "name": "stdout",
     "output_type": "stream",
     "text": [
      "./DelphesLLP/test_500.root\n",
      "10000.0\n",
      "Hadronic = 0.477\n",
      "Semi-leptonic = 0.427\n",
      "Leptonic = 0.095\n",
      "./DelphesLLP/test_700.root\n",
      "10000.0\n",
      "Hadronic = 0.470\n",
      "Semi-leptonic = 0.429\n",
      "Leptonic = 0.101\n"
     ]
    }
   ],
   "source": [
    "\n",
    "for f in dists:\n",
    "    print(f)\n",
    "    nhadronic = 0\n",
    "    nsemileptonic = 0\n",
    "    nleptonic = 0\n",
    "    for fs in sorted(dists[f].keys()):\n",
    "        if sum(fs.count(x) for x in [11,13,15]) == 0:\n",
    "            nhadronic += float(dists[f][fs])\n",
    "        elif sum(fs.count(x) for x in [11,13,15]) == 1:\n",
    "            nsemileptonic += float(dists[f][fs])\n",
    "        elif sum(fs.count(x) for x in [11,13,15]) == 2:\n",
    "            nleptonic += float(dists[f][fs])\n",
    "    nevts = nhadronic+nsemileptonic+nleptonic\n",
    "    print(nevts)\n",
    "    print('Hadronic = %1.3f' %(nhadronic/nevts)) # expected = 0.6741*0.6741 = 0.4544\n",
    "    print('Semi-leptonic = %1.3f' %(nsemileptonic/nevts))  # expected = 2*0.6741*(1-0.6741) = 0.439378\n",
    "    print('Leptonic = %1.3f' %(nleptonic/nevts)) # expected = (1-0.6741)*(1-0.6741) = 0.1062"
   ]
  },
  {
   "cell_type": "code",
   "execution_count": null,
   "metadata": {},
   "outputs": [],
   "source": []
  }
 ],
 "metadata": {
  "kernelspec": {
   "display_name": "Python 3",
   "language": "python",
   "name": "python3"
  },
  "language_info": {
   "codemirror_mode": {
    "name": "ipython",
    "version": 3
   },
   "file_extension": ".py",
   "mimetype": "text/x-python",
   "name": "python",
   "nbconvert_exporter": "python",
   "pygments_lexer": "ipython3",
   "version": "3.9.7"
  }
 },
 "nbformat": 4,
 "nbformat_minor": 2
}
