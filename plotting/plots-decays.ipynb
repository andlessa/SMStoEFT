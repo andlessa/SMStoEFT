{
 "cells": [
  {
   "cell_type": "markdown",
   "metadata": {},
   "source": [
    "# Plot"
   ]
  },
  {
   "cell_type": "code",
   "execution_count": 10,
   "metadata": {},
   "outputs": [],
   "source": [
    "import warnings\n",
    "warnings.filterwarnings(\"ignore\", message=\"numpy.dtype size changed\")\n",
    "import numpy as np\n",
    "import pandas as pd\n",
    "import matplotlib.pyplot as plt\n",
    "import seaborn as sns\n",
    "import glob\n",
    "import sys\n",
    "import random\n",
    "sys.path.append('../')\n",
    "from auxPlots import getInfo, getDistributions, getATLASdistributions,getLHEevents\n",
    "\n",
    "pd.option_context('display.max_columns', -1)\n",
    "\n",
    "pd.options.mode.chained_assignment = None #Disable copy warnings\n",
    "# plt.style.use('fivethirtyeight') #Set style\n",
    "# mpl.rcParams.update({'figure.figsize' : (15,10)})  #Set general plotting options\n",
    "plt.rcParams.update({\n",
    "    \"text.usetex\": True,\n",
    "    \"font.family\": \"sans-serif\",\n",
    "    \"font.sans-serif\": [\"Helvetica\"]})\n",
    "\n",
    "plt.rcParams.update({\"savefig.dpi\" : 300}) #Figure resolution\n",
    "\n",
    "\n",
    "#Define plotting style:\n",
    "sns.set_style('ticks',{'font.family':'Times New Roman', 'font.serif':'Times New Roman'})\n",
    "sns.set_context('paper', font_scale=1.8)\n",
    "cm = plt.colormaps['RdYlBu']"
   ]
  },
  {
   "cell_type": "code",
   "execution_count": 16,
   "metadata": {},
   "outputs": [],
   "source": [
    "files = list(glob.glob('../../processFolders/pp_formFactors_scan/Events/*decayed*/unweighted_events.lhe.gz'))"
   ]
  },
  {
   "cell_type": "code",
   "execution_count": 17,
   "metadata": {},
   "outputs": [
    {
     "name": "stdout",
     "output_type": "stream",
     "text": [
      "['1-loop']\n",
      "[(500.0, 400.0, 172.5, 1.0)]\n",
      "['$p p \\\\to \\\\bar{t} t$']\n"
     ]
    }
   ],
   "source": [
    "# Get info\n",
    "fileData = {f : getInfo(f) for f in files}\n",
    "# Set SM model by hand:\n",
    "\n",
    "allModels = sorted(list(set([info['model'] for info in fileData.values()])))\n",
    "allPars = sorted(list(set([info['(mST,mChi,mT,yDM)'] for info in fileData.values()])))\n",
    "allProcesses = sorted(list(set([info['process'] for info in fileData.values()])))\n",
    "print(allModels)\n",
    "print(allPars)\n",
    "print(allProcesses)"
   ]
  },
  {
   "cell_type": "code",
   "execution_count": 18,
   "metadata": {},
   "outputs": [],
   "source": [
    "# Select files:\n",
    "models = ['1-loop']\n",
    "pars = [(500.,400.,172.5,1.0)]\n",
    "procs = allProcesses[:]\n",
    "\n",
    "bsmFiles = []\n",
    "smFiles = []\n",
    "for f,fInfo in fileData.items():\n",
    "    if fInfo['model'] not in models:\n",
    "        continue\n",
    "    if fInfo['process'] not in procs:\n",
    "        continue\n",
    "        \n",
    "    if fInfo['model'] == 'SM':\n",
    "        smFiles.append(f)\n",
    "    else:\n",
    "        if fInfo['(mST,mChi,mT,yDM)'] not in pars:\n",
    "            continue\n",
    "        bsmFiles.append(f)\n",
    "    \n",
    "# print(bsmFiles)\n",
    "# print(smFiles)\n",
    "# Sort files so largest cross-sections come first\n",
    "bsmFiles = sorted(bsmFiles, key = lambda f: (fileData[f]['process'],fileData[f]['model']), reverse=True)\n",
    "smFiles = sorted(smFiles, key = lambda f: fileData[f]['process'], reverse=True)\n",
    "selectedFiles = smFiles+bsmFiles"
   ]
  },
  {
   "cell_type": "code",
   "execution_count": 19,
   "metadata": {},
   "outputs": [
    {
     "name": "stdout",
     "output_type": "stream",
     "text": [
      "1\n",
      "../../processFolders/pp_formFactors_scan/Events/run_01_decayed_1/unweighted_events.lhe.gz\n"
     ]
    }
   ],
   "source": [
    "print(len(selectedFiles))\n",
    "for f in selectedFiles:\n",
    "    print(f)"
   ]
  },
  {
   "cell_type": "code",
   "execution_count": 20,
   "metadata": {},
   "outputs": [],
   "source": [
    "for f in selectedFiles:\n",
    "    nevents,events = getLHEevents(f)\n",
    "    break"
   ]
  },
  {
   "cell_type": "code",
   "execution_count": 21,
   "metadata": {},
   "outputs": [
    {
     "name": "stdout",
     "output_type": "stream",
     "text": [
      "1.0 -1.0\n",
      "-1.0 -1.0\n",
      "6.0 2.0\n",
      "5.0 1.0\n",
      "24.0 2.0\n",
      "16.0 1.0\n",
      "-15.0 1.0\n",
      "-6.0 2.0\n",
      "-5.0 1.0\n",
      "-24.0 2.0\n",
      "1.0 1.0\n",
      "-2.0 1.0\n"
     ]
    }
   ],
   "source": [
    "for ev in events:\n",
    "    for ptc in ev.particles:\n",
    "        print(ptc.id,ptc.status)\n",
    "    break\n",
    "    "
   ]
  },
  {
   "cell_type": "markdown",
   "metadata": {},
   "source": [
    "### Get final states without cuts"
   ]
  },
  {
   "cell_type": "code",
   "execution_count": 23,
   "metadata": {},
   "outputs": [],
   "source": [
    "dists = {f : {} for f in selectedFiles}\n",
    "for f in selectedFiles:\n",
    "    nevents,events = getLHEevents(f)\n",
    "    for ev in events:\n",
    "        finalStates = tuple(sorted([abs(ptc.id) for ptc in ev.particles if ptc.status == 1.0]))\n",
    "        if finalStates not in dists[f]:\n",
    "            dists[f][finalStates] = 0\n",
    "        dists[f][finalStates] += 1"
   ]
  },
  {
   "cell_type": "code",
   "execution_count": 27,
   "metadata": {},
   "outputs": [
    {
     "name": "stdout",
     "output_type": "stream",
     "text": [
      "(1.0, 1.0, 2.0, 2.0, 5.0, 5.0) 0.12\n",
      "(1.0, 2.0, 3.0, 4.0, 5.0, 5.0) 0.224\n",
      "(1.0, 2.0, 5.0, 5.0, 11.0, 12.0) 0.072\n",
      "(1.0, 2.0, 5.0, 5.0, 13.0, 14.0) 0.068\n",
      "(1.0, 2.0, 5.0, 5.0, 15.0, 16.0) 0.072\n",
      "(3.0, 3.0, 4.0, 4.0, 5.0, 5.0) 0.104\n",
      "(3.0, 4.0, 5.0, 5.0, 11.0, 12.0) 0.078\n",
      "(3.0, 4.0, 5.0, 5.0, 13.0, 14.0) 0.075\n",
      "(3.0, 4.0, 5.0, 5.0, 15.0, 16.0) 0.081\n",
      "(5.0, 5.0, 11.0, 11.0, 12.0, 12.0) 0.006\n",
      "(5.0, 5.0, 11.0, 12.0, 13.0, 14.0) 0.033\n",
      "(5.0, 5.0, 11.0, 12.0, 15.0, 16.0) 0.02\n",
      "(5.0, 5.0, 13.0, 13.0, 14.0, 14.0) 0.01\n",
      "(5.0, 5.0, 13.0, 14.0, 15.0, 16.0) 0.019\n",
      "(5.0, 5.0, 15.0, 15.0, 16.0, 16.0) 0.018\n"
     ]
    }
   ],
   "source": [
    "for f in dists:\n",
    "    for fs in sorted(dists[f].keys()):\n",
    "        print(fs,float(dists[f][fs])/nevents)"
   ]
  },
  {
   "cell_type": "code",
   "execution_count": 28,
   "metadata": {},
   "outputs": [
    {
     "name": "stdout",
     "output_type": "stream",
     "text": [
      "0.44799999999999995 0.44600000000000006 0.106\n"
     ]
    }
   ],
   "source": [
    "nhadronic = 0.12+0.224+0.104 # expected = 0.6741*0.6741 = 0.4544\n",
    "nsemileptonic = 0.072+0.068+0.072+0.078+0.075+0.081 # expected = 2*0.6741*(1-0.6741) = 0.439378\n",
    "nleptonic = 0.006+0.033+0.02+0.01+0.019+0.018 # expected = (1-0.6741)*(1-0.6741) = 0.1062\n",
    "print(nhadronic,nsemileptonic,nleptonic)"
   ]
  },
  {
   "cell_type": "code",
   "execution_count": null,
   "metadata": {},
   "outputs": [],
   "source": []
  }
 ],
 "metadata": {
  "kernelspec": {
   "display_name": "Python 3 (ipykernel)",
   "language": "python",
   "name": "python3"
  },
  "language_info": {
   "codemirror_mode": {
    "name": "ipython",
    "version": 3
   },
   "file_extension": ".py",
   "mimetype": "text/x-python",
   "name": "python",
   "nbconvert_exporter": "python",
   "pygments_lexer": "ipython3",
   "version": "3.10.12"
  }
 },
 "nbformat": 4,
 "nbformat_minor": 2
}
