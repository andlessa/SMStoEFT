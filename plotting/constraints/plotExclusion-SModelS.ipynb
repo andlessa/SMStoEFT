{
 "cells": [
  {
   "cell_type": "markdown",
   "metadata": {},
   "source": [
    "# Plot scan"
   ]
  },
  {
   "cell_type": "code",
   "execution_count": 19,
   "metadata": {},
   "outputs": [],
   "source": [
    "import warnings\n",
    "warnings.filterwarnings(\"ignore\", message=\"numpy.dtype size changed\")\n",
    "import numpy as np\n",
    "import pandas as pd\n",
    "import matplotlib.pyplot as plt\n",
    "import seaborn as sns\n",
    "import sys\n",
    "sys.path.append('../')\n",
    "from auxPlots import interpolateData,getContours,saveContours\n",
    "pd.option_context('display.max_columns', -1)\n",
    "\n",
    "pd.options.mode.chained_assignment = None #Disable copy warnings\n",
    "# plt.style.use('fivethirtyeight') #Set style\n",
    "# mpl.rcParams.update({'figure.figsize' : (15,10)})  #Set general plotting options\n",
    "plt.rcParams.update({\n",
    "    \"text.usetex\": True,\n",
    "    \"font.family\": \"sans-serif\",\n",
    "    \"font.sans-serif\": [\"Helvetica\"]})\n",
    "\n",
    "plt.rcParams.update({\"savefig.dpi\" : 300}) #Figure resolution\n",
    "\n",
    "\n",
    "#Define plotting style:\n",
    "sns.set() #Set style\n",
    "sns.set_style('ticks',{'font.family':'Times New Roman', 'font.serif':'Times New Roman'})\n",
    "sns.set_context('paper', font_scale=1.8)\n",
    "cm = plt.colormaps['RdYlBu']"
   ]
  },
  {
   "cell_type": "markdown",
   "metadata": {},
   "source": [
    "#### Create txname/process translator"
   ]
  },
  {
   "cell_type": "code",
   "execution_count": 20,
   "metadata": {},
   "outputs": [],
   "source": [
    "processDict = {'T2tt' : r'$\\tilde{t} \\, \\tilde{t}, \\tilde{t} \\to t \\chi$',\n",
    "              'T2bbffff' : r'$\\tilde{t} \\, \\tilde{t}, \\tilde{t} \\to b W^* \\chi$',\n",
    "              'T2bbWW' : r'$\\tilde{t} \\, \\tilde{t}, \\tilde{t} \\to b W \\chi$'}\n",
    "def convertLabel(label):\n",
    "    newlabel = label[:]\n",
    "    #Replace txnames by process\n",
    "    for txlabel,proc in processDict.items():\n",
    "        newlabel = newlabel.replace(txlabel,proc) \n",
    "    #Remove off-shell Ws and Zs from ATLAS analyses (since they only appear in on-shell cases)\n",
    "    if 'ATLAS' in newlabel:\n",
    "        newlabel = newlabel.replace('W^{(*)} Z^{(*)}', 'W Z')\n",
    "    return newlabel\n"
   ]
  },
  {
   "cell_type": "code",
   "execution_count": 21,
   "metadata": {},
   "outputs": [],
   "source": [
    "#Merge with SModelS DataFrame\n",
    "dataDF = pd.read_pickle('../../smodelsOutput/sms_smodels.pcl')\n",
    "# print(dataDF.columns.values.tolist()) #Print all columns names"
   ]
  },
  {
   "cell_type": "markdown",
   "metadata": {},
   "source": [
    "#### Set r = 0 for points with no results "
   ]
  },
  {
   "cell_type": "code",
   "execution_count": 22,
   "metadata": {},
   "outputs": [],
   "source": [
    "#Set points without results with r == 0\n",
    "dataDF.fillna(value={'ExptRes.result0.r' : 0.0},inplace=True)\n",
    "#Sort points according to r value:\n",
    "dataDF = dataDF.sort_values(by=['ExptRes.result0.r'],ascending=False)"
   ]
  },
  {
   "cell_type": "markdown",
   "metadata": {},
   "source": [
    "#### Define exclusions"
   ]
  },
  {
   "cell_type": "code",
   "execution_count": 23,
   "metadata": {},
   "outputs": [],
   "source": [
    "#Add simple flag for excluded points:\n",
    "newDF = dataDF.copy()\n",
    "newDF['excludedLHC'] = dataDF['ExptRes.result0.r'] > 1.0/1.6"
   ]
  },
  {
   "cell_type": "markdown",
   "metadata": {},
   "source": [
    "#### Add c*tau and deltaM columns"
   ]
  },
  {
   "cell_type": "code",
   "execution_count": 24,
   "metadata": {},
   "outputs": [],
   "source": [
    "newDF['ctau.5000002'] = 1.967e-16/dataDF['width.5000002']\n",
    "newDF['deltaM'] = dataDF['mass.5000002']-dataDF['mass.5000012']"
   ]
  },
  {
   "cell_type": "markdown",
   "metadata": {},
   "source": [
    "### Get points excluded:"
   ]
  },
  {
   "cell_type": "code",
   "execution_count": 25,
   "metadata": {},
   "outputs": [
    {
     "name": "stdout",
     "output_type": "stream",
     "text": [
      "Total number of points = 207\n",
      "Total excluded (LHC) = 72\n",
      "Total allowed = 135\n",
      "\n"
     ]
    }
   ],
   "source": [
    "dataDF = newDF\n",
    "excluded = dataDF[dataDF['excludedLHC'] == True]\n",
    "allowed = dataDF[(dataDF['excludedLHC'] == False)]\n",
    "\n",
    "print('Total number of points = %i' %len(dataDF))\n",
    "print('Total excluded (LHC) = %i'%(len(excluded)))\n",
    "print('Total allowed = %i\\n'%(len(allowed)))\n",
    "\n",
    "# print('Total excluded (r > %1.2f) = %i'%(rscale,len(excludedSC)))\n",
    "# print('Total allowed (r > %1.2f) = %i'%(rscale,len(allowedSC)))\n"
   ]
  },
  {
   "cell_type": "markdown",
   "metadata": {},
   "source": [
    "### Split data frame by analyis/txname"
   ]
  },
  {
   "cell_type": "code",
   "execution_count": 26,
   "metadata": {},
   "outputs": [],
   "source": [
    "allAnas = []\n",
    "allTx = []\n",
    "useDF = dataDF\n",
    "anaIDcols = [c for c in useDF.columns if '.AnalysisID' in c]\n",
    "txIDcols = [c for c in useDF.columns if '.TxNames' in c]\n",
    "for c in anaIDcols:\n",
    "    allAnas += useDF[c].values.tolist()\n",
    "for c in txIDcols:\n",
    "    allTx += useDF[c].values.tolist()\n",
    "\n",
    "allAnas = [a for a in allAnas if isinstance(a,str)]\n",
    "allAnas = sorted(list(set(allAnas)))\n",
    "allTx = [tuple(a) for a in allTx if isinstance(a,list)]\n",
    "allTx = sorted(list(set(allTx)))\n",
    "anaDFs = {}\n",
    "for a in allAnas:\n",
    "    anaDFs[a] = {}\n",
    "    newrowList = []\n",
    "    for irow,row in useDF.iterrows():\n",
    "        ires = [col for col in anaIDcols if (row[col] == a)]\n",
    "        if not ires:\n",
    "            continue\n",
    "        ires = ires[0]\n",
    "        ires = ires.rsplit('.',1)[0]\n",
    "        newrow = { }\n",
    "        for c in dataDF.columns:\n",
    "            if not 'ExptRes.result' in c:\n",
    "                newrow[c] = row[c]\n",
    "            elif c.rsplit('.',1)[0] == ires:\n",
    "                newrow[c.replace(ires,'ExptRes.result')] = row[c]\n",
    "        newrowList.append(newrow)\n",
    "    if len(newrowList) != 0:\n",
    "        anaDFs[a] = pd.DataFrame.from_dict(newrowList)\n",
    "    # for tx in allTx:\n",
    "    #     newrowList = []\n",
    "    #     for irow,row in useDF.iterrows():\n",
    "    #         ires = [col for col in anaIDcols if ((row[col] == a)  and row[col.replace('AnalysisID','TxNames')] == list(tx))]\n",
    "    #         if not ires:\n",
    "    #             continue\n",
    "    #         ires = min(ires).rsplit('.',1)[0]\n",
    "    #         newrow = { }\n",
    "    #         for c in dataDF.columns:\n",
    "    #             if not 'ExptRes.result' in c:\n",
    "    #                 newrow[c] = row[c]\n",
    "    #             elif c.rsplit('.',1)[0] == ires:\n",
    "    #                 newrow[c.replace(ires,'ExptRes.result')] = row[c]\n",
    "    #         newrowList.append(newrow)\n",
    "    #     if len(newrowList) != 0:\n",
    "    #         anaDFs[a][tx] = pd.DataFrame.from_dict(newrowList)"
   ]
  },
  {
   "cell_type": "markdown",
   "metadata": {},
   "source": [
    "### Create analysis label for excluded points"
   ]
  },
  {
   "cell_type": "code",
   "execution_count": 27,
   "metadata": {},
   "outputs": [],
   "source": [
    "anas = excluded['ExptRes.result0.AnalysisID'].value_counts()\n",
    "anas.sort_values(inplace=True,ascending=False)\n",
    "\n",
    "    \n",
    "labels = []\n",
    "for index, row in excluded.iterrows():\n",
    "    ana = row['ExptRes.result0.AnalysisID']\n",
    "    txList = sorted(row['ExptRes.result0.TxNames'])\n",
    "    label = ana + ' (' + ','.join(txList) + ')'\n",
    "    label = label.replace('off','') #Group together on and off-shell topologies\n",
    "    labels.append(label)\n",
    "excluded['label'] = labels\n"
   ]
  },
  {
   "cell_type": "code",
   "execution_count": 28,
   "metadata": {},
   "outputs": [
    {
     "name": "stdout",
     "output_type": "stream",
     "text": [
      "CMS-SUS-20-002 (T2tt): 47\n",
      "CMS-SUS-19-006-agg (T2tt): 14\n",
      "CMS-SUS-19-010 (T2ttC): 6\n",
      "ATLAS-SUSY-2018-12 (T2bbffff): 4\n",
      "CMS-SUS-18-004 (T2bbffff): 1\n"
     ]
    }
   ],
   "source": [
    "nexcluded = [[len(excluded[excluded['label'] == label]),label] for label in excluded['label'].unique()]\n",
    "nexcluded = sorted(nexcluded,reverse=True)\n",
    "nexcluded = np.array(nexcluded)\n",
    "for label in nexcluded[:,1]:\n",
    "    print(label+': %i'%len(excluded[excluded['label'] == label]))"
   ]
  },
  {
   "cell_type": "markdown",
   "metadata": {},
   "source": [
    "### Define colors and plotting order"
   ]
  },
  {
   "cell_type": "code",
   "execution_count": 29,
   "metadata": {},
   "outputs": [],
   "source": [
    "colors = sns.color_palette(\"Paired\",len(excluded['label'].unique()))\n",
    "colorsPink = sns.color_palette(\"colorblind\",8)\n",
    "colorDict = {'CMS-SUS-20-002 (T2tt)' : colorsPink[4], #light pink\n",
    "             'CMS-SUS-16-033 (T2tt)' : colors[4], #red\n",
    "             'CMS-SUS-19-006-agg (T2tt)' : colors[1], #dark blue\n",
    "             'ATLAS-SUSY-2018-12 (T2bbffff)' : colors[3], #dark green\n",
    "             'CMS-PAS-SUS-16-052 (T2bbWW)' : colors[0], #light blue\n",
    "             'Other' : colors[2] #dark purple\n",
    "             }\n",
    "#Define plotting order:\n",
    "plottingOrder = nexcluded[:,1]\n",
    "#Add other analyses\n",
    "for ana in excluded['label'].unique():\n",
    "    if not ana in plottingOrder:\n",
    "        plottingOrder.append(ana)"
   ]
  },
  {
   "cell_type": "markdown",
   "metadata": {},
   "source": [
    "### Plot excluded points grouped by most excluding analysis"
   ]
  },
  {
   "cell_type": "code",
   "execution_count": 30,
   "metadata": {},
   "outputs": [
    {
     "data": {
      "image/png": "[encoded data removed]",
      "text/plain": [
       "<Figure size 720x288 with 1 Axes>"
      ]
     },
     "metadata": {},
     "output_type": "display_data"
    }
   ],
   "source": [
    "anas = excluded['label'].value_counts()\n",
    "anas.sort_values(inplace=True,ascending=False)\n",
    "\n",
    "plt.figure(figsize=(10,4))\n",
    "\n",
    "x = allowed['mass.5000002']\n",
    "y = allowed['deltaM']\n",
    "# y = allowed['mass.5000012']\n",
    "c_other = 'lightgray'\n",
    "plt.scatter(x,y,color=c_other,label='All',s=60)\n",
    "\n",
    "otherLabel = 'Others'\n",
    "for ana in plottingOrder:\n",
    "    x = excluded[excluded['label'] == ana]['mass.5000002']\n",
    "    y = excluded[excluded['label'] == ana]['deltaM']\n",
    "    if not ana in colorDict:\n",
    "        color = colorDict['Other']        \n",
    "        plt.scatter(x,y,color=color,label=otherLabel,s=90)\n",
    "        otherLabel = None #suppress repeated label\n",
    "    else:\n",
    "        color = colorDict[ana]\n",
    "        label = convertLabel(ana)\n",
    "        plt.scatter(x,y,color=color,label=label,s=90)\n",
    "\n",
    "\n",
    "lgd = plt.legend(loc=(1.01,0.2), framealpha=1.,fontsize=15)\n",
    "plt.yscale('log')\n",
    "plt.xlabel(r'$M_{\\tilde{t}}$ (GeV)')\n",
    "plt.ylabel(r'$\\Delta M$ (GeV)')\n",
    "plt.tight_layout()\n",
    "# plt.savefig('stop_exclusion_deltaM.png')\n",
    "plt.xlim(0,1500)\n",
    "# plt.ylim(0,1000)\n",
    "plt.grid()\n",
    "plt.show()"
   ]
  },
  {
   "cell_type": "code",
   "execution_count": 37,
   "metadata": {},
   "outputs": [],
   "source": [
    "contoursDictAna = {}\n",
    "for ana in anaDFs:\n",
    "    anaDF = anaDFs[ana]\n",
    "    if len(anaDF[anaDF['ExptRes.result.r'] > 1.0]) == 0:\n",
    "        continue\n",
    "    x = anaDF['mass.5000002']\n",
    "    dm = anaDF['deltaM']\n",
    "    z = anaDF['ExptRes.result.r']\n",
    "    xnew,ynew,znew = interpolateData(x,dm,z)\n",
    "    if xnew is None:\n",
    "        continue\n",
    "    # Get contours\n",
    "    cValues = sorted([1.,1./1.5])\n",
    "    cList = getContours(xnew,ynew,znew,cValues)[1./1.5]\n",
    "    if len(cList) > 0:\n",
    "        contoursDictAna[ana] = cList\n"
   ]
  },
  {
   "cell_type": "code",
   "execution_count": 33,
   "metadata": {},
   "outputs": [],
   "source": [
    "# Interpolate to create more points\n",
    "x = dataDF['mass.5000002']\n",
    "dm = dataDF['deltaM']\n",
    "z = dataDF['ExptRes.result0.r']\n",
    "xnew,ynew,znew = interpolateData(x,dm,z)\n",
    "# Get contours\n",
    "cValues = sorted([1.,1./1.5])\n",
    "contoursDict = getContours(xnew,ynew,znew,cValues)"
   ]
  },
  {
   "cell_type": "code",
   "execution_count": 34,
   "metadata": {},
   "outputs": [
    {
     "data": {
      "image/png": "[encoded data removed]",
      "text/plain": [
       "<Figure size 432x288 with 2 Axes>"
      ]
     },
     "metadata": {},
     "output_type": "display_data"
    }
   ],
   "source": [
    "plt.figure(figsize=(6,4))\n",
    "plt.imshow(znew.T, extent=[x.min(),x.max(), dm.min(), dm.max()], origin='lower',\n",
    "                  cmap=cm,aspect='auto',vmin=0,vmax=2)\n",
    "plt.colorbar(label=r'$r$-value')\n",
    "plt.xlabel(r'$m_{T}$ (GeV)')\n",
    "plt.ylabel(r'$\\Delta M$ (GeV)')\n",
    "contours = plt.contour(xnew, ynew, znew, cValues, colors='black',linestyles='dashed')\n",
    "plt.clabel(contours, inline=True, fontsize=18)\n",
    "# plt.yscale('log')\n",
    "plt.title('Direct Searches')\n",
    "plt.yscale('log')\n",
    "plt.xlabel(r'$M_{\\tilde{t}}$ (GeV)')\n",
    "plt.ylabel(r'$\\Delta M$ (GeV)')\n",
    "plt.ylim(10.,500.)\n",
    "plt.tight_layout()\n",
    "plt.show()"
   ]
  },
  {
   "cell_type": "markdown",
   "metadata": {},
   "source": [
    "### Save contour curves to text files"
   ]
  },
  {
   "cell_type": "code",
   "execution_count": 35,
   "metadata": {},
   "outputs": [
    {
     "name": "stdout",
     "output_type": "stream",
     "text": [
      "Contours saved to SModelS_contours.csv\n"
     ]
    }
   ],
   "source": [
    "fname = 'SModelS_contours.csv'\n",
    "saveContours(contoursDict,fname,header='mST_GeV,deltaM_GeV')\n"
   ]
  },
  {
   "cell_type": "code",
   "execution_count": null,
   "metadata": {},
   "outputs": [],
   "source": []
  }
 ],
 "metadata": {
  "kernelspec": {
   "display_name": "Python 3 (ipykernel)",
   "language": "python",
   "name": "python3"
  },
  "language_info": {
   "codemirror_mode": {
    "name": "ipython",
    "version": 3
   },
   "file_extension": ".py",
   "mimetype": "text/x-python",
   "name": "python",
   "nbconvert_exporter": "python",
   "pygments_lexer": "ipython3",
   "version": "3.10.12"
  }
 },
 "nbformat": 4,
 "nbformat_minor": 2
}
