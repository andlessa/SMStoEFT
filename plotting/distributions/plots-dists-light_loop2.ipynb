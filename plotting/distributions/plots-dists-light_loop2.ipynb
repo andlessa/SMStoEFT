{
 "cells": [
  {
   "cell_type": "markdown",
   "metadata": {},
   "source": [
    "# Plot"
   ]
  },
  {
   "cell_type": "code",
   "execution_count": 1,
   "metadata": {},
   "outputs": [],
   "source": [
    "import warnings\n",
    "warnings.filterwarnings(\"ignore\", message=\"numpy.dtype size changed\")\n",
    "import numpy as np\n",
    "import pandas as pd\n",
    "import matplotlib.pyplot as plt\n",
    "import seaborn as sns\n",
    "import glob\n",
    "import sys\n",
    "import random\n",
    "sys.path.append('../')\n",
    "from auxPlots import getInfo, getDistributions, getATLASdistributions\n",
    "\n",
    "pd.option_context('display.max_columns', -1)\n",
    "\n",
    "pd.options.mode.chained_assignment = None #Disable copy warnings\n",
    "# plt.style.use('fivethirtyeight') #Set style\n",
    "# mpl.rcParams.update({'figure.figsize' : (15,10)})  #Set general plotting options\n",
    "plt.rcParams.update({\n",
    "    \"text.usetex\": True,\n",
    "    \"font.family\": \"sans-serif\",\n",
    "    \"font.sans-serif\": [\"Helvetica\"]})\n",
    "\n",
    "plt.rcParams.update({\"savefig.dpi\" : 300}) #Figure resolution\n",
    "\n",
    "\n",
    "#Define plotting style:\n",
    "sns.set() #Set style\n",
    "sns.set_style('ticks',{'font.family':'Times New Roman', 'font.serif':'Times New Roman'})\n",
    "sns.set_context('paper', font_scale=1.8)\n",
    "cm = plt.colormaps['RdYlBu']"
   ]
  },
  {
   "cell_type": "code",
   "execution_count": 2,
   "metadata": {},
   "outputs": [],
   "source": [
    "# files = list(glob.glob('../../pp2tt_NP/Events/run_03/events.lhe.gz'))\n",
    "files = ['../../gg2tt_NP/Events/run_13/events.lhe.gz',\n",
    "        #  '../../qq2tt_NP/Events/run_04/events.lhe.gz'\n",
    "         ]\n",
    "smFiles = ['../../gg2tt_LO/Events/run_01/unweighted_events.lhe.gz',\n",
    "        #    '../../qq2tt_LO/Events/run_01/unweighted_events.lhe.gz'\n",
    "           ]\n",
    "bsmFiles = files[:]"
   ]
  },
  {
   "cell_type": "code",
   "execution_count": 3,
   "metadata": {},
   "outputs": [
    {
     "name": "stdout",
     "output_type": "stream",
     "text": [
      "['BSM', 'SM']\n",
      "[(500.0, 400.0, 172.0, 5.0), (500.0, 400.0, 172.0, 20.0)]\n",
      "['$g g \\\\to \\\\bar{t} t$', '$p p \\\\to \\\\bar{t} t$']\n"
     ]
    }
   ],
   "source": [
    "# Get info\n",
    "fileData = {f : getInfo(f) for f in smFiles+bsmFiles}\n",
    "for f in smFiles:\n",
    "    fileData[f]['model'] = 'SM'\n",
    "for f in bsmFiles:\n",
    "    fileData[f]['model'] = 'BSM'\n",
    "# Set SM model by hand:\n",
    "\n",
    "allModels = sorted(list(set([info['model'] for info in fileData.values()])))\n",
    "allPars = sorted(list(set([info['(mST,mChi,mT,yDM)'] for info in fileData.values()])))\n",
    "allProcesses = sorted(list(set([info['process'] for info in fileData.values()])))\n",
    "print(allModels)\n",
    "print(allPars)\n",
    "print(allProcesses)"
   ]
  },
  {
   "cell_type": "code",
   "execution_count": 4,
   "metadata": {},
   "outputs": [],
   "source": [
    "# # Select files:\n",
    "# models = ['SM','1-loop', 'EFT']\n",
    "# pars = [(500.,400.,172.5,1.0)]\n",
    "# procs = allProcesses[:]\n",
    "\n",
    "# bsmFiles = files[:]\n",
    "# smFiles = []\n",
    "# for f,fInfo in fileData.items():\n",
    "#     if fInfo['model'] not in models:\n",
    "#         continue\n",
    "#     if fInfo['process'] not in procs:\n",
    "#         continue\n",
    "        \n",
    "#     if fInfo['model'] == 'SM':\n",
    "#         smFiles.append(f)\n",
    "#     else:\n",
    "#         if fInfo['(mST,mChi,mT,yDM)'] not in pars:\n",
    "#             continue\n",
    "#         bsmFiles.append(f)\n",
    "    \n",
    "# print(bsmFiles)\n",
    "# print(smFiles)\n",
    "# Sort files so largest cross-sections come first\n",
    "bsmFiles = sorted(bsmFiles, key = lambda f: (fileData[f]['process'],fileData[f]['model']), reverse=True)\n",
    "smFiles = sorted(smFiles, key = lambda f: fileData[f]['process'], reverse=True)\n",
    "selectedFiles = smFiles+bsmFiles"
   ]
  },
  {
   "cell_type": "code",
   "execution_count": 5,
   "metadata": {},
   "outputs": [
    {
     "name": "stdout",
     "output_type": "stream",
     "text": [
      "2\n",
      "../../gg2tt_LO/Events/run_01/unweighted_events.lhe.gz\n",
      "../../gg2tt_NP/Events/run_13/events.lhe.gz\n"
     ]
    }
   ],
   "source": [
    "print(len(selectedFiles))\n",
    "for f in selectedFiles:\n",
    "    print(f)"
   ]
  },
  {
   "cell_type": "markdown",
   "metadata": {},
   "source": [
    "### Get distributions without cuts"
   ]
  },
  {
   "cell_type": "code",
   "execution_count": 6,
   "metadata": {},
   "outputs": [],
   "source": [
    "\n",
    "dists = {f : getDistributions(f) for f in selectedFiles}\n",
    "# Randomly choose one of the momenta to use as the hadronic top pT\n",
    "for f in dists:\n",
    "    dists[f]['pTh'] = []\n",
    "    for i,pt1 in enumerate(dists[f]['pT1']):\n",
    "        pt2 =dists[f]['pT2'][i]\n",
    "        dists[f]['pTh'].append(random.choice([pt1,pt2]))"
   ]
  },
  {
   "cell_type": "code",
   "execution_count": 7,
   "metadata": {},
   "outputs": [
    {
     "name": "stdout",
     "output_type": "stream",
     "text": [
      "\n",
      " SM : $g g \\to \\bar{t} t$\n",
      "total xsec    =  453.314739612061\n",
      "MC events     =  150000\n",
      "\n",
      " BSM : $p p \\to \\bar{t} t$\n",
      "total xsec    =  404.8410958914458\n",
      "MC events     =  50000\n"
     ]
    }
   ],
   "source": [
    "for f,res in dists.items():    \n",
    "    print('\\n %s : %s' %(fileData[f]['model'],fileData[f]['process']))\n",
    "    print('total xsec    = ',sum(res['weights']))\n",
    "    print('MC events     = ',res['nevents'])"
   ]
  },
  {
   "cell_type": "code",
   "execution_count": 8,
   "metadata": {},
   "outputs": [],
   "source": [
    "# Define colors\n",
    "colors = {f : sns.color_palette('Paired')[i+1] for i,f in enumerate(dists.keys())}"
   ]
  },
  {
   "cell_type": "markdown",
   "metadata": {},
   "source": [
    "### Plot invariant mass"
   ]
  },
  {
   "cell_type": "code",
   "execution_count": 11,
   "metadata": {},
   "outputs": [
    {
     "name": "stderr",
     "output_type": "stream",
     "text": [
      "No artists with labels found to put in legend.  Note that artists whose label start with an underscore are ignored when legend() is called with no argument.\n"
     ]
    },
    {
     "name": "stdout",
     "output_type": "stream",
     "text": [
      "diff 10.7754945182078 194.01575878769347 $p p \\to \\bar{t} t$ (BSM) $g g \\to \\bar{t} t$ (SM)\n"
     ]
    },
    {
     "data": {
      "image/png": "[encoded data removed]",
      "text/plain": [
       "<Figure size 800x800 with 2 Axes>"
      ]
     },
     "metadata": {},
     "output_type": "display_data"
    }
   ],
   "source": [
    "# Define scale factor (new yDM value)\n",
    "kscales = {f : 1.0 for f in smFiles} # The factor of 2 is to account for the 2 possible ttbar decays: (t -> jj, tbar->l nu) + (t -> l nu, tbar->jj)\n",
    "yDM = 5.0\n",
    "kscales.update({f : 1.0*(yDM/fileData[f]['(mST,mChi,mT,yDM)'][-1])**2 for f in bsmFiles})\n",
    "\n",
    "_, axarr = plt.subplots(2,sharex=True, gridspec_kw = {'height_ratios':[2, 1]},figsize=(8,8))\n",
    "plt.subplots_adjust(left=0.12, bottom=0.12, right=0.97, top=None, wspace=None, hspace=0.1)\n",
    "bins = np.arange(500.,3000.,50.)\n",
    "\n",
    "labels = []\n",
    "pmodels = []\n",
    "hists = []\n",
    "histsErr = []\n",
    "c = []\n",
    "ks = []\n",
    "for f in dists:\n",
    "    process = fileData[f]['process']\n",
    "    model = fileData[f]['model']\n",
    "    mST,mChi,mT,_ = fileData[f]['(mST,mChi,mT,yDM)']\n",
    "    \n",
    "    kscale = kscales[f]\n",
    "    pmodels.append(r'%s (%s)' %(process,model))\n",
    "    label = pmodels[-1]\n",
    "    labels.append(label)\n",
    "    c.append(colors[f])\n",
    "    ks.append(kscale)\n",
    "    h,_ = np.histogram(dists[f]['mTT'],bins=bins,weights=kscale*dists[f]['weights'])\n",
    "    hists.append(h)\n",
    "    #Compute MC error\n",
    "    hErr,_ = np.histogram(dists[f]['mTT'],bins=bins,weights=(kscale*dists[f]['weights'])**2)\n",
    "    hErr = np.sqrt(hErr)    \n",
    "    histsErr.append(hErr)\n",
    "    \n",
    "\n",
    "histsSM = [h for i,h in enumerate(hists) if 'SM' in labels[i] and ('BSM' not in labels[i])]    \n",
    "histsErrSM = [h for i,h in enumerate(histsErr) if 'SM' in labels[i] and ('BSM' not in labels[i])]\n",
    "labelsSM = [l for i,l in enumerate(labels) if 'SM' in labels[i] and ('BSM' not in labels[i])]    \n",
    "cSM =  [cc for i,cc in enumerate(c) if 'SM' in labels[i] and ('BSM' not in labels[i])]    \n",
    "axarr[0].hist([bins[:-1]]*len(histsSM),label=labelsSM,bins=bins,\n",
    "                          weights=histsSM,alpha=0.3,density=True,\n",
    "                          linewidth=0,color=cSM,stacked=True)\n",
    "\n",
    "hSM = sum([hh for hh in histsSM[:]])\n",
    "hErrSM = np.sqrt(sum([hh**2 for hh in histsErrSM[:]]))\n",
    "bin_centers = (bins[1:]+bins[0:-1])/2.0\n",
    "axarr[0].errorbar(bin_centers,hSM/(sum(hSM)*(bins[1]-bins[0])), \n",
    "                  yerr =hErrSM/(sum(hSM)*(bins[1]-bins[0])), marker = '.',  drawstyle = 'steps-mid')\n",
    "\n",
    "labelsTrack = []\n",
    "for i,h in enumerate(hists):\n",
    "    if 'SM' in labels[i] and ('BSM' not in labels[i]):\n",
    "        continue \n",
    "    hdiff = None\n",
    "    for j,hh in enumerate(histsSM):\n",
    "        if hdiff is None or abs(sum(h-hh)) < abs(sum(hdiff)): # Subtract SM histogram with total xsec closest to the SM+BSM one \n",
    "            print('diff',sum(h),sum(hh),labels[i],labels[j])\n",
    "            hdiff = h-hh\n",
    "    hdiff = h\n",
    "    axarr[0].hist(bins[:-1],weights=np.abs(hdiff),label=labels[i],bins=bins,\n",
    "                  color=c[i],alpha=1.0,histtype='step',density=True,\n",
    "                  linewidth=3,fill=False,zorder=i,linestyle='solid')\n",
    "    # axarr[0].errorbar(bin_centers,h/(sum(h)*(bins[1]-bins[0])),\n",
    "                    #   yerr =histsErr[i]/(sum(h)*(bins[1]-bins[0])),label=labels[i],\n",
    "                    #   marker = '.',  drawstyle = 'steps-mid',\n",
    "                #   color=c[i],alpha=1.0,\n",
    "                #   linewidth=3,zorder=i)\n",
    "\n",
    "# # Ratio plot:\n",
    "# hLoop = sum([h for i,h in enumerate(hists) if '1-loop' in labels[i]])\n",
    "# hEFT = sum([h for i,h in enumerate(hists) if 'EFT' in labels[i]])\n",
    "# labels.append(r'$p p \\to \\bar{t} t$ (1-loop)')\n",
    "# labels.append(r'$p p \\to \\bar{t} t$ (EFT)')\n",
    "# c.append('black')\n",
    "# c.append('gray')\n",
    "# for i,h in enumerate(hists+[hLoop,hEFT]):\n",
    "#     if 'SM' in labels[i]:\n",
    "#         continue\n",
    "#     if (not 'loop' in labels[i]) and (not 'p p ' in labels[i]):\n",
    "#         continue\n",
    "#     # Compute ratio (keeping negative and positive values)\n",
    "#     ratio = np.divide(h, hSM, out=np.zeros_like(h),where=hSM != 0)\n",
    "#     # Remove zero values\n",
    "#     nonzero = np.where((np.sign(ratio) != 0))\n",
    "#     x = (bins[:-1]+bins[1:])/2.0\n",
    "#     y = ratio\n",
    "#     label = labels[i]\n",
    "#     axarr[1].plot(x,y,linewidth=3.0,linestyle='solid',alpha=0.8,\n",
    "#                           label=label,c=c[i])\n",
    "        \n",
    "axarr[0].set_yscale('log')\n",
    "# axarr[0].set_ylim(1e-4,500)\n",
    "# axarr[0].set_xticks(np.arange(0.,bins.max(),500))\n",
    "axarr[0].set_xlim(bins.min(),bins.max())\n",
    "axarr[1].set_xlabel(r'$m(t\\bar{t})$ (GeV)')\n",
    "axarr[0].set_ylabel(r'$|\\frac{1}{\\sigma}\\frac{d \\sigma}{d m(t\\bar{t})}|$')\n",
    "axarr[1].set_ylabel(r'$N_{BSM}/N_{SM}$')\n",
    "axarr[1].set_ylim(-0.01,0.02)\n",
    "axarr[1].set_yticks(np.arange(-0.01,0.03,0.01))\n",
    "axarr[1].legend(loc='upper left',fontsize=12,framealpha=1.0,ncol=2)\n",
    "axarr[1].grid()\n",
    "\n",
    "\n",
    "axarr[0].legend(framealpha=1.0,loc='upper right',fontsize=15)\n",
    "# axarr[1].legend(framealpha=1.0,loc='upper left')\n",
    "axarr[0].set_title(r'$m_{T} = %1.0f$ GeV, $m_{\\chi} = %1.0f$ GeV, $y_{DM} = $%1.1f' %(mST,mChi,yDM),\n",
    "                   loc='left')\n",
    "plt.savefig('mtt_mST%i_mChi%i_yDM_%i.png' %(int(mST),int(mChi),int(yDM)))\n",
    "plt.show()"
   ]
  },
  {
   "cell_type": "code",
   "execution_count": 10,
   "metadata": {},
   "outputs": [
    {
     "data": {
      "text/plain": [
       "{'../../gg2tt_LO/Events/run_01/unweighted_events.lhe.gz': 1.0,\n",
       " '../../gg2tt_NP/Events/run_13/events.lhe.gz': 0.0625}"
      ]
     },
     "execution_count": 10,
     "metadata": {},
     "output_type": "execute_result"
    }
   ],
   "source": [
    "kscales"
   ]
  },
  {
   "cell_type": "code",
   "execution_count": null,
   "metadata": {},
   "outputs": [],
   "source": []
  }
 ],
 "metadata": {
  "kernelspec": {
   "display_name": "Python 3",
   "language": "python",
   "name": "python3"
  },
  "language_info": {
   "codemirror_mode": {
    "name": "ipython",
    "version": 3
   },
   "file_extension": ".py",
   "mimetype": "text/x-python",
   "name": "python",
   "nbconvert_exporter": "python",
   "pygments_lexer": "ipython3",
   "version": "3.12.3"
  }
 },
 "nbformat": 4,
 "nbformat_minor": 2
}
