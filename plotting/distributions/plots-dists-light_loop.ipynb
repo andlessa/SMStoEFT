{
 "cells": [
  {
   "cell_type": "markdown",
   "metadata": {},
   "source": [
    "# Plot"
   ]
  },
  {
   "cell_type": "code",
   "execution_count": 21,
   "metadata": {},
   "outputs": [],
   "source": [
    "import warnings\n",
    "warnings.filterwarnings(\"ignore\", message=\"numpy.dtype size changed\")\n",
    "import numpy as np\n",
    "import pandas as pd\n",
    "import matplotlib.pyplot as plt\n",
    "import seaborn as sns\n",
    "import glob\n",
    "import sys\n",
    "import random\n",
    "sys.path.append('../')\n",
    "from auxPlots import getInfo, getDistributions, getATLASdistributions\n",
    "\n",
    "pd.option_context('display.max_columns', -1)\n",
    "\n",
    "pd.options.mode.chained_assignment = None #Disable copy warnings\n",
    "# plt.style.use('fivethirtyeight') #Set style\n",
    "# mpl.rcParams.update({'figure.figsize' : (15,10)})  #Set general plotting options\n",
    "plt.rcParams.update({\n",
    "    \"text.usetex\": True,\n",
    "    \"font.family\": \"sans-serif\",\n",
    "    \"font.sans-serif\": [\"Helvetica\"]})\n",
    "\n",
    "plt.rcParams.update({\"savefig.dpi\" : 300}) #Figure resolution\n",
    "\n",
    "\n",
    "#Define plotting style:\n",
    "sns.set() #Set style\n",
    "sns.set_style('ticks',{'font.family':'Times New Roman', 'font.serif':'Times New Roman'})\n",
    "sns.set_context('paper', font_scale=1.8)\n",
    "cm = plt.colormaps['RdYlBu']"
   ]
  },
  {
   "cell_type": "code",
   "execution_count": null,
   "metadata": {},
   "outputs": [],
   "source": [
    "files = ['../../gg2ttbar-loop_scan/Events/run_02/events.lhe.gz',\n",
    "              '../../qq2tt_QCDNP/Events/run_03/events.lhe.gz']\n",
    "smFiles = list(glob.glob('../../pp2tt_QCD/Events/run_04/events.lhe.gz'))\n",
    "bsmFiles = files[:]\n",
    "\n",
    "xsecs = {'../../gg2ttbar-loop_scan/Events/run_02/events.lhe.gz' : -1.994,\n",
    "         '../../qq2tt_QCDNP/Events/run_03/events.lhe.gz' : 0.302,\n",
    "         '../../pp2tt_QCD/Events/run_04/events.lhe.gz' : 522.5}"
   ]
  },
  {
   "cell_type": "code",
   "execution_count": 14,
   "metadata": {},
   "outputs": [
    {
     "name": "stdout",
     "output_type": "stream",
     "text": [
      "['BSM', 'SM']\n",
      "[(500.0, 400.0, 172.0, 5.0)]\n",
      "['$p p \\\\to \\\\bar{t} t$']\n"
     ]
    }
   ],
   "source": [
    "# Get info\n",
    "fileData = {f : getInfo(f) for f in bsmFiles}\n",
    "for f in fileData:\n",
    "    fileData[f]['model'] = 'BSM'\n",
    "fileData.update({f : getInfo(f) for f in smFiles})\n",
    "# Set SM model by hand:\n",
    "\n",
    "allModels = sorted(list(set([info['model'] for info in fileData.values()])))\n",
    "allPars = sorted(list(set([info['(mST,mChi,mT,yDM)'] for info in fileData.values()])))\n",
    "allProcesses = sorted(list(set([info['process'] for info in fileData.values()])))\n",
    "print(allModels)\n",
    "print(allPars)\n",
    "print(allProcesses)"
   ]
  },
  {
   "cell_type": "code",
   "execution_count": 15,
   "metadata": {},
   "outputs": [],
   "source": [
    "# # Select files:\n",
    "# models = ['SM','1-loop', 'EFT']\n",
    "# pars = [(500.,400.,172.5,1.0)]\n",
    "# procs = allProcesses[:]\n",
    "\n",
    "# bsmFiles = files[:]\n",
    "# smFiles = []\n",
    "# for f,fInfo in fileData.items():\n",
    "#     if fInfo['model'] not in models:\n",
    "#         continue\n",
    "#     if fInfo['process'] not in procs:\n",
    "#         continue\n",
    "        \n",
    "#     if fInfo['model'] == 'SM':\n",
    "#         smFiles.append(f)\n",
    "#     else:\n",
    "#         if fInfo['(mST,mChi,mT,yDM)'] not in pars:\n",
    "#             continue\n",
    "#         bsmFiles.append(f)\n",
    "    \n",
    "# print(bsmFiles)\n",
    "# print(smFiles)\n",
    "# Sort files so largest cross-sections come first\n",
    "bsmFiles = sorted(bsmFiles, key = lambda f: (fileData[f]['process'],fileData[f]['model']), reverse=True)\n",
    "smFiles = sorted(smFiles, key = lambda f: fileData[f]['process'], reverse=True)\n",
    "selectedFiles = smFiles+bsmFiles"
   ]
  },
  {
   "cell_type": "code",
   "execution_count": 16,
   "metadata": {},
   "outputs": [
    {
     "name": "stdout",
     "output_type": "stream",
     "text": [
      "3\n",
      "../../pp2tt_QCD/Events/run_04/events.lhe.gz\n",
      "../../gg2tt_QCDNP/Events/run_05/events.lhe.gz\n",
      "../../qq2tt_QCDNP/Events/run_01/events.lhe.gz\n"
     ]
    }
   ],
   "source": [
    "print(len(selectedFiles))\n",
    "for f in selectedFiles:\n",
    "    print(f)"
   ]
  },
  {
   "cell_type": "markdown",
   "metadata": {},
   "source": [
    "### Get distributions without cuts"
   ]
  },
  {
   "cell_type": "code",
   "execution_count": 17,
   "metadata": {},
   "outputs": [],
   "source": [
    "\n",
    "dists = {f : getDistributions(f) for f in selectedFiles}\n",
    "# Randomly choose one of the momenta to use as the hadronic top pT\n",
    "for f in dists:\n",
    "    dists[f]['pTh'] = []\n",
    "    for i,pt1 in enumerate(dists[f]['pT1']):\n",
    "        pt2 =dists[f]['pT2'][i]\n",
    "        dists[f]['pTh'].append(random.choice([pt1,pt2]))"
   ]
  },
  {
   "cell_type": "code",
   "execution_count": 18,
   "metadata": {},
   "outputs": [
    {
     "name": "stdout",
     "output_type": "stream",
     "text": [
      "\n",
      " SM : $p p \\to \\bar{t} t$\n",
      "total xsec    =  5.862770317311728\n",
      "MC events     =  85661\n",
      "\n",
      " BSM : $p p \\to \\bar{t} t$\n",
      "total xsec    =  -0.018603231397299844\n",
      "MC events     =  381613\n",
      "\n",
      " BSM : $p p \\to \\bar{t} t$\n",
      "total xsec    =  0.014755971611736137\n",
      "MC events     =  102320\n"
     ]
    }
   ],
   "source": [
    "for f,res in dists.items():    \n",
    "    print('\\n %s : %s' %(fileData[f]['model'],fileData[f]['process']))\n",
    "    print('total xsec    = ',sum(res['weights'])*res['nevents'])\n",
    "    print('MC events     = ',res['nevents'])"
   ]
  },
  {
   "cell_type": "code",
   "execution_count": 19,
   "metadata": {},
   "outputs": [],
   "source": [
    "# Define colors\n",
    "colors = {f : sns.color_palette('Paired')[i+1] for i,f in enumerate(dists.keys())}"
   ]
  },
  {
   "cell_type": "markdown",
   "metadata": {},
   "source": [
    "### Plot invariant mass"
   ]
  },
  {
   "cell_type": "code",
   "execution_count": null,
   "metadata": {},
   "outputs": [
    {
     "name": "stdout",
     "output_type": "stream",
     "text": [
      "218.50430370268953\n"
     ]
    },
    {
     "data": {
      "image/png": "[encoded data removed]",
      "text/plain": [
       "<Figure size 800x800 with 2 Axes>"
      ]
     },
     "metadata": {},
     "output_type": "display_data"
    }
   ],
   "source": [
    "# Define scale factor (new yDM value)\n",
    "# kscales = {f : 2.0 for f in smFiles} # The factor of 2 is to account for the 2 possible ttbar decays: (t -> jj, tbar->l nu) + (t -> l nu, tbar->jj)\n",
    "# yDM = 5.0\n",
    "# kscales.update({f : 2.0*(yDM/fileData[f]['(mST,mChi,mT,yDM)'][-1])**2 for f in bsmFiles})\n",
    "kscales = {f : xsecs[f]/sum(res['weights']) for f,res in dists.items()}\n",
    "yDM = fileData[bsmFiles[0]]['(mST,mChi,mT,yDM)'][-1] \n",
    "\n",
    "_, axarr = plt.subplots(2,sharex=True, gridspec_kw = {'height_ratios':[2, 1]},figsize=(8,8))\n",
    "plt.subplots_adjust(left=0.12, bottom=0.12, right=0.97, top=None, wspace=None, hspace=0.1)\n",
    "bins = np.arange(500.,3000.,50.)\n",
    "\n",
    "labels = []\n",
    "pmodels = []\n",
    "hists = {}\n",
    "histsErr = {}\n",
    "c = []\n",
    "ks = []\n",
    "for f in dists:\n",
    "    kscale = float(kscales[f])\n",
    "    h,_ = np.histogram(dists[f]['mTT'],bins=bins,weights=(kscale*dists[f]['weights']))\n",
    "    hists[f] = h\n",
    "    #Compute MC error\n",
    "    hErr,_ = np.histogram(dists[f]['mTT'],bins=bins,weights=(kscale*dists[f]['weights'])**2)\n",
    "    histsErr[f] = np.sqrt(hErr)    \n",
    "\n",
    "\n",
    "histsSM = [h for f,h in hists.items() if fileData[f]['model'] == 'SM']    \n",
    "histsErrSM = [h for f,h in histsErr.items() if fileData[f]['model'] == 'SM']\n",
    "# labelsSM = [l for i,l in enumerate(labels) if 'SM' in labels[i]]    \n",
    "cSM =  [colors[f] for f in hists.keys() if fileData[f]['model'] == 'SM']    \n",
    "axarr[0].hist([bins[:-1]]*len(histsSM),label='SM',bins=bins,\n",
    "                          weights=histsSM,alpha=0.3,density=True,\n",
    "                          linewidth=0,color=cSM,stacked=True)\n",
    "\n",
    "hSM = sum(histsSM)\n",
    "# hErrSM = np.sqrt(sum([hh**2 for hh in histsErrSM[:]]))\n",
    "# labelsTrack = []\n",
    "for f,h in hists.items():\n",
    "    if fileData[f]['model'] == 'SM':\n",
    "        continue\n",
    "    hdiff = h\n",
    "    axarr[0].hist(bins[:-1],weights=np.abs(hdiff),label=fileData[f]['model'],bins=bins,\n",
    "                  color=colors[f],alpha=1.0,histtype='step',density=True,\n",
    "                  linewidth=3,fill=False,zorder=i,linestyle='solid')\n",
    "    \n",
    "    # Compute ratio (keeping negative and positive values)\n",
    "    ratio = np.divide(hdiff, hSM, out=np.zeros_like(hdiff),where=hSM != 0)\n",
    "    # Remove zero values\n",
    "    nonzero = np.where((np.sign(ratio) != 0))\n",
    "    x = (bins[:-1]+bins[1:])/2.0\n",
    "    y = ratio\n",
    "    axarr[1].plot(x,y,linewidth=3.0,linestyle='solid',alpha=0.8,\n",
    "                          label=fileData[f]['model'],c=colors[f])\n",
    "\n",
    "# Ratio plot:\n",
    "# hLoop = sum([h for i,h in enumerate(hists) if '1-loop' in labels[i]])\n",
    "# labels.append(r'$p p \\to \\bar{t} t$ (1-loop)')\n",
    "# labels.append(r'$p p \\to \\bar{t} t$ (EFT)')\n",
    "# c.append('black')\n",
    "# c.append('gray')\n",
    "# for i,h in enumerate(hists+[hLoop,hEFT]):\n",
    "#     if 'SM' in labels[i]:\n",
    "#         continue\n",
    "#     if (not 'loop' in labels[i]) and (not 'p p ' in labels[i]):\n",
    "#         continue\n",
    "#     # Compute ratio (keeping negative and positive values)\n",
    "#     ratio = np.divide(h, hSM, out=np.zeros_like(h),where=hSM != 0)\n",
    "#     # Remove zero values\n",
    "#     nonzero = np.where((np.sign(ratio) != 0))\n",
    "#     x = (bins[:-1]+bins[1:])/2.0\n",
    "#     y = ratio\n",
    "#     label = labels[i]\n",
    "#     axarr[1].plot(x,y,linewidth=3.0,linestyle='solid',alpha=0.8,\n",
    "#                           label=label,c=c[i])\n",
    "        \n",
    "axarr[0].set_yscale('log')\n",
    "# axarr[0].set_ylim(1e-4,500)\n",
    "# axarr[0].set_xticks(np.arange(0.,bins.max(),500))\n",
    "axarr[0].set_xlim(bins.min(),bins.max())\n",
    "axarr[1].set_xlabel(r'$m(t\\bar{t})$ (GeV)')\n",
    "axarr[0].set_ylabel(r'$|\\frac{1}{\\sigma}\\frac{d \\sigma}{d m(t\\bar{t})}|$')\n",
    "axarr[1].set_ylabel(r'$N_{BSM}/N_{SM}$')\n",
    "axarr[1].set_ylim(-0.01,0.02)\n",
    "axarr[1].set_yticks(np.arange(-0.01,0.03,0.01))\n",
    "axarr[1].legend(loc='upper left',fontsize=12,framealpha=1.0,ncol=2)\n",
    "axarr[1].grid()\n",
    "\n",
    "\n",
    "axarr[0].legend(framealpha=1.0,loc='upper right',fontsize=15)\n",
    "# axarr[1].legend(framealpha=1.0,loc='upper left')\n",
    "# axarr[0].set_title(r'$m_{T} = %1.0f$ GeV, $m_{\\chi} = %1.0f$ GeV, $y_{DM} = $%1.1f' %(mST,mChi,yDM),\n",
    "                #    loc='left')\n",
    "# plt.savefig('mtt_mST%i_mChi%i_yDM_%i.png' %(int(mST),int(mChi),int(yDM)))\n",
    "plt.show()"
   ]
  }
 ],
 "metadata": {
  "kernelspec": {
   "display_name": "Python 3",
   "language": "python",
   "name": "python3"
  },
  "language_info": {
   "codemirror_mode": {
    "name": "ipython",
    "version": 3
   },
   "file_extension": ".py",
   "mimetype": "text/x-python",
   "name": "python",
   "nbconvert_exporter": "python",
   "pygments_lexer": "ipython3",
   "version": "3.12.3"
  }
 },
 "nbformat": 4,
 "nbformat_minor": 2
}
