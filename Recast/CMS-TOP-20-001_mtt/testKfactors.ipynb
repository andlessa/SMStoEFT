{
 "cells": [
  {
   "cell_type": "code",
   "execution_count": 1,
   "metadata": {},
   "outputs": [],
   "source": [
    "from cms_top_20_001_Limits import getSMLO, read_CMSdata, getKfactor,bin_widths\n",
    "import numpy as np\n",
    "import pandas as pd"
   ]
  },
  {
   "cell_type": "code",
   "execution_count": 2,
   "metadata": {},
   "outputs": [],
   "source": [
    "data, smNLO, cov = read_CMSdata()\n",
    "smLO = getSMLO()\n",
    "k = getKfactor(smNLO,smLO)\n",
    "smLODF = pd.read_pickle('./sm/sm_tt_lo_cms_top_20_001.pcl')\n",
    "binCols = [c for c in smLODF.columns if 'bin' in c and not 'Error' in c]\n",
    "smLOmg = np.array([smLODF.iloc[0][c] for c in binCols])"
   ]
  },
  {
   "cell_type": "code",
   "execution_count": 3,
   "metadata": {},
   "outputs": [
    {
     "name": "stdout",
     "output_type": "stream",
     "text": [
      "[1. 1. 1. 1. 1. 1. 1. 1. 1. 1. 1. 1. 1. 1. 1.]\n"
     ]
    }
   ],
   "source": [
    "print(smNLO/(smLO*k))"
   ]
  },
  {
   "cell_type": "code",
   "execution_count": 4,
   "metadata": {},
   "outputs": [
    {
     "name": "stdout",
     "output_type": "stream",
     "text": [
      "[0.95081967 1.00983607 1.         1.00655738 1.00655738 0.99672131\n",
      " 1.03606557 0.99016393 1.07213115 1.00655738 1.11803279 1.00655738\n",
      " 0.98032787 1.24262295 1.19016393]\n"
     ]
    }
   ],
   "source": [
    "print((smLO*k/bin_widths)/data)"
   ]
  },
  {
   "cell_type": "code",
   "execution_count": 5,
   "metadata": {},
   "outputs": [
    {
     "name": "stdout",
     "output_type": "stream",
     "text": [
      "[1. 1. 1. 1. 1. 1. 1. 1. 1. 1. 1. 1. 1. 1. 1.]\n"
     ]
    }
   ],
   "source": [
    "print(smNLO/(smLO*k))"
   ]
  },
  {
   "cell_type": "code",
   "execution_count": 6,
   "metadata": {},
   "outputs": [
    {
     "name": "stdout",
     "output_type": "stream",
     "text": [
      "[0.95081967 1.00983607 1.         1.00655738 1.00655738 0.99672131\n",
      " 1.03606557 0.99016393 1.07213115 1.00655738 1.11803279 1.00655738\n",
      " 0.98032787 1.24262295 1.19016393]\n"
     ]
    }
   ],
   "source": [
    "print((smNLO/bin_widths)/data)"
   ]
  },
  {
   "cell_type": "code",
   "execution_count": 7,
   "metadata": {},
   "outputs": [
    {
     "data": {
      "text/plain": [
       "array([1.59918665, 1.502596  , 1.49597211, 1.49786422, 1.49527662,\n",
       "       1.50913797, 1.54316104, 1.51628949, 1.52891741, 1.53115308,\n",
       "       1.51577723, 1.4117779 , 1.32329361, 1.3359564 , 1.27119371])"
      ]
     },
     "execution_count": 7,
     "metadata": {},
     "output_type": "execute_result"
    }
   ],
   "source": [
    "k"
   ]
  },
  {
   "cell_type": "code",
   "execution_count": 8,
   "metadata": {},
   "outputs": [
    {
     "data": {
      "text/plain": [
       "(790.849106275321, 519.6665993356364)"
      ]
     },
     "execution_count": 8,
     "metadata": {},
     "output_type": "execute_result"
    }
   ],
   "source": [
    "sum(smNLO)/0.2877,sum(smLOmg)/0.2877"
   ]
  },
  {
   "cell_type": "code",
   "execution_count": 9,
   "metadata": {},
   "outputs": [
    {
     "data": {
      "text/plain": [
       "1.0531645569620254"
      ]
     },
     "execution_count": 9,
     "metadata": {},
     "output_type": "execute_result"
    }
   ],
   "source": [
    "832./790."
   ]
  },
  {
   "cell_type": "code",
   "execution_count": null,
   "metadata": {},
   "outputs": [],
   "source": []
  }
 ],
 "metadata": {
  "kernelspec": {
   "display_name": "Python 3",
   "language": "python",
   "name": "python3"
  },
  "language_info": {
   "codemirror_mode": {
    "name": "ipython",
    "version": 3
   },
   "file_extension": ".py",
   "mimetype": "text/x-python",
   "name": "python",
   "nbconvert_exporter": "python",
   "pygments_lexer": "ipython3",
   "version": "3.9.7"
  }
 },
 "nbformat": 4,
 "nbformat_minor": 2
}
