{
 "cells": [
  {
   "cell_type": "code",
   "execution_count": 1,
   "metadata": {},
   "outputs": [],
   "source": [
    "import numpy as np\n",
    "import pandas as pd\n",
    "from matplotlib import pyplot as plt\n",
    "import seaborn as sns\n",
    "from cms_top_20_001_Limits import *\n",
    "\n",
    "plt.rcParams.update({\n",
    "    \"text.usetex\": True,\n",
    "    \"font.family\": \"sans-serif\",\n",
    "    \"font.sans-serif\": [\"Helvetica\"]})\n",
    "\n",
    "plt.rcParams.update({\"savefig.dpi\" : 300}) #Figure resolution\n",
    "\n",
    "\n",
    "#Define plotting style:\n",
    "sns.set() #Set style\n",
    "sns.set_style('ticks',{'font.family':'Times New Roman', 'font.serif':'Times New Roman'})\n",
    "sns.set_context('paper', font_scale=1.8)\n",
    "cm = plt.colormaps['RdYlBu']\n",
    "\n",
    "\n",
    "pd.set_option('display.max_rows', 20)"
   ]
  },
  {
   "cell_type": "code",
   "execution_count": 2,
   "metadata": {},
   "outputs": [],
   "source": [
    "recastData = pd.read_pickle('./pp2tt_formFactors_scan.pcl')\n",
    "recastDataEFT = pd.read_pickle('./pp2tt_eft_scan.pcl')"
   ]
  },
  {
   "cell_type": "code",
   "execution_count": 3,
   "metadata": {},
   "outputs": [
    {
     "data": {
      "text/html": [
       "<div>\n",
       "<style scoped>\n",
       "    .dataframe tbody tr th:only-of-type {\n",
       "        vertical-align: middle;\n",
       "    }\n",
       "\n",
       "    .dataframe tbody tr th {\n",
       "        vertical-align: top;\n",
       "    }\n",
       "\n",
       "    .dataframe thead th {\n",
       "        text-align: right;\n",
       "    }\n",
       "</style>\n",
       "<table border=\"1\" class=\"dataframe\">\n",
       "  <thead>\n",
       "    <tr style=\"text-align: right;\">\n",
       "      <th></th>\n",
       "      <th>mST</th>\n",
       "      <th>mChi</th>\n",
       "      <th>yDM (95% C.L.)</th>\n",
       "    </tr>\n",
       "  </thead>\n",
       "  <tbody>\n",
       "    <tr>\n",
       "      <th>0</th>\n",
       "      <td>300.0</td>\n",
       "      <td>5.0</td>\n",
       "      <td>4.323347</td>\n",
       "    </tr>\n",
       "    <tr>\n",
       "      <th>1</th>\n",
       "      <td>300.0</td>\n",
       "      <td>50.0</td>\n",
       "      <td>4.435813</td>\n",
       "    </tr>\n",
       "    <tr>\n",
       "      <th>2</th>\n",
       "      <td>300.0</td>\n",
       "      <td>100.0</td>\n",
       "      <td>4.712325</td>\n",
       "    </tr>\n",
       "    <tr>\n",
       "      <th>3</th>\n",
       "      <td>300.0</td>\n",
       "      <td>150.0</td>\n",
       "      <td>5.041696</td>\n",
       "    </tr>\n",
       "    <tr>\n",
       "      <th>4</th>\n",
       "      <td>300.0</td>\n",
       "      <td>200.0</td>\n",
       "      <td>5.505099</td>\n",
       "    </tr>\n",
       "    <tr>\n",
       "      <th>...</th>\n",
       "      <td>...</td>\n",
       "      <td>...</td>\n",
       "      <td>...</td>\n",
       "    </tr>\n",
       "    <tr>\n",
       "      <th>202</th>\n",
       "      <td>3000.0</td>\n",
       "      <td>2900.0</td>\n",
       "      <td>44.361199</td>\n",
       "    </tr>\n",
       "    <tr>\n",
       "      <th>203</th>\n",
       "      <td>3000.0</td>\n",
       "      <td>2925.0</td>\n",
       "      <td>44.409711</td>\n",
       "    </tr>\n",
       "    <tr>\n",
       "      <th>204</th>\n",
       "      <td>3000.0</td>\n",
       "      <td>2950.0</td>\n",
       "      <td>44.547940</td>\n",
       "    </tr>\n",
       "    <tr>\n",
       "      <th>205</th>\n",
       "      <td>3000.0</td>\n",
       "      <td>2975.0</td>\n",
       "      <td>44.621595</td>\n",
       "    </tr>\n",
       "    <tr>\n",
       "      <th>206</th>\n",
       "      <td>3000.0</td>\n",
       "      <td>2990.0</td>\n",
       "      <td>44.611349</td>\n",
       "    </tr>\n",
       "  </tbody>\n",
       "</table>\n",
       "<p>207 rows × 3 columns</p>\n",
       "</div>"
      ],
      "text/plain": [
       "        mST    mChi  yDM (95% C.L.)\n",
       "0     300.0     5.0        4.323347\n",
       "1     300.0    50.0        4.435813\n",
       "2     300.0   100.0        4.712325\n",
       "3     300.0   150.0        5.041696\n",
       "4     300.0   200.0        5.505099\n",
       "..      ...     ...             ...\n",
       "202  3000.0  2900.0       44.361199\n",
       "203  3000.0  2925.0       44.409711\n",
       "204  3000.0  2950.0       44.547940\n",
       "205  3000.0  2975.0       44.621595\n",
       "206  3000.0  2990.0       44.611349\n",
       "\n",
       "[207 rows x 3 columns]"
      ]
     },
     "execution_count": 3,
     "metadata": {},
     "output_type": "execute_result"
    }
   ],
   "source": [
    "recastData[['mST','mChi','yDM (95% C.L.)']]"
   ]
  },
  {
   "cell_type": "code",
   "execution_count": 4,
   "metadata": {},
   "outputs": [
    {
     "data": {
      "text/html": [
       "<div>\n",
       "<style scoped>\n",
       "    .dataframe tbody tr th:only-of-type {\n",
       "        vertical-align: middle;\n",
       "    }\n",
       "\n",
       "    .dataframe tbody tr th {\n",
       "        vertical-align: top;\n",
       "    }\n",
       "\n",
       "    .dataframe thead th {\n",
       "        text-align: right;\n",
       "    }\n",
       "</style>\n",
       "<table border=\"1\" class=\"dataframe\">\n",
       "  <thead>\n",
       "    <tr style=\"text-align: right;\">\n",
       "      <th></th>\n",
       "      <th>mST</th>\n",
       "      <th>mChi</th>\n",
       "      <th>yDM (95% C.L.)</th>\n",
       "    </tr>\n",
       "  </thead>\n",
       "  <tbody>\n",
       "    <tr>\n",
       "      <th>0</th>\n",
       "      <td>300.0</td>\n",
       "      <td>5.0</td>\n",
       "      <td>3.923743</td>\n",
       "    </tr>\n",
       "    <tr>\n",
       "      <th>1</th>\n",
       "      <td>300.0</td>\n",
       "      <td>50.0</td>\n",
       "      <td>3.954835</td>\n",
       "    </tr>\n",
       "    <tr>\n",
       "      <th>2</th>\n",
       "      <td>300.0</td>\n",
       "      <td>100.0</td>\n",
       "      <td>4.023698</td>\n",
       "    </tr>\n",
       "    <tr>\n",
       "      <th>3</th>\n",
       "      <td>300.0</td>\n",
       "      <td>150.0</td>\n",
       "      <td>4.082629</td>\n",
       "    </tr>\n",
       "    <tr>\n",
       "      <th>4</th>\n",
       "      <td>300.0</td>\n",
       "      <td>200.0</td>\n",
       "      <td>4.220508</td>\n",
       "    </tr>\n",
       "    <tr>\n",
       "      <th>...</th>\n",
       "      <td>...</td>\n",
       "      <td>...</td>\n",
       "      <td>...</td>\n",
       "    </tr>\n",
       "    <tr>\n",
       "      <th>160</th>\n",
       "      <td>3000.0</td>\n",
       "      <td>2900.0</td>\n",
       "      <td>45.646232</td>\n",
       "    </tr>\n",
       "    <tr>\n",
       "      <th>161</th>\n",
       "      <td>3000.0</td>\n",
       "      <td>2925.0</td>\n",
       "      <td>45.745831</td>\n",
       "    </tr>\n",
       "    <tr>\n",
       "      <th>162</th>\n",
       "      <td>3000.0</td>\n",
       "      <td>2950.0</td>\n",
       "      <td>45.831945</td>\n",
       "    </tr>\n",
       "    <tr>\n",
       "      <th>163</th>\n",
       "      <td>3000.0</td>\n",
       "      <td>2975.0</td>\n",
       "      <td>45.912042</td>\n",
       "    </tr>\n",
       "    <tr>\n",
       "      <th>164</th>\n",
       "      <td>3000.0</td>\n",
       "      <td>2990.0</td>\n",
       "      <td>45.958932</td>\n",
       "    </tr>\n",
       "  </tbody>\n",
       "</table>\n",
       "<p>165 rows × 3 columns</p>\n",
       "</div>"
      ],
      "text/plain": [
       "        mST    mChi  yDM (95% C.L.)\n",
       "0     300.0     5.0        3.923743\n",
       "1     300.0    50.0        3.954835\n",
       "2     300.0   100.0        4.023698\n",
       "3     300.0   150.0        4.082629\n",
       "4     300.0   200.0        4.220508\n",
       "..      ...     ...             ...\n",
       "160  3000.0  2900.0       45.646232\n",
       "161  3000.0  2925.0       45.745831\n",
       "162  3000.0  2950.0       45.831945\n",
       "163  3000.0  2975.0       45.912042\n",
       "164  3000.0  2990.0       45.958932\n",
       "\n",
       "[165 rows x 3 columns]"
      ]
     },
     "execution_count": 4,
     "metadata": {},
     "output_type": "execute_result"
    }
   ],
   "source": [
    "recastDataEFT[['mST','mChi','yDM (95% C.L.)']]"
   ]
  },
  {
   "cell_type": "code",
   "execution_count": 5,
   "metadata": {},
   "outputs": [
    {
     "data": {
      "image/png": "[encoded data removed]",
      "text/plain": [
       "<Figure size 640x480 with 2 Axes>"
      ]
     },
     "metadata": {},
     "output_type": "display_data"
    }
   ],
   "source": [
    "x = recastData['mST']\n",
    "y = recastData['mChi']\n",
    "dm = x-y\n",
    "z = recastData['yDM (95% C.L.)']\n",
    "plt.scatter(x,dm,c=z,cmap=cm,s=30,vmin=5.,vmax=22.)\n",
    "plt.colorbar(label=r'$y_{DM}^{max}$ (95\\% C.L.)')\n",
    "plt.xlabel(r'$m_T$ (GeV)')\n",
    "plt.ylabel(r'$\\Delta M$ (GeV)')\n",
    "plt.xlim(250.,1550.)\n",
    "# plt.yscale('log')\n",
    "plt.show()"
   ]
  },
  {
   "cell_type": "code",
   "execution_count": 18,
   "metadata": {},
   "outputs": [],
   "source": [
    "red = recastData[(recastData['mST'] ==700.) & (recastData['mChi'] ==690.)]\n",
    "redEFT = recastDataEFT[(recastDataEFT['mST'] ==700.) & (recastDataEFT['mChi'] ==690.)]"
   ]
  },
  {
   "cell_type": "code",
   "execution_count": 22,
   "metadata": {},
   "outputs": [
    {
     "data": {
      "text/html": [
       "<div>\n",
       "<style scoped>\n",
       "    .dataframe tbody tr th:only-of-type {\n",
       "        vertical-align: middle;\n",
       "    }\n",
       "\n",
       "    .dataframe tbody tr th {\n",
       "        vertical-align: top;\n",
       "    }\n",
       "\n",
       "    .dataframe thead th {\n",
       "        text-align: right;\n",
       "    }\n",
       "</style>\n",
       "<table border=\"1\" class=\"dataframe\">\n",
       "  <thead>\n",
       "    <tr style=\"text-align: right;\">\n",
       "      <th></th>\n",
       "      <th>59</th>\n",
       "    </tr>\n",
       "  </thead>\n",
       "  <tbody>\n",
       "    <tr>\n",
       "      <th>model</th>\n",
       "      <td>Top-FormFactorsOneLoop-UFO</td>\n",
       "    </tr>\n",
       "    <tr>\n",
       "      <th>mST</th>\n",
       "      <td>700.0</td>\n",
       "    </tr>\n",
       "    <tr>\n",
       "      <th>mChi</th>\n",
       "      <td>690.0</td>\n",
       "    </tr>\n",
       "    <tr>\n",
       "      <th>mT</th>\n",
       "      <td>172.5</td>\n",
       "    </tr>\n",
       "    <tr>\n",
       "      <th>yDM</th>\n",
       "      <td>1.0</td>\n",
       "    </tr>\n",
       "    <tr>\n",
       "      <th>...</th>\n",
       "      <td>...</td>\n",
       "    </tr>\n",
       "    <tr>\n",
       "      <th>bin_2300_3500</th>\n",
       "      <td>0.000006</td>\n",
       "    </tr>\n",
       "    <tr>\n",
       "      <th>bin_2300_3500_Error</th>\n",
       "      <td>0.0</td>\n",
       "    </tr>\n",
       "    <tr>\n",
       "      <th>yDM (95% C.L.)</th>\n",
       "      <td>7.859235</td>\n",
       "    </tr>\n",
       "    <tr>\n",
       "      <th>$\\Delta \\chi^2$ (95% C.L.)</th>\n",
       "      <td>3.84</td>\n",
       "    </tr>\n",
       "    <tr>\n",
       "      <th>yDMexp (95% C.L.)</th>\n",
       "      <td>12.680339</td>\n",
       "    </tr>\n",
       "  </tbody>\n",
       "</table>\n",
       "<p>42 rows × 1 columns</p>\n",
       "</div>"
      ],
      "text/plain": [
       "                                                    59\n",
       "model                       Top-FormFactorsOneLoop-UFO\n",
       "mST                                              700.0\n",
       "mChi                                             690.0\n",
       "mT                                               172.5\n",
       "yDM                                                1.0\n",
       "...                                                ...\n",
       "bin_2300_3500                                 0.000006\n",
       "bin_2300_3500_Error                                0.0\n",
       "yDM (95% C.L.)                                7.859235\n",
       "$\\Delta \\chi^2$ (95% C.L.)                        3.84\n",
       "yDMexp (95% C.L.)                            12.680339\n",
       "\n",
       "[42 rows x 1 columns]"
      ]
     },
     "execution_count": 22,
     "metadata": {},
     "output_type": "execute_result"
    }
   ],
   "source": [
    "red.T"
   ]
  },
  {
   "cell_type": "code",
   "execution_count": 21,
   "metadata": {},
   "outputs": [
    {
     "data": {
      "text/html": [
       "<div>\n",
       "<style scoped>\n",
       "    .dataframe tbody tr th:only-of-type {\n",
       "        vertical-align: middle;\n",
       "    }\n",
       "\n",
       "    .dataframe tbody tr th {\n",
       "        vertical-align: top;\n",
       "    }\n",
       "\n",
       "    .dataframe thead th {\n",
       "        text-align: right;\n",
       "    }\n",
       "</style>\n",
       "<table border=\"1\" class=\"dataframe\">\n",
       "  <thead>\n",
       "    <tr style=\"text-align: right;\">\n",
       "      <th></th>\n",
       "      <th>50</th>\n",
       "    </tr>\n",
       "  </thead>\n",
       "  <tbody>\n",
       "    <tr>\n",
       "      <th>model</th>\n",
       "      <td>Top-EFTphysical_simple-UFO</td>\n",
       "    </tr>\n",
       "    <tr>\n",
       "      <th>mST</th>\n",
       "      <td>700.0</td>\n",
       "    </tr>\n",
       "    <tr>\n",
       "      <th>mChi</th>\n",
       "      <td>690.0</td>\n",
       "    </tr>\n",
       "    <tr>\n",
       "      <th>mT</th>\n",
       "      <td>172.5</td>\n",
       "    </tr>\n",
       "    <tr>\n",
       "      <th>yDM</th>\n",
       "      <td>1.0</td>\n",
       "    </tr>\n",
       "    <tr>\n",
       "      <th>...</th>\n",
       "      <td>...</td>\n",
       "    </tr>\n",
       "    <tr>\n",
       "      <th>bin_2300_3500</th>\n",
       "      <td>0.000013</td>\n",
       "    </tr>\n",
       "    <tr>\n",
       "      <th>bin_2300_3500_Error</th>\n",
       "      <td>0.0</td>\n",
       "    </tr>\n",
       "    <tr>\n",
       "      <th>yDM (95% C.L.)</th>\n",
       "      <td>10.695657</td>\n",
       "    </tr>\n",
       "    <tr>\n",
       "      <th>$\\Delta \\chi^2$ (95% C.L.)</th>\n",
       "      <td>3.84</td>\n",
       "    </tr>\n",
       "    <tr>\n",
       "      <th>yDMexp (95% C.L.)</th>\n",
       "      <td>18.007571</td>\n",
       "    </tr>\n",
       "  </tbody>\n",
       "</table>\n",
       "<p>42 rows × 1 columns</p>\n",
       "</div>"
      ],
      "text/plain": [
       "                                                    50\n",
       "model                       Top-EFTphysical_simple-UFO\n",
       "mST                                              700.0\n",
       "mChi                                             690.0\n",
       "mT                                               172.5\n",
       "yDM                                                1.0\n",
       "...                                                ...\n",
       "bin_2300_3500                                 0.000013\n",
       "bin_2300_3500_Error                                0.0\n",
       "yDM (95% C.L.)                               10.695657\n",
       "$\\Delta \\chi^2$ (95% C.L.)                        3.84\n",
       "yDMexp (95% C.L.)                            18.007571\n",
       "\n",
       "[42 rows x 1 columns]"
      ]
     },
     "execution_count": 21,
     "metadata": {},
     "output_type": "execute_result"
    }
   ],
   "source": [
    "redEFT.T"
   ]
  },
  {
   "cell_type": "code",
   "execution_count": 9,
   "metadata": {},
   "outputs": [],
   "source": [
    "# ### Load CMS data\n",
    "xsecsObs,sm,covMatrix = read_CMSdata()\n",
    "# covMatrix = np.diag(covMatrix.diagonal()) # Ignore correlations\n",
    "# ### Load SM prediction (LO)\n",
    "smLO = getSMLO()\n",
    "# ### Load k-factors\n",
    "kfac = getKfactor(sm,smLO)\n",
    "sm = kfac*smLO\n"
   ]
  },
  {
   "cell_type": "code",
   "execution_count": 10,
   "metadata": {},
   "outputs": [],
   "source": [
    "binCols = [c for c in red.columns \n",
    "               if 'bin_' in c.lower() and not 'error' in c.lower()]\n",
    "bins_left = np.array([eval(c.split('_')[1]) for c in binCols])\n",
    "bins_right = np.array([eval(c.split('_')[2]) for c in binCols])               "
   ]
  },
  {
   "cell_type": "code",
   "execution_count": 11,
   "metadata": {},
   "outputs": [],
   "source": [
    "signal = list(zip(bins_left,red.iloc[0][binCols].values))\n",
    "signal = np.array(sorted(signal))[:,1]\n",
    "\n",
    "signalEFT = list(zip(bins_left,redEFT.iloc[0][binCols].values))\n",
    "signalEFT = np.array(sorted(signalEFT))[:,1]"
   ]
  },
  {
   "cell_type": "code",
   "execution_count": 12,
   "metadata": {},
   "outputs": [],
   "source": [
    "signal = kfac*signal\n",
    "signalEFT = kfac*signalEFT"
   ]
  },
  {
   "cell_type": "code",
   "execution_count": 13,
   "metadata": {},
   "outputs": [],
   "source": [
    "signal = signal/bin_widths\n",
    "signalEFT = signalEFT/bin_widths\n",
    "sm = sm/bin_widths"
   ]
  },
  {
   "cell_type": "code",
   "execution_count": 14,
   "metadata": {},
   "outputs": [
    {
     "name": "stdout",
     "output_type": "stream",
     "text": [
      "{'yDMmin': array([8.29521636e-05]), 'chi2min': 18.467925041000694, 'yDM95': 11.980723524301899, 'deltaChi95': 3.8399999999998577}\n",
      "{'yDMmin': array([-1.007003e-06]), 'chi2min': 18.467925040846588, 'yDM95': 14.985480323526641, 'deltaChi95': 3.8399999999999466}\n"
     ]
    }
   ],
   "source": [
    "res = getUL(signal,sm,xsecsObs,covMatrix)\n",
    "resEFT = getUL(signalEFT,sm,xsecsObs,covMatrix)\n",
    "print(res)\n",
    "print(resEFT)"
   ]
  },
  {
   "cell_type": "code",
   "execution_count": 15,
   "metadata": {},
   "outputs": [],
   "source": [
    "yDMvals = np.linspace(0.,10.,100)\n",
    "c2 = np.array([chi2(y, signal, sm, xsecsObs, covMatrix, 0.2) for y in yDMvals])\n",
    "c2EFT = np.array([chi2(y, signalEFT, sm, xsecsObs, covMatrix, 0.2) for y in yDMvals])"
   ]
  },
  {
   "cell_type": "code",
   "execution_count": 16,
   "metadata": {},
   "outputs": [
    {
     "data": {
      "image/png": "[encoded data removed]",
      "text/plain": [
       "<Figure size 640x480 with 1 Axes>"
      ]
     },
     "metadata": {},
     "output_type": "display_data"
    }
   ],
   "source": [
    "plt.plot(yDMvals,c2-res['chi2min'],label='chi2-loop')\n",
    "plt.plot(yDMvals,c2EFT-resEFT['chi2min'],label='chi2-EFT')\n",
    "plt.hlines(y=3.84,xmin=yDMvals.min(),xmax=yDMvals.max(),linestyles='dashed',colors='gray')\n",
    "plt.vlines(x=res['yDM95'],ymin=0,ymax=10.,linestyles='dashed',colors='gray')\n",
    "plt.vlines(x=resEFT['yDM95'],ymin=0,ymax=10.,linestyles='dashed',colors='gray')\n",
    "plt.legend()\n",
    "# plt.ylim(0,100)\n",
    "plt.show()"
   ]
  },
  {
   "cell_type": "code",
   "execution_count": 17,
   "metadata": {},
   "outputs": [
    {
     "data": {
      "text/plain": [
       "array([1.00008053, 1.00001387, 1.00004789, 1.00004352, 1.00004762,\n",
       "       1.00010204, 1.00006549, 1.00012608, 1.00025066, 1.00036348,\n",
       "       1.00056887, 1.00094509, 1.0019149 , 1.00451431, 1.00401048])"
      ]
     },
     "execution_count": 17,
     "metadata": {},
     "output_type": "execute_result"
    }
   ],
   "source": [
    "(sm + 25*signal)/(sm+25*signalEFT)"
   ]
  },
  {
   "cell_type": "code",
   "execution_count": null,
   "metadata": {},
   "outputs": [],
   "source": []
  }
 ],
 "metadata": {
  "kernelspec": {
   "display_name": "Python 3",
   "language": "python",
   "name": "python3"
  },
  "language_info": {
   "codemirror_mode": {
    "name": "ipython",
    "version": 3
   },
   "file_extension": ".py",
   "mimetype": "text/x-python",
   "name": "python",
   "nbconvert_exporter": "python",
   "pygments_lexer": "ipython3",
   "version": "3.10.12"
  }
 },
 "nbformat": 4,
 "nbformat_minor": 2
}
