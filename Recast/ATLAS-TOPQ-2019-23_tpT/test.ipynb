{
 "cells": [
  {
   "cell_type": "code",
   "execution_count": 1,
   "metadata": {},
   "outputs": [],
   "source": [
    "import os,glob,sys\n",
    "import numpy as np\n",
    "import pandas as pd\n",
    "import random\n",
    "import pyslha\n",
    "import time\n",
    "import progressbar as P\n",
    "import tempfile,gzip,pylhe\n",
    "from atlas_topq_2019_23_Recast import getLHEevents,getPTThist\n",
    "from atlas_topq_2019_23_Limits import read_ATLASdata,getSMLO\n",
    "sys.path.append('/home/lessa/MonoXSMS')\n",
    "from statisticalTools.simplifiedLikelihoods import Data,UpperLimitComputer"
   ]
  },
  {
   "cell_type": "code",
   "execution_count": 2,
   "metadata": {},
   "outputs": [
    {
     "name": "stdout",
     "output_type": "stream",
     "text": [
      "[1.77263145 1.61467064 1.52121939 1.40926446 1.23749754 1.01519651\n",
      " 0.90870208 0.58598112]\n"
     ]
    }
   ],
   "source": [
    "# ### Load ATLAS data and BG\n",
    "xsecsObs,sm,covMatrix = read_ATLASdata()\n",
    "\n",
    "# ### Load LO background from MG5\n",
    "smLO = getSMLO()\n",
    "\n",
    "# Get k-factor for each bin\n",
    "kfac = np.divide(sm,smLO)\n",
    "\n",
    "print(kfac)"
   ]
  },
  {
   "cell_type": "code",
   "execution_count": 3,
   "metadata": {},
   "outputs": [],
   "source": [
    "atlas_bins = np.array([355.0,381.0,420.0,478.0,549.0,633.0,720.0,836.0,2000.0])\n",
    "bin_width  = atlas_bins[1:]-atlas_bins[:-1]\n",
    "\n",
    "\n",
    "recastData = pd.read_pickle('./pp2tt_formFactors_scan.pcl')\n",
    "binCols = [c for c in recastData.columns \n",
    "            if 'bin_' in c.lower() and not 'error' in c.lower()]\n",
    "bins_left = np.array([eval(c.split('_')[1]) for c in binCols])\n",
    "bins_right = np.array([eval(c.split('_')[2]) for c in binCols])"
   ]
  },
  {
   "cell_type": "code",
   "execution_count": 4,
   "metadata": {},
   "outputs": [
    {
     "name": "stdout",
     "output_type": "stream",
     "text": [
      "None\n",
      "None\n",
      "None\n",
      "None\n",
      "None\n",
      "None\n",
      "None\n",
      "None\n",
      "None\n",
      "0.17385564868227743 1.0575901080611734\n"
     ]
    }
   ],
   "source": [
    "ulComp = UpperLimitComputer()\n",
    "for ipt,pt in recastData.iterrows():\n",
    "    signal = list(zip(bins_left,pt[binCols].values))\n",
    "    signal = np.array(sorted(signal))[:,1]\n",
    "    yDM = pt['yDM']\n",
    "    # Make sure signal is normalized to yDM = 1\n",
    "    signal = signal/yDM**2\n",
    "\n",
    "    # Rescale predictions by bin-dependent k-factors and divide by the bin widths\n",
    "    signal = kfac*signal/bin_width\n",
    "    lumi = 139.0*1e3 # xsecs are in pb\n",
    "    fac = bin_width*lumi\n",
    "    data = Data(observed=xsecsObs*fac, backgrounds=sm*fac, \n",
    "                    covariance=covMatrix*fac**2, \n",
    "                    nsignal=signal*fac,deltas_rel=0.0)\n",
    "\n",
    "    ul = ulComp.getUpperLimitOnMu(data)\n",
    "    if not ul:\n",
    "        print(ul)\n",
    "        continue\n",
    "    yDMmax = np.sqrt(ul)\n",
    "    print(yDMmax,pt['yDM (95% C.L.)'])\n",
    "    break"
   ]
  },
  {
   "cell_type": "code",
   "execution_count": 5,
   "metadata": {},
   "outputs": [],
   "source": [
    "gg = pd.read_pickle('./gg2tt_formFactors_scan.pcl')\n",
    "qq = pd.read_pickle('./qq2tt_formFactors_scan.pcl')"
   ]
  },
  {
   "cell_type": "code",
   "execution_count": 6,
   "metadata": {},
   "outputs": [
    {
     "data": {
      "text/plain": [
       "model                                        Top-FormFactorsOneLoop-UFO\n",
       "mST                                                               300.0\n",
       "mChi                                                                5.0\n",
       "mT                                                                172.5\n",
       "yDM                                                                 1.0\n",
       "process                                             $g g \\to \\bar{t} t$\n",
       "xsec (pb)                                                     -0.001036\n",
       "MC Events                                                         75000\n",
       "file                  ../../processFolders/gg2tt_formFactors_scan/Ev...\n",
       "bin_355_381                                                   -0.000176\n",
       "bin_355_381_Error                                              0.000016\n",
       "bin_381_420                                                    -0.00026\n",
       "bin_381_420_Error                                              0.000016\n",
       "bin_420_478                                                   -0.000284\n",
       "bin_420_478_Error                                              0.000013\n",
       "bin_478_549                                                   -0.000234\n",
       "bin_478_549_Error                                              0.000008\n",
       "bin_549_633                                                   -0.000145\n",
       "bin_549_633_Error                                              0.000005\n",
       "bin_633_720                                                   -0.000084\n",
       "bin_633_720_Error                                              0.000003\n",
       "bin_720_836                                                   -0.000058\n",
       "bin_720_836_Error                                              0.000002\n",
       "bin_836_2000                                                  -0.000044\n",
       "bin_836_2000_Error                                             0.000001\n",
       "Name: 0, dtype: object"
      ]
     },
     "execution_count": 6,
     "metadata": {},
     "output_type": "execute_result"
    }
   ],
   "source": [
    "gg.iloc[0].T"
   ]
  },
  {
   "cell_type": "code",
   "execution_count": 7,
   "metadata": {},
   "outputs": [
    {
     "data": {
      "text/plain": [
       "model                                        Top-FormFactorsOneLoop-UFO\n",
       "mST                                                               300.0\n",
       "mChi                                                                5.0\n",
       "mT                                                                172.5\n",
       "yDM                                                                 1.0\n",
       "process                                             $q q \\to \\bar{t} t$\n",
       "xsec (pb)                                                     -0.000042\n",
       "MC Events                                                         75000\n",
       "file                  ../../processFolders/qq2tt_formFactors_scan/Ev...\n",
       "bin_355_381                                                    0.000063\n",
       "bin_355_381_Error                                              0.000004\n",
       "bin_381_420                                                    0.000059\n",
       "bin_381_420_Error                                              0.000004\n",
       "bin_420_478                                                    0.000039\n",
       "bin_420_478_Error                                              0.000003\n",
       "bin_478_549                                                    0.000003\n",
       "bin_478_549_Error                                              0.000002\n",
       "bin_549_633                                                   -0.000019\n",
       "bin_549_633_Error                                              0.000001\n",
       "bin_633_720                                                   -0.000024\n",
       "bin_633_720_Error                                              0.000001\n",
       "bin_720_836                                                   -0.000024\n",
       "bin_720_836_Error                                              0.000001\n",
       "bin_836_2000                                                  -0.000033\n",
       "bin_836_2000_Error                                                  0.0\n",
       "Name: 0, dtype: object"
      ]
     },
     "execution_count": 7,
     "metadata": {},
     "output_type": "execute_result"
    }
   ],
   "source": [
    "qq.iloc[0].T"
   ]
  },
  {
   "cell_type": "code",
   "execution_count": 8,
   "metadata": {},
   "outputs": [
    {
     "data": {
      "text/plain": [
       "(207, 207)"
      ]
     },
     "execution_count": 8,
     "metadata": {},
     "output_type": "execute_result"
    }
   ],
   "source": [
    "len(gg),len(qq)"
   ]
  },
  {
   "cell_type": "code",
   "execution_count": 9,
   "metadata": {},
   "outputs": [
    {
     "data": {
      "text/plain": [
       "../../processFolders/gg2tt_formFactors_scan/Events/run_01/unweighted_events.lhe.gz     1\n",
       "../../processFolders/gg2tt_formFactors_scan/Events/run_127/unweighted_events.lhe.gz    1\n",
       "../../processFolders/gg2tt_formFactors_scan/Events/run_139/unweighted_events.lhe.gz    1\n",
       "../../processFolders/gg2tt_formFactors_scan/Events/run_292/unweighted_events.lhe.gz    1\n",
       "../../processFolders/gg2tt_formFactors_scan/Events/run_151/unweighted_events.lhe.gz    1\n",
       "                                                                                      ..\n",
       "../../processFolders/gg2tt_formFactors_scan/Events/run_101/unweighted_events.lhe.gz    1\n",
       "../../processFolders/gg2tt_formFactors_scan/Events/run_351/unweighted_events.lhe.gz    1\n",
       "../../processFolders/gg2tt_formFactors_scan/Events/run_51/unweighted_events.lhe.gz     1\n",
       "../../processFolders/gg2tt_formFactors_scan/Events/run_355/unweighted_events.lhe.gz    1\n",
       "../../processFolders/gg2tt_formFactors_scan/Events/run_233/unweighted_events.lhe.gz    1\n",
       "Name: file, Length: 207, dtype: int64"
      ]
     },
     "execution_count": 9,
     "metadata": {},
     "output_type": "execute_result"
    }
   ],
   "source": [
    "gg['file'].value_counts()"
   ]
  },
  {
   "cell_type": "code",
   "execution_count": 10,
   "metadata": {},
   "outputs": [],
   "source": [
    "pt = pd.read_pickle('../../processFolders/gg2tt_formFactors_scan/Events/run_01/unweighted_events_atlas_topq_2019_23.pcl')\n"
   ]
  },
  {
   "cell_type": "code",
   "execution_count": 11,
   "metadata": {},
   "outputs": [],
   "source": [
    "for f in glob.glob('./qq2tt_formFactors_scan/Events/run_*/unweighted_events_atlas_topq_2019_23.pcl'):\n",
    "    df = pd.read_pickle(f)\n",
    "    if len(df) == 1:\n",
    "        continue\n",
    "    newDF = df.drop_duplicates()\n",
    "    newDF.to_pickle(f)\n"
   ]
  },
  {
   "cell_type": "code",
   "execution_count": 12,
   "metadata": {},
   "outputs": [
    {
     "data": {
      "text/html": [
       "<div>\n",
       "<style scoped>\n",
       "    .dataframe tbody tr th:only-of-type {\n",
       "        vertical-align: middle;\n",
       "    }\n",
       "\n",
       "    .dataframe tbody tr th {\n",
       "        vertical-align: top;\n",
       "    }\n",
       "\n",
       "    .dataframe thead th {\n",
       "        text-align: right;\n",
       "    }\n",
       "</style>\n",
       "<table border=\"1\" class=\"dataframe\">\n",
       "  <thead>\n",
       "    <tr style=\"text-align: right;\">\n",
       "      <th></th>\n",
       "      <th>model</th>\n",
       "      <th>process</th>\n",
       "      <th>mST</th>\n",
       "      <th>mChi</th>\n",
       "      <th>mT</th>\n",
       "      <th>yDM</th>\n",
       "      <th>xsec (pb)</th>\n",
       "      <th>MC Events</th>\n",
       "      <th>file</th>\n",
       "      <th>bin_355_381</th>\n",
       "      <th>...</th>\n",
       "      <th>bin_478_549</th>\n",
       "      <th>bin_478_549_Error</th>\n",
       "      <th>bin_549_633</th>\n",
       "      <th>bin_549_633_Error</th>\n",
       "      <th>bin_633_720</th>\n",
       "      <th>bin_633_720_Error</th>\n",
       "      <th>bin_720_836</th>\n",
       "      <th>bin_720_836_Error</th>\n",
       "      <th>bin_836_2000</th>\n",
       "      <th>bin_836_2000_Error</th>\n",
       "    </tr>\n",
       "  </thead>\n",
       "  <tbody>\n",
       "    <tr>\n",
       "      <th>0</th>\n",
       "      <td>Top-FormFactorsOneLoop-UFO</td>\n",
       "      <td>$g g \\to \\bar{t} t$</td>\n",
       "      <td>300.0</td>\n",
       "      <td>5.0</td>\n",
       "      <td>172.5</td>\n",
       "      <td>1.0</td>\n",
       "      <td>-0.001036</td>\n",
       "      <td>75000</td>\n",
       "      <td>../../processFolders/gg2tt_formFactors_scan/Ev...</td>\n",
       "      <td>-0.000176</td>\n",
       "      <td>...</td>\n",
       "      <td>-0.000234</td>\n",
       "      <td>0.000008</td>\n",
       "      <td>-0.000145</td>\n",
       "      <td>0.000005</td>\n",
       "      <td>-0.000084</td>\n",
       "      <td>0.000003</td>\n",
       "      <td>-0.000058</td>\n",
       "      <td>0.000002</td>\n",
       "      <td>-0.000044</td>\n",
       "      <td>0.000001</td>\n",
       "    </tr>\n",
       "  </tbody>\n",
       "</table>\n",
       "<p>1 rows × 25 columns</p>\n",
       "</div>"
      ],
      "text/plain": [
       "                        model              process    mST  mChi     mT  yDM  \\\n",
       "0  Top-FormFactorsOneLoop-UFO  $g g \\to \\bar{t} t$  300.0   5.0  172.5  1.0   \n",
       "\n",
       "   xsec (pb)  MC Events                                               file  \\\n",
       "0  -0.001036      75000  ../../processFolders/gg2tt_formFactors_scan/Ev...   \n",
       "\n",
       "   bin_355_381  ...  bin_478_549  bin_478_549_Error  bin_549_633  \\\n",
       "0    -0.000176  ...    -0.000234           0.000008    -0.000145   \n",
       "\n",
       "   bin_549_633_Error  bin_633_720  bin_633_720_Error  bin_720_836  \\\n",
       "0           0.000005    -0.000084           0.000003    -0.000058   \n",
       "\n",
       "   bin_720_836_Error  bin_836_2000  bin_836_2000_Error  \n",
       "0           0.000002     -0.000044            0.000001  \n",
       "\n",
       "[1 rows x 25 columns]"
      ]
     },
     "execution_count": 12,
     "metadata": {},
     "output_type": "execute_result"
    }
   ],
   "source": [
    "pt.drop_duplicates()"
   ]
  },
  {
   "cell_type": "code",
   "execution_count": null,
   "metadata": {},
   "outputs": [],
   "source": []
  }
 ],
 "metadata": {
  "kernelspec": {
   "display_name": "Python 3",
   "language": "python",
   "name": "python3"
  },
  "language_info": {
   "codemirror_mode": {
    "name": "ipython",
    "version": 3
   },
   "file_extension": ".py",
   "mimetype": "text/x-python",
   "name": "python",
   "nbconvert_exporter": "python",
   "pygments_lexer": "ipython3",
   "version": "3.9.7"
  },
  "orig_nbformat": 4
 },
 "nbformat": 4,
 "nbformat_minor": 2
}
