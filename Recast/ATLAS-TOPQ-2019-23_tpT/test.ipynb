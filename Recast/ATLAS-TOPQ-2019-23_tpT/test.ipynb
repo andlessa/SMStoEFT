{
 "cells": [
  {
   "cell_type": "code",
   "execution_count": 3,
   "metadata": {},
   "outputs": [],
   "source": [
    "import os,glob\n",
    "import numpy as np\n",
    "import pandas as pd\n",
    "import random\n",
    "import pyslha\n",
    "import time\n",
    "import progressbar as P\n",
    "import tempfile,gzip,pylhe\n",
    "from atlas_topq_2019_23_Recast import getLHEevents,getPTThist"
   ]
  },
  {
   "cell_type": "code",
   "execution_count": 10,
   "metadata": {},
   "outputs": [],
   "source": [
    "# events = getLHEevents('../../processFolders/sm_ttj_lo/Events/run_03/unweighted_events.lhe.gz')\n",
    "events = getLHEevents('../../processFolders/sm_tt_lo/Events/run_03/unweighted_events.lhe.gz')\n",
    "# events = getLHEevents('../../processFolders/sm_tt_nlo/Events/run_02/events.lhe.gz')"
   ]
  },
  {
   "cell_type": "code",
   "execution_count": 11,
   "metadata": {},
   "outputs": [
    {
     "name": "stdout",
     "output_type": "stream",
     "text": [
      "xsec (pb) = 3.658e+02\n",
      "fiducial xsec (pb) = 4.464e+00\n"
     ]
    }
   ],
   "source": [
    "x = getPTThist(events)"
   ]
  },
  {
   "cell_type": "code",
   "execution_count": 12,
   "metadata": {},
   "outputs": [],
   "source": [
    "kfac = 832./365.\n",
    "BR = 0.6741*(0.1071+0.1063)*2\n",
    "atlas_fiducial = 1.267"
   ]
  },
  {
   "cell_type": "code",
   "execution_count": 13,
   "metadata": {},
   "outputs": [
    {
     "data": {
      "text/plain": [
       "2.9272905503656568"
      ]
     },
     "execution_count": 13,
     "metadata": {},
     "output_type": "execute_result"
    }
   ],
   "source": [
    "sum(x[:,2])*BR*kfac"
   ]
  },
  {
   "cell_type": "code",
   "execution_count": 7,
   "metadata": {},
   "outputs": [],
   "source": [
    "BR = 0.2877\n",
    "bins_atlas = np.array([355.0, 381.0, 420.0, 478.0, 549.0, 633.0, 720.0, 836.0, 2000.0])\n",
    "bins_width = bins_atlas[1:]-bins_atlas[:-1]\n",
    "sm_lo = np.divide(BR*np.loadtxt('./data_from_madgraph/pth_nnpdf4p0_alphaS_SM.txt',usecols=(2,),dtype=float), bins_width)\n",
    "sm_nnlo = np.loadtxt('./digitised_sm/nnlo_from_fig11.txt',dtype=float,usecols=(0,))\n",
    "kfac = np.divide(sm_nnlo, sm_lo)"
   ]
  },
  {
   "cell_type": "code",
   "execution_count": 8,
   "metadata": {},
   "outputs": [
    {
     "data": {
      "text/plain": [
       "array([0.45514444, 0.53204156, 0.61574426, 0.67979172, 0.69550676,\n",
       "       0.65394497, 0.58104247, 0.44457884])"
      ]
     },
     "execution_count": 8,
     "metadata": {},
     "output_type": "execute_result"
    }
   ],
   "source": [
    "kfac"
   ]
  },
  {
   "cell_type": "code",
   "execution_count": 17,
   "metadata": {},
   "outputs": [
    {
     "name": "stdout",
     "output_type": "stream",
     "text": [
      "4.05542774739438 1.267\n"
     ]
    }
   ],
   "source": [
    "fid_xsec = sum(sm_lo*bins_width)\n",
    "fid_xsec_nnlo = 1.267\n",
    "print(fid_xsec*1.7,fid_xsec_nnlo)"
   ]
  },
  {
   "cell_type": "code",
   "execution_count": null,
   "metadata": {},
   "outputs": [],
   "source": []
  }
 ],
 "metadata": {
  "kernelspec": {
   "display_name": "Python 3",
   "language": "python",
   "name": "python3"
  },
  "language_info": {
   "codemirror_mode": {
    "name": "ipython",
    "version": 3
   },
   "file_extension": ".py",
   "mimetype": "text/x-python",
   "name": "python",
   "nbconvert_exporter": "python",
   "pygments_lexer": "ipython3",
   "version": "3.10.12"
  },
  "orig_nbformat": 4
 },
 "nbformat": 4,
 "nbformat_minor": 2
}
