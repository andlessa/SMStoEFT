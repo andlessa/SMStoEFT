{
 "cells": [
  {
   "cell_type": "code",
   "execution_count": 1,
   "id": "d2d2faa6-f117-4b06-9e54-a4f84cb2104e",
   "metadata": {},
   "outputs": [],
   "source": [
    "import spey\n",
    "import matplotlib.pyplot as plt\n",
    "import numpy as np\n",
    "# Spey was installed with: pip3 install --user git+https://github.com/SpeysideHEP/spey@refs/pull/39/merge"
   ]
  },
  {
   "cell_type": "code",
   "execution_count": 2,
   "id": "88f4ee1e-5275-461a-b034-13a8927f8d69",
   "metadata": {},
   "outputs": [
    {
     "name": "stdout",
     "output_type": "stream",
     "text": [
      "['default_pdf.correlated_background', 'default_pdf.effective_sigma', 'default_pdf.poisson', 'default_pdf.third_moment_expansion', 'default_pdf.uncorrelated_background']\n"
     ]
    }
   ],
   "source": [
    "print(spey.AvailableBackends())"
   ]
  },
  {
   "cell_type": "code",
   "execution_count": 3,
   "id": "1e11b180-7e20-4f91-8e3c-5995612eb3a3",
   "metadata": {},
   "outputs": [],
   "source": [
    "pdf_wrapper = spey.get_backend('default_pdf.correlated_background')"
   ]
  },
  {
   "cell_type": "markdown",
   "id": "87f2b43c-d36b-4310-a252-b675fcbab37f",
   "metadata": {},
   "source": [
    "### Contur Data:"
   ]
  },
  {
   "cell_type": "code",
   "execution_count": 4,
   "id": "93f884e1-6b96-48c2-b135-5a623bce599c",
   "metadata": {},
   "outputs": [],
   "source": [
    "lumi = 139.0*1e3\n",
    "data = lumi*np.array([1.129501e-02, 8.518551e-03, 5.196489e-03, 2.585358e-03, 1.099220e-03, 4.466096e-04, 1.558704e-04, 7.694208e-06])\n",
    "signal_yields = lumi*np.array([7.11288462e-07,1.72211154e-06,1.71594397e-06,1.18480085e-06, 6.48651071e-07, 2.41585517e-07, 1.15588276e-07, 7.22221478e-10])\n",
    "background_yields = lumi*np.array([1.279688e-02, 9.729670e-03, 6.077057e-03, 3.098760e-03,\n",
    "       1.362147e-03, 5.439250e-04, 1.954953e-04, 9.935645e-06])\n",
    "background_unc = 0.25*background_yields\n",
    "covariance_matrix = lumi**2*np.array([[ 1.08271672e-05,  1.32578400e-09, -1.66344800e-09,\n",
    "         2.86848800e-12,  3.97951700e-11,  2.33993900e-11,\n",
    "         4.41265000e-12, -2.61606700e-13],\n",
    "       [ 1.32578400e-09,  6.62909218e-06,  3.05611000e-10,\n",
    "        -4.04371100e-10,  1.52182300e-11,  3.08376600e-11,\n",
    "         4.47543500e-12,  1.50092400e-13],\n",
    "       [-1.66344800e-09,  3.05611000e-10,  2.53965091e-06,\n",
    "        -4.28218400e-11, -1.24275800e-10,  7.84641400e-12,\n",
    "         8.58552700e-13, -4.53217400e-13],\n",
    "       [ 2.86848800e-12, -4.04371100e-10, -4.28218400e-11,\n",
    "         6.84913906e-07, -2.65835800e-11, -5.05167500e-11,\n",
    "         1.00710300e-12,  1.40432400e-13],\n",
    "       [ 3.97951700e-11,  1.52182300e-11, -1.24275800e-10,\n",
    "        -2.65835800e-11,  1.34593734e-07, -1.17533100e-11,\n",
    "        -1.58225900e-11,  1.48251700e-13],\n",
    "       [ 2.33993900e-11,  3.08376600e-11,  7.84641400e-12,\n",
    "        -5.05167500e-11, -1.17533100e-11,  1.70083155e-08,\n",
    "        -4.15263400e-12, -4.32260200e-13],\n",
    "       [ 4.41265000e-12,  4.47543500e-12,  8.58552700e-13,\n",
    "         1.00710300e-12, -1.58225900e-11, -4.15263400e-12,\n",
    "         2.41376248e-09, -4.81976500e-13],\n",
    "       [-2.61606700e-13,  1.50092400e-13, -4.53217400e-13,\n",
    "         1.40432400e-13,  1.48251700e-13, -4.32260200e-13,\n",
    "        -4.81976500e-13,  6.10685491e-12]])"
   ]
  },
  {
   "cell_type": "code",
   "execution_count": 5,
   "id": "2b676934-6d67-4dd1-929d-d6c58217af9f",
   "metadata": {},
   "outputs": [],
   "source": [
    "stat_model = pdf_wrapper(\n",
    "    signal_yields=signal_yields,\n",
    "    background_yields=background_yields,\n",
    "    data=data,\n",
    "    # absolute_uncertainties=background_unc,\n",
    "    covariance_matrix=covariance_matrix,\n",
    "    analysis=\"multi_bin\",\n",
    "    xsection=1.0,\n",
    ")"
   ]
  },
  {
   "cell_type": "code",
   "execution_count": 6,
   "id": "627ecfce-7faa-4463-b4e6-5f33855ab773",
   "metadata": {},
   "outputs": [
    {
     "name": "stdout",
     "output_type": "stream",
     "text": [
      "1-CLs (apriori): [0.0025684040832582022, 0.0016514663679565444, 0.000864443611672816, 0.0008636969943235373, 0.0008636969943235373]\n",
      "1-CLs (aposteriori): [0.20985761161395367, 0.14142619143355228, 0.0776495631881523, 0.07205455821689499, 0.07205455821689499]\n",
      "1-CLs (observed): [0.07810172635979551]\n"
     ]
    }
   ],
   "source": [
    "for expectation in spey.ExpectationType:\n",
    "    print(f\"1-CLs ({expectation}): {stat_model.exclusion_confidence_level(expected=expectation)}\")"
   ]
  },
  {
   "cell_type": "markdown",
   "id": "3fb6327e-e736-47f4-8990-352a414da328",
   "metadata": {},
   "source": [
    "### Recast Data"
   ]
  },
  {
   "cell_type": "code",
   "execution_count": 10,
   "id": "4239e28a-1099-42e2-90f7-55c40cd7c351",
   "metadata": {},
   "outputs": [],
   "source": [
    "signal_yields = lumi*np.array([1.63943741e-06, 1.84706470e-06, 2.20134377e-06, 1.55357415e-06, 8.62291400e-07, 3.96303076e-07, 1.56020505e-07, 1.77168887e-09])\n",
    "background_yields = lumi*np.array([1.16790403e-02, 8.82351513e-03, 5.49061028e-03, 2.77538181e-03,\n",
    " 1.21123052e-03, 4.75281936e-04, 1.68215336e-04, 8.18817615e-06])\n",
    "covariance_matrix = lumi**2*np.array([[ 3.81832826e-07,  1.32578400e-09, -1.66344800e-09,\n",
    "         2.86848800e-12,  3.97951700e-11,  2.33993900e-11,\n",
    "         4.41265000e-12, -2.61606700e-13],\n",
    "       [ 1.32578400e-09,  1.54302421e-07,  3.05611000e-10,\n",
    "        -4.04371100e-10,  1.52182300e-11,  3.08376600e-11,\n",
    "         4.47543500e-12,  1.50092400e-13],\n",
    "       [-1.66344800e-09,  3.05611000e-10,  4.51523035e-08,\n",
    "        -4.28218400e-11, -1.24275800e-10,  7.84641400e-12,\n",
    "         8.58552700e-13, -4.53217400e-13],\n",
    "       [ 2.86848800e-12, -4.04371100e-10, -4.28218400e-11,\n",
    "         1.32802765e-08, -2.65835800e-11, -5.05167500e-11,\n",
    "         1.00710300e-12,  1.40432400e-13],\n",
    "       [ 3.97951700e-11,  1.52182300e-11, -1.24275800e-10,\n",
    "        -2.65835800e-11,  4.50037623e-09, -1.17533100e-11,\n",
    "        -1.58225900e-11,  1.48251700e-13],\n",
    "       [ 2.33993900e-11,  3.08376600e-11,  7.84641400e-12,\n",
    "        -5.05167500e-11, -1.17533100e-11,  1.04776360e-09,\n",
    "        -4.15263400e-12, -4.32260200e-13],\n",
    "       [ 4.41265000e-12,  4.47543500e-12,  8.58552700e-13,\n",
    "         1.00710300e-12, -1.58225900e-11, -4.15263400e-12,\n",
    "         2.70792526e-10, -4.81976500e-13],\n",
    "       [-2.61606700e-13,  1.50092400e-13, -4.53217400e-13,\n",
    "         1.40432400e-13,  1.48251700e-13, -4.32260200e-13,\n",
    "        -4.81976500e-13,  1.46469096e-12]])"
   ]
  },
  {
   "cell_type": "code",
   "execution_count": 11,
   "id": "9be78ae2-cc3c-4e69-9238-65e9d8fbe81f",
   "metadata": {},
   "outputs": [],
   "source": [
    "stat_modelB = pdf_wrapper(\n",
    "    signal_yields=signal_yields,\n",
    "    background_yields=background_yields,\n",
    "    data=data,\n",
    "    # absolute_uncertainties=background_unc,\n",
    "    covariance_matrix=covariance_matrix,\n",
    "    analysis=\"multi_bin\",\n",
    "    xsection=1.0,\n",
    ")"
   ]
  },
  {
   "cell_type": "code",
   "execution_count": 12,
   "id": "a6ee1394-5ea9-437b-9c0c-a980dc9fb19e",
   "metadata": {},
   "outputs": [
    {
     "name": "stdout",
     "output_type": "stream",
     "text": [
      "1-CLs (apriori): [0.008650593622604896, 0.005569430522713303, 0.0029190172790047875, 0.002910521416698564, 0.002910521416698564]\n",
      "1-CLs (aposteriori): [0.3387272529329579, 0.23597774255626602, 0.1341474097773504, 0.1182804004319733, 0.1182804004319733]\n",
      "1-CLs (observed): [0.14457007802876276]\n"
     ]
    }
   ],
   "source": [
    "for expectation in spey.ExpectationType:\n",
    "    print(f\"1-CLs ({expectation}): {stat_modelB.exclusion_confidence_level(expected=expectation)}\")"
   ]
  },
  {
   "cell_type": "code",
   "execution_count": null,
   "id": "405133e9-24f4-4050-a719-58ffef741b5d",
   "metadata": {},
   "outputs": [],
   "source": []
  }
 ],
 "metadata": {
  "kernelspec": {
   "display_name": "Python 3 (ipykernel)",
   "language": "python",
   "name": "python3"
  },
  "language_info": {
   "codemirror_mode": {
    "name": "ipython",
    "version": 3
   },
   "file_extension": ".py",
   "mimetype": "text/x-python",
   "name": "python",
   "nbconvert_exporter": "python",
   "pygments_lexer": "ipython3",
   "version": "3.12.3"
  }
 },
 "nbformat": 4,
 "nbformat_minor": 5
}
