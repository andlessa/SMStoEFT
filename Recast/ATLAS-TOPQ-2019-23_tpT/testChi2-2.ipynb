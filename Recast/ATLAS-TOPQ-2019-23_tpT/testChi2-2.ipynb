{
 "cells": [
  {
   "cell_type": "code",
   "execution_count": 1,
   "metadata": {},
   "outputs": [],
   "source": [
    "import numpy as np\n",
    "import pandas as pd\n",
    "from matplotlib import pyplot as plt\n",
    "import seaborn as sns\n",
    "from atlas_topq_2019_23_Limits import *\n",
    "\n",
    "plt.rcParams.update({\n",
    "    \"text.usetex\": True,\n",
    "    \"font.family\": \"sans-serif\",\n",
    "    \"font.sans-serif\": [\"Helvetica\"]})\n",
    "\n",
    "plt.rcParams.update({\"savefig.dpi\" : 300}) #Figure resolution\n",
    "\n",
    "\n",
    "#Define plotting style:\n",
    "sns.set() #Set style\n",
    "sns.set_style('ticks',{'font.family':'Times New Roman', 'font.serif':'Times New Roman'})\n",
    "sns.set_context('paper', font_scale=1.8)\n",
    "cm = plt.colormaps['RdYlBu']\n",
    "\n",
    "\n",
    "pd.set_option('display.max_rows', 20)"
   ]
  },
  {
   "cell_type": "code",
   "execution_count": 19,
   "metadata": {},
   "outputs": [
    {
     "name": "stdout",
     "output_type": "stream",
     "text": [
      "ct= 5.899705014749262\n",
      "[1.16145363e-04 8.99767456e-05 5.79997185e-05 3.04126251e-05\n",
      " 1.34986246e-05 5.45229317e-06 1.96435784e-06 9.50220323e-08]\n"
     ]
    }
   ],
   "source": [
    "# data = np.genfromtxt('/home/lessa/Downloads/4data.csv',delimiter=',',skip_header=1)\n",
    "# data = np.array(sorted(data.tolist(), key = lambda pt: pt[0]))\n",
    "# data\n",
    "data = np.array([[0.01167904034, 3.0262927496621087e-06, 8.92340187674241e-09], [0.0088235151258, 2.317914207827015e-06, 7.675004390767219e-09], [0.0054906102774000005, 1.462114873185644e-06, 5.867623162330135e-09], [0.0027753818129999997, 7.428220358939738e-07, 3.761947150673253e-09], [0.001211230518, 3.159291590463169e-07, 2.0654090427218577e-09], [0.00047528193632, 1.2116267473427062e-07, 1.0194375037650542e-09], [0.00016821533568, 4.088012674297723e-08, 4.469382582580545e-10], [8.188176153600001e-06, 1.7274789507987556e-09, 2.8802874137196036e-11]])\n",
    "ct = 4.0\n",
    "ct = 1./(169.5*1e-3)\n",
    "print('ct=',ct)\n",
    "signal = data[:,1]*ct**2 + data[:,2]*ct**4\n",
    "print(signal)"
   ]
  },
  {
   "cell_type": "code",
   "execution_count": 21,
   "metadata": {},
   "outputs": [],
   "source": [
    "# ### Load CMS data\n",
    "xsecsObs,sm,covMatrix = read_ATLASdata()\n",
    "# ### Load LO background from MG5\n",
    "smLO = getSMLO()\n",
    "# Get k-factor for each bin\n",
    "kfac = getKfactor(sm,smLO)\n",
    "sm = sm/bin_widths"
   ]
  },
  {
   "cell_type": "code",
   "execution_count": 22,
   "metadata": {},
   "outputs": [],
   "source": [
    "bin_centers=(atlas_bins[:-1]+atlas_bins[1:])/2"
   ]
  },
  {
   "cell_type": "code",
   "execution_count": 24,
   "metadata": {},
   "outputs": [
    {
     "data": {
      "image/png": "[encoded data removed]",
      "text/plain": [
       "<Figure size 648x504 with 2 Axes>"
      ]
     },
     "metadata": {},
     "output_type": "display_data"
    }
   ],
   "source": [
    "_, axarr = plt.subplots(2,sharex=True, gridspec_kw = {'height_ratios':[2, 0.7]},figsize=(9,7))\n",
    "plt.subplots_adjust(left=0.12, bottom=0.12, right=0.97, top=None, wspace=None, hspace=0.1)\n",
    "\n",
    "axarr[0].hist(bin_centers,weights=xsecsObs,label='ATLAS data',histtype='step',linewidth=2,bins=atlas_bins)\n",
    "axarr[0].hist(bin_centers,weights=sm+signal,label=r'%1.1f TeV$^{-1}$' %ct,histtype='step',linewidth=2,bins=atlas_bins)\n",
    "axarr[0].set_yscale('log')\n",
    "axarr[0].set_ylim(1e-6,2e-2)\n",
    "axarr[0].legend()\n",
    "\n",
    "axarr[1].hist(bin_centers,weights=np.divide(xsecsObs,xsecsObs),histtype='step',linewidth=2,bins=atlas_bins)\n",
    "axarr[1].hist(bin_centers,weights=np.divide(sm+signal,xsecsObs),histtype='step',linewidth=2,bins=atlas_bins)\n",
    "axarr[1].set_ylim(0.8,1.3)\n",
    "plt.show()"
   ]
  },
  {
   "cell_type": "code",
   "execution_count": 25,
   "metadata": {},
   "outputs": [
    {
     "name": "stdout",
     "output_type": "stream",
     "text": [
      "{'yDMmin': array([0.]), 'chi2min': 10.139227277087516, 'yDM95': 1.0015214018925052, 'deltaChi95': 3.8400000000000176}\n"
     ]
    }
   ],
   "source": [
    "# sigg = np.array([3.05662421e-06, 2.31550010e-06, 1.44908334e-06, 7.41189353e-07, 3.17836974e-07, 1.21117828e-07, 4.10799094e-08, 1.72852629e-09])\n",
    "# print(sm)\n",
    "# print(xsecsObs)\n",
    "res  = getUL(signal,sm,xsecsObs,covMatrix)\n",
    "yDM95 = res['yDM95']\n",
    "chi2min = res['chi2min']\n",
    "print(res)"
   ]
  },
  {
   "cell_type": "code",
   "execution_count": 26,
   "metadata": {},
   "outputs": [],
   "source": [
    "yDMvals = np.linspace(0.,2.0,200)\n",
    "deltas = 0.0\n",
    "c2 = np.array([chi2(y, signal, sm, xsecsObs, covMatrix, deltas) for y in yDMvals])"
   ]
  },
  {
   "cell_type": "code",
   "execution_count": 27,
   "metadata": {},
   "outputs": [
    {
     "data": {
      "image/png": "[encoded data removed]",
      "text/plain": [
       "<Figure size 432x288 with 1 Axes>"
      ]
     },
     "metadata": {},
     "output_type": "display_data"
    }
   ],
   "source": [
    "plt.plot(yDMvals,c2-chi2min,label='chi2')\n",
    "plt.hlines(y=3.84,xmin=yDMvals.min(),xmax=yDMvals.max(),linestyles='dashed',colors='gray')\n",
    "plt.vlines(x=yDM95,ymin=0,ymax=10.,linestyles='dashed',colors='gray')\n",
    "# plt.vlines(x=yDM95b,ymin=0,ymax=10.,linestyles='dashed',colors='gray')\n",
    "plt.legend()\n",
    "plt.ylim(0,10)\n",
    "plt.show()"
   ]
  },
  {
   "cell_type": "code",
   "execution_count": null,
   "metadata": {},
   "outputs": [],
   "source": []
  }
 ],
 "metadata": {
  "kernelspec": {
   "display_name": "Python 3",
   "language": "python",
   "name": "python3"
  },
  "language_info": {
   "codemirror_mode": {
    "name": "ipython",
    "version": 3
   },
   "file_extension": ".py",
   "mimetype": "text/x-python",
   "name": "python",
   "nbconvert_exporter": "python",
   "pygments_lexer": "ipython3",
   "version": "3.9.7"
  }
 },
 "nbformat": 4,
 "nbformat_minor": 2
}
