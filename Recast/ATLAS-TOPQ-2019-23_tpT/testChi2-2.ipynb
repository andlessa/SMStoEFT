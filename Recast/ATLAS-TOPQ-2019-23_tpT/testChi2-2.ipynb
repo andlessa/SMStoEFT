{
 "cells": [
  {
   "cell_type": "code",
   "execution_count": 1,
   "metadata": {},
   "outputs": [],
   "source": [
    "import numpy as np\n",
    "import pandas as pd\n",
    "from matplotlib import pyplot as plt\n",
    "import seaborn as sns\n",
    "from atlas_topq_2019_23_Limits import *\n",
    "\n",
    "plt.rcParams.update({\n",
    "    \"text.usetex\": True,\n",
    "    \"font.family\": \"sans-serif\",\n",
    "    \"font.sans-serif\": [\"Helvetica\"]})\n",
    "\n",
    "plt.rcParams.update({\"savefig.dpi\" : 300}) #Figure resolution\n",
    "\n",
    "\n",
    "#Define plotting style:\n",
    "sns.set() #Set style\n",
    "sns.set_style('ticks',{'font.family':'Times New Roman', 'font.serif':'Times New Roman'})\n",
    "sns.set_context('paper', font_scale=1.8)\n",
    "cm = plt.colormaps['RdYlBu']\n",
    "\n",
    "\n",
    "pd.set_option('display.max_rows', 20)"
   ]
  },
  {
   "cell_type": "code",
   "execution_count": 2,
   "metadata": {},
   "outputs": [
    {
     "data": {
      "text/plain": [
       "array([[3.67119901e+02, 1.18126739e-02],\n",
       "       [3.95212954e+02, 8.93403517e-03],\n",
       "       [4.44375773e+02, 5.59211081e-03],\n",
       "       [5.08989766e+02, 2.84515958e-03],\n",
       "       [5.87650285e+02, 1.23084959e-03],\n",
       "       [6.78952636e+02, 4.82237608e-04],\n",
       "       [7.77278367e+02, 1.71109857e-04],\n",
       "       [1.36863689e+03, 8.36462560e-06]])"
      ]
     },
     "execution_count": 2,
     "metadata": {},
     "output_type": "execute_result"
    }
   ],
   "source": [
    "data = np.genfromtxt('/home/lessa/Downloads/4data.csv',delimiter=',',skip_header=1)\n",
    "data = np.array(sorted(data.tolist(), key = lambda pt: pt[0]))\n",
    "data"
   ]
  },
  {
   "cell_type": "code",
   "execution_count": 8,
   "metadata": {},
   "outputs": [],
   "source": [
    "# ### Load CMS data\n",
    "xsecsObs,sm,covMatrix = read_ATLASdata()\n",
    "# ### Load LO background from MG5\n",
    "smLO = getSMLO()\n",
    "# Get k-factor for each bin\n",
    "kfac = getKfactor(sm,smLO)\n",
    "sm = sm/bin_widths"
   ]
  },
  {
   "cell_type": "code",
   "execution_count": 9,
   "metadata": {},
   "outputs": [],
   "source": [
    "signal = data[:,1]\n",
    "signal = signal - sm"
   ]
  },
  {
   "cell_type": "code",
   "execution_count": 10,
   "metadata": {},
   "outputs": [],
   "source": [
    "bin_centers=(atlas_bins[:-1]+atlas_bins[1:])/2"
   ]
  },
  {
   "cell_type": "code",
   "execution_count": 11,
   "metadata": {},
   "outputs": [
    {
     "data": {
      "image/png": "[encoded data removed]",
      "text/plain": [
       "<Figure size 648x504 with 2 Axes>"
      ]
     },
     "metadata": {},
     "output_type": "display_data"
    }
   ],
   "source": [
    "_, axarr = plt.subplots(2,sharex=True, gridspec_kw = {'height_ratios':[2, 0.7]},figsize=(9,7))\n",
    "plt.subplots_adjust(left=0.12, bottom=0.12, right=0.97, top=None, wspace=None, hspace=0.1)\n",
    "\n",
    "axarr[0].hist(bin_centers,weights=xsecsObs,label='ATLAS data',histtype='step',linewidth=2,bins=atlas_bins)\n",
    "axarr[0].hist(bin_centers,weights=sm+signal,label=r'4 TeV$^{-1}$',histtype='step',linewidth=2,bins=atlas_bins)\n",
    "axarr[0].set_yscale('log')\n",
    "axarr[0].set_ylim(1e-6,2e-2)\n",
    "axarr[0].legend()\n",
    "\n",
    "axarr[1].hist(bin_centers,weights=np.divide(xsecsObs,xsecsObs),histtype='step',linewidth=2,bins=atlas_bins)\n",
    "axarr[1].hist(bin_centers,weights=np.divide(sm+signal,xsecsObs),histtype='step',linewidth=2,bins=atlas_bins)\n",
    "axarr[1].set_ylim(0.8,1.3)\n",
    "plt.show()"
   ]
  },
  {
   "cell_type": "code",
   "execution_count": 14,
   "metadata": {},
   "outputs": [
    {
     "name": "stdout",
     "output_type": "stream",
     "text": [
      "[1.16790403e-02 8.82351513e-03 5.49061028e-03 2.77538181e-03\n",
      " 1.21123052e-03 4.75281936e-04 1.68215336e-04 8.18817615e-06]\n",
      "[1.129501e-02 8.518551e-03 5.196489e-03 2.585358e-03 1.099220e-03\n",
      " 4.466096e-04 1.558704e-04 7.694208e-06]\n",
      "{'yDMmin': array([0.]), 'chi2min': 10.139227277087516, 'yDM95': 0.7726472085201274, 'deltaChi95': 3.8399999999999874}\n"
     ]
    }
   ],
   "source": [
    "sigg = np.array([3.05662421e-06, 2.31550010e-06, 1.44908334e-06, 7.41189353e-07, 3.17836974e-07, 1.21117828e-07, 4.10799094e-08, 1.72852629e-09])\n",
    "print(sm)\n",
    "print(xsecsObs)\n",
    "res  = getUL(signal,sm,xsecsObs,covMatrix)\n",
    "# yDM95 = res['yDM95']\n",
    "# chi2min = res['chi2min']\n",
    "print(res)"
   ]
  },
  {
   "cell_type": "code",
   "execution_count": 19,
   "metadata": {},
   "outputs": [],
   "source": [
    "yDMvals = np.linspace(0.,0.5,200)\n",
    "deltas = 0.0\n",
    "c2 = np.array([chi2(y, signal, sm, xsecsObs, covMatrix, deltas) for y in yDMvals])"
   ]
  },
  {
   "cell_type": "code",
   "execution_count": 20,
   "metadata": {},
   "outputs": [
    {
     "data": {
      "image/png": "[encoded data removed]",
      "text/plain": [
       "<Figure size 432x288 with 1 Axes>"
      ]
     },
     "metadata": {},
     "output_type": "display_data"
    }
   ],
   "source": [
    "plt.plot(yDMvals,c2-chi2min,label='chi2')\n",
    "plt.hlines(y=3.84,xmin=yDMvals.min(),xmax=yDMvals.max(),linestyles='dashed',colors='gray')\n",
    "plt.vlines(x=yDM95,ymin=0,ymax=10.,linestyles='dashed',colors='gray')\n",
    "# plt.vlines(x=yDM95b,ymin=0,ymax=10.,linestyles='dashed',colors='gray')\n",
    "plt.legend()\n",
    "plt.ylim(0,10)\n",
    "plt.show()"
   ]
  },
  {
   "cell_type": "code",
   "execution_count": null,
   "metadata": {},
   "outputs": [],
   "source": []
  }
 ],
 "metadata": {
  "kernelspec": {
   "display_name": "Python 3",
   "language": "python",
   "name": "python3"
  },
  "language_info": {
   "codemirror_mode": {
    "name": "ipython",
    "version": 3
   },
   "file_extension": ".py",
   "mimetype": "text/x-python",
   "name": "python",
   "nbconvert_exporter": "python",
   "pygments_lexer": "ipython3",
   "version": "3.10.12"
  }
 },
 "nbformat": 4,
 "nbformat_minor": 2
}
