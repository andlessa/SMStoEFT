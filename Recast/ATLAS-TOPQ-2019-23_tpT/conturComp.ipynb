{
 "cells": [
  {
   "cell_type": "code",
   "execution_count": 20,
   "metadata": {},
   "outputs": [],
   "source": [
    "import numpy as np\n",
    "import pandas as pd\n",
    "from matplotlib import pyplot as plt\n",
    "import seaborn as sns\n",
    "from atlas_topq_2019_23_Limits import *\n",
    "import scipy"
   ]
  },
  {
   "cell_type": "markdown",
   "metadata": {},
   "source": [
    "### Contur data:"
   ]
  },
  {
   "cell_type": "markdown",
   "metadata": {},
   "source": [
    "#### Data (measured):"
   ]
  },
  {
   "cell_type": "code",
   "execution_count": 21,
   "metadata": {},
   "outputs": [],
   "source": [
    "data_obs = np.array([1.129501e-02, 8.518551e-03, 5.196489e-03, 2.585358e-03, 1.099220e-03, 4.466096e-04, 1.558704e-04, 7.694208e-06])"
   ]
  },
  {
   "cell_type": "markdown",
   "metadata": {},
   "source": [
    "#### SM Background:"
   ]
  },
  {
   "cell_type": "code",
   "execution_count": 22,
   "metadata": {},
   "outputs": [
    {
     "name": "stdout",
     "output_type": "stream",
     "text": [
      "BG relative error (Contur): 0.24 to 0.27\n",
      "(The ATLAS SM uncertainty for setting limits on the EFT coefficients seems to be 5% (see Fig.19 in 2202.12134))\n"
     ]
    },
    {
     "data": {
      "text/plain": [
       "array([1.279688e-02, 9.729670e-03, 6.077057e-03, 3.098760e-03,\n",
       "       1.362147e-03, 5.439250e-04, 1.954953e-04, 9.935645e-06])"
      ]
     },
     "execution_count": 22,
     "metadata": {},
     "output_type": "execute_result"
    }
   ],
   "source": [
    "# From HEPData/Table2.csv (PWG+PYTHIA8)\n",
    "# Corresponds to the theory prediction WIHTOUT NNLO reweighting\n",
    "theoryBlock = \"\"\"\n",
    "From ATLAS_2022_I203774-Theory.yoda:\n",
    "# xval\t xerr-\t xerr+\t yval\t yerr-\t yerr+\t\n",
    "3.680000e+02\t1.300000e+01\t1.300000e+01\t1.279688e-02\t3.288730e-03\t2.684552e-04\n",
    "4.005000e+02\t1.950000e+01\t1.950000e+01\t9.729670e-03\t2.573953e-03\t2.325265e-04\n",
    "4.490000e+02\t2.900000e+01\t2.900000e+01\t6.077057e-03\t1.592956e-03\t2.043380e-04\n",
    "5.135000e+02\t3.550000e+01\t3.550000e+01\t3.098760e-03\t8.270378e-04\t1.097391e-04\n",
    "5.910000e+02\t4.200000e+01\t4.200000e+01\t1.362147e-03\t3.663974e-04\t5.330028e-05\n",
    "6.765000e+02\t4.350000e+01\t4.350000e+01\t5.439250e-04\t1.298381e-04\t8.712391e-06\n",
    "7.780000e+02\t5.800000e+01\t5.800000e+01\t1.954953e-04\t4.865226e-05\t1.035270e-05\n",
    "1.418000e+03\t5.820000e+02\t5.820000e+02\t9.935645e-06\t2.420555e-06\t1.003932e-06\n",
    "\"\"\"\n",
    "bgData = np.genfromtxt(theoryBlock.splitlines(),skip_header=2)\n",
    "bg = bgData[:,-3]\n",
    "bgError = bgData[:,-2]\n",
    "# Background relative uncertainty:\n",
    "print('BG relative error (Contur): %1.2f to %1.2f' %((bgError/bg).min(),(bgError/bg).max()))\n",
    "print('(The ATLAS SM uncertainty for setting limits on the EFT coefficients seems to be 5% (see Fig.19 in 2202.12134))')\n",
    "bg"
   ]
  },
  {
   "cell_type": "markdown",
   "metadata": {},
   "source": [
    "#### Signal"
   ]
  },
  {
   "cell_type": "code",
   "execution_count": 23,
   "metadata": {},
   "outputs": [],
   "source": [
    "sig = np.array([7.11288462e-07,1.72211154e-06,1.71594397e-06,1.18480085e-06, 6.48651071e-07, 2.41585517e-07, 1.15588276e-07, 7.22221478e-10])"
   ]
  },
  {
   "cell_type": "markdown",
   "metadata": {},
   "source": [
    "#### Convariance Matrix"
   ]
  },
  {
   "cell_type": "code",
   "execution_count": 24,
   "metadata": {},
   "outputs": [],
   "source": [
    "# Assumes the total covariance matrix is the same as the data covariane plus the SM background systematical error along the diagonal (uncorrelated errors)\n",
    "# (Contur also adds a statistical error matrix, which is negligible in this case)\n",
    "covMatrix_data = np.array([[1.142214e-08,1.325784e-09,-1.663448e-09,2.868488e-12,3.979517e-11\n",
    "                            ,2.339939e-11,4.412650e-12,-2.616067e-13]\n",
    "                          ,[1.325784e-09,3.858134e-09,3.056110e-10,-4.043711e-10,1.521823e-11\n",
    "                            ,3.083766e-11,4.475435e-12,1.500924e-13]\n",
    "                          ,[-1.663448e-09,3.056110e-10,2.142090e-09,-4.282184e-11,-1.242758e-10\n",
    "                            ,7.846414e-12,8.585527e-13,-4.532174e-13]\n",
    "                          ,[2.868488e-12,-4.043711e-10,-4.282184e-11,9.223829e-10,-2.658358e-11\n",
    "                            ,-5.051675e-11,1.007103e-12,1.404324e-13]\n",
    "                          ,[3.979517e-11,1.521823e-11,-1.242758e-10,-2.658358e-11,3.466790e-10\n",
    "                            ,-1.175331e-11,-1.582259e-11,1.482517e-13]\n",
    "                          ,[2.339939e-11,3.083766e-11,7.846414e-12,-5.051675e-11,-1.175331e-11\n",
    "                            ,1.503833e-10,-4.152634e-12,-4.322602e-13]\n",
    "                          ,[4.412650e-12,4.475435e-12,8.585527e-13,1.007103e-12,-1.582259e-11\n",
    "                            ,-4.152634e-12,4.672008e-11,-4.819765e-13]\n",
    "                          ,[-2.616067e-13,1.500924e-13,-4.532174e-13,1.404324e-13,1.482517e-13\n",
    "                            ,-4.322602e-13,-4.819765e-13,2.477684e-13]])\n",
    "covMatrix_bg = np.diag(bgError**2)\n",
    "covMatrix_contur = covMatrix_data+covMatrix_bg"
   ]
  },
  {
   "cell_type": "markdown",
   "metadata": {},
   "source": [
    "#### Chi-Square:"
   ]
  },
  {
   "cell_type": "code",
   "execution_count": 25,
   "metadata": {},
   "outputs": [
    {
     "name": "stdout",
     "output_type": "stream",
     "text": [
      "Chi-Square (mu=1):\n",
      "3.687009275274132\n",
      "Chi-Square (mu=9):\n",
      "3.673539288131593\n",
      "Delta Chi2 = 0.013\n"
     ]
    }
   ],
   "source": [
    "# In this case the SM BG gives the minimum chi-square:\n",
    "c2min = c2sm = chi2(0.00, sig, bg, data_obs, covMatrix_contur, 0.0)\n",
    "c2obs = chi2(1.00, sig, bg, data_obs, covMatrix_contur, 0.0)\n",
    "print('Chi-Square (mu=1):')\n",
    "print(c2obs)\n",
    "print('Chi-Square (mu=9):')\n",
    "print(c2sm)\n",
    "print('Delta Chi2 = %1.3f' %(c2obs-c2min))"
   ]
  },
  {
   "cell_type": "markdown",
   "metadata": {},
   "source": [
    "#### CLs (Contur Procedure):"
   ]
  },
  {
   "cell_type": "code",
   "execution_count": 26,
   "metadata": {},
   "outputs": [
    {
     "name": "stdout",
     "output_type": "stream",
     "text": [
      "p-values =  0.027418930880608983 0.027641337239644792\n",
      "CLS (contur) = 0.008\n"
     ]
    }
   ],
   "source": [
    "# P-values\n",
    "pb = 1.0 - scipy.stats.norm.cdf(np.sqrt(c2sm))\n",
    "psb = 1.0 - scipy.stats.norm.cdf(np.sqrt(c2obs))\n",
    "print('p-values = ',psb,pb)\n",
    "CLs_contur = 1.0 - (psb/pb)\n",
    "print('CLS (contur) = %1.3f' %CLs_contur)"
   ]
  },
  {
   "cell_type": "markdown",
   "metadata": {},
   "source": [
    "#### CLs (Our Procedure):"
   ]
  },
  {
   "cell_type": "code",
   "execution_count": 27,
   "metadata": {},
   "outputs": [
    {
     "name": "stdout",
     "output_type": "stream",
     "text": [
      "p-values =  0.9076047729434973 1.0\n",
      "CLS (our) = 0.092\n"
     ]
    }
   ],
   "source": [
    "# P-values\n",
    "p_sb = 1.0-scipy.stats.chi2.cdf(c2obs-c2min,df=1)\n",
    "p_b = 1.0-scipy.stats.chi2.cdf(c2sm-c2min,df=1)\n",
    "print('p-values = ',p_sb,p_b)\n",
    "CLs_our = 1-p_sb/(p_b)\n",
    "\n",
    "print('CLS (our) = %1.3f' %CLs_our)"
   ]
  },
  {
   "cell_type": "markdown",
   "metadata": {},
   "source": [
    "#### CLs values (contur output):"
   ]
  },
  {
   "cell_type": "markdown",
   "metadata": {},
   "source": [
    "* SM BG = Theory:\n",
    "  * Reporting CLs=0.008041, pval=0.991959, p_sb=0.027419, p_b=0.027641, ts_s_b=3.687001, ts_b=3.673539"
   ]
  },
  {
   "cell_type": "markdown",
   "metadata": {},
   "source": [
    "## Recasting Data"
   ]
  },
  {
   "cell_type": "markdown",
   "metadata": {},
   "source": [
    "#### Data (measured):"
   ]
  },
  {
   "cell_type": "code",
   "execution_count": 28,
   "metadata": {},
   "outputs": [],
   "source": [
    "data_obs = np.array([1.129501e-02, 8.518551e-03, 5.196489e-03, 2.585358e-03, 1.099220e-03, 4.466096e-04, 1.558704e-04, 7.694208e-06])"
   ]
  },
  {
   "cell_type": "markdown",
   "metadata": {},
   "source": [
    "#### SM Background:"
   ]
  },
  {
   "cell_type": "code",
   "execution_count": 29,
   "metadata": {},
   "outputs": [],
   "source": [
    "# From ../plotting/distributions/check-dists-ATLAS.ipynb:\n",
    "smBG_NLO = np.array([1.16790403e-02, 8.82351513e-03, 5.49061028e-03, 2.77538181e-03,\n",
    " 1.21123052e-03, 4.75281936e-04, 1.68215336e-04, 8.18817615e-06])"
   ]
  },
  {
   "cell_type": "markdown",
   "metadata": {},
   "source": [
    "#### Signal"
   ]
  },
  {
   "cell_type": "code",
   "execution_count": 30,
   "metadata": {},
   "outputs": [],
   "source": [
    "sig_LO = np.array([1.63943741e-06, 1.84706470e-06, 2.20134377e-06, 1.55357415e-06, 8.62291400e-07, 3.96303076e-07, 1.56020505e-07, 1.77168887e-09])\n",
    "sig_NLO = np.array([2.90611832e-06, 2.98240113e-06, 3.34872682e-06, 2.18939684e-06, 1.06708349e-06, 4.02325502e-07, 1.41776158e-07, 1.03817623e-09])"
   ]
  },
  {
   "cell_type": "markdown",
   "metadata": {},
   "source": [
    "### Covariance Matrix"
   ]
  },
  {
   "cell_type": "code",
   "execution_count": 31,
   "metadata": {},
   "outputs": [
    {
     "data": {
      "text/plain": [
       "array([[ 3.81832826e-07,  1.32578400e-09, -1.66344800e-09,\n",
       "         2.86848800e-12,  3.97951700e-11,  2.33993900e-11,\n",
       "         4.41265000e-12, -2.61606700e-13],\n",
       "       [ 1.32578400e-09,  1.54302421e-07,  3.05611000e-10,\n",
       "        -4.04371100e-10,  1.52182300e-11,  3.08376600e-11,\n",
       "         4.47543500e-12,  1.50092400e-13],\n",
       "       [-1.66344800e-09,  3.05611000e-10,  4.51523035e-08,\n",
       "        -4.28218400e-11, -1.24275800e-10,  7.84641400e-12,\n",
       "         8.58552700e-13, -4.53217400e-13],\n",
       "       [ 2.86848800e-12, -4.04371100e-10, -4.28218400e-11,\n",
       "         1.32802765e-08, -2.65835800e-11, -5.05167500e-11,\n",
       "         1.00710300e-12,  1.40432400e-13],\n",
       "       [ 3.97951700e-11,  1.52182300e-11, -1.24275800e-10,\n",
       "        -2.65835800e-11,  4.50037623e-09, -1.17533100e-11,\n",
       "        -1.58225900e-11,  1.48251700e-13],\n",
       "       [ 2.33993900e-11,  3.08376600e-11,  7.84641400e-12,\n",
       "        -5.05167500e-11, -1.17533100e-11,  1.04776360e-09,\n",
       "        -4.15263400e-12, -4.32260200e-13],\n",
       "       [ 4.41265000e-12,  4.47543500e-12,  8.58552700e-13,\n",
       "         1.00710300e-12, -1.58225900e-11, -4.15263400e-12,\n",
       "         2.70792526e-10, -4.81976500e-13],\n",
       "       [-2.61606700e-13,  1.50092400e-13, -4.53217400e-13,\n",
       "         1.40432400e-13,  1.48251700e-13, -4.32260200e-13,\n",
       "        -4.81976500e-13,  1.46469096e-12]])"
      ]
     },
     "execution_count": 31,
     "metadata": {},
     "output_type": "execute_result"
    }
   ],
   "source": [
    "# Assumes the total covariance matrix is the same as the data covariane plus the total systematical error along the diagonal (uncorrelated errors)\n",
    "sysError_diag = np.array([6.08613741e-04, 3.87871482e-04, 2.07389039e-04, \n",
    "                          1.11166063e-04, 6.44491833e-05, 2.99563065e-05, 1.49690496e-05, 1.10314213e-06])\n",
    "covMatrix = covMatrix_data + np.diag(sysError_diag**2)"
   ]
  },
  {
   "cell_type": "markdown",
   "metadata": {},
   "source": [
    "#### Chi-Square:"
   ]
  },
  {
   "cell_type": "code",
   "execution_count": 45,
   "metadata": {},
   "outputs": [
    {
     "name": "stdout",
     "output_type": "stream",
     "text": [
      "Chi-Square (mu=1):\n",
      "13.98294584399471\n",
      "Chi-Square (mu=9):\n",
      "10.139227292896178\n",
      "Delta Chi2 = 3.844\n"
     ]
    }
   ],
   "source": [
    "# In this case the SM BG gives the minimum chi-square:\n",
    "c2min = c2sm = chi2(0.00, sig_LO, smBG_NLO, data_obs, covMatrix, 0.0)\n",
    "c2obs = chi2(1.00, sig_LO, smBG_NLO, data_obs, covMatrix, 0.0)\n",
    "print('Chi-Square (mu=1):')\n",
    "print(c2obs)\n",
    "print('Chi-Square (mu=9):')\n",
    "print(c2sm)\n",
    "print('Delta Chi2 = %1.3f' %(c2obs-c2min))"
   ]
  },
  {
   "cell_type": "markdown",
   "metadata": {},
   "source": [
    "#### CLs (Contur Procedure):"
   ]
  },
  {
   "cell_type": "code",
   "execution_count": 46,
   "metadata": {},
   "outputs": [
    {
     "name": "stdout",
     "output_type": "stream",
     "text": [
      "p-values =  9.22381733476918e-05 0.000725734971811276\n",
      "CLS (contur) = 0.873\n",
      "Exclusion = 87.29%\n"
     ]
    }
   ],
   "source": [
    "# P-values\n",
    "p_b = 1.0 - scipy.stats.norm.cdf(np.sqrt(c2sm))\n",
    "p_sb = 1.0 - scipy.stats.norm.cdf(np.sqrt(c2obs))\n",
    "print('p-values = ',p_sb,p_b)\n",
    "CLs_contur = 1.0 - (p_sb/p_b)\n",
    "print('CLS (contur) = %1.3f' %CLs_contur)\n",
    "print('Exclusion = %1.2f%%' %((CLs_contur)*1e2)) # This is the number quoted by Contur!"
   ]
  },
  {
   "cell_type": "markdown",
   "metadata": {},
   "source": [
    "#### CLs (Our Procedure):"
   ]
  },
  {
   "cell_type": "code",
   "execution_count": 47,
   "metadata": {},
   "outputs": [
    {
     "name": "stdout",
     "output_type": "stream",
     "text": [
      "p-values =  0.04993266400939511 1.0\n",
      "CLs = 0.950\n",
      "Exclusion = 95.01%\n"
     ]
    }
   ],
   "source": [
    "# In this case the SM BG gives the minimum chi-square:\n",
    "p_sb = 1.0-scipy.stats.chi2.cdf(c2obs-c2min,df=1)\n",
    "p_b = 1.0-scipy.stats.chi2.cdf(c2sm-c2min,df=1)\n",
    "print('p-values = ',p_sb,p_b)\n",
    "CLs = 1.0 - p_sb/(p_b)\n",
    "# CLs = 0.05 should give the 95%C.L. exclusion\n",
    "print('CLs = %1.3f' %(CLs))\n",
    "print('Exclusion = %1.2f%%' %((CLs)*1e2)) # This is the number quoted by Contur!"
   ]
  },
  {
   "cell_type": "markdown",
   "metadata": {},
   "source": [
    "## Plots"
   ]
  },
  {
   "cell_type": "code",
   "execution_count": 35,
   "metadata": {},
   "outputs": [],
   "source": [
    "atlas_bins = np.array([355.0,381.0,420.0,478.0,549.0,633.0,\n",
    "                        720.0,836.0,2000.0])"
   ]
  },
  {
   "cell_type": "code",
   "execution_count": 36,
   "metadata": {},
   "outputs": [
    {
     "data": {
      "image/png": "[encoded data removed]",
      "text/plain": [
       "<Figure size 640x480 with 1 Axes>"
      ]
     },
     "metadata": {},
     "output_type": "display_data"
    }
   ],
   "source": [
    "plt.scatter(atlas_bins[:-1],smBG_NLO/bg,label='Recast(NNLO)/Contur')\n",
    "plt.xlabel(r'$p_T(t)$ (GeV)')\n",
    "plt.ylabel(r'SM Background Ratio')\n",
    "plt.legend()\n",
    "plt.show()"
   ]
  },
  {
   "cell_type": "code",
   "execution_count": 37,
   "metadata": {},
   "outputs": [
    {
     "data": {
      "image/png": "[encoded data removed]",
      "text/plain": [
       "<Figure size 640x480 with 1 Axes>"
      ]
     },
     "metadata": {},
     "output_type": "display_data"
    }
   ],
   "source": [
    "plt.scatter(atlas_bins[:-1],sig_LO/sig,label='Recast(LO)/Contur')\n",
    "plt.scatter(atlas_bins[:-1],sig_NLO/sig,label='Recast(NLO)/Contur')\n",
    "plt.xlabel(r'$p_T(t)$ (GeV)')\n",
    "plt.ylabel(r'Signal Ratio')\n",
    "plt.legend()\n",
    "plt.show()"
   ]
  },
  {
   "cell_type": "markdown",
   "metadata": {},
   "source": []
  }
 ],
 "metadata": {
  "kernelspec": {
   "display_name": "Python 3",
   "language": "python",
   "name": "python3"
  },
  "language_info": {
   "codemirror_mode": {
    "name": "ipython",
    "version": 3
   },
   "file_extension": ".py",
   "mimetype": "text/x-python",
   "name": "python",
   "nbconvert_exporter": "python",
   "pygments_lexer": "ipython3",
   "version": "3.12.3"
  }
 },
 "nbformat": 4,
 "nbformat_minor": 2
}
