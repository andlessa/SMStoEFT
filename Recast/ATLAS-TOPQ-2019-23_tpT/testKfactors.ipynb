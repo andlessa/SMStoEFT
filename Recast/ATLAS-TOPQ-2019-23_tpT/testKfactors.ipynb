{
 "cells": [
  {
   "cell_type": "code",
   "execution_count": 19,
   "metadata": {},
   "outputs": [],
   "source": [
    "from atlas_topq_2019_23_Limits import getSMLO,read_ATLASdata,atlas_bins,csv_reader\n",
    "import numpy as np\n",
    "bin_widths = atlas_bins[1:]-atlas_bins[:-1]"
   ]
  },
  {
   "cell_type": "code",
   "execution_count": 15,
   "metadata": {},
   "outputs": [],
   "source": [
    "smLO = getSMLO('./sm/sm_atlas_topq_2019_23.pcl')\n",
    "xsecsObs,smNNLO,covMatrix = read_ATLASdata()"
   ]
  },
  {
   "cell_type": "code",
   "execution_count": 16,
   "metadata": {},
   "outputs": [
    {
     "name": "stdout",
     "output_type": "stream",
     "text": [
      "0.8942754537182714\n",
      "1.3354165515119103\n"
     ]
    }
   ],
   "source": [
    "print(sum(smLO))\n",
    "print(sum(smNNLO))"
   ]
  },
  {
   "cell_type": "code",
   "execution_count": 17,
   "metadata": {},
   "outputs": [
    {
     "data": {
      "text/plain": [
       "array([1.77263145, 1.61467064, 1.52121939, 1.40926446, 1.23749754,\n",
       "       1.01519651, 0.90870208, 0.58598112])"
      ]
     },
     "execution_count": 17,
     "metadata": {},
     "output_type": "execute_result"
    }
   ],
   "source": [
    "kfac = np.divide(smNNLO,smLO)\n",
    "kfac"
   ]
  },
  {
   "cell_type": "code",
   "execution_count": 18,
   "metadata": {},
   "outputs": [
    {
     "data": {
      "text/plain": [
       "array([1.034 , 1.0358, 1.0566, 1.0735, 1.1019, 1.0642, 1.0792, 1.0642])"
      ]
     },
     "execution_count": 18,
     "metadata": {},
     "output_type": "execute_result"
    }
   ],
   "source": [
    "(smNNLO/bin_widths)/xsecsObs"
   ]
  },
  {
   "cell_type": "code",
   "execution_count": null,
   "metadata": {},
   "outputs": [],
   "source": []
  }
 ],
 "metadata": {
  "kernelspec": {
   "display_name": "Python 3",
   "language": "python",
   "name": "python3"
  },
  "language_info": {
   "codemirror_mode": {
    "name": "ipython",
    "version": 3
   },
   "file_extension": ".py",
   "mimetype": "text/x-python",
   "name": "python",
   "nbconvert_exporter": "python",
   "pygments_lexer": "ipython3",
   "version": "3.10.12"
  }
 },
 "nbformat": 4,
 "nbformat_minor": 2
}
