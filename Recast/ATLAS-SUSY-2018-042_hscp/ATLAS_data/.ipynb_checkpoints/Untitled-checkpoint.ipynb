{
 "cells": [
  {
   "cell_type": "code",
   "execution_count": 3,
   "id": "1379a042",
   "metadata": {},
   "outputs": [],
   "source": [
    "import numpy as np\n",
    "import pandas as pd\n",
    "import os,sys"
   ]
  },
  {
   "cell_type": "code",
   "execution_count": 5,
   "id": "56001764",
   "metadata": {},
   "outputs": [],
   "source": [
    "d1 = {'mass' : [100.0,200.,400.], 'lifetime' : [1.0,1.0,0.0], 'eff1' : [0.2,0.4,0.6]}\n",
    "d2 = {'mass' : [200.0,100.,400.], 'lifetime' : [1.0,1.0,0.0], 'eff2' : [0.2,0.1,0.3]}\n",
    "\n",
    "df1 = pd.DataFrame(d1)\n",
    "df2 = pd.DataFrame(d2)"
   ]
  },
  {
   "cell_type": "code",
   "execution_count": null,
   "id": "12beb2ed",
   "metadata": {},
   "outputs": [],
   "source": [
    "df = df1.merge(df2,on=['mass','lifetime'])"
   ]
  }
 ],
 "metadata": {
  "kernelspec": {
   "display_name": "Python 3 (ipykernel)",
   "language": "python",
   "name": "python3"
  },
  "language_info": {
   "codemirror_mode": {
    "name": "ipython",
    "version": 3
   },
   "file_extension": ".py",
   "mimetype": "text/x-python",
   "name": "python",
   "nbconvert_exporter": "python",
   "pygments_lexer": "ipython3",
   "version": "3.9.7"
  }
 },
 "nbformat": 4,
 "nbformat_minor": 5
}
