{
 "cells": [
  {
   "cell_type": "code",
   "execution_count": 1,
   "id": "3d347f32",
   "metadata": {},
   "outputs": [],
   "source": [
    "import numpy as np\n",
    "import pandas as pd\n",
    "import os,sys\n",
    "import matplotlib as mpl\n",
    "import matplotlib.pyplot as plt\n",
    "from matplotlib.colors import LogNorm\n",
    "from collections import OrderedDict\n",
    "import seaborn as sns\n",
    "from scipy.interpolate import interp1d\n",
    "from IPython.display import display, Markdown\n",
    "\n",
    "pd.option_context('display.max_columns', -1)\n",
    "\n",
    "pd.options.mode.chained_assignment = None #Disable copy warnings\n",
    "# plt.style.use('fivethirtyeight') #Set style\n",
    "# mpl.rcParams.update({'figure.figsize' : (15,10)})  #Set general plotting options\n",
    "plt.rcParams.update({\n",
    "    \"text.usetex\": True,\n",
    "    \"font.family\": \"sans-serif\",\n",
    "    \"font.sans-serif\": [\"Helvetica\"]})\n",
    "\n",
    "plt.rcParams.update({\"savefig.dpi\" : 300}) #Figure resolution\n",
    "\n",
    "\n",
    "#Define plotting style:\n",
    "sns.set() #Set style\n",
    "sns.set_style('ticks',{'font.family':'Times New Roman', 'font.serif':'Times New Roman'})\n",
    "sns.set_context('paper', font_scale=1.8)\n",
    "cm = plt.cm.get_cmap('RdYlBu')"
   ]
  },
  {
   "cell_type": "code",
   "execution_count": 2,
   "id": "98a01525",
   "metadata": {},
   "outputs": [
    {
     "ename": "FileNotFoundError",
     "evalue": "[Errno 2] No such file or directory: './DMsimp_spin-0_Monojet_DF.pcl'",
     "output_type": "error",
     "traceback": [
      "\u001b[0;31m---------------------------------------------------------------------------\u001b[0m",
      "\u001b[0;31mFileNotFoundError\u001b[0m                         Traceback (most recent call last)",
      "\u001b[0;32m/tmp/ipykernel_45761/2426426378.py\u001b[0m in \u001b[0;36m<module>\u001b[0;34m\u001b[0m\n\u001b[1;32m      1\u001b[0m \u001b[0;31m# pickleFileCut = './DMsimp_spin-1_Monojet_DF.pcl'\u001b[0m\u001b[0;34m\u001b[0m\u001b[0;34m\u001b[0m\u001b[0m\n\u001b[1;32m      2\u001b[0m \u001b[0mpickleFileCut\u001b[0m \u001b[0;34m=\u001b[0m \u001b[0;34m'./DMsimp_spin-0_Monojet_DF.pcl'\u001b[0m\u001b[0;34m\u001b[0m\u001b[0;34m\u001b[0m\u001b[0m\n\u001b[0;32m----> 3\u001b[0;31m \u001b[0mdfAll\u001b[0m \u001b[0;34m=\u001b[0m \u001b[0mpd\u001b[0m\u001b[0;34m.\u001b[0m\u001b[0mread_pickle\u001b[0m\u001b[0;34m(\u001b[0m\u001b[0mpickleFileCut\u001b[0m\u001b[0;34m)\u001b[0m\u001b[0;34m\u001b[0m\u001b[0;34m\u001b[0m\u001b[0m\n\u001b[0m",
      "\u001b[0;32m~/.local/lib/python3.9/site-packages/pandas/io/pickle.py\u001b[0m in \u001b[0;36mread_pickle\u001b[0;34m(filepath_or_buffer, compression, storage_options)\u001b[0m\n\u001b[1;32m    188\u001b[0m     \"\"\"\n\u001b[1;32m    189\u001b[0m     \u001b[0mexcs_to_catch\u001b[0m \u001b[0;34m=\u001b[0m \u001b[0;34m(\u001b[0m\u001b[0mAttributeError\u001b[0m\u001b[0;34m,\u001b[0m \u001b[0mImportError\u001b[0m\u001b[0;34m,\u001b[0m \u001b[0mModuleNotFoundError\u001b[0m\u001b[0;34m,\u001b[0m \u001b[0mTypeError\u001b[0m\u001b[0;34m)\u001b[0m\u001b[0;34m\u001b[0m\u001b[0;34m\u001b[0m\u001b[0m\n\u001b[0;32m--> 190\u001b[0;31m     with get_handle(\n\u001b[0m\u001b[1;32m    191\u001b[0m         \u001b[0mfilepath_or_buffer\u001b[0m\u001b[0;34m,\u001b[0m\u001b[0;34m\u001b[0m\u001b[0;34m\u001b[0m\u001b[0m\n\u001b[1;32m    192\u001b[0m         \u001b[0;34m\"rb\"\u001b[0m\u001b[0;34m,\u001b[0m\u001b[0;34m\u001b[0m\u001b[0;34m\u001b[0m\u001b[0m\n",
      "\u001b[0;32m~/.local/lib/python3.9/site-packages/pandas/io/common.py\u001b[0m in \u001b[0;36mget_handle\u001b[0;34m(path_or_buf, mode, encoding, compression, memory_map, is_text, errors, storage_options)\u001b[0m\n\u001b[1;32m    863\u001b[0m         \u001b[0;32melse\u001b[0m\u001b[0;34m:\u001b[0m\u001b[0;34m\u001b[0m\u001b[0;34m\u001b[0m\u001b[0m\n\u001b[1;32m    864\u001b[0m             \u001b[0;31m# Binary mode\u001b[0m\u001b[0;34m\u001b[0m\u001b[0;34m\u001b[0m\u001b[0m\n\u001b[0;32m--> 865\u001b[0;31m             \u001b[0mhandle\u001b[0m \u001b[0;34m=\u001b[0m \u001b[0mopen\u001b[0m\u001b[0;34m(\u001b[0m\u001b[0mhandle\u001b[0m\u001b[0;34m,\u001b[0m \u001b[0mioargs\u001b[0m\u001b[0;34m.\u001b[0m\u001b[0mmode\u001b[0m\u001b[0;34m)\u001b[0m\u001b[0;34m\u001b[0m\u001b[0;34m\u001b[0m\u001b[0m\n\u001b[0m\u001b[1;32m    866\u001b[0m         \u001b[0mhandles\u001b[0m\u001b[0;34m.\u001b[0m\u001b[0mappend\u001b[0m\u001b[0;34m(\u001b[0m\u001b[0mhandle\u001b[0m\u001b[0;34m)\u001b[0m\u001b[0;34m\u001b[0m\u001b[0;34m\u001b[0m\u001b[0m\n\u001b[1;32m    867\u001b[0m \u001b[0;34m\u001b[0m\u001b[0m\n",
      "\u001b[0;31mFileNotFoundError\u001b[0m: [Errno 2] No such file or directory: './DMsimp_spin-0_Monojet_DF.pcl'"
     ]
    }
   ],
   "source": [
    "# pickleFileCut = './DMsimp_spin-1_Monojet_DF.pcl'\n",
    "pickleFileCut = './DMsimp_spin-0_Monojet_DF.pcl'\n",
    "dfAll = pd.read_pickle(pickleFileCut)"
   ]
  },
  {
   "cell_type": "code",
   "execution_count": null,
   "id": "8f3f7416",
   "metadata": {},
   "outputs": [],
   "source": [
    "# df = dfAll[(dfAll['Coupling'] == 'Axial') \n",
    "#                  & (dfAll['Mode'] == 'DM+QCDjets') \n",
    "#                  & (dfAll['Data-takingperiod'] == 2017)]\n",
    "\n",
    "df = dfAll[(dfAll['Coupling'] == 'Scalar') \n",
    "                 & (dfAll['Mode'] == 'DM+QCDjets') \n",
    "                 & (dfAll['Data-takingperiod'] == 2017)]\n",
    "\n",
    "# df = dfAll[(dfAll['Coupling'] == 'Pseudoscalar') \n",
    "#                  & (dfAll['Mode'] == 'DM+QCDjets') \n",
    "#                  & (dfAll['Data-takingperiod'] == 2017)]"
   ]
  },
  {
   "cell_type": "code",
   "execution_count": null,
   "id": "71a75fa3",
   "metadata": {},
   "outputs": [],
   "source": [
    "plt.figure(figsize=(8,6))\n",
    "p =plt.scatter(df['$m_{med}$'], df['$m_{DM}$'], c=df['Total xsec-pT150 (pb)'],\n",
    "               s=80,cmap=cm,\n",
    "               norm=LogNorm(vmin=df['Total xsec-pT150 (pb)'].min(),vmax=df['Total xsec-pT150 (pb)'].max()))\n",
    "x = np.linspace(df['$m_{med}$'].min(),df['$m_{med}$'].max(),100)\n",
    "plt.plot(x,x,linestyle='--',linewidth=3)\n",
    "plt.colorbar(label=r'$\\sigma \\times BR$ (fb)')\n",
    "plt.xlabel(r'$m_{med}$ (GeV)')\n",
    "plt.ylabel(r'$m_{DM}$ (GeV)')\n",
    "plt.show()"
   ]
  },
  {
   "cell_type": "code",
   "execution_count": null,
   "id": "0fdfd002",
   "metadata": {},
   "outputs": [],
   "source": [
    "# Plot cross-sections for mDM = 1.0 only\n",
    "df0 = df[df['$m_{DM}$'] == 1.0]\n",
    "plt.plot(df0['$m_{med}$'], df0['Total xsec-pT150 (pb)'],linewidth=3)\n",
    "mtop = 173.0\n",
    "plt.vlines(x=2*mtop,ymin=df0['Total xsec-pT150 (pb)'].min(),ymax=df0['Total xsec-pT150 (pb)'].max(),\n",
    "          linestyles='--')\n",
    "plt.xlabel(r'$m_{med}$ (GeV)')\n",
    "plt.ylabel(r'$\\sigma \\times BR$ (fb)')\n",
    "plt.yscale('log')\n",
    "plt.title(r'$m_{DM} = 1$ GeV, $p_T$(DM) $> 150$ GeV')\n",
    "plt.grid()\n",
    "plt.show()"
   ]
  },
  {
   "cell_type": "code",
   "execution_count": null,
   "id": "eaf2f334",
   "metadata": {},
   "outputs": [],
   "source": [
    "df0['Total xsec-pT150 (pb)'].min()"
   ]
  },
  {
   "cell_type": "code",
   "execution_count": null,
   "id": "0ab64140",
   "metadata": {},
   "outputs": [],
   "source": [
    "df0[['$m_{med}$','Total xsec-pT150 (pb)']]"
   ]
  },
  {
   "cell_type": "code",
   "execution_count": null,
   "id": "371e24d8",
   "metadata": {},
   "outputs": [],
   "source": []
  }
 ],
 "metadata": {
  "kernelspec": {
   "display_name": "Python 3 (ipykernel)",
   "language": "python",
   "name": "python3"
  },
  "language_info": {
   "codemirror_mode": {
    "name": "ipython",
    "version": 3
   },
   "file_extension": ".py",
   "mimetype": "text/x-python",
   "name": "python",
   "nbconvert_exporter": "python",
   "pygments_lexer": "ipython3",
   "version": "3.9.7"
  }
 },
 "nbformat": 4,
 "nbformat_minor": 5
}
