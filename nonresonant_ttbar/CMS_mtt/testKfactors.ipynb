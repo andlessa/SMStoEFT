{
 "cells": [
  {
   "cell_type": "code",
   "execution_count": 2,
   "metadata": {},
   "outputs": [],
   "source": [
    "from cms_top_20_001_Limits import getSMLO\n",
    "import numpy as np\n",
    "import pandas as pd"
   ]
  },
  {
   "cell_type": "code",
   "execution_count": 17,
   "metadata": {},
   "outputs": [],
   "source": [
    "smLO = getSMLO()\n",
    "smLO = smLO*0.2877\n",
    "smLODF = pd.read_pickle('sm_lo.pcl')\n",
    "binCols = [c for c in smLODF.columns if 'bin' in c and not 'Error' in c]\n",
    "smLOmg = np.array([smLODF.iloc[0][c] for c in binCols])"
   ]
  },
  {
   "cell_type": "code",
   "execution_count": 18,
   "metadata": {},
   "outputs": [
    {
     "name": "stdout",
     "output_type": "stream",
     "text": [
      "162.06906858021057\n",
      "152.2775072928196\n"
     ]
    }
   ],
   "source": [
    "print(sum(smLO))\n",
    "print(sum(smLOmg))"
   ]
  },
  {
   "cell_type": "code",
   "execution_count": 19,
   "metadata": {},
   "outputs": [
    {
     "data": {
      "text/plain": [
       "array([3.34493116e+01, 5.09371553e+01, 3.15310506e+01, 1.83409803e+01,\n",
       "       1.05228836e+01, 6.23953451e+00, 4.50878854e+00, 2.55260315e+00,\n",
       "       2.00075466e+00, 9.36440697e-01, 5.83614218e-01, 2.42456781e-01,\n",
       "       1.44890617e-01, 5.05658528e-02, 2.80381171e-02])"
      ]
     },
     "execution_count": 19,
     "metadata": {},
     "output_type": "execute_result"
    }
   ],
   "source": [
    "smLO"
   ]
  },
  {
   "cell_type": "code",
   "execution_count": 20,
   "metadata": {},
   "outputs": [
    {
     "data": {
      "text/plain": [
       "array([3.14087288e+01, 4.80535842e+01, 2.94725377e+01, 1.71137655e+01,\n",
       "       9.99440555e+00, 5.81520797e+00, 4.20782691e+00, 2.37839729e+00,\n",
       "       1.90019387e+00, 8.84111269e-01, 5.57791610e-01, 2.52006922e-01,\n",
       "       1.48353646e-01, 5.55468631e-02, 3.50492873e-02])"
      ]
     },
     "execution_count": 20,
     "metadata": {},
     "output_type": "execute_result"
    }
   ],
   "source": [
    "smLOmg"
   ]
  },
  {
   "cell_type": "code",
   "execution_count": 21,
   "metadata": {},
   "outputs": [
    {
     "data": {
      "text/plain": [
       "array([0.93899477, 0.94338963, 0.93471474, 0.93308892, 0.94977821,\n",
       "       0.93199388, 0.93325   , 0.93175365, 0.94973857, 0.9441188 ,\n",
       "       0.95575398, 1.03938904, 1.02390099, 1.09850542, 1.25005853])"
      ]
     },
     "execution_count": 21,
     "metadata": {},
     "output_type": "execute_result"
    }
   ],
   "source": [
    "smLOmg/smLO"
   ]
  },
  {
   "cell_type": "code",
   "execution_count": null,
   "metadata": {},
   "outputs": [],
   "source": []
  }
 ],
 "metadata": {
  "kernelspec": {
   "display_name": "Python 3",
   "language": "python",
   "name": "python3"
  },
  "language_info": {
   "codemirror_mode": {
    "name": "ipython",
    "version": 3
   },
   "file_extension": ".py",
   "mimetype": "text/x-python",
   "name": "python",
   "nbconvert_exporter": "python",
   "pygments_lexer": "ipython3",
   "version": "3.10.12"
  }
 },
 "nbformat": 4,
 "nbformat_minor": 2
}
