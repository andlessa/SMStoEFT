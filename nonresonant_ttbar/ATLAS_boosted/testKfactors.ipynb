{
 "cells": [
  {
   "cell_type": "code",
   "execution_count": 1,
   "metadata": {},
   "outputs": [],
   "source": [
    "from atlas_topq_2019_23_Limits import getSMLO,read_ATLASdata,atlas_bins,bin_width\n",
    "import numpy as np"
   ]
  },
  {
   "cell_type": "code",
   "execution_count": 2,
   "metadata": {},
   "outputs": [],
   "source": [
    "smLO = getSMLO('./sm_lo.pcl')\n",
    "xsecsObs,smNNLO,covMatrix = read_ATLASdata()"
   ]
  },
  {
   "cell_type": "code",
   "execution_count": 3,
   "metadata": {},
   "outputs": [
    {
     "name": "stdout",
     "output_type": "stream",
     "text": [
      "0.9188852530531325\n",
      "1.3354165515119103\n"
     ]
    }
   ],
   "source": [
    "print(sum(smLO))\n",
    "print(sum(smNNLO))"
   ]
  },
  {
   "cell_type": "code",
   "execution_count": 6,
   "metadata": {},
   "outputs": [
    {
     "data": {
      "text/plain": [
       "array([1.78862178, 1.61535932, 1.41460032, 1.31952697, 1.21611005,\n",
       "       1.08741328, 0.84289208, 0.56758556])"
      ]
     },
     "execution_count": 6,
     "metadata": {},
     "output_type": "execute_result"
    }
   ],
   "source": [
    "kfac = np.divide(smNNLO,smLO)\n",
    "kfac"
   ]
  }
 ],
 "metadata": {
  "kernelspec": {
   "display_name": "Python 3",
   "language": "python",
   "name": "python3"
  },
  "language_info": {
   "codemirror_mode": {
    "name": "ipython",
    "version": 3
   },
   "file_extension": ".py",
   "mimetype": "text/x-python",
   "name": "python",
   "nbconvert_exporter": "python",
   "pygments_lexer": "ipython3",
   "version": "3.10.12"
  }
 },
 "nbformat": 4,
 "nbformat_minor": 2
}
