{
 "cells": [
  {
   "cell_type": "code",
   "execution_count": 1,
   "metadata": {},
   "outputs": [
    {
     "name": "stdout",
     "output_type": "stream",
     "text": [
      "Welcome to JupyROOT 6.28/06\n"
     ]
    },
    {
     "data": {
      "text/plain": [
       "True"
      ]
     },
     "execution_count": 1,
     "metadata": {},
     "output_type": "execute_result"
    }
   ],
   "source": [
    "import os,glob\n",
    "import numpy as np\n",
    "import pandas as pd\n",
    "import glob\n",
    "import pyslha\n",
    "import time\n",
    "import progressbar as P\n",
    "import random,itertools\n",
    "import fastjet\n",
    "\n",
    "delphesDir = os.path.abspath(\"../../MG5/Delphes\")\n",
    "os.environ['ROOT_INCLUDE_PATH'] = os.path.join(delphesDir,\"external\")\n",
    "\n",
    "import ROOT\n",
    "import xml.etree.ElementTree as ET\n",
    "\n",
    "\n",
    "ROOT.gSystem.Load(os.path.join(delphesDir,\"libDelphes.so\"))\n",
    "\n",
    "ROOT.gInterpreter.Declare('#include \"classes/SortableObject.h\"')\n",
    "ROOT.gInterpreter.Declare('#include \"classes/DelphesClasses.h\"')\n",
    "ROOT.gInterpreter.Declare('#include \"external/ExRootAnalysis/ExRootTreeReader.h\"')"
   ]
  },
  {
   "cell_type": "code",
   "execution_count": 24,
   "metadata": {},
   "outputs": [],
   "source": [
    "# inputFile = list(glob.glob('../../processFolders/sm_ttmatch_lo/Events/run_01/*_delphes_events.root'))[0]\n",
    "inputFile = list(glob.glob('../../processFolders/sm_ttmatch_lo/Events/run_02/*_delphes_events.root'))[0]\n",
    "# inputFile = list(glob.glob('../../processFolders/sm_tt_lo/Events/run_02/*_delphes_events.root'))[0]\n",
    "f = ROOT.TFile(inputFile,'read')\n",
    "tree = f.Get(\"Delphes\")\n",
    "nevts = tree.GetEntries()\n",
    "f.Close()"
   ]
  },
  {
   "cell_type": "code",
   "execution_count": 21,
   "metadata": {},
   "outputs": [],
   "source": [
    "etamax=2.0\n",
    "pTmin=355.0\n",
    "\n",
    "atlas_bins = [355.0,381.0,420.0,478.0,549.0,633.0,720.0,836.0,2000.0]\n",
    "jetdef = fastjet.JetDefinition(fastjet.antikt_algorithm, 0.4)\n",
    "fatjetdef = fastjet.JetDefinition(fastjet.antikt_algorithm, 1.0)\n",
    "\n",
    "f = ROOT.TFile(inputFile,'read')\n",
    "tree = f.Get(\"Delphes\")\n",
    "nevts = tree.GetEntries()\n",
    "ntotal = 0\n",
    "totalweightPBAll = np.zeros(350)\n",
    "totalweightPB = 0.0\n",
    "pTT = []\n",
    "weights = []\n",
    "cutFlow = {'n(l) = 1' : 0.0, 'n(j) > 0' : 0.0, 'n(FJ) > 0' : 0.0, 'pT(FT) > %1.0f' %pTmin : 0.0, 'eta(FT) < %1.1f' %etamax : 0.0, 'b-jet in FT' : 0.0, 'dR(lepton,b) < 2.0' : 0.0, 'dR(lepton,j) > 0.4' : 0.0, 'pT(lep) > 27' : 0.0, 'eta(lep) < 2.5' : 0.0}\n",
    "for ievt in range(nevts):    \n",
    "    error = False\n",
    "    ntotal += 1\n",
    "    tree.GetEntry(ievt)\n",
    "    weightPB = tree.Weight.At(0).Weight\n",
    "    totalweightPB += weightPB\n",
    "    # for ii in range(tree.Weight.GetEntries()):\n",
    "    #     totalweightPBAll[ii] += tree.Weight.At(ii).Weight\n",
    "    # continue\n",
    "    weightPB = weightPB\n",
    "    totalweightPB += weightPB\n",
    "\n",
    "    genParticles = tree.Particle\n",
    "    # Filter tops:\n",
    "    tops = {}\n",
    "    # topList = {}\n",
    "    # Filter Ws\n",
    "    # wList = {}\n",
    "    for iptc in range(genParticles.GetEntries()):\n",
    "        ptc = genParticles.At(iptc)\n",
    "        if abs(ptc.PID) == 6:\n",
    "            # topList[iptc] = ptc # Store all tops generated during event evolution\n",
    "            tops[ptc.PID] = ptc # Store only the last top/anti-top\n",
    "        # elif abs(ptc.PID) == 24:\n",
    "            # wList[iptc] = ptc\n",
    "\n",
    "    # Get top and W decays:\n",
    "    topDecays = {}\n",
    "    for itop,top in tops.items():\n",
    "        topDecays[top.PID] = []\n",
    "        for idaugther in range(top.D1,top.D2+1):\n",
    "            ptc = genParticles.At(idaugther)\n",
    "            if abs(ptc.PID) == 5:\n",
    "                topDecays[top.PID].append(ptc)\n",
    "            elif abs(ptc.PID) == 24:\n",
    "                w = ptc\n",
    "                d1 = w.D1\n",
    "                d2 = w.D2+1\n",
    "                daughter1 = genParticles.At(d1)\n",
    "                while daughter1.PID == w.PID:\n",
    "                    d1 = daughter1.D1\n",
    "                    d2 = daughter1.D2+1\n",
    "                    daughter1 = genParticles.At(d1)\n",
    "                for idaugther2 in range(d1,d2):\n",
    "                    ptcD = genParticles.At(idaugther2)\n",
    "                    topDecays[top.PID].append(ptcD)\n",
    "            elif abs(ptc.PID) == 6:\n",
    "                print('Error getting top decays')\n",
    "                error = True\n",
    "                break\n",
    "    if error:\n",
    "        break\n",
    "    \n",
    "    # Select events with one lepton and one hadronic top:\n",
    "    topH = None\n",
    "    topLep = None\n",
    "    for topPID,daughters in topDecays.items():\n",
    "            dPIDs =  [abs(ptc.PID) for ptc in daughters]\n",
    "            if not 5 in dPIDs:\n",
    "                continue # Skip rare decays to W+c\n",
    "            if (11 in dPIDs) or (13 in dPIDs):\n",
    "                topLep = topPID\n",
    "            elif max(dPIDs) <= 5:\n",
    "                topH = topPID\n",
    "\n",
    "    \n",
    "    if topH is None or topLep is None:\n",
    "        continue\n",
    "   \n",
    "    cutFlow['n(l) = 1'] += weightPB\n",
    "\n",
    "    # Hadronic top:    \n",
    "    # Regular jets:\n",
    "    quarks = [ptc for ptc in topDecays[topH]]\n",
    "    jetArray = [fastjet.PseudoJet(q.Px,q.Py,q.Pz,q.E) for q in quarks if abs(q.Eta) < 4.5]\n",
    "    for ij,j in enumerate(jetArray):\n",
    "        j.set_user_index(quarks[ij].PID)\n",
    "    cluster = fastjet.ClusterSequence(jetArray, jetdef)\n",
    "    jets = cluster.inclusive_jets(ptmin = 26.0)\n",
    "    jets = [j for j in jets if abs(j.eta()) < 2.5]\n",
    "    if len(jets) == 0:\n",
    "        continue\n",
    "    cutFlow['n(j) > 0'] += weightPB\n",
    "\n",
    "        \n",
    "    # ## Fat jet:    \n",
    "    jetArray = [fastjet.PseudoJet(j.px(),j.py(),j.pz(),j.E()) for j in jets]\n",
    "    for ij,j in enumerate(jetArray):\n",
    "        for q in jets[ij].constituents():\n",
    "            if abs(q.user_index()) == 5:\n",
    "                j.set_user_index(5) # Tag the regular jets containing a b-quark\n",
    "    clusterFat = fastjet.ClusterSequence(jetArray, fatjetdef)\n",
    "    if len(clusterFat.inclusive_jets()) == 0:\n",
    "        continue\n",
    "    cutFlow['n(FJ) > 0'] += weightPB\n",
    "\n",
    "    # Use hardest fat jet\n",
    "    fatJet = sorted([j for j in clusterFat.inclusive_jets()], key = lambda j: j.pt(), reverse=True)[0]\n",
    "    # Invariant mass cut:\n",
    "    if not (120. < fatJet.m() < 220.):\n",
    "        continue\n",
    "    # PT cut\n",
    "    if fatJet.pt() < pTmin:\n",
    "        continue\n",
    "    cutFlow['pT(FT) > %1.0f' %pTmin] += weightPB\n",
    "\n",
    "    # Eta cut\n",
    "    if abs(fatJet.eta()) > etamax:\n",
    "        continue\n",
    "    cutFlow['eta(FT) < %1.1f' %etamax] += weightPB\n",
    "\n",
    "    # Require a b inside the Fat jet\n",
    "    hasB = False\n",
    "    for q in fatJet.constituents():\n",
    "        if q.user_index() == 5:\n",
    "            hasB = True\n",
    "    if not hasB:\n",
    "        continue\n",
    "    cutFlow['b-jet in FT'] += weightPB\n",
    "\n",
    "        \n",
    "    # Leptonic top:\n",
    "    leptons = [ptc for ptc in topDecays[topLep] if abs(ptc.PID) in [11,13]]\n",
    "    bLep = [ptc for ptc in topDecays[topLep] if abs(ptc.PID) ==5]\n",
    "    if len(leptons) != 1:\n",
    "        error = True\n",
    "        print('Error getting leptons')\n",
    "        break\n",
    "    if len(bLep) != 1:\n",
    "        error = True\n",
    "        print('Error getting b-jet')\n",
    "        break\n",
    "    if error:\n",
    "        break\n",
    "    lepton = leptons[0]\n",
    "    bLep = bLep[0]\n",
    "    \n",
    "    pTlepton = lepton.PT\n",
    "    etaLep = np.abs(lepton.Eta)\n",
    "    # Lepton pT cut\n",
    "    if pTlepton < 27.0:\n",
    "        continue\n",
    "    cutFlow['pT(lep) > 27'] += weightPB\n",
    "\n",
    "    # Lepton eta cut\n",
    "    if etaLep > 2.5:\n",
    "        continue\n",
    "    cutFlow['eta(lep) < 2.5'] += weightPB\n",
    "\n",
    "    # Require the b to be close to the lepton\n",
    "    dRlep = np.sqrt((lepton.Eta-bLep.Eta)**2 + (lepton.Phi-bLep.Phi)**2)\n",
    "    if dRlep > 2.0:\n",
    "        continue\n",
    "    cutFlow['dR(lepton,b) < 2.0'] += weightPB\n",
    "\n",
    "    # Skip events where lepton overlaps to jet\n",
    "    dRlep = min([np.sqrt((lepton.Eta-j.eta())**2 + (lepton.Phi-j.phi())**2) for j in jets])    \n",
    "    if dRlep < 0.4:\n",
    "        continue\n",
    "    cutFlow['dR(lepton,j) > 0.4'] += weightPB\n",
    "\n",
    "    pTT.append(tops[topH].PT)\n",
    "    weights.append(weightPB)\n",
    "    \n",
    "\n",
    "f.Close()\n",
    "weights = np.array(weights)\n",
    "pTtHist,_ = np.histogram(pTT,weights=weights,bins=atlas_bins)\n",
    "pTtHistError,_ = np.histogram(pTT,weights=weights**2,bins=atlas_bins)\n",
    "pTtHistError = np.sqrt(pTtHistError)\n",
    "\n",
    "data = np.array(list(zip(atlas_bins[:-1],atlas_bins[1:],pTtHist,pTtHistError)))\n",
    "    "
   ]
  },
  {
   "cell_type": "code",
   "execution_count": 23,
   "metadata": {},
   "outputs": [
    {
     "name": "stdout",
     "output_type": "stream",
     "text": [
      "xsec (pb) = 9.496e+02\n",
      "fiducial xsec (pb) = 9.748e-01\n",
      "fiducial xsec*kfac (pb) = 8.541e-01\n"
     ]
    }
   ],
   "source": [
    "kfac = 832./totalweightPB\n",
    "print('xsec (pb) = %1.3e' %totalweightPB)\n",
    "print('fiducial xsec (pb) = %1.3e' %sum(weights))\n",
    "print('fiducial xsec*kfac (pb) = %1.3e' %(sum(weights)*kfac))\n"
   ]
  },
  {
   "cell_type": "code",
   "execution_count": 10,
   "metadata": {},
   "outputs": [
    {
     "name": "stdout",
     "output_type": "stream",
     "text": [
      "n(l) = 1 = 2.450e+02 (29.45%)\n",
      "n(j) > 0 = 2.421e+02 (98.82%)\n",
      "n(FJ) > 0 = 2.421e+02 (100.00%)\n",
      "pT(FT) > 355 = 2.959e+00 (1.22%)\n",
      "eta(FT) < 2.0 = 2.869e+00 (96.95%)\n",
      "b-jet in FT = 2.869e+00 (100.00%)\n",
      "dR(lepton,b) < 2.0 = 1.788e+00 (62.30%)\n",
      "dR(lepton,j) > 0.4 = 1.788e+00 (100.00%)\n",
      "pT(lep) > 27 = 2.342e+00 (130.99%)\n",
      "eta(lep) < 2.5 = 2.310e+00 (98.66%)\n"
     ]
    }
   ],
   "source": [
    "xsec_before = totalweightPB\n",
    "for c,xsec in cutFlow.items():\n",
    "    print('%s = %1.3e (%1.2f%%)' %(c,xsec*kfac,100*xsec/xsec_before))\n",
    "    xsec_before = xsec"
   ]
  },
  {
   "cell_type": "code",
   "execution_count": 11,
   "metadata": {},
   "outputs": [],
   "source": [
    "sm_nnlo = np.loadtxt('./digitised_sm/nnlo_from_fig11.txt',dtype=float,usecols=(0,))\n",
    "bins_atlas = np.array([355.0, 381.0, 420.0, 478.0, 549.0, 633.0, 720.0, 836.0, 2000.0])\n",
    "bins_width = bins_atlas[1:]-bins_atlas[:-1]"
   ]
  },
  {
   "cell_type": "code",
   "execution_count": 7,
   "metadata": {},
   "outputs": [
    {
     "data": {
      "text/plain": [
       "array([0.95946713, 1.08507174, 1.54877512, 1.24155863, 1.98561988,\n",
       "       2.36939516, 2.1403304 , 3.41422837])"
      ]
     },
     "execution_count": 7,
     "metadata": {},
     "output_type": "execute_result"
    }
   ],
   "source": [
    "np.divide(data[:,2]*kfac,(sm_nnlo*bins_width))"
   ]
  },
  {
   "cell_type": "code",
   "execution_count": null,
   "metadata": {},
   "outputs": [],
   "source": []
  }
 ],
 "metadata": {
  "kernelspec": {
   "display_name": "Python 3",
   "language": "python",
   "name": "python3"
  },
  "language_info": {
   "codemirror_mode": {
    "name": "ipython",
    "version": 3
   },
   "file_extension": ".py",
   "mimetype": "text/x-python",
   "name": "python",
   "nbconvert_exporter": "python",
   "pygments_lexer": "ipython3",
   "version": "3.10.12"
  },
  "orig_nbformat": 4
 },
 "nbformat": 4,
 "nbformat_minor": 2
}
