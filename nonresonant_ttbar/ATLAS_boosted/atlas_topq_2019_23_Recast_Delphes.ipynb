{
 "cells": [
  {
   "cell_type": "code",
   "execution_count": 1,
   "metadata": {},
   "outputs": [
    {
     "name": "stdout",
     "output_type": "stream",
     "text": [
      "Welcome to JupyROOT 6.24/06\n"
     ]
    },
    {
     "data": {
      "text/plain": [
       "True"
      ]
     },
     "execution_count": 1,
     "metadata": {},
     "output_type": "execute_result"
    }
   ],
   "source": [
    "import os,glob\n",
    "import numpy as np\n",
    "import pandas as pd\n",
    "import glob\n",
    "import fastjet\n",
    "import warnings\n",
    "warnings.filterwarnings(\"ignore\", message=\"numpy.dtype size changed\")\n",
    "import numpy as np\n",
    "import pandas as pd\n",
    "import matplotlib.pyplot as plt\n",
    "import seaborn as sns\n",
    "import glob,os\n",
    "\n",
    "pd.option_context('display.max_columns', -1)\n",
    "\n",
    "pd.options.mode.chained_assignment = None #Disable copy warnings\n",
    "# plt.style.use('fivethirtyeight') #Set style\n",
    "# mpl.rcParams.update({'figure.figsize' : (15,10)})  #Set general plotting options\n",
    "plt.rcParams.update({\n",
    "    \"text.usetex\": True,\n",
    "    \"font.family\": \"sans-serif\",\n",
    "    \"font.sans-serif\": [\"Helvetica\"]})\n",
    "\n",
    "plt.rcParams.update({\"savefig.dpi\" : 300}) #Figure resolution\n",
    "\n",
    "\n",
    "#Define plotting style:\n",
    "sns.set() #Set style\n",
    "sns.set_style('ticks',{'font.family':'Times New Roman', 'font.serif':'Times New Roman'})\n",
    "sns.set_context('paper', font_scale=1.8)\n",
    "cm = plt.cm.get_cmap('RdYlBu')\n",
    "\n",
    "delphesDir = os.path.abspath(\"../../MG5/Delphes\")\n",
    "os.environ['ROOT_INCLUDE_PATH'] = os.path.join(delphesDir,\"external\")\n",
    "\n",
    "import ROOT\n",
    "import xml.etree.ElementTree as ET\n",
    "\n",
    "\n",
    "ROOT.gSystem.Load(os.path.join(delphesDir,\"libDelphes.so\"))\n",
    "\n",
    "ROOT.gInterpreter.Declare('#include \"classes/SortableObject.h\"')\n",
    "ROOT.gInterpreter.Declare('#include \"classes/DelphesClasses.h\"')\n",
    "ROOT.gInterpreter.Declare('#include \"external/ExRootAnalysis/ExRootTreeReader.h\"')"
   ]
  },
  {
   "cell_type": "code",
   "execution_count": 2,
   "metadata": {},
   "outputs": [],
   "source": [
    "BR = 2*(0.6741*(0.1071+0.1063)) # Used to rescale the MG5 cross-section if the decay is included in the process\n",
    "inputFile = list(glob.glob('../../processFolders/sm_ttdec_lo/Events/run_02/*_delphes_events.root'))[0]\n",
    "\n",
    "BR = (0.6741*(0.1071+0.1063)) # Used to rescale the MG5 cross-section if \n",
    "inputFile = list(glob.glob('../../processFolders/sm_ttdec_lo_old/Events/run_01/*_delphes_events.root'))[0]\n",
    "\n"
   ]
  },
  {
   "cell_type": "code",
   "execution_count": 3,
   "metadata": {},
   "outputs": [],
   "source": [
    "etamax=2.0\n",
    "pTmin=355.0\n",
    "\n",
    "atlas_bins = np.array([355.0,381.0,420.0,478.0,549.0,633.0,720.0,836.0,2000.0])\n",
    "jetdef = fastjet.JetDefinition(fastjet.antikt_algorithm, 0.4)\n",
    "fatjetdef = fastjet.JetDefinition(fastjet.antikt_algorithm, 1.0)\n",
    "\n",
    "ntotal = 0\n",
    "totalweightPBAll = np.zeros(350)\n",
    "totalweightPB = 0.0\n",
    "pTT = []\n",
    "weights = []\n",
    "cutFlow = {'n(l) = 1' : np.zeros(2), \n",
    "           'n(j) > 0' : np.zeros(2), \n",
    "           'n(FJ) > 0' : np.zeros(2), \n",
    "           'pT(FT) > %1.0f' %pTmin : np.zeros(2), \n",
    "           'eta(FT) < %1.1f' %etamax : np.zeros(2), \n",
    "           'b-jet in FT' : np.zeros(2),  \n",
    "           'pT(lep) > 27' : np.zeros(2), \n",
    "           'eta(lep) < 2.5' : np.zeros(2), \n",
    "           'dR(lepton,b) < 2.0' : np.zeros(2), \n",
    "           'm(lepton,b) < 180' : np.zeros(2), \n",
    "           'dR(lepton,j) > 0.4' : np.zeros(2),\n",
    "           'MET > 20' : np.zeros(2)}"
   ]
  },
  {
   "cell_type": "code",
   "execution_count": 4,
   "metadata": {},
   "outputs": [
    {
     "name": "stdout",
     "output_type": "stream",
     "text": [
      "#--------------------------------------------------------------------------\n",
      "#                         FastJet release 3.4.1\n",
      "#                 M. Cacciari, G.P. Salam and G. Soyez                  \n",
      "#     A software package for jet finding and analysis at colliders      \n",
      "#                           http://fastjet.fr                           \n",
      "#\t                                                                      \n",
      "# Please cite EPJC72(2012)1896 [arXiv:1111.6097] if you use this package\n",
      "# for scientific work and optionally PLB641(2006)57 [hep-ph/0512210].   \n",
      "#                                                                       \n",
      "# FastJet is provided without warranty under the GNU GPL v2 or higher.  \n",
      "# It uses T. Chan's closest pair algorithm, S. Fortune's Voronoi code,\n",
      "# CGAL and 3rd party plugin jet algorithms. See COPYING file for details.\n",
      "#--------------------------------------------------------------------------\n"
     ]
    }
   ],
   "source": [
    "f = ROOT.TFile(inputFile,'read')\n",
    "tree = f.Get(\"Delphes\")\n",
    "nevts = tree.GetEntries()\n",
    "\n",
    "for ievt in range(nevts):    \n",
    "    error = False\n",
    "    ntotal += 1\n",
    "    tree.GetEntry(ievt)    \n",
    "    weightPB = tree.Weight.At(1).Weight\n",
    "    if BR == (0.6741*(0.1071+0.1063)):\n",
    "        weightPB = weightPB*2\n",
    "    weightAndError = np.array([weightPB,weightPB**2])\n",
    "    totalweightPB += weightPB\n",
    "    for ii in range(tree.Weight.GetEntries()):\n",
    "        totalweightPBAll[ii] += tree.Weight.At(ii).Weight\n",
    "    # continue\n",
    "\n",
    "    genParticles = tree.Particle\n",
    "    # Filter tops:\n",
    "    tops = {}\n",
    "    for iptc in range(genParticles.GetEntries()):\n",
    "        ptc = genParticles.At(iptc)\n",
    "        if abs(ptc.PID) == 6:\n",
    "            tops[ptc.PID] = ptc # Store only the last top/anti-top\n",
    "\n",
    "    # Get top and W decays:\n",
    "    topDecays = {}\n",
    "    for itop,top in tops.items():\n",
    "        topDecays[top.PID] = []\n",
    "        for idaugther in range(top.D1,top.D2+1):\n",
    "            ptc = genParticles.At(idaugther)\n",
    "            if abs(ptc.PID) == 5:\n",
    "                topDecays[top.PID].append(ptc)\n",
    "            elif abs(ptc.PID) == 24:\n",
    "                w = ptc\n",
    "                d1 = w.D1\n",
    "                d2 = w.D2+1\n",
    "                daughter1 = genParticles.At(d1)\n",
    "                while daughter1.PID == w.PID:\n",
    "                    d1 = daughter1.D1\n",
    "                    d2 = daughter1.D2+1\n",
    "                    daughter1 = genParticles.At(d1)\n",
    "                for idaugther2 in range(d1,d2):\n",
    "                    ptcD = genParticles.At(idaugther2)\n",
    "                    topDecays[top.PID].append(ptcD)\n",
    "            elif abs(ptc.PID) == 6:\n",
    "                print('Error getting top decays')\n",
    "                error = True\n",
    "                break\n",
    "    if error:\n",
    "        break\n",
    "    \n",
    "    # Select events with one lepton and one hadronic top:\n",
    "    topH = None\n",
    "    topLep = None\n",
    "    for topPID,daughters in topDecays.items():\n",
    "            dPIDs =  [abs(ptc.PID) for ptc in daughters]\n",
    "            if not 5 in dPIDs:\n",
    "                continue # Skip rare decays to W+c\n",
    "            if (11 in dPIDs) or (13 in dPIDs):\n",
    "                topLep = topPID\n",
    "            elif max(dPIDs) <= 5:\n",
    "                topH = topPID\n",
    "\n",
    "    \n",
    "    if topH is None or topLep is None:\n",
    "        continue\n",
    "   \n",
    "    cutFlow['n(l) = 1'] += weightAndError\n",
    "\n",
    "    # Hadronic top:    \n",
    "    # Regular jets:\n",
    "    quarks = [ptc for ptc in topDecays[topH]]\n",
    "    jetArray = [fastjet.PseudoJet(q.Px,q.Py,q.Pz,q.E) for q in quarks if abs(q.Eta) < 4.5]\n",
    "    for ij,j in enumerate(jetArray):\n",
    "        j.set_user_index(quarks[ij].PID)\n",
    "    cluster = fastjet.ClusterSequence(jetArray, jetdef)\n",
    "    jets = cluster.inclusive_jets(ptmin = 26.0)\n",
    "    jets = [j for j in jets if abs(j.eta()) < 2.5]\n",
    "    if len(jets) == 0:\n",
    "        continue\n",
    "    cutFlow['n(j) > 0'] += weightAndError\n",
    "\n",
    "        \n",
    "    # ## Fat jet:    \n",
    "    jetArray = [fastjet.PseudoJet(j.px(),j.py(),j.pz(),j.E()) for j in jets]\n",
    "    for ij,j in enumerate(jetArray):\n",
    "        for q in jets[ij].constituents():\n",
    "            if abs(q.user_index()) == 5:\n",
    "                j.set_user_index(5) # Tag the regular jets containing a b-quark\n",
    "    clusterFat = fastjet.ClusterSequence(jetArray, fatjetdef)\n",
    "    if len(clusterFat.inclusive_jets()) == 0:\n",
    "        continue\n",
    "    cutFlow['n(FJ) > 0'] += weightAndError\n",
    "\n",
    "    # Use hardest fat jet\n",
    "    fatJet = sorted([j for j in clusterFat.inclusive_jets()], key = lambda j: j.pt(), reverse=True)[0]\n",
    "    # Invariant mass cut:\n",
    "    if not (120. < fatJet.m() < 220.):\n",
    "        continue\n",
    "    # PT cut\n",
    "    if fatJet.pt() < pTmin:\n",
    "        continue\n",
    "    cutFlow['pT(FT) > %1.0f' %pTmin] += weightAndError\n",
    "\n",
    "    # Eta cut\n",
    "    if abs(fatJet.eta()) > etamax:\n",
    "        continue\n",
    "    cutFlow['eta(FT) < %1.1f' %etamax] += weightAndError\n",
    "\n",
    "    # Require a b inside the Fat jet\n",
    "    hasB = False\n",
    "    for q in fatJet.constituents():\n",
    "        if q.user_index() == 5:\n",
    "            hasB = True\n",
    "    if not hasB:\n",
    "        continue\n",
    "    cutFlow['b-jet in FT'] += weightAndError\n",
    "\n",
    "        \n",
    "    # Leptonic top:\n",
    "    leptons = [ptc for ptc in topDecays[topLep] if abs(ptc.PID) in [11,13]]\n",
    "    neutrinos = [ptc for ptc in topDecays[topLep] if abs(ptc.PID) in [12,14]]\n",
    "    bLep = [ptc for ptc in topDecays[topLep] if abs(ptc.PID) ==5]\n",
    "    if len(leptons) != 1:\n",
    "        error = True\n",
    "        print('Error getting leptons')\n",
    "    if len(neutrinos) != 1:\n",
    "        error = True\n",
    "        print('Error getting neutrinos')\n",
    "    if len(bLep) != 1:\n",
    "        error = True\n",
    "        print('Error getting b-jet')\n",
    "        break\n",
    "    if error:\n",
    "        break\n",
    "    lepton = leptons[0]\n",
    "    nu = neutrinos[0]\n",
    "    bLep = bLep[0]\n",
    "    \n",
    "    pTlepton = lepton.PT\n",
    "    etaLep = np.abs(lepton.Eta)\n",
    "    # Lepton pT cut\n",
    "    if pTlepton < 27.0:\n",
    "        continue\n",
    "    cutFlow['pT(lep) > 27'] += weightAndError\n",
    "\n",
    "    # Lepton eta cut\n",
    "    if etaLep > 2.5:\n",
    "        continue\n",
    "    cutFlow['eta(lep) < 2.5'] += weightAndError\n",
    "\n",
    "    # Require the b to be close to the lep'MET > 20'ton\n",
    "    dRlep = np.sqrt((lepton.Eta-bLep.Eta)**2 + (lepton.Phi-bLep.Phi)**2)\n",
    "    if dRlep > 2.0:\n",
    "        continue\n",
    "    cutFlow['dR(lepton,b) < 2.0'] += weightAndError\n",
    "\n",
    "    # Invariant mass of lepton and b < 180:\n",
    "    mlb = np.sqrt((lepton.E+bLep.E)**2-(lepton.Px+bLep.Px)**2-(lepton.Py+bLep.Py)**2-(lepton.Pz+bLep.Pz)**2)\n",
    "    if mlb > 180.0:\n",
    "        continue\n",
    "    cutFlow['m(lepton,b) < 180'] += weightAndError\n",
    "\n",
    "    # Skip events where lepton overlaps to jet\n",
    "    dRlep = min([np.sqrt((lepton.Eta-j.eta())**2 + (lepton.Phi-j.phi())**2) for j in jets])    \n",
    "    if dRlep < 0.4:\n",
    "        continue\n",
    "    cutFlow['dR(lepton,j) > 0.4'] += weightAndError\n",
    "\n",
    "    # MET cut\n",
    "    if (nu.PT < 20.0):\n",
    "        continue\n",
    "    cutFlow['MET > 20'] += weightAndError\n",
    "\n",
    "    pTT.append(tops[topH].PT)\n",
    "    weights.append(weightAndError)\n",
    "    \n",
    "\n",
    "f.Close()\n",
    "weights = np.array(weights)\n",
    "pTtHist,_ = np.histogram(pTT,weights=weights[:,0],bins=atlas_bins)\n",
    "pTtHistError,_ = np.histogram(pTT,weights=weights[:,1],bins=atlas_bins)\n",
    "pTtHistError = np.sqrt(pTtHistError)\n",
    "for val in cutFlow.values():\n",
    "    val[1] = np.sqrt(val[1])\n",
    "\n",
    "data = np.array(list(zip(atlas_bins[:-1],atlas_bins[1:],pTtHist,pTtHistError)))\n",
    "    "
   ]
  },
  {
   "cell_type": "code",
   "execution_count": 10,
   "metadata": {},
   "outputs": [
    {
     "name": "stdout",
     "output_type": "stream",
     "text": [
      "xsec (pb) = 4.606e+02\n",
      "fiducial xsec*kfac (pb) = 1.429e+00\n"
     ]
    }
   ],
   "source": [
    "# Inclusive cross-section (total ttbar production)\n",
    "BR = 2*(0.6741*(0.1071+0.1063))\n",
    "inclusiveXsec = totalweightPB/BR\n",
    "# Compute k-factor based on the inclusive production cross-section:\n",
    "kfac = 832./inclusiveXsec\n",
    "\n",
    "print('xsec (pb) = %1.3e' %(inclusiveXsec))\n",
    "print('fiducial xsec*kfac (pb) = %1.3e' %(sum(weights[:,0])*kfac))\n"
   ]
  },
  {
   "cell_type": "code",
   "execution_count": 11,
   "metadata": {},
   "outputs": [
    {
     "name": "stdout",
     "output_type": "stream",
     "text": [
      "n(l) = 1 : 237.25 +- 0.8 (99.11%)\n",
      "n(j) > 0 : 234.00 +- 0.7 (98.63%)\n",
      "n(FJ) > 0 : 234.00 +- 0.7 (100.00%)\n",
      "pT(FT) > 355 : 2.32 +- 0.07 (0.99%)\n",
      "eta(FT) < 2.0 : 2.26 +- 0.07 (97.52%)\n",
      "b-jet in FT : 2.26 +- 0.07 (100.00%)\n",
      "pT(lep) > 27 : 1.90 +- 0.07 (83.81%)\n",
      "eta(lep) < 2.5 : 1.88 +- 0.07 (99.24%)\n",
      "dR(lepton,b) < 2.0 : 1.58 +- 0.06 (83.84%)\n",
      "m(lepton,b) < 180 : 1.58 +- 0.06 (100.00%)\n",
      "dR(lepton,j) > 0.4 : 1.58 +- 0.06 (100.00%)\n",
      "MET > 20 : 1.43 +- 0.06 (90.59%)\n"
     ]
    }
   ],
   "source": [
    "xsec_before = totalweightPB\n",
    "for c,xsec in cutFlow.items():\n",
    "    print('%s : %1.2f +- %1.0g (%1.2f%%)' %(c,xsec[0]*kfac,xsec[1]*kfac,100*xsec[0]/xsec_before))\n",
    "    xsec_before = xsec[0]"
   ]
  },
  {
   "cell_type": "code",
   "execution_count": 12,
   "metadata": {},
   "outputs": [],
   "source": [
    "sm_nnlo = np.loadtxt('./digitised_sm/nnlo_from_fig11.txt',dtype=float,usecols=(0,))\n",
    "bins_width = atlas_bins[1:]-atlas_bins[:-1]"
   ]
  },
  {
   "cell_type": "code",
   "execution_count": 13,
   "metadata": {},
   "outputs": [
    {
     "name": "stdout",
     "output_type": "stream",
     "text": [
      "Bin: 355--381\n",
      "MG5 = 2.20e-01, ATLAS = 3.04e-01 (ratio = 0.73 +- 0.1)\n",
      "\n",
      "Bin: 381--420\n",
      "MG5 = 3.42e-01, ATLAS = 3.44e-01 (ratio = 0.99 +- 0.1)\n",
      "\n",
      "Bin: 420--478\n",
      "MG5 = 3.57e-01, ATLAS = 3.18e-01 (ratio = 1.12 +- 0.1)\n",
      "\n",
      "Bin: 478--549\n",
      "MG5 = 2.54e-01, ATLAS = 1.97e-01 (ratio = 1.29 +- 0.1)\n",
      "\n",
      "Bin: 549--633\n",
      "MG5 = 1.53e-01, ATLAS = 1.02e-01 (ratio = 1.51 +- 0.2)\n",
      "\n",
      "Bin: 633--720\n",
      "MG5 = 5.99e-02, ATLAS = 4.13e-02 (ratio = 1.45 +- 0.3)\n",
      "\n",
      "Bin: 720--836\n",
      "MG5 = 3.11e-02, ATLAS = 1.95e-02 (ratio = 1.60 +- 0.4)\n",
      "\n",
      "Bin: 836--2000\n",
      "MG5 = 1.20e-02, ATLAS = 9.53e-03 (ratio = 1.26 +- 0.6)\n",
      "\n"
     ]
    }
   ],
   "source": [
    "for ibin,pt in enumerate(data):\n",
    "    r = pt[2]*kfac/(sm_nnlo[ibin]*bins_width[ibin])\n",
    "    rErr = pt[3]*kfac/(sm_nnlo[ibin]*bins_width[ibin])\n",
    "    print('Bin: %1.0f--%1.0f' %(pt[0],pt[1]))\n",
    "    print(\"MG5 = %1.2e, ATLAS = %1.2e (ratio = %1.2f +- %1.1f)\\n\" %(pt[2]*kfac,sm_nnlo[ibin]*bins_width[ibin],r,rErr))"
   ]
  },
  {
   "cell_type": "code",
   "execution_count": 14,
   "metadata": {},
   "outputs": [
    {
     "data": {
      "image/png": "[encoded data removed]",
      "text/plain": [
       "<Figure size 432x288 with 1 Axes>"
      ]
     },
     "metadata": {},
     "output_type": "display_data"
    }
   ],
   "source": [
    "plt.hist(pTT,weights=weights[:,0],bins=atlas_bins,histtype='step')\n",
    "plt.errorbar((atlas_bins[:-1]+atlas_bins[1:])/2, pTtHist, yerr=pTtHistError, fmt='o')\n",
    "plt.yscale('log')\n",
    "# plt.xlim(500.,1500.)\n",
    "# plt.ylim(1e-3,1e-1)\n",
    "plt.show()"
   ]
  },
  {
   "cell_type": "code",
   "execution_count": 15,
   "metadata": {},
   "outputs": [
    {
     "data": {
      "text/plain": [
       "(0.0013254099758341908, 0.0013254099758341908)"
      ]
     },
     "execution_count": 15,
     "metadata": {},
     "output_type": "execute_result"
    }
   ],
   "source": [
    "max(weights[:,0]),min(weights[:,0])"
   ]
  },
  {
   "cell_type": "code",
   "execution_count": 16,
   "metadata": {},
   "outputs": [
    {
     "data": {
      "text/plain": [
       "9.053802384765817"
      ]
     },
     "execution_count": 16,
     "metadata": {},
     "output_type": "execute_result"
    }
   ],
   "source": [
    "1.20e-02/max(weights[:,0])"
   ]
  },
  {
   "cell_type": "code",
   "execution_count": null,
   "metadata": {},
   "outputs": [],
   "source": []
  }
 ],
 "metadata": {
  "kernelspec": {
   "display_name": "Python 3",
   "language": "python",
   "name": "python3"
  },
  "language_info": {
   "codemirror_mode": {
    "name": "ipython",
    "version": 3
   },
   "file_extension": ".py",
   "mimetype": "text/x-python",
   "name": "python",
   "nbconvert_exporter": "python",
   "pygments_lexer": "ipython3",
   "version": "3.9.7"
  },
  "orig_nbformat": 4
 },
 "nbformat": 4,
 "nbformat_minor": 2
}
