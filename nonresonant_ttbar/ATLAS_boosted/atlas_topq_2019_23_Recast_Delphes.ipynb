{
 "cells": [
  {
   "cell_type": "code",
   "execution_count": 2,
   "metadata": {},
   "outputs": [
    {
     "name": "stdout",
     "output_type": "stream",
     "text": [
      "Welcome to JupyROOT 6.24/06\n"
     ]
    },
    {
     "data": {
      "text/plain": [
       "True"
      ]
     },
     "execution_count": 2,
     "metadata": {},
     "output_type": "execute_result"
    }
   ],
   "source": [
    "import os,glob\n",
    "import numpy as np\n",
    "import pandas as pd\n",
    "import glob\n",
    "import pyslha\n",
    "import time\n",
    "import progressbar as P\n",
    "import random\n",
    "\n",
    "delphesDir = os.path.abspath(\"../../MG5/Delphes\")\n",
    "os.environ['ROOT_INCLUDE_PATH'] = os.path.join(delphesDir,\"external\")\n",
    "\n",
    "import ROOT\n",
    "import xml.etree.ElementTree as ET\n",
    "\n",
    "\n",
    "ROOT.gSystem.Load(os.path.join(delphesDir,\"libDelphes.so\"))\n",
    "\n",
    "ROOT.gInterpreter.Declare('#include \"classes/SortableObject.h\"')\n",
    "ROOT.gInterpreter.Declare('#include \"classes/DelphesClasses.h\"')\n",
    "ROOT.gInterpreter.Declare('#include \"external/ExRootAnalysis/ExRootTreeReader.h\"')"
   ]
  },
  {
   "cell_type": "code",
   "execution_count": 3,
   "metadata": {},
   "outputs": [],
   "source": [
    "inputFile = '../../processFolders/sm_ttmatch_lo/Events/run_01/tag_1_delphes_events.root'\n",
    "f = ROOT.TFile(inputFile,'read')\n",
    "tree = f.Get(\"Delphes\")\n",
    "nevts = tree.GetEntries()\n",
    "f.Close()"
   ]
  },
  {
   "cell_type": "code",
   "execution_count": 18,
   "metadata": {},
   "outputs": [],
   "source": [
    "etamax=2.0\n",
    "pTmin=355.0\n",
    "\n",
    "atlas_bins = [355.0,381.0,420.0,478.0,549.0,633.0,720.0,836.0,2000.0]\n",
    "\n",
    "f = ROOT.TFile(inputFile,'read')\n",
    "tree = f.Get(\"Delphes\")\n",
    "nevts = tree.GetEntries()\n",
    "ntotal = 0\n",
    "totalweightPB = 0.0\n",
    "pTT = []\n",
    "weights = []\n",
    "for ievt in range(nevts):    \n",
    "            \n",
    "    ntotal += 1\n",
    "    tree.GetEntry(ievt)\n",
    "    weightPB = tree.Weight.At(1).Weight\n",
    "    weightPB = weightPB\n",
    "    totalweightPB += weightPB\n",
    "\n",
    "    genParticles = tree.Particle\n",
    "    # Filter tops:\n",
    "    tops = {}\n",
    "    # topList = {}\n",
    "    # Filter Ws\n",
    "    # wList = {}\n",
    "    for iptc in range(genParticles.GetEntries()):\n",
    "        ptc = genParticles.At(iptc)\n",
    "        if abs(ptc.PID) == 6:\n",
    "            # topList[iptc] = ptc # Store all tops generated during event evolution\n",
    "            tops[ptc.PID] = ptc # Store only the last top/anti-top\n",
    "        # elif abs(ptc.PID) == 24:\n",
    "            # wList[iptc] = ptc\n",
    "\n",
    "    # Get top decays:\n",
    "    ws = {}\n",
    "    bjets = {}\n",
    "    for itop,top in tops.items():\n",
    "        for idaugther in range(top.D1,top.D2+1):\n",
    "            ptc = genParticles.At(idaugther)\n",
    "            if abs(ptc.PID) == 24:\n",
    "                ws[ptc.PID] = ptc\n",
    "            elif abs(ptc.PID) == 5:\n",
    "                bjets[ptc.PID] = ptc\n",
    "    \n",
    "    # Get W decays:\n",
    "    wDecays = {}\n",
    "    for iw,w in ws.items():\n",
    "        wDecays[w.PID] = {}\n",
    "        d1 = w.D1\n",
    "        d2 = w.D2+1\n",
    "        daughter1 = genParticles.At(d1)\n",
    "        while daughter1.PID == w.PID:\n",
    "            d1 = daughter1.D1\n",
    "            d2 = daughter1.D2+1\n",
    "            daughter1 = genParticles.At(d1)\n",
    "        for idaugther in range(d1,d2):\n",
    "            ptc = genParticles.At(idaugther)\n",
    "            wDecays[w.PID][ptc.PID] = ptc\n",
    "\n",
    "    break\n",
    "    # Randomly select one top:\n",
    "    itop = random.choice([6,-6])\n",
    "    itop = 6\n",
    "    pT = tops[itop].PT\n",
    "    eta = np.abs(tops[itop].Eta)\n",
    "    if pT < pTmin:\n",
    "        continue\n",
    "    if eta > etamax:\n",
    "        continue\n",
    "    pTT.append(pT)\n",
    "    weights.append(weightPB)\n",
    "    \n",
    "weights = np.array(weights)\n",
    "pTtHist,_ = np.histogram(pTT,weights=weights,bins=atlas_bins)\n",
    "pTtHistError,_ = np.histogram(pTT,weights=weights**2,bins=atlas_bins)\n",
    "pTtHistError = np.sqrt(pTtHistError)\n",
    "\n",
    "data = np.array(list(zip(atlas_bins[:-1],atlas_bins[1:],pTtHist,pTtHistError)))\n",
    "    "
   ]
  },
  {
   "cell_type": "code",
   "execution_count": 19,
   "metadata": {},
   "outputs": [
    {
     "data": {
      "text/plain": [
       "{6: <cppyy.gbl.GenParticle object at 0x16906b50>,\n",
       " -6: <cppyy.gbl.GenParticle object at 0x16906bc0>}"
      ]
     },
     "execution_count": 19,
     "metadata": {},
     "output_type": "execute_result"
    }
   ],
   "source": [
    "tops"
   ]
  },
  {
   "cell_type": "code",
   "execution_count": 20,
   "metadata": {},
   "outputs": [
    {
     "data": {
      "text/plain": [
       "{24: <cppyy.gbl.GenParticle object at 0x167c4490>,\n",
       " -24: <cppyy.gbl.GenParticle object at 0x167c46c0>}"
      ]
     },
     "execution_count": 20,
     "metadata": {},
     "output_type": "execute_result"
    }
   ],
   "source": [
    "ws"
   ]
  },
  {
   "cell_type": "code",
   "execution_count": 21,
   "metadata": {},
   "outputs": [
    {
     "data": {
      "text/plain": [
       "{24: {-1: <cppyy.gbl.GenParticle object at 0x167c48f0>,\n",
       "  2: <cppyy.gbl.GenParticle object at 0x167c4960>},\n",
       " -24: {3: <cppyy.gbl.GenParticle object at 0x167c5c30>,\n",
       "  -4: <cppyy.gbl.GenParticle object at 0x167c5ca0>}}"
      ]
     },
     "execution_count": 21,
     "metadata": {},
     "output_type": "execute_result"
    }
   ],
   "source": [
    "wDecays"
   ]
  },
  {
   "cell_type": "code",
   "execution_count": 33,
   "metadata": {},
   "outputs": [
    {
     "name": "stdout",
     "output_type": "stream",
     "text": [
      "xsec (pb) = 4.653e+02\n",
      "fiducial xsec (pb) = 8.387e+00\n",
      "fiducial xsec*BR (pb) = 2.413e+00\n",
      "fiducial xsec*BR*kfac (pb) = 4.315e+00\n"
     ]
    }
   ],
   "source": [
    "kfac = 832./totalweightPB\n",
    "BR = 0.6741*(0.1071+0.1063)*2\n",
    "print('xsec (pb) = %1.3e' %totalweightPB)\n",
    "print('fiducial xsec (pb) = %1.3e' %sum(weights))\n",
    "print('fiducial xsec*BR (pb) = %1.3e' %(sum(weights)*BR))\n",
    "print('fiducial xsec*BR*kfac (pb) = %1.3e' %(sum(weights)*BR*kfac))\n"
   ]
  },
  {
   "cell_type": "code",
   "execution_count": null,
   "metadata": {},
   "outputs": [],
   "source": []
  }
 ],
 "metadata": {
  "kernelspec": {
   "display_name": "Python 3",
   "language": "python",
   "name": "python3"
  },
  "language_info": {
   "codemirror_mode": {
    "name": "ipython",
    "version": 3
   },
   "file_extension": ".py",
   "mimetype": "text/x-python",
   "name": "python",
   "nbconvert_exporter": "python",
   "pygments_lexer": "ipython3",
   "version": "3.9.7"
  },
  "orig_nbformat": 4
 },
 "nbformat": 4,
 "nbformat_minor": 2
}
