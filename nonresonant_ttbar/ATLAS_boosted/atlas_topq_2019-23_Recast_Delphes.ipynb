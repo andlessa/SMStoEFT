{
 "cells": [
  {
   "cell_type": "code",
   "execution_count": 1,
   "metadata": {},
   "outputs": [
    {
     "name": "stdout",
     "output_type": "stream",
     "text": [
      "Welcome to JupyROOT 6.24/06\n"
     ]
    },
    {
     "data": {
      "text/plain": [
       "True"
      ]
     },
     "execution_count": 1,
     "metadata": {},
     "output_type": "execute_result"
    }
   ],
   "source": [
    "import os,glob\n",
    "import numpy as np\n",
    "import pandas as pd\n",
    "import glob\n",
    "import pyslha\n",
    "import time\n",
    "import progressbar as P\n",
    "\n",
    "delphesDir = os.path.abspath(\"../../MG5/Delphes\")\n",
    "os.environ['ROOT_INCLUDE_PATH'] = os.path.join(delphesDir,\"external\")\n",
    "\n",
    "import ROOT\n",
    "import xml.etree.ElementTree as ET\n",
    "\n",
    "\n",
    "ROOT.gSystem.Load(os.path.join(delphesDir,\"libDelphes.so\"))\n",
    "\n",
    "ROOT.gInterpreter.Declare('#include \"classes/SortableObject.h\"')\n",
    "ROOT.gInterpreter.Declare('#include \"classes/DelphesClasses.h\"')\n",
    "ROOT.gInterpreter.Declare('#include \"external/ExRootAnalysis/ExRootTreeReader.h\"')"
   ]
  },
  {
   "cell_type": "code",
   "execution_count": null,
   "metadata": {},
   "outputs": [],
   "source": [
    "inputFile = '../../processFolders/sm_ttj/Events/run_04/'\n",
    "f = ROOT.TFile(inputFile,'read')\n",
    "tree = f.Get(\"Delphes\")\n",
    "nevts = tree.GetEntries()\n",
    "f.Close()"
   ]
  },
  {
   "cell_type": "code",
   "execution_count": null,
   "metadata": {},
   "outputs": [],
   "source": [
    "f = ROOT.TFile(inputFile,'read')\n",
    "tree = f.Get(\"Delphes\")\n",
    "nevts = tree.GetEntries()\n",
    "ntotal = 0\n",
    "totalweightPB = 0.0\n",
    "for ievt in range(nevts):    \n",
    "            \n",
    "    ntotal += 1\n",
    "    tree.GetEntry(ievt)        \n",
    "\n",
    "    try:\n",
    "        weightPB = tree.Weight.At(1).Weight\n",
    "    except:\n",
    "        weightPB = tree.Weight.At(0).Weight\n",
    "    weightPB = weightPB\n",
    "    totalweightPB += weightPB\n",
    "\n",
    "    genParticles = tree.Particle\n",
    "    # Filter tops:\n",
    "    topList = []\n",
    "    for iptc in range(genParticles.GetEntries()):\n",
    "        ptc = electrons.At(iel)\n",
    "                if electron.PT < pTmin_el:\n",
    "                    continue\n",
    "                if abs(electron.Eta) > etamax_el:\n",
    "                    continue\n",
    "                electronList.append(electron)\n",
    "\n",
    "            # Filter muons:\n",
    "            muonList = []\n",
    "            for imu in range(muons.GetEntries()):\n",
    "                muon = muons.At(imu)\n",
    "                if muon.PT < pTmin_mu:\n",
    "                    continue\n",
    "                if abs(muon.Eta) > etamax_mu:\n",
    "                    continue\n",
    "                muonList.append(muon)\n",
    "\n",
    "            # Filter photons:\n",
    "            photonList = []\n",
    "            for ia in range(photons.GetEntries()):\n",
    "                photon = photons.At(ia)\n",
    "                if photon.PT < pTmin_a:\n",
    "                    continue\n",
    "                if abs(photon.Eta) > etamax_a:\n",
    "                    continue\n",
    "                photonList.append(photon)            \n",
    "\n",
    "            # Filter jets\n",
    "            jetList = []\n",
    "            bjetList = []\n",
    "            taujetList = []\n",
    "            for ijet in range(jets.GetEntries()):"
   ]
  }
 ],
 "metadata": {
  "kernelspec": {
   "display_name": "Python 3",
   "language": "python",
   "name": "python3"
  },
  "language_info": {
   "codemirror_mode": {
    "name": "ipython",
    "version": 3
   },
   "file_extension": ".py",
   "mimetype": "text/x-python",
   "name": "python",
   "nbconvert_exporter": "python",
   "pygments_lexer": "ipython3",
   "version": "3.9.7"
  },
  "orig_nbformat": 4
 },
 "nbformat": 4,
 "nbformat_minor": 2
}
