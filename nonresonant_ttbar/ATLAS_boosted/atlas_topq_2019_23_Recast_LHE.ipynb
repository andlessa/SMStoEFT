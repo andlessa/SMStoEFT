{
 "cells": [
  {
   "cell_type": "code",
   "execution_count": 1,
   "metadata": {},
   "outputs": [],
   "source": [
    "import os,glob\n",
    "import numpy as np\n",
    "import pandas as pd\n",
    "import glob\n",
    "import fastjet\n",
    "import warnings\n",
    "warnings.filterwarnings(\"ignore\", message=\"numpy.dtype size changed\")\n",
    "import numpy as np\n",
    "import pandas as pd\n",
    "import matplotlib.pyplot as plt\n",
    "import seaborn as sns\n",
    "import glob,os\n",
    "from atlas_topq_2019_23_Recast import getLHEevents\n",
    "\n",
    "pd.option_context('display.max_columns', -1)\n",
    "\n",
    "pd.options.mode.chained_assignment = None #Disable copy warnings\n",
    "# plt.style.use('fivethirtyeight') #Set style\n",
    "# mpl.rcParams.update({'figure.figsize' : (15,10)})  #Set general plotting options\n",
    "plt.rcParams.update({\n",
    "    \"text.usetex\": True,\n",
    "    \"font.family\": \"sans-serif\",\n",
    "    \"font.sans-serif\": [\"Helvetica\"]})\n",
    "\n",
    "plt.rcParams.update({\"savefig.dpi\" : 300}) #Figure resolution\n",
    "\n",
    "\n",
    "#Define plotting style:\n",
    "sns.set() #Set style\n",
    "sns.set_style('ticks',{'font.family':'Times New Roman', 'font.serif':'Times New Roman'})\n",
    "sns.set_context('paper', font_scale=1.8)\n",
    "cm = plt.colormaps['RdYlBu']"
   ]
  },
  {
   "cell_type": "code",
   "execution_count": 2,
   "metadata": {},
   "outputs": [],
   "source": [
    "BR = 2*(0.6741*(0.1071+0.1063)) # Used to rescale the MG5 cross-section if the decay is included in the process\n",
    "f = '../../processFolders/sm_ttdec_lo/Events/run_01/unweighted_events.lhe.gz'"
   ]
  },
  {
   "cell_type": "code",
   "execution_count": 3,
   "metadata": {},
   "outputs": [],
   "source": [
    "etamax=2.0\n",
    "pTmin=355.0\n",
    "\n",
    "atlas_bins = np.array([355.0,381.0,420.0,478.0,549.0,633.0,720.0,836.0,2000.0])\n",
    "jetdef = fastjet.JetDefinition(fastjet.antikt_algorithm, 0.4)\n",
    "fatjetdef = fastjet.JetDefinition(fastjet.antikt_algorithm, 1.0)\n",
    "\n",
    "totalweightPB = 0.0\n",
    "pTT = []\n",
    "weights = []\n",
    "cutFlow = {'n(l) = 1' : np.zeros(2), \n",
    "           'n(j) > 0' : np.zeros(2), \n",
    "           'n(FJ) > 0' : np.zeros(2), \n",
    "           'pT(FT) > %1.0f' %pTmin : np.zeros(2), \n",
    "           'eta(FT) < %1.1f' %etamax : np.zeros(2), \n",
    "           'b-jet in FT' : np.zeros(2),  \n",
    "           'pT(lep) > 27' : np.zeros(2), \n",
    "           'eta(lep) < 2.5' : np.zeros(2), \n",
    "           'dR(lepton,b) < 2.0' : np.zeros(2), \n",
    "           'm(lepton,b) < 180' : np.zeros(2), \n",
    "           'dR(lepton,j) > 0.4' : np.zeros(2),\n",
    "           'MET > 20' : np.zeros(2)}"
   ]
  },
  {
   "cell_type": "code",
   "execution_count": 15,
   "metadata": {},
   "outputs": [],
   "source": [
    "ntotal,events = getLHEevents(f)\n",
    "\n",
    "\n",
    "for ev in events:\n",
    "    error = False\n",
    "    weightPB = ev.eventinfo.weight/ntotal\n",
    "    weightAndError = np.array([weightPB,weightPB**2])\n",
    "    totalweightPB += weightPB\n",
    "\n",
    "    # Add information to particles:\n",
    "    for ptc in ev.particles:\n",
    "        ptc.daughters = []\n",
    "        p = np.sqrt(ptc.px**2 + ptc.py**2 + ptc.pz**2)\n",
    "        if p == ptc.pz:\n",
    "            print(ptc.id)\n",
    "            print(ptc.px,ptc.py,ptc.pz)\n",
    "            error = True\n",
    "            break\n",
    "        ptc.Eta = (1./2.)*np.log((p+ptc.pz)/(p-ptc.pz))\n",
    "        ptc.PT = np.sqrt(ptc.px**2 + ptc.py**2)\n",
    "        ptc.Phi = np.arctan2(ptc.py,ptc.px)\n",
    "        ptc.Px = ptc.px\n",
    "        ptc.Py = ptc.py\n",
    "        ptc.Pz = ptc.pz\n",
    "        ptc.E = ptc.e\n",
    "        ptc.PID = int(ptc.id)\n",
    "    for ptc in ev.particles:\n",
    "        for mom in ptc.mothers():\n",
    "            mom.daughters.append(ptc)\n",
    "    \n",
    "    # Get tops and their final decays:\n",
    "    tops = {}\n",
    "    topDecays = {}\n",
    "    for ptc in ev.particles:        \n",
    "        if abs(ptc.PID) == 6:\n",
    "            tops[ptc.PID] = ptc # Store only the last top/anti-top            \n",
    "            daughters = {d.PID : d for d in ptc.daughters}\n",
    "            hasDaughters = [pid for pid,d in daughters.items() if d.daughters]\n",
    "            while len(hasDaughters) > 0:\n",
    "                for pid in hasDaughters:\n",
    "                    d = daughters.pop(pid)\n",
    "                    for dd in d.daughters:\n",
    "                        daughters[dd.PID] = dd\n",
    "                hasDaughters = [pid for pid,d in daughters.items() if d.daughters]\n",
    "            topDecays[ptc.PID] = list(daughters.values())\n",
    "    \n",
    "    # Select events with one lepton and one hadronic top:\n",
    "    topH = None\n",
    "    topLep = None\n",
    "    for topPID,daughters in topDecays.items():        \n",
    "        dPIDs =  [abs(ptc.PID) for ptc in daughters]\n",
    "        if len(dPIDs) != 3:\n",
    "            error = True\n",
    "            print('Error getting daughters:',dPIDs)\n",
    "            break\n",
    "        if not 5 in dPIDs:\n",
    "            continue # Skip rare decays to W+c\n",
    "        if (11 in dPIDs) or (13 in dPIDs):\n",
    "            topLep = topPID\n",
    "        elif max(dPIDs) <= 5:\n",
    "            topH = topPID\n",
    "\n",
    "    if error:\n",
    "        break\n",
    "    \n",
    "    if topH is None or topLep is None:\n",
    "        continue\n",
    "   \n",
    "    cutFlow['n(l) = 1'] += weightAndError\n",
    "\n",
    "    # Hadronic top:    \n",
    "    # Regular jets:\n",
    "    quarks = [ptc for ptc in topDecays[topH]]\n",
    "    jetArray = [fastjet.PseudoJet(q.Px,q.Py,q.Pz,q.E) for q in quarks if abs(q.Eta) < 4.5]\n",
    "    for ij,j in enumerate(jetArray):\n",
    "        j.set_user_index(quarks[ij].PID)\n",
    "    cluster = fastjet.ClusterSequence(jetArray, jetdef)\n",
    "    jets = cluster.inclusive_jets(ptmin = 26.0)\n",
    "    jets = [j for j in jets if abs(j.eta()) < 2.5]\n",
    "    if len(jets) == 0:\n",
    "        continue\n",
    "    cutFlow['n(j) > 0'] += weightAndError\n",
    "\n",
    "        \n",
    "    # ## Fat jet:    \n",
    "    jetArray = [fastjet.PseudoJet(j.px(),j.py(),j.pz(),j.E()) for j in jets]\n",
    "    for ij,j in enumerate(jetArray):\n",
    "        for q in jets[ij].constituents():\n",
    "            if abs(q.user_index()) == 5:\n",
    "                j.set_user_index(5) # Tag the regular jets containing a b-quark\n",
    "    clusterFat = fastjet.ClusterSequence(jetArray, fatjetdef)\n",
    "    if len(clusterFat.inclusive_jets()) == 0:\n",
    "        continue\n",
    "    cutFlow['n(FJ) > 0'] += weightAndError\n",
    "\n",
    "    # Use hardest fat jet\n",
    "    fatJet = sorted([j for j in clusterFat.inclusive_jets()], key = lambda j: j.pt(), reverse=True)[0]\n",
    "    # Invariant mass cut:\n",
    "    if not (120. < fatJet.m() < 220.):\n",
    "        continue\n",
    "    # PT cut\n",
    "    if fatJet.pt() < pTmin:\n",
    "        continue\n",
    "    cutFlow['pT(FT) > %1.0f' %pTmin] += weightAndError\n",
    "\n",
    "    # Eta cut\n",
    "    if abs(fatJet.eta()) > etamax:\n",
    "        continue\n",
    "    cutFlow['eta(FT) < %1.1f' %etamax] += weightAndError\n",
    "\n",
    "    # Require a b inside the Fat jet\n",
    "    hasB = False\n",
    "    for q in fatJet.constituents():\n",
    "        if q.user_index() == 5:\n",
    "            hasB = True\n",
    "    if not hasB:\n",
    "        continue\n",
    "    cutFlow['b-jet in FT'] += weightAndError\n",
    "\n",
    "        \n",
    "    # Leptonic top:\n",
    "    leptons = [ptc for ptc in topDecays[topLep] if abs(ptc.PID) in [11,13]]\n",
    "    neutrinos = [ptc for ptc in topDecays[topLep] if abs(ptc.PID) in [12,14]]\n",
    "    bLep = [ptc for ptc in topDecays[topLep] if abs(ptc.PID) ==5]\n",
    "    if len(leptons) != 1:\n",
    "        error = True\n",
    "        print('Error getting leptons')\n",
    "    if len(neutrinos) != 1:\n",
    "        error = True\n",
    "        print('Error getting neutrinos')\n",
    "    if len(bLep) != 1:\n",
    "        error = True\n",
    "        print('Error getting b-jet')\n",
    "        break\n",
    "    if error:\n",
    "        break\n",
    "    lepton = leptons[0]\n",
    "    nu = neutrinos[0]\n",
    "    bLep = bLep[0]\n",
    "    \n",
    "    pTlepton = lepton.PT\n",
    "    etaLep = np.abs(lepton.Eta)\n",
    "    # Lepton pT cut\n",
    "    if pTlepton < 27.0:\n",
    "        continue\n",
    "    cutFlow['pT(lep) > 27'] += weightAndError\n",
    "\n",
    "    # Lepton eta cut\n",
    "    if etaLep > 2.5:\n",
    "        continue\n",
    "    cutFlow['eta(lep) < 2.5'] += weightAndError\n",
    "\n",
    "    # Require the b to be close to the lep'MET > 20'ton\n",
    "    dRlep = np.sqrt((lepton.Eta-bLep.Eta)**2 + (lepton.Phi-bLep.Phi)**2)\n",
    "    if dRlep > 2.0:\n",
    "        continue\n",
    "    cutFlow['dR(lepton,b) < 2.0'] += weightAndError\n",
    "\n",
    "    # Invariant mass of lepton and b < 180:\n",
    "    mlb = np.sqrt((lepton.E+bLep.E)**2-(lepton.Px+bLep.Px)**2-(lepton.Py+bLep.Py)**2-(lepton.Pz+bLep.Pz)**2)\n",
    "    if mlb > 180.0:\n",
    "        continue\n",
    "    cutFlow['m(lepton,b) < 180'] += weightAndError\n",
    "\n",
    "    # Skip events where lepton overlaps to jet\n",
    "    dRlep = min([np.sqrt((lepton.Eta-j.eta())**2 + (lepton.Phi-j.phi())**2) for j in jets])    \n",
    "    if dRlep < 0.4:\n",
    "        continue\n",
    "    cutFlow['dR(lepton,j) > 0.4'] += weightAndError\n",
    "\n",
    "    # MET cut\n",
    "    if (nu.PT < 20.0):\n",
    "        continue\n",
    "    cutFlow['MET > 20'] += weightAndError\n",
    "\n",
    "    pTT.append(tops[topH].PT)\n",
    "    weights.append(weightAndError)\n",
    "    \n",
    "\n",
    "\n",
    "weights = np.array(weights)\n",
    "pTtHist,_ = np.histogram(pTT,weights=weights[:,0],bins=atlas_bins)\n",
    "pTtHistError,_ = np.histogram(pTT,weights=weights[:,1],bins=atlas_bins)\n",
    "pTtHistError = np.sqrt(pTtHistError)\n",
    "for val in cutFlow.values():\n",
    "    val[1] = np.sqrt(val[1])\n",
    "\n",
    "data = np.array(list(zip(atlas_bins[:-1],atlas_bins[1:],pTtHist,pTtHistError)))\n",
    "    "
   ]
  },
  {
   "cell_type": "code",
   "execution_count": 5,
   "metadata": {},
   "outputs": [
    {
     "name": "stdout",
     "output_type": "stream",
     "text": [
      "xsec (pb) = 4.603e+02\n",
      "fiducial xsec*kfac (pb) = 1.371e+00\n"
     ]
    }
   ],
   "source": [
    "# Inclusive cross-section (total ttbar production)\n",
    "inclusiveXsec = totalweightPB/BR\n",
    "# Compute k-factor based on the inclusive production cross-section:\n",
    "kfac = 832./inclusiveXsec\n",
    "\n",
    "print('xsec (pb) = %1.3e' %(inclusiveXsec))\n",
    "print('fiducial xsec*kfac (pb) = %1.3e' %(sum(weights[:,0])*kfac))\n"
   ]
  },
  {
   "cell_type": "code",
   "execution_count": 6,
   "metadata": {},
   "outputs": [
    {
     "name": "stdout",
     "output_type": "stream",
     "text": [
      "n(l) = 1 : 239.37 +- 0.5 (100.00%)\n",
      "n(j) > 0 : 236.35 +- 0.5 (98.74%)\n",
      "n(FJ) > 0 : 236.35 +- 0.5 (100.00%)\n",
      "pT(FT) > 355 : 1.91 +- 0.04 (0.81%)\n",
      "eta(FT) < 2.0 : 1.88 +- 0.04 (98.30%)\n",
      "b-jet in FT : 1.88 +- 0.04 (100.00%)\n",
      "pT(lep) > 27 : 1.65 +- 0.04 (88.07%)\n",
      "eta(lep) < 2.5 : 1.65 +- 0.04 (99.77%)\n",
      "dR(lepton,b) < 2.0 : 1.47 +- 0.04 (89.03%)\n",
      "m(lepton,b) < 180 : 1.47 +- 0.04 (100.00%)\n",
      "dR(lepton,j) > 0.4 : 1.47 +- 0.04 (100.00%)\n",
      "MET > 20 : 1.37 +- 0.04 (93.35%)\n"
     ]
    }
   ],
   "source": [
    "xsec_before = totalweightPB\n",
    "for c,xsec in cutFlow.items():\n",
    "    print('%s : %1.2f +- %1.0g (%1.2f%%)' %(c,xsec[0]*kfac,xsec[1]*kfac,100*xsec[0]/xsec_before))\n",
    "    xsec_before = xsec[0]"
   ]
  },
  {
   "cell_type": "code",
   "execution_count": 7,
   "metadata": {},
   "outputs": [],
   "source": [
    "sm_nnlo = np.loadtxt('./digitised_sm/nnlo_from_fig11.txt',dtype=float,usecols=(0,))\n",
    "bins_width = atlas_bins[1:]-atlas_bins[:-1]"
   ]
  },
  {
   "cell_type": "code",
   "execution_count": 8,
   "metadata": {},
   "outputs": [
    {
     "name": "stdout",
     "output_type": "stream",
     "text": [
      "Bin: 355--381\n",
      "MG5 = 2.52e-01, ATLAS = 3.04e-01 (ratio = 0.83 +- 0.1)\n",
      "\n",
      "Bin: 381--420\n",
      "MG5 = 3.69e-01, ATLAS = 3.44e-01 (ratio = 1.07 +- 0.1)\n",
      "\n",
      "Bin: 420--478\n",
      "MG5 = 3.00e-01, ATLAS = 3.18e-01 (ratio = 0.94 +- 0.1)\n",
      "\n",
      "Bin: 478--549\n",
      "MG5 = 1.95e-01, ATLAS = 1.97e-01 (ratio = 0.99 +- 0.1)\n",
      "\n",
      "Bin: 549--633\n",
      "MG5 = 1.34e-01, ATLAS = 1.02e-01 (ratio = 1.32 +- 0.1)\n",
      "\n",
      "Bin: 633--720\n",
      "MG5 = 5.46e-02, ATLAS = 4.13e-02 (ratio = 1.32 +- 0.2)\n",
      "\n",
      "Bin: 720--836\n",
      "MG5 = 4.12e-02, ATLAS = 1.95e-02 (ratio = 2.11 +- 0.3)\n",
      "\n",
      "Bin: 836--2000\n",
      "MG5 = 2.11e-02, ATLAS = 9.53e-03 (ratio = 2.21 +- 0.5)\n",
      "\n"
     ]
    }
   ],
   "source": [
    "for ibin,pt in enumerate(data):\n",
    "    r = pt[2]*kfac/(sm_nnlo[ibin]*bins_width[ibin])\n",
    "    rErr = pt[3]*kfac/(sm_nnlo[ibin]*bins_width[ibin])\n",
    "    print('Bin: %1.0f--%1.0f' %(pt[0],pt[1]))\n",
    "    print(\"MG5 = %1.2e, ATLAS = %1.2e (ratio = %1.2f +- %1.1f)\\n\" %(pt[2]*kfac,sm_nnlo[ibin]*bins_width[ibin],r,rErr))"
   ]
  },
  {
   "cell_type": "code",
   "execution_count": 9,
   "metadata": {},
   "outputs": [
    {
     "data": {
      "image/png": "[encoded data removed]",
      "text/plain": [
       "<Figure size 640x480 with 1 Axes>"
      ]
     },
     "metadata": {},
     "output_type": "display_data"
    }
   ],
   "source": [
    "plt.hist(pTT,weights=weights[:,0],bins=atlas_bins,histtype='step')\n",
    "plt.errorbar((atlas_bins[:-1]+atlas_bins[1:])/2, pTtHist, yerr=pTtHistError, fmt='o')\n",
    "plt.yscale('log')\n",
    "# plt.xlim(500.,1500.)\n",
    "# plt.ylim(1e-3,1e-1)\n",
    "plt.show()"
   ]
  },
  {
   "cell_type": "code",
   "execution_count": 10,
   "metadata": {},
   "outputs": [
    {
     "data": {
      "text/plain": [
       "(0.0005299052000000001, 0.0005299052000000001)"
      ]
     },
     "execution_count": 10,
     "metadata": {},
     "output_type": "execute_result"
    }
   ],
   "source": [
    "max(weights[:,0]),min(weights[:,0])"
   ]
  },
  {
   "cell_type": "code",
   "execution_count": 11,
   "metadata": {},
   "outputs": [
    {
     "data": {
      "text/plain": [
       "54.160630995883785"
      ]
     },
     "execution_count": 11,
     "metadata": {},
     "output_type": "execute_result"
    }
   ],
   "source": [
    "2.87e-02/max(weights[:,0])"
   ]
  },
  {
   "cell_type": "code",
   "execution_count": 12,
   "metadata": {},
   "outputs": [
    {
     "data": {
      "text/plain": [
       "0.13608276348795434"
      ]
     },
     "execution_count": 12,
     "metadata": {},
     "output_type": "execute_result"
    }
   ],
   "source": [
    "1./np.sqrt(54.0)"
   ]
  },
  {
   "cell_type": "code",
   "execution_count": 13,
   "metadata": {},
   "outputs": [
    {
     "data": {
      "text/plain": [
       "250000"
      ]
     },
     "execution_count": 13,
     "metadata": {},
     "output_type": "execute_result"
    }
   ],
   "source": [
    "ntotal"
   ]
  },
  {
   "cell_type": "code",
   "execution_count": null,
   "metadata": {},
   "outputs": [],
   "source": []
  }
 ],
 "metadata": {
  "kernelspec": {
   "display_name": "Python 3",
   "language": "python",
   "name": "python3"
  },
  "language_info": {
   "codemirror_mode": {
    "name": "ipython",
    "version": 3
   },
   "file_extension": ".py",
   "mimetype": "text/x-python",
   "name": "python",
   "nbconvert_exporter": "python",
   "pygments_lexer": "ipython3",
   "version": "3.10.12"
  },
  "orig_nbformat": 4
 },
 "nbformat": 4,
 "nbformat_minor": 2
}
