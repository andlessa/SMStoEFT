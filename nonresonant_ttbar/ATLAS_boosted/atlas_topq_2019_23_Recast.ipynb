{
 "cells": [
  {
   "cell_type": "code",
   "execution_count": 1,
   "metadata": {},
   "outputs": [],
   "source": [
    "import os,glob\n",
    "import numpy as np\n",
    "import pandas as pd\n",
    "import glob\n",
    "import pyslha\n",
    "import time\n",
    "import progressbar as P\n",
    "import random,itertools\n",
    "import fastjet\n",
    "import warnings\n",
    "warnings.filterwarnings(\"ignore\", message=\"numpy.dtype size changed\")\n",
    "import numpy as np\n",
    "import pandas as pd\n",
    "import matplotlib.pyplot as plt\n",
    "import seaborn as sns\n",
    "import glob,os\n",
    "from atlas_topq_2019_23_Recast import getLHEevents\n",
    "\n",
    "pd.option_context('display.max_columns', -1)\n",
    "\n",
    "pd.options.mode.chained_assignment = None #Disable copy warnings\n",
    "# plt.style.use('fivethirtyeight') #Set style\n",
    "# mpl.rcParams.update({'figure.figsize' : (15,10)})  #Set general plotting options\n",
    "plt.rcParams.update({\n",
    "    \"text.usetex\": True,\n",
    "    \"font.family\": \"sans-serif\",\n",
    "    \"font.sans-serif\": [\"Helvetica\"]})\n",
    "\n",
    "plt.rcParams.update({\"savefig.dpi\" : 300}) #Figure resolution\n",
    "\n",
    "\n",
    "#Define plotting style:\n",
    "sns.set() #Set style\n",
    "sns.set_style('ticks',{'font.family':'Times New Roman', 'font.serif':'Times New Roman'})\n",
    "sns.set_context('paper', font_scale=1.8)\n",
    "cm = plt.cm.get_cmap('RdYlBu')"
   ]
  },
  {
   "cell_type": "code",
   "execution_count": 2,
   "metadata": {},
   "outputs": [],
   "source": [
    "f = '../../processFolders/sm_ttdec_lo/Events/run_01//unweighted_events.lhe.gz'\n",
    "events = getLHEevents(f)"
   ]
  },
  {
   "cell_type": "code",
   "execution_count": 3,
   "metadata": {},
   "outputs": [
    {
     "name": "stdout",
     "output_type": "stream",
     "text": [
      "xsec (pb) = 4.626e+02\n",
      "fiducial xsec (pb) = 1.905e+00\n",
      "fiducial xsec*kfac (pb) = 3.426e+00\n"
     ]
    }
   ],
   "source": [
    "pTmin = 355.0\n",
    "etamax = 2.0\n",
    "atlas_bins = np.array([355.0,381.0,420.0,478.0,549.0,633.0,720.0,836.0,2000.0])\n",
    "# ### Leptonic BR\n",
    "BR = 0.6741*(0.1071+0.1063)*2\n",
    "pTT = []\n",
    "weights = []\n",
    "mcTotal = 0\n",
    "wtot = 0.0\n",
    "for ev in events:        \n",
    "    mcTotal += 1\n",
    "    wtot += ev.eventinfo.weight\n",
    "    pTlist = []\n",
    "    etalist = []\n",
    "    for ptc in ev.particles:\n",
    "        if abs(ptc.id) != 6: continue\n",
    "        pT = np.sqrt(ptc.px**2 + ptc.py**2) \n",
    "        p = np.sqrt(ptc.px**2 + ptc.py**2 + ptc.pz**2)\n",
    "        eta = (1./2.)*np.log((p+ptc.pz)/(p-ptc.pz))\n",
    "        pTlist.append(pT)\n",
    "        etalist.append(np.abs(eta))\n",
    "\n",
    "    # Randomly select one top:\n",
    "    itop = random.choice([0,1])\n",
    "    pT = pTlist[itop]\n",
    "    eta = etalist[itop]\n",
    "    if pT < pTmin:\n",
    "        continue\n",
    "    if eta > etamax:\n",
    "        continue\n",
    "    pTT.append(pT)\n",
    "    weights.append(ev.eventinfo.weight)\n",
    "\n",
    "weights = np.array(weights)/mcTotal\n",
    "wtot = wtot/mcTotal\n",
    "pTtHist,_ = np.histogram(pTT,weights=weights,bins=atlas_bins)\n",
    "pTtHistError,_ = np.histogram(pTT,weights=weights**2,bins=atlas_bins)\n",
    "pTtHistError = np.sqrt(pTtHistError)\n",
    "\n",
    "kfac = 832./wtot\n",
    "print('xsec (pb) = %1.3e' %wtot)\n",
    "print('fiducial xsec (pb) = %1.3e' %(sum(weights)*BR))\n",
    "print('fiducial xsec*kfac (pb) = %1.3e' %(sum(weights)*BR*kfac))\n",
    "data = np.array(list(zip(atlas_bins[:-1],atlas_bins[1:],pTtHist,pTtHistError)))"
   ]
  },
  {
   "cell_type": "code",
   "execution_count": 4,
   "metadata": {},
   "outputs": [
    {
     "data": {
      "image/png": "[encoded data removed]",
      "text/plain": [
       "<Figure size 432x288 with 1 Axes>"
      ]
     },
     "metadata": {},
     "output_type": "display_data"
    }
   ],
   "source": [
    "# y,binEdges,_ = plt.hist(pTT,weights=weights[:,0],bins=atlas_bins)\n",
    "plt.errorbar((atlas_bins[:-1]+atlas_bins[1:])/2, pTtHist, yerr=pTtHistError,marker = '.', drawstyle = 'steps-mid')\n",
    "plt.yscale('log')\n",
    "# plt.xlim(500.,1500.)\n",
    "# plt.ylim(1e-3,1e-1)\n",
    "plt.show()"
   ]
  },
  {
   "cell_type": "code",
   "execution_count": 11,
   "metadata": {},
   "outputs": [
    {
     "data": {
      "text/plain": [
       "(0.0046268, 0.0046268, 1431, 100000)"
      ]
     },
     "execution_count": 11,
     "metadata": {},
     "output_type": "execute_result"
    }
   ],
   "source": [
    "max(weights),min(weights),len(weights),mcTotal"
   ]
  }
 ],
 "metadata": {
  "kernelspec": {
   "display_name": "Python 3",
   "language": "python",
   "name": "python3"
  },
  "language_info": {
   "codemirror_mode": {
    "name": "ipython",
    "version": 3
   },
   "file_extension": ".py",
   "mimetype": "text/x-python",
   "name": "python",
   "nbconvert_exporter": "python",
   "pygments_lexer": "ipython3",
   "version": "3.9.7"
  }
 },
 "nbformat": 4,
 "nbformat_minor": 2
}
