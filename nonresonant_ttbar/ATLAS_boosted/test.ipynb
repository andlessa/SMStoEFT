{
 "cells": [
  {
   "cell_type": "code",
   "execution_count": 2,
   "metadata": {},
   "outputs": [],
   "source": [
    "import os,glob\n",
    "import numpy as np\n",
    "import pandas as pd\n",
    "import random\n",
    "import pyslha\n",
    "import time\n",
    "import progressbar as P\n",
    "import tempfile,gzip,pylhe\n",
    "from atlas_topq_2019_23_Recast import getLHEevents,getPTThist"
   ]
  },
  {
   "cell_type": "code",
   "execution_count": 11,
   "metadata": {},
   "outputs": [],
   "source": [
    "# events = getLHEevents('../../processFolders/sm_ttj_lo/Events/run_03/unweighted_events.lhe.gz')\n",
    "# events = getLHEevents('../../processFolders/sm_tt_lo/Events/run_01/unweighted_events.lhe.gz')\n",
    "events = getLHEevents('../../processFolders/sm_tt_nlo/Events/run_02/events.lhe.gz')"
   ]
  },
  {
   "cell_type": "code",
   "execution_count": 12,
   "metadata": {},
   "outputs": [
    {
     "name": "stdout",
     "output_type": "stream",
     "text": [
      "xsec (pb) = 6.796e+02\n",
      "fiducial xsec (pb) = 9.773e+00\n"
     ]
    }
   ],
   "source": [
    "x = getPTThist(events)"
   ]
  },
  {
   "cell_type": "code",
   "execution_count": 18,
   "metadata": {},
   "outputs": [
    {
     "data": {
      "text/plain": [
       "(1.223529411764706, 0.28770588)"
      ]
     },
     "execution_count": 18,
     "metadata": {},
     "output_type": "execute_result"
    }
   ],
   "source": [
    "kfac = 832./680.\n",
    "BR = 0.6741*(0.1071+0.1063)*2\n",
    "kfac,BR"
   ]
  },
  {
   "cell_type": "code",
   "execution_count": 19,
   "metadata": {},
   "outputs": [
    {
     "data": {
      "text/plain": [
       "3.4402071717362253"
      ]
     },
     "execution_count": 19,
     "metadata": {},
     "output_type": "execute_result"
    }
   ],
   "source": [
    "sum(x[:,2])*BR*kfac"
   ]
  },
  {
   "cell_type": "code",
   "execution_count": 16,
   "metadata": {},
   "outputs": [
    {
     "data": {
      "text/plain": [
       "array([[3.55000000e+02, 3.81000000e+02, 2.50586020e+00, 7.72357985e-01],\n",
       "       [3.81000000e+02, 4.20000000e+02, 3.50820428e+00, 7.92422573e-01],\n",
       "       [4.20000000e+02, 4.78000000e+02, 2.00468816e+00, 6.86258079e-01],\n",
       "       [4.78000000e+02, 5.49000000e+02, 1.12763709e+00, 5.46139569e-01],\n",
       "       [5.49000000e+02, 6.33000000e+02, 3.75879030e-01, 4.15549903e-01],\n",
       "       [6.33000000e+02, 7.20000000e+02, 1.25293010e-01, 1.25293010e-01],\n",
       "       [7.20000000e+02, 8.36000000e+02, 1.25293010e-01, 1.25293010e-01],\n",
       "       [8.36000000e+02, 2.00000000e+03, 0.00000000e+00, 1.77191074e-01]])"
      ]
     },
     "execution_count": 16,
     "metadata": {},
     "output_type": "execute_result"
    }
   ],
   "source": [
    "x"
   ]
  },
  {
   "cell_type": "code",
   "execution_count": null,
   "metadata": {},
   "outputs": [],
   "source": []
  }
 ],
 "metadata": {
  "kernelspec": {
   "display_name": "Python 3",
   "language": "python",
   "name": "python3"
  },
  "language_info": {
   "codemirror_mode": {
    "name": "ipython",
    "version": 3
   },
   "file_extension": ".py",
   "mimetype": "text/x-python",
   "name": "python",
   "nbconvert_exporter": "python",
   "pygments_lexer": "ipython3",
   "version": "3.10.12"
  },
  "orig_nbformat": 4
 },
 "nbformat": 4,
 "nbformat_minor": 2
}
