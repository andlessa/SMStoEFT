{
 "cells": [
  {
   "cell_type": "code",
   "execution_count": 1,
   "id": "94aee6db",
   "metadata": {},
   "outputs": [],
   "source": [
    "import os\n",
    "import numpy as np"
   ]
  },
  {
   "cell_type": "code",
   "execution_count": 2,
   "id": "a4f95925",
   "metadata": {},
   "outputs": [],
   "source": [
    "# File created by Mathematica notebook\n",
    "fname = '../lffvnp.txt'\n",
    "with open(fname,'r') as f:\n",
    "    data = f.read()\n",
    "data = data.replace('\"',\"'\")"
   ]
  },
  {
   "cell_type": "code",
   "execution_count": 3,
   "id": "08a61f20",
   "metadata": {},
   "outputs": [],
   "source": [
    "# Break into color tensor blocks:\n",
    "blocks = {x.strip().split('\\n')[0] : x.strip().split('\\n')[1:] for x in data.split(\"'------------------'\\n\")[1:]}"
   ]
  },
  {
   "cell_type": "code",
   "execution_count": 4,
   "id": "8ee18cef",
   "metadata": {},
   "outputs": [],
   "source": [
    "for tblock in blocks:\n",
    "    lffvList = blocks[tblock]\n",
    "    lffvDict = dict(zip(lffvList[0:-1:2],lffvList[1::2]))\n",
    "    blocks[tblock] = lffvDict"
   ]
  },
  {
   "cell_type": "code",
   "execution_count": 5,
   "id": "4f16e1a0",
   "metadata": {},
   "outputs": [],
   "source": [
    "# In UFO conventions: p1->P1 and p2->P2\n",
    "replacements = {'(p1sq,s,p2sq)' : 'Func( P(-1,1)**2, (P(-1,1)**2 + P(-1,2)**2 + 2*P(-2,1)*P(-2,2)), P(-1,2)**2 )',\n",
    "               'deltaCTL' : '1'}"
   ]
  },
  {
   "cell_type": "code",
   "execution_count": 6,
   "id": "d52ebae6",
   "metadata": {},
   "outputs": [],
   "source": [
    "lffvBlock = \"%s = Lorentz(name = %s,\\n\\\n",
    "                spins = [ 2, 2, 3 ],\\n\\\n",
    "                structure = '%s')\""
   ]
  },
  {
   "cell_type": "code",
   "execution_count": 7,
   "id": "39b943aa",
   "metadata": {},
   "outputs": [
    {
     "name": "stdout",
     "output_type": "stream",
     "text": [
      "FFVNP1 = Lorentz(name = 'FFVNP1',\n",
      "                spins = [ 2, 2, 3 ],\n",
      "                structure = '( P(-1,1)*Gamma(-1,2,-2)*ProjP(-2,1) )*( P(3,1)*(C1Func( P(-1,1)**2, (P(-1,1)**2 + P(-1,2)**2 + 2*P(-2,1)*P(-2,2)), P(-1,2)**2 ) + 2*C11Func( P(-1,1)**2, (P(-1,1)**2 + P(-1,2)**2 + 2*P(-2,1)*P(-2,2)), P(-1,2)**2 ))\\\n",
      "                                  + P(3,2)*(-C1Func( P(-1,1)**2, (P(-1,1)**2 + P(-1,2)**2 + 2*P(-2,1)*P(-2,2)), P(-1,2)**2 ) - 2*C12Func( P(-1,1)**2, (P(-1,1)**2 + P(-1,2)**2 + 2*P(-2,1)*P(-2,2)), P(-1,2)**2 )) )')\n",
      "\n",
      "\n",
      "FFVNP2 = Lorentz(name = 'FFVNP2',\n",
      "                spins = [ 2, 2, 3 ],\n",
      "                structure = '( P(-1,2)*Gamma(-1,2,-2)*ProjP(-2,1) )*( P(3,1)*(-2*C12Func( P(-1,1)**2, (P(-1,1)**2 + P(-1,2)**2 + 2*P(-2,1)*P(-2,2)), P(-1,2)**2 ) - C2Func( P(-1,1)**2, (P(-1,1)**2 + P(-1,2)**2 + 2*P(-2,1)*P(-2,2)), P(-1,2)**2 ))\\\n",
      "                                  + P(3,2)*(C2Func( P(-1,1)**2, (P(-1,1)**2 + P(-1,2)**2 + 2*P(-2,1)*P(-2,2)), P(-1,2)**2 ) + 2*C22Func( P(-1,1)**2, (P(-1,1)**2 + P(-1,2)**2 + 2*P(-2,1)*P(-2,2)), P(-1,2)**2 )) )')\n",
      "\n",
      "\n",
      "FFVNP3 = Lorentz(name = 'FFVNP3',\n",
      "                spins = [ 2, 2, 3 ],\n",
      "                structure = '( Gamma(3,2,1) )*( (2*1) )')\n",
      "\n",
      "\n",
      "FFVNP4 = Lorentz(name = 'FFVNP4',\n",
      "                spins = [ 2, 2, 3 ],\n",
      "                structure = '( Gamma(3,2,-1)*ProjP(-1,1) )*( (2*C00effFunc( P(-1,1)**2, (P(-1,1)**2 + P(-1,2)**2 + 2*P(-2,1)*P(-2,2)), P(-1,2)**2 )) )')\n",
      "\n",
      "\n"
     ]
    }
   ],
   "source": [
    "for t,lffvDict in blocks.items():\n",
    "    for ffvname,ffvexpr in lffvDict.items():\n",
    "        expr = ffvexpr[:]\n",
    "        for k,v in replacements.items():\n",
    "            expr = expr.replace(k,v)\n",
    "        exprLines = eval(expr).split('\\\\\\n')\n",
    "        exprNew = ('\\\\\\n').ljust(33).join(exprLines)\n",
    "        print(lffvBlock %(ffvname.replace(\"'\",''),ffvname,exprNew))\n",
    "        print('\\n')\n"
   ]
  },
  {
   "cell_type": "code",
   "execution_count": 9,
   "id": "edeffd1f",
   "metadata": {},
   "outputs": [
    {
     "name": "stdout",
     "output_type": "stream",
     "text": [
      "FFVNP1 = Lorentz(name = 'FFVNP1',\n",
      "                spins = [ 2, 2, 3 ],\n",
      "                structure = '( P(-1,1)*Gamma(-1,2,-2)*ProjP(-2,1) )*( P(3,1)*(C1(p1sq,s,p2sq) + 2*C11(p1sq,s,p2sq))\\\n",
      "                                                                     + P(3,2)*(-C1(p1sq,s,p2sq) - 2*C12(p1sq,s,p2sq)) )')\n",
      "\n",
      "\n",
      "FFVNP2 = Lorentz(name = 'FFVNP2',\n",
      "                spins = [ 2, 2, 3 ],\n",
      "                structure = '( P(-1,2)*Gamma(-1,2,-2)*ProjP(-2,1) )*( P(3,1)*(-2*C12(p1sq,s,p2sq) - C2(p1sq,s,p2sq))\\\n",
      "                                                                     + P(3,2)*(C2(p1sq,s,p2sq) + 2*C22(p1sq,s,p2sq)) )')\n",
      "\n",
      "\n",
      "FFVNP3 = Lorentz(name = 'FFVNP3',\n",
      "                spins = [ 2, 2, 3 ],\n",
      "                structure = '( Gamma(3,2,1) )*( (2*deltaCTL) )')\n",
      "\n",
      "\n",
      "FFVNP4 = Lorentz(name = 'FFVNP4',\n",
      "                spins = [ 2, 2, 3 ],\n",
      "                structure = '( Gamma(3,2,-1)*ProjP(-1,1) )*( (2*C00eff(p1sq,s,p2sq)) )')\n",
      "\n",
      "\n"
     ]
    }
   ],
   "source": [
    "for t,lffvDict in blocks.items():\n",
    "    for ffvname,ffvexpr in lffvDict.items():\n",
    "        expr = ffvexpr[:]\n",
    "        exprLines = eval(expr).split('\\\\\\n')\n",
    "        exprNew = ('\\\\\\n').ljust(68).join(exprLines)\n",
    "        print(lffvBlock %(ffvname.replace(\"'\",''),ffvname,exprNew))\n",
    "        print('\\n')\n"
   ]
  },
  {
   "cell_type": "code",
   "execution_count": null,
   "id": "b19fd9ff",
   "metadata": {},
   "outputs": [],
   "source": []
  }
 ],
 "metadata": {
  "kernelspec": {
   "display_name": "Python 3 (ipykernel)",
   "language": "python",
   "name": "python3"
  },
  "language_info": {
   "codemirror_mode": {
    "name": "ipython",
    "version": 3
   },
   "file_extension": ".py",
   "mimetype": "text/x-python",
   "name": "python",
   "nbconvert_exporter": "python",
   "pygments_lexer": "ipython3",
   "version": "3.10.12"
  }
 },
 "nbformat": 4,
 "nbformat_minor": 5
}
