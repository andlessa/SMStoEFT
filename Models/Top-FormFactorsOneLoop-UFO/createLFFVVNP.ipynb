{
 "cells": [
  {
   "cell_type": "code",
   "execution_count": 1,
   "id": "94aee6db",
   "metadata": {},
   "outputs": [],
   "source": [
    "import os\n",
    "import numpy as np"
   ]
  },
  {
   "cell_type": "code",
   "execution_count": 2,
   "id": "a4f95925",
   "metadata": {},
   "outputs": [],
   "source": [
    "# File created by Mathematica notebook\n",
    "# fname = './lffvvnpBox.txt'\n",
    "# fname = './lffvvnpTri.txt'\n",
    "fname = './lffvvnpSelf.txt'\n",
    "with open(fname,'r') as f:\n",
    "    data = f.read()\n",
    "data = data.replace('\"',\"'\")"
   ]
  },
  {
   "cell_type": "code",
   "execution_count": 3,
   "id": "08a61f20",
   "metadata": {},
   "outputs": [],
   "source": [
    "# Break into color tensor blocks:\n",
    "blocks = {x.strip().split('\\n')[0] : x.strip().split('\\n')[1:] for x in data.split(\"'------------------'\\n\")[1:]}"
   ]
  },
  {
   "cell_type": "code",
   "execution_count": 4,
   "id": "8ee18cef",
   "metadata": {},
   "outputs": [],
   "source": [
    "for tblock in blocks:\n",
    "    lffvvList = blocks[tblock]\n",
    "    lffvvDict = dict(zip(lffvvList[0:-1:2],lffvvList[1::2]))\n",
    "    blocks[tblock] = lffvvDict"
   ]
  },
  {
   "cell_type": "code",
   "execution_count": 5,
   "id": "4f16e1a0",
   "metadata": {},
   "outputs": [],
   "source": [
    "replacements = {'(t)' : '( P(-1,1)**2 + P(-1,3)**2 + 2*P(-1,1)*P(-1,3) )',\n",
    "                '(u)' : '( P(-1,2)**2 + P(-1,3)**2 + 2*P(-1,2)*P(-1,3) )',\n",
    "                '(s,t)' : '(P(-1,1)**2 + P(-1,2)**2 + 2*P(-1,1)*P(-1,2), P(-1,1)**2 + P(-1,3)**2 + 2*P(-1,1)*P(-1,3))',\n",
    "                '(s,u)' : '(P(-1,1)**2 + P(-1,2)**2 + 2*P(-1,1)*P(-1,2), P(-1,2)**2 + P(-1,3)**2 + 2*P(-1,2)*P(-1,3))',\n",
    "                'C1(p1sq,s,p2sq)' : 'C1FuncB( P(-1,1)**2, (P(-1,1)**2 + P(-1,2)**2 + 2*P(-2,1)*P(-2,2)), P(-1,2)**2 )'\n",
    "               }"
   ]
  },
  {
   "cell_type": "code",
   "execution_count": 6,
   "id": "d52ebae6",
   "metadata": {},
   "outputs": [],
   "source": [
    "lffvvBlock = \"%s = Lorentz(name = %s,\\n\\\n",
    "                spins = [ 2, 2, 3, 3 ],\\n\\\n",
    "                structure = '%s')\""
   ]
  },
  {
   "cell_type": "code",
   "execution_count": 7,
   "id": "39b943aa",
   "metadata": {},
   "outputs": [
    {
     "name": "stdout",
     "output_type": "stream",
     "text": [
      "FFVVNP21 = Lorentz(name = 'FFVVNP21',\n",
      "                spins = [ 2, 2, 3, 3 ],\n",
      "                structure = '( Gamma(3,2,-1)*Gamma(4,-1,1) )*( (ab1(P(-1,1)**2 + P(-1,2)**2 + 2*P(-1,1)*P(-1,2), P(-1,2)**2 + P(-1,3)**2 + 2*P(-1,2)*P(-1,3))))')\n",
      "\n",
      "\n",
      "FFVVNP22 = Lorentz(name = 'FFVVNP22',\n",
      "                spins = [ 2, 2, 3, 3 ],\n",
      "                structure = '( Gamma(3,2,-1)*P(-2,2)*Gamma(-2,-1,-3)*Gamma(4,-3,1) )*( (ab2(P(-1,1)**2 + P(-1,2)**2 + 2*P(-1,1)*P(-1,2), P(-1,2)**2 + P(-1,3)**2 + 2*P(-1,2)*P(-1,3))))')\n",
      "\n",
      "\n",
      "FFVVNP23 = Lorentz(name = 'FFVVNP23',\n",
      "                spins = [ 2, 2, 3, 3 ],\n",
      "                structure = '( Gamma(3,2,-1)*P(-2,3)*Gamma(-2,-1,-3)*Gamma(4,-3,1) )*( (ab2(P(-1,1)**2 + P(-1,2)**2 + 2*P(-1,1)*P(-1,2), P(-1,2)**2 + P(-1,3)**2 + 2*P(-1,2)*P(-1,3))))')\n",
      "\n",
      "\n",
      "FFVVNP24 = Lorentz(name = 'FFVVNP24',\n",
      "                spins = [ 2, 2, 3, 3 ],\n",
      "                structure = '( Gamma(3,2,-1)*P(-2,2)*Gamma(-2,-1,-3)*Gamma(4,-3,-4)*ProjP(-4,1) )*( (-ab3(P(-1,1)**2 + P(-1,2)**2 + 2*P(-1,1)*P(-1,2), P(-1,2)**2 + P(-1,3)**2 + 2*P(-1,2)*P(-1,3))))')\n",
      "\n",
      "\n",
      "FFVVNP25 = Lorentz(name = 'FFVVNP25',\n",
      "                spins = [ 2, 2, 3, 3 ],\n",
      "                structure = '( Gamma(3,2,-1)*P(-2,3)*Gamma(-2,-1,-3)*Gamma(4,-3,-4)*ProjP(-4,1) )*( (-ab3(P(-1,1)**2 + P(-1,2)**2 + 2*P(-1,1)*P(-1,2), P(-1,2)**2 + P(-1,3)**2 + 2*P(-1,2)*P(-1,3))))')\n",
      "\n",
      "\n",
      "FFVVNP26 = Lorentz(name = 'FFVVNP26',\n",
      "                spins = [ 2, 2, 3, 3 ],\n",
      "                structure = '( Gamma(4,2,-1)*Gamma(3,-1,1) )*( (ab1(P(-1,1)**2 + P(-1,2)**2 + 2*P(-1,1)*P(-1,2), P(-1,1)**2 + P(-1,3)**2 + 2*P(-1,1)*P(-1,3))))')\n",
      "\n",
      "\n",
      "FFVVNP27 = Lorentz(name = 'FFVVNP27',\n",
      "                spins = [ 2, 2, 3, 3 ],\n",
      "                structure = '( Gamma(4,2,-1)*P(-2,1)*Gamma(-2,-1,-3)*Gamma(3,-3,1) )*( (-ab2(P(-1,1)**2 + P(-1,2)**2 + 2*P(-1,1)*P(-1,2), P(-1,1)**2 + P(-1,3)**2 + 2*P(-1,1)*P(-1,3))))')\n",
      "\n",
      "\n",
      "FFVVNP28 = Lorentz(name = 'FFVVNP28',\n",
      "                spins = [ 2, 2, 3, 3 ],\n",
      "                structure = '( Gamma(4,2,-1)*P(-2,3)*Gamma(-2,-1,-3)*Gamma(3,-3,1) )*( (-ab2(P(-1,1)**2 + P(-1,2)**2 + 2*P(-1,1)*P(-1,2), P(-1,1)**2 + P(-1,3)**2 + 2*P(-1,1)*P(-1,3))))')\n",
      "\n",
      "\n",
      "FFVVNP29 = Lorentz(name = 'FFVVNP29',\n",
      "                spins = [ 2, 2, 3, 3 ],\n",
      "                structure = '( Gamma(4,2,-1)*P(-2,1)*Gamma(-2,-1,-3)*Gamma(3,-3,-4)*ProjP(-4,1) )*( (ab3(P(-1,1)**2 + P(-1,2)**2 + 2*P(-1,1)*P(-1,2), P(-1,1)**2 + P(-1,3)**2 + 2*P(-1,1)*P(-1,3))))')\n",
      "\n",
      "\n",
      "FFVVNP30 = Lorentz(name = 'FFVVNP30',\n",
      "                spins = [ 2, 2, 3, 3 ],\n",
      "                structure = '( Gamma(4,2,-1)*P(-2,3)*Gamma(-2,-1,-3)*Gamma(3,-3,-4)*ProjP(-4,1) )*( (ab3(P(-1,1)**2 + P(-1,2)**2 + 2*P(-1,1)*P(-1,2), P(-1,1)**2 + P(-1,3)**2 + 2*P(-1,1)*P(-1,3))))')\n",
      "\n",
      "\n"
     ]
    }
   ],
   "source": [
    "for t,lffvvDict in blocks.items():\n",
    "    for ffvvname,ffvvexpr in lffvvDict.items():\n",
    "        expr = ffvvexpr[:]\n",
    "        for k,v in replacements.items():\n",
    "            expr = expr.replace(k,v)\n",
    "        exprLines = eval(expr).split('\\\\\\n')\n",
    "        exprNew = ('\\\\\\n').ljust(33).join(exprLines)\n",
    "        print(lffvvBlock %(ffvvname.replace(\"'\",''),ffvvname,exprNew))\n",
    "        print('\\n')\n"
   ]
  },
  {
   "cell_type": "code",
   "execution_count": 8,
   "id": "edeffd1f",
   "metadata": {},
   "outputs": [
    {
     "name": "stdout",
     "output_type": "stream",
     "text": [
      "FFVVNP21 = Lorentz(name = 'FFVVNP21',\n",
      "                spins = [ 2, 2, 3, 3 ],\n",
      "                structure = '( Gamma(3,2,-1)*Gamma(4,-1,1) )*( (ab1(s,u)))')\n",
      "\n",
      "\n",
      "FFVVNP22 = Lorentz(name = 'FFVVNP22',\n",
      "                spins = [ 2, 2, 3, 3 ],\n",
      "                structure = '( Gamma(3,2,-1)*P(-2,2)*Gamma(-2,-1,-3)*Gamma(4,-3,1) )*( (ab2(s,u)))')\n",
      "\n",
      "\n",
      "FFVVNP23 = Lorentz(name = 'FFVVNP23',\n",
      "                spins = [ 2, 2, 3, 3 ],\n",
      "                structure = '( Gamma(3,2,-1)*P(-2,3)*Gamma(-2,-1,-3)*Gamma(4,-3,1) )*( (ab2(s,u)))')\n",
      "\n",
      "\n",
      "FFVVNP24 = Lorentz(name = 'FFVVNP24',\n",
      "                spins = [ 2, 2, 3, 3 ],\n",
      "                structure = '( Gamma(3,2,-1)*P(-2,2)*Gamma(-2,-1,-3)*Gamma(4,-3,-4)*ProjP(-4,1) )*( (-ab3(s,u)))')\n",
      "\n",
      "\n",
      "FFVVNP25 = Lorentz(name = 'FFVVNP25',\n",
      "                spins = [ 2, 2, 3, 3 ],\n",
      "                structure = '( Gamma(3,2,-1)*P(-2,3)*Gamma(-2,-1,-3)*Gamma(4,-3,-4)*ProjP(-4,1) )*( (-ab3(s,u)))')\n",
      "\n",
      "\n",
      "FFVVNP26 = Lorentz(name = 'FFVVNP26',\n",
      "                spins = [ 2, 2, 3, 3 ],\n",
      "                structure = '( Gamma(4,2,-1)*Gamma(3,-1,1) )*( (ab1(s,t)))')\n",
      "\n",
      "\n",
      "FFVVNP27 = Lorentz(name = 'FFVVNP27',\n",
      "                spins = [ 2, 2, 3, 3 ],\n",
      "                structure = '( Gamma(4,2,-1)*P(-2,1)*Gamma(-2,-1,-3)*Gamma(3,-3,1) )*( (-ab2(s,t)))')\n",
      "\n",
      "\n",
      "FFVVNP28 = Lorentz(name = 'FFVVNP28',\n",
      "                spins = [ 2, 2, 3, 3 ],\n",
      "                structure = '( Gamma(4,2,-1)*P(-2,3)*Gamma(-2,-1,-3)*Gamma(3,-3,1) )*( (-ab2(s,t)))')\n",
      "\n",
      "\n",
      "FFVVNP29 = Lorentz(name = 'FFVVNP29',\n",
      "                spins = [ 2, 2, 3, 3 ],\n",
      "                structure = '( Gamma(4,2,-1)*P(-2,1)*Gamma(-2,-1,-3)*Gamma(3,-3,-4)*ProjP(-4,1) )*( (ab3(s,t)))')\n",
      "\n",
      "\n",
      "FFVVNP30 = Lorentz(name = 'FFVVNP30',\n",
      "                spins = [ 2, 2, 3, 3 ],\n",
      "                structure = '( Gamma(4,2,-1)*P(-2,3)*Gamma(-2,-1,-3)*Gamma(3,-3,-4)*ProjP(-4,1) )*( (ab3(s,t)))')\n",
      "\n",
      "\n"
     ]
    }
   ],
   "source": [
    "for t,lffvvDict in blocks.items():\n",
    "    for ffvvname,ffvvexpr in lffvvDict.items():\n",
    "        expr = ffvvexpr[:]\n",
    "        exprLines = eval(expr).split('\\\\\\n')\n",
    "        exprNew = ('\\\\\\n').ljust(33).join(exprLines)\n",
    "        print(lffvvBlock %(ffvvname.replace(\"'\",''),ffvvname,exprNew))\n",
    "        print('\\n')\n"
   ]
  },
  {
   "cell_type": "code",
   "execution_count": null,
   "id": "b19fd9ff",
   "metadata": {},
   "outputs": [],
   "source": []
  }
 ],
 "metadata": {
  "kernelspec": {
   "display_name": "Python 3 (ipykernel)",
   "language": "python",
   "name": "python3"
  },
  "language_info": {
   "codemirror_mode": {
    "name": "ipython",
    "version": 3
   },
   "file_extension": ".py",
   "mimetype": "text/x-python",
   "name": "python",
   "nbconvert_exporter": "python",
   "pygments_lexer": "ipython3",
   "version": "3.10.12"
  }
 },
 "nbformat": 4,
 "nbformat_minor": 5
}
