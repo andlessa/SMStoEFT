{
 "cells": [
  {
   "cell_type": "code",
   "execution_count": 1,
   "id": "73187850",
   "metadata": {},
   "outputs": [],
   "source": [
    "import sys,os,glob\n",
    "import numpy as np\n",
    "from matplotlib import pyplot as plt\n",
    "import seaborn as sns\n",
    "from scipy.interpolate import LinearNDInterpolator,interp2d\n",
    "import matplotlib as mpl\n",
    "from matplotlib.colors import LogNorm\n",
    "from IPython.display import display, Markdown\n",
    "import pylhe\n",
    "\n",
    "plt.rcParams.update({\n",
    "    \"text.usetex\": True,\n",
    "    \"font.family\": \"sans-serif\",\n",
    "    \"font.sans-serif\": [\"Helvetica\"]})\n",
    "\n",
    "plt.rcParams.update({\"savefig.dpi\" : 300}) #Figure resolution\n",
    "\n",
    "\n",
    "#Define plotting style:\n",
    "sns.set() #Set style\n",
    "sns.set_style('ticks',{'font.family':'Times New Roman', 'font.serif':'Times New Roman'})\n",
    "sns.set_context('paper', font_scale=1.8)\n",
    "cm = plt.cm.get_cmap('RdYlBu')"
   ]
  },
  {
   "cell_type": "code",
   "execution_count": 10,
   "id": "5b7a1c0b",
   "metadata": {},
   "outputs": [],
   "source": [
    "inputFiles = {'Form Factor' : './pp2Hj_collier/Events/run_01/unweighted_events.lhe.gz',\n",
    "              'h plugin (Heavy Top)' : './pp2Hj_eft/Events/run_01/unweighted_events.lhe.gz',\n",
    "              'Heavy Top' : './pp2Hj_collier/Events/run_02/unweighted_events.lhe.gz',\n",
    "              'Loop' : './pp2Hj_loop/Events/run_01/unweighted_events.lhe.gz'}\n",
    "\n",
    "events = {}\n",
    "for label, inputF in inputFiles.items():\n",
    "    events[label] = pylhe.read_lhe_with_attributes(inputF)"
   ]
  },
  {
   "cell_type": "code",
   "execution_count": 11,
   "id": "e5dbcc93",
   "metadata": {},
   "outputs": [],
   "source": [
    "pTjDict = {}\n",
    "\n",
    "for label,evts in events.items():\n",
    "    pTjDict[label] = []\n",
    "    \n",
    "    for evt in evts:\n",
    "        jets = []\n",
    "        for particle in evt.particles:\n",
    "            if int(abs(particle.id)) not in [1,2,3,4,5,21]: continue\n",
    "            if int(abs(particle.status)) != 1: continue\n",
    "            jets.append(particle)\n",
    "\n",
    "        ptj = np.array([sum([getattr(j,plabel) for j in jets]) for plabel in ['e','px','py','pz']])\n",
    "        ptj = np.linalg.norm(ptj[1:3])\n",
    "        pTjDict[label].append(ptj)\n"
   ]
  },
  {
   "cell_type": "code",
   "execution_count": 12,
   "id": "3a7b4787",
   "metadata": {},
   "outputs": [
    {
     "data": {
      "image/png": "[encoded data removed]",
      "text/plain": [
       "<Figure size 576x432 with 1 Axes>"
      ]
     },
     "metadata": {},
     "output_type": "display_data"
    }
   ],
   "source": [
    "fig = plt.figure(figsize=(8,6))\n",
    "\n",
    "for label,ptjList in pTjDict.items():\n",
    "    plt.hist(ptjList,bins=np.arange(50,1000,100.),label=label,histtype='step',\n",
    "             linewidth=3,alpha=0.8,density=True)\n",
    "    \n",
    "plt.yscale('log')\n",
    "plt.ylabel('Normalized Events')\n",
    "plt.xlabel(r'$p_{T}(j)$ (GeV)')\n",
    "plt.legend()\n",
    "plt.show()"
   ]
  },
  {
   "cell_type": "code",
   "execution_count": null,
   "id": "b89dd9ca",
   "metadata": {},
   "outputs": [],
   "source": []
  }
 ],
 "metadata": {
  "kernelspec": {
   "display_name": "Python 3 (ipykernel)",
   "language": "python",
   "name": "python3"
  },
  "language_info": {
   "codemirror_mode": {
    "name": "ipython",
    "version": 3
   },
   "file_extension": ".py",
   "mimetype": "text/x-python",
   "name": "python",
   "nbconvert_exporter": "python",
   "pygments_lexer": "ipython3",
   "version": "3.9.7"
  }
 },
 "nbformat": 4,
 "nbformat_minor": 5
}
